{
 "cells": [
  {
   "cell_type": "markdown",
   "metadata": {},
   "source": [
    "<img style=\"float: right;width: 100px\" src=\"https://www.enib.fr/images/logo-enib-accueil.jpg\">\n",
    "\n",
    "<div>\n",
    "    <p><h3>ASN (S6)</h3></p>\n",
    "    <p>Année 2020</p>\n",
    "    <p><em>{{Nom}} {{Prénom}}</em></p>\n",
    "</div>\n",
    "\n",
    "<div style=\"text-align: center;padding-bottom:20px;padding-top:10px\"><h1>Asservissements Numériques</h1>\n",
    "    <h2>Labo 5 : Simulation d'une Régulation d'un alternateur</h2>\n",
    "</div>    "
   ]
  },
  {
   "cell_type": "code",
   "execution_count": 40,
   "metadata": {},
   "outputs": [],
   "source": [
    "import numpy as np\n",
    "from control import tf, c2d, feedback, bode, pade, freqresp\n",
    "from ENIB_control import step, impulse, nichols, rlocus, damp, pole, stepinfo, figure"
   ]
  },
  {
   "cell_type": "markdown",
   "metadata": {},
   "source": [
    "## 1. But de l'étude\n",
    "\n",
    "On se propose d’étudier la mise en œuvre de deux correcteurs numériques pour la régulation d’un processus analogique (un alternateur) caractérisé par sa fonction de transfert $F(p)$. Il s’agit de contrôler la valeur efficace de la tension alternative produite. On désire synthétiser le correcteur par une approche graphique (méthode fréquentielle dans le plan de Black). Le calcul de correcteurs et la validation des résultats se feront en utilisant au maximum les fonctionnalités de Python.\n",
    "\n",
    "Ce TP comporte deux parties :\n",
    "- une analyse du système à mettre en œuvre sous la forme d'une préparation théorique du système à effectuer avant le TP.\n",
    "- une validation des résultats théoriques par simulation sous Jupyter Python, puis une synthèse de correcteurs dans le plan de Black-Nichols.\n"
   ]
  },
  {
   "cell_type": "markdown",
   "metadata": {},
   "source": [
    "## 2. Description du Système\n",
    "\n",
    "Le schéma de principe de l’alternateur est représenté sur la figure ci-dessous :\n",
    "\n",
    "\n",
    "<figure style=\"padding:30px\">\n",
    "    <img src=\"./img/labo5_1.png\" style=\"padding:20px; width: 600px\" />\n",
    "    <figcaption style=\"text-align:center\">Fig.1 - Schéma de principe d’un alternateur.</figcaption>\n",
    "</figure>\n",
    "\n",
    "Le système est composé d’un stator (partie immobile) et d’un rotor (partie tournante). Le rotor est entraîné par un moteur annexe. Le fonctionnement d’un alternateur est exactement l’inverse d’un moteur électrique. Le rotor muni d’électro-aimants crée un champ magnétique tournant qui génère dans le stator (l’induit) un courant électrique. Une tension alternative de valeur efficace $U_s(t)$ apparaît alors aux bornes de la bobine. Il s’agit de la tension de sortie de l’alternateur qu’on souhaite réguler. La tension de sortie $U_s(t)$ dépend de l’aimantation dans l’inducteur (rotor), son contrôle s’effectue donc par le réglage du courant continu $i(t)$ fourni aux électro-aimants (si le courant croît, l’aimantation croît et la tension de sortie augmente). Le courant $i(t)$ est contrôlé par la tension continue $U_e(t)$ appliquée sur l’inducteur. L’alternateur peut être caractérisé par une fonction de transfert avec comme grandeur d’entrée, la tension continue $U_e(t)$ et comme grandeur de sortie, la valeur efficace de la tension en sortie notée $U_s(t)$.\n",
    "\n",
    "La fonction de transfert $F_a(p)$ d’un alternateur peut être approchée par le modèle de Broïda : il s’agit d’une F.T. du 1er ordre de gain $A_0$ associée à un retard pur. \n",
    "\n",
    "$$F_a(p)=\\frac{A_0}{1+Tp}e^{-\\tau p}$$\n",
    "\n",
    "La constante de temps est $T=0.5$s et le retard pur est de $\\tau=150$ms. Le gain $A_0=5$ Veff/V (Veff :Volt efficace).\n",
    "\n",
    "\n",
    "La tension à réguler, tension alternative à la sortie du processus en question, est mesurée au moyen d’un convertisseur AC/DC : une tension alternative (0 à 150 Veff maxi) est transformée en un signal continu proportionnel (0 à 10 V maxi). Ce \"capteur\" de tension élabore donc le signal de \"retour\" de la boucle (avec un simple gain $A_2$).\n",
    "\n",
    "La fonction de régulation (réalisée par le correcteur) est effectuée un PC, muni d'un module d'entrée sortie CNA/CAN. Le convertisseur N-A est muni d'un B.O.Z. Le produit des gains $G_1$ et $G_2$ des convertisseurs est unitaire.\n",
    "\n",
    "Le signal de commande en sortie du correcteur est fourni à l'alternateur via un amplificateur de puissance, de gain en tension $A_1 = 2$ V/V."
   ]
  },
  {
   "cell_type": "markdown",
   "metadata": {},
   "source": [
    "## 3. Préparation\n",
    "\n",
    "L'ensemble du système peut être représenté par le schéma bloc de la figure 2.\n",
    "\n",
    "<figure style=\"padding:30px\">\n",
    "  <img src=\"./img/labo5_2.png\" style=\"padding:20px; width: 700px\" />\n",
    "   <figcaption style=\"text-align:center\">Fig.2 - Schéma bloc du système.</figcaption>\n",
    "</figure>\n",
    "\n",
    "\n",
    "Ce système doit maintenant être représenté sous la forme classique d'un schéma synoptique avec retour unitaire comme sur la figure 3."
   ]
  },
  {
   "cell_type": "markdown",
   "metadata": {},
   "source": [
    "### 3.1 Fonction de transfert du système à asservir\n",
    "\n",
    "* **Question** Déterminez la F.T. $F(p)$ de l’ensemble à asservir (amplificateur, processus analogique, convertisseur). Déterminez le gain statique $K$ de $F(p)$."
   ]
  },
  {
   "cell_type": "markdown",
   "metadata": {},
   "source": [
    "$$F(p)=\\frac{A_0A_1A_2}{1+Tp}e^{-\\tau p}$$\n",
    "\n",
    "* avec $A_0=5$, $A_1=2$ et $A2=0.0666$."
   ]
  },
  {
   "cell_type": "markdown",
   "metadata": {},
   "source": [
    "* **Question** Donnez les caractéristiques (valeurs numériques) de la réponse indicielle de $F(p)$ : temps de réponse à $\\pm 5\\%$ de la valeur finale, dépassement relatif $D\\%$, valeur finale."
   ]
  },
  {
   "cell_type": "markdown",
   "metadata": {},
   "source": [
    "* Gain statique : $F(0)=A_0A_1A_2=K=0.6666$\n",
    "* valeur Finale : $0.6666$\n",
    "* constante de temps : $T = 0.5$s\n",
    "* Temps de réponse ($\\pm 5\\%$) : $1.5+0.15=1.65$s.\n",
    "* Dépassement relatif : $0\\%$"
   ]
  },
  {
   "cell_type": "markdown",
   "metadata": {},
   "source": [
    "* **Question** Donnez l'expression du module (en dB) et de la phase (en degré) de $F(p)$ ($p=j\\omega$). Calculez les valeurs du module et de la phase aux limites ($\\omega=0$ et $\\omega\\to \\infty$)."
   ]
  },
  {
   "cell_type": "markdown",
   "metadata": {},
   "source": [
    "$$F(j\\omega)=\\frac{K}{1+j\\omega T}e^{-j\\tau \\omega}$$\n",
    "\n",
    "* Module : $|F(j\\omega)|=\\frac{|K|}{\\sqrt{1+T^2\\omega^2}}$\n",
    "* Argument : $\\arg[F(j\\omega)]=-\\arg[\\omega T]-\\tau\\omega$"
   ]
  },
  {
   "cell_type": "markdown",
   "metadata": {},
   "source": [
    "## 4. Analyse de la fonction de transfert $F(p)$ et $F(z)$.\n",
    "\n",
    "Les calculs et les validations des résultats suivants se feront en utilisant au maximum les fonctionnalités de Python."
   ]
  },
  {
   "cell_type": "markdown",
   "metadata": {},
   "source": [
    "### 4.1 Saisie et Analyse de $F(p)$\n",
    "\n",
    "La fonction de transfert du système est donnée par $F(p)=\\frac{K}{1+0.5p}e^{-0.15p}$ où $K$ est déterminé\n",
    "dans la préparation.\n",
    "\n",
    "La fonction exponentielle, qui exprime le retard de $0.15$s, ne peut pas être écrite directement sous Python. Nous allons remplacer cette fonction exponentielle par l'approximation de Padé. \n",
    "\n",
    "<div class='alert alert-info'>\n",
    "    En mathématiques, <a href=\"https://en.wikipedia.org/wiki/Padé_approximant\">l'approximation de Padé</a> de la fonction exponentielle est une fraction\n",
    "rationnelle $Delay(p)=\\frac{N(p)}{D(p)}$ où $N(p)$ et $D(p)$ sont des polynômes de degré $k$ et $l$, telle que le  développement limité de la fraction à l'ordre $k + l$ soit identique à celui de l'exponentielle.\n",
    "</div>\n",
    "    \n",
    "Nous utiliserons la fonction de Padé disponible sous python.control :\n",
    "\n",
    "    [num, den]= pade(T,l)\n",
    "    Delay=tf(num, den)\n",
    "\n",
    "Les paramètres d'entrée sont le retard $T$ et le degré du dénominateur $l$ de la fonction de Padé. La fonction `pade` doit être importée de la librairie `control` (`from control import pade`). Les paramètres de sortie sont les coefficients des polynômes de Padé.\n",
    "\n",
    "\n",
    "* **Question** Déterminez en fonction de $C(z)$ et $F(z)$ (pas d'applications numériques) \n",
    "\n",
    "   * l'expression de la fonction de transfert en boucle fermée : $H(z)$,\n",
    "   * l'expression du rapport $err(z)$ où $\\epsilon(z)$ désigne signal d'erreur,\n",
    "   * l'expression du rapport $cmd(z)$ où $U_c(z)$ désigne le signal de commande."
   ]
  },
  {
   "cell_type": "markdown",
   "metadata": {},
   "source": [
    "\\begin{align}\n",
    "H(z)&=\\frac{C(z)F(z)}{1+C(z)F(z)}\\\\\n",
    "err(z)&=\\frac{E(z)-S(z)}{E(z)}=1-H(z)\\\\\n",
    "cmd(z)&=\\frac{U_c(z)}{S(z)}\\times \\frac{S(z)}{E(z)}=\\frac{H(z)}{F(z)} \n",
    "\\end{align}\n"
   ]
  },
  {
   "cell_type": "markdown",
   "metadata": {},
   "source": [
    "* **Question**\n",
    "    * Saisissez la FT $F(p)$, notée `f` sous forme polynomiale, sans le retard :`f0 = tf([K], [0.5, 1]`\n",
    "    * Créer la variable `Delay` pour $\\tau =0.15$ s en prenant $j=1$. Saisissez alors la fonction $F(p)$ : `f = f0*Delay`\n",
    "    * Tracez la réponse indicielle et vérifiez que vous retrouvez les caractéristiques théoriques obtenues dans la préparation.\n",
    "\n",
    "**remarque** : Vous pouvez tester diverses valeurs du degré `j` de la fonction de Padé et vérifier que\n",
    "l'approximation est d'autant meilleure que`j` est grand.\n"
   ]
  },
  {
   "cell_type": "code",
   "execution_count": 60,
   "metadata": {},
   "outputs": [
    {
     "name": "stdout",
     "output_type": "stream",
     "text": [
      "0.6333333333333333\n"
     ]
    },
    {
     "data": {
      "application/vnd.plotly.v1+json": {
       "config": {
        "plotlyServerURL": "https://plot.ly"
       },
       "data": [
        {
         "line": {
          "color": "#1f77b4",
          "shape": "linear"
         },
         "mode": "lines",
         "name": "sys",
         "type": "scatter",
         "x": [
          0,
          0.03535353535353535,
          0.0707070707070707,
          0.10606060606060605,
          0.1414141414141414,
          0.17676767676767677,
          0.2121212121212121,
          0.24747474747474746,
          0.2828282828282828,
          0.3181818181818182,
          0.35353535353535354,
          0.3888888888888889,
          0.4242424242424242,
          0.45959595959595956,
          0.4949494949494949,
          0.5303030303030303,
          0.5656565656565656,
          0.601010101010101,
          0.6363636363636364,
          0.6717171717171717,
          0.7070707070707071,
          0.7424242424242424,
          0.7777777777777778,
          0.8131313131313131,
          0.8484848484848484,
          0.8838383838383838,
          0.9191919191919191,
          0.9545454545454545,
          0.9898989898989898,
          1.0252525252525253,
          1.0606060606060606,
          1.095959595959596,
          1.1313131313131313,
          1.1666666666666665,
          1.202020202020202,
          1.2373737373737372,
          1.2727272727272727,
          1.308080808080808,
          1.3434343434343434,
          1.3787878787878787,
          1.4141414141414141,
          1.4494949494949494,
          1.4848484848484849,
          1.52020202020202,
          1.5555555555555556,
          1.5909090909090908,
          1.6262626262626263,
          1.6616161616161615,
          1.6969696969696968,
          1.7323232323232323,
          1.7676767676767675,
          1.803030303030303,
          1.8383838383838382,
          1.8737373737373737,
          1.909090909090909,
          1.9444444444444444,
          1.9797979797979797,
          2.015151515151515,
          2.0505050505050506,
          2.0858585858585856,
          2.121212121212121,
          2.1565656565656566,
          2.191919191919192,
          2.227272727272727,
          2.2626262626262625,
          2.297979797979798,
          2.333333333333333,
          2.3686868686868685,
          2.404040404040404,
          2.4393939393939394,
          2.4747474747474745,
          2.51010101010101,
          2.5454545454545454,
          2.580808080808081,
          2.616161616161616,
          2.6515151515151514,
          2.686868686868687,
          2.7222222222222223,
          2.7575757575757573,
          2.792929292929293,
          2.8282828282828283,
          2.8636363636363633,
          2.898989898989899,
          2.9343434343434343,
          2.9696969696969697,
          3.0050505050505047,
          3.04040404040404,
          3.0757575757575757,
          3.111111111111111,
          3.146464646464646,
          3.1818181818181817,
          3.217171717171717,
          3.2525252525252526,
          3.2878787878787876,
          3.323232323232323,
          3.3585858585858586,
          3.3939393939393936,
          3.429292929292929,
          3.4646464646464645,
          3.5
         ],
         "y": [
          0,
          -0.026862397816177393,
          -0.024690800139722843,
          -0.005690694878746981,
          0.02260823531837594,
          0.05558864070643371,
          0.0904452619544534,
          0.12549860791500614,
          0.15976695145225572,
          0.19269952754744016,
          0.224010321495459,
          0.2535746182488357,
          0.281364703794028,
          0.3074099845112829,
          0.33177232966177395,
          0.3545308992921614,
          0.3757728775105368,
          0.3955878776978448,
          0.4140646266229736,
          0.4312890588950558,
          0.44734328046626043,
          0.4623050641107424,
          0.47624766721036943,
          0.48923984164776263,
          0.5013459551622438,
          0.5126261744113721,
          0.5231366792192964,
          0.5329298894640507,
          0.5420546934933034,
          0.5505566715682236,
          0.558478310682877,
          0.5658592088563347,
          0.5727362680610598,
          0.5791438755927263,
          0.5851140740647333,
          0.5906767204258581,
          0.5958596345144022,
          0.600688737715835,
          0.6051881823075977,
          0.609380472069431,
          0.6132865747196788,
          0.6169260267132193,
          0.6203170309085057,
          0.6234765475818059,
          0.6264203792373579,
          0.629163249633574,
          0.6317188774180199,
          0.6341000447378797,
          0.6363186611680827,
          0.6383858232762157,
          0.6403118701217609,
          0.6421064349669947,
          0.6437784934580423,
          0.64533640851697,
          0.6467879721693912,
          0.6481404445167511,
          0.6494005900481926,
          0.6505747114736046,
          0.651668681247061,
          0.6526879709383148,
          0.653637678599244,
          0.6545225542621255,
          0.6553470236972642,
          0.656115210548805,
          0.656830956959439,
          0.6574978427871601,
          0.6581192035101854,
          0.6586981469095937,
          0.6592375686131197,
          0.6597401665778463,
          0.6602084545842357,
          0.660644774808985,
          0.6610513095395945,
          0.6614300920892386,
          0.6617830169665295,
          0.6621118493510408,
          0.6624182339219826,
          0.6627037030841841,
          0.6629696846325287,
          0.6632175088931748,
          0.6634484153772785,
          0.6636635589805003,
          0.6638640157592994,
          0.6640507883129091,
          0.6642248107979098,
          0.664386953600482,
          0.6645380276897059,
          0.6646787886736828,
          0.6648099405787641,
          0.6649321393707907,
          0.6650459962359541,
          0.6651520806376886,
          0.665250923164885,
          0.6653430181856683,
          0.6654288263200178,
          0.66550877674359,
          0.6655832693342731,
          0.6656526766722054,
          0.6657173459032609,
          0.6657776004753269
         ]
        }
       ],
       "layout": {
        "template": {
         "data": {
          "bar": [
           {
            "error_x": {
             "color": "#2a3f5f"
            },
            "error_y": {
             "color": "#2a3f5f"
            },
            "marker": {
             "line": {
              "color": "#E5ECF6",
              "width": 0.5
             }
            },
            "type": "bar"
           }
          ],
          "barpolar": [
           {
            "marker": {
             "line": {
              "color": "#E5ECF6",
              "width": 0.5
             }
            },
            "type": "barpolar"
           }
          ],
          "carpet": [
           {
            "aaxis": {
             "endlinecolor": "#2a3f5f",
             "gridcolor": "white",
             "linecolor": "white",
             "minorgridcolor": "white",
             "startlinecolor": "#2a3f5f"
            },
            "baxis": {
             "endlinecolor": "#2a3f5f",
             "gridcolor": "white",
             "linecolor": "white",
             "minorgridcolor": "white",
             "startlinecolor": "#2a3f5f"
            },
            "type": "carpet"
           }
          ],
          "choropleth": [
           {
            "colorbar": {
             "outlinewidth": 0,
             "ticks": ""
            },
            "type": "choropleth"
           }
          ],
          "contour": [
           {
            "colorbar": {
             "outlinewidth": 0,
             "ticks": ""
            },
            "colorscale": [
             [
              0,
              "#0d0887"
             ],
             [
              0.1111111111111111,
              "#46039f"
             ],
             [
              0.2222222222222222,
              "#7201a8"
             ],
             [
              0.3333333333333333,
              "#9c179e"
             ],
             [
              0.4444444444444444,
              "#bd3786"
             ],
             [
              0.5555555555555556,
              "#d8576b"
             ],
             [
              0.6666666666666666,
              "#ed7953"
             ],
             [
              0.7777777777777778,
              "#fb9f3a"
             ],
             [
              0.8888888888888888,
              "#fdca26"
             ],
             [
              1,
              "#f0f921"
             ]
            ],
            "type": "contour"
           }
          ],
          "contourcarpet": [
           {
            "colorbar": {
             "outlinewidth": 0,
             "ticks": ""
            },
            "type": "contourcarpet"
           }
          ],
          "heatmap": [
           {
            "colorbar": {
             "outlinewidth": 0,
             "ticks": ""
            },
            "colorscale": [
             [
              0,
              "#0d0887"
             ],
             [
              0.1111111111111111,
              "#46039f"
             ],
             [
              0.2222222222222222,
              "#7201a8"
             ],
             [
              0.3333333333333333,
              "#9c179e"
             ],
             [
              0.4444444444444444,
              "#bd3786"
             ],
             [
              0.5555555555555556,
              "#d8576b"
             ],
             [
              0.6666666666666666,
              "#ed7953"
             ],
             [
              0.7777777777777778,
              "#fb9f3a"
             ],
             [
              0.8888888888888888,
              "#fdca26"
             ],
             [
              1,
              "#f0f921"
             ]
            ],
            "type": "heatmap"
           }
          ],
          "heatmapgl": [
           {
            "colorbar": {
             "outlinewidth": 0,
             "ticks": ""
            },
            "colorscale": [
             [
              0,
              "#0d0887"
             ],
             [
              0.1111111111111111,
              "#46039f"
             ],
             [
              0.2222222222222222,
              "#7201a8"
             ],
             [
              0.3333333333333333,
              "#9c179e"
             ],
             [
              0.4444444444444444,
              "#bd3786"
             ],
             [
              0.5555555555555556,
              "#d8576b"
             ],
             [
              0.6666666666666666,
              "#ed7953"
             ],
             [
              0.7777777777777778,
              "#fb9f3a"
             ],
             [
              0.8888888888888888,
              "#fdca26"
             ],
             [
              1,
              "#f0f921"
             ]
            ],
            "type": "heatmapgl"
           }
          ],
          "histogram": [
           {
            "marker": {
             "colorbar": {
              "outlinewidth": 0,
              "ticks": ""
             }
            },
            "type": "histogram"
           }
          ],
          "histogram2d": [
           {
            "colorbar": {
             "outlinewidth": 0,
             "ticks": ""
            },
            "colorscale": [
             [
              0,
              "#0d0887"
             ],
             [
              0.1111111111111111,
              "#46039f"
             ],
             [
              0.2222222222222222,
              "#7201a8"
             ],
             [
              0.3333333333333333,
              "#9c179e"
             ],
             [
              0.4444444444444444,
              "#bd3786"
             ],
             [
              0.5555555555555556,
              "#d8576b"
             ],
             [
              0.6666666666666666,
              "#ed7953"
             ],
             [
              0.7777777777777778,
              "#fb9f3a"
             ],
             [
              0.8888888888888888,
              "#fdca26"
             ],
             [
              1,
              "#f0f921"
             ]
            ],
            "type": "histogram2d"
           }
          ],
          "histogram2dcontour": [
           {
            "colorbar": {
             "outlinewidth": 0,
             "ticks": ""
            },
            "colorscale": [
             [
              0,
              "#0d0887"
             ],
             [
              0.1111111111111111,
              "#46039f"
             ],
             [
              0.2222222222222222,
              "#7201a8"
             ],
             [
              0.3333333333333333,
              "#9c179e"
             ],
             [
              0.4444444444444444,
              "#bd3786"
             ],
             [
              0.5555555555555556,
              "#d8576b"
             ],
             [
              0.6666666666666666,
              "#ed7953"
             ],
             [
              0.7777777777777778,
              "#fb9f3a"
             ],
             [
              0.8888888888888888,
              "#fdca26"
             ],
             [
              1,
              "#f0f921"
             ]
            ],
            "type": "histogram2dcontour"
           }
          ],
          "mesh3d": [
           {
            "colorbar": {
             "outlinewidth": 0,
             "ticks": ""
            },
            "type": "mesh3d"
           }
          ],
          "parcoords": [
           {
            "line": {
             "colorbar": {
              "outlinewidth": 0,
              "ticks": ""
             }
            },
            "type": "parcoords"
           }
          ],
          "pie": [
           {
            "automargin": true,
            "type": "pie"
           }
          ],
          "scatter": [
           {
            "marker": {
             "colorbar": {
              "outlinewidth": 0,
              "ticks": ""
             }
            },
            "type": "scatter"
           }
          ],
          "scatter3d": [
           {
            "line": {
             "colorbar": {
              "outlinewidth": 0,
              "ticks": ""
             }
            },
            "marker": {
             "colorbar": {
              "outlinewidth": 0,
              "ticks": ""
             }
            },
            "type": "scatter3d"
           }
          ],
          "scattercarpet": [
           {
            "marker": {
             "colorbar": {
              "outlinewidth": 0,
              "ticks": ""
             }
            },
            "type": "scattercarpet"
           }
          ],
          "scattergeo": [
           {
            "marker": {
             "colorbar": {
              "outlinewidth": 0,
              "ticks": ""
             }
            },
            "type": "scattergeo"
           }
          ],
          "scattergl": [
           {
            "marker": {
             "colorbar": {
              "outlinewidth": 0,
              "ticks": ""
             }
            },
            "type": "scattergl"
           }
          ],
          "scattermapbox": [
           {
            "marker": {
             "colorbar": {
              "outlinewidth": 0,
              "ticks": ""
             }
            },
            "type": "scattermapbox"
           }
          ],
          "scatterpolar": [
           {
            "marker": {
             "colorbar": {
              "outlinewidth": 0,
              "ticks": ""
             }
            },
            "type": "scatterpolar"
           }
          ],
          "scatterpolargl": [
           {
            "marker": {
             "colorbar": {
              "outlinewidth": 0,
              "ticks": ""
             }
            },
            "type": "scatterpolargl"
           }
          ],
          "scatterternary": [
           {
            "marker": {
             "colorbar": {
              "outlinewidth": 0,
              "ticks": ""
             }
            },
            "type": "scatterternary"
           }
          ],
          "surface": [
           {
            "colorbar": {
             "outlinewidth": 0,
             "ticks": ""
            },
            "colorscale": [
             [
              0,
              "#0d0887"
             ],
             [
              0.1111111111111111,
              "#46039f"
             ],
             [
              0.2222222222222222,
              "#7201a8"
             ],
             [
              0.3333333333333333,
              "#9c179e"
             ],
             [
              0.4444444444444444,
              "#bd3786"
             ],
             [
              0.5555555555555556,
              "#d8576b"
             ],
             [
              0.6666666666666666,
              "#ed7953"
             ],
             [
              0.7777777777777778,
              "#fb9f3a"
             ],
             [
              0.8888888888888888,
              "#fdca26"
             ],
             [
              1,
              "#f0f921"
             ]
            ],
            "type": "surface"
           }
          ],
          "table": [
           {
            "cells": {
             "fill": {
              "color": "#EBF0F8"
             },
             "line": {
              "color": "white"
             }
            },
            "header": {
             "fill": {
              "color": "#C8D4E3"
             },
             "line": {
              "color": "white"
             }
            },
            "type": "table"
           }
          ]
         },
         "layout": {
          "annotationdefaults": {
           "arrowcolor": "#2a3f5f",
           "arrowhead": 0,
           "arrowwidth": 1
          },
          "coloraxis": {
           "colorbar": {
            "outlinewidth": 0,
            "ticks": ""
           }
          },
          "colorscale": {
           "diverging": [
            [
             0,
             "#8e0152"
            ],
            [
             0.1,
             "#c51b7d"
            ],
            [
             0.2,
             "#de77ae"
            ],
            [
             0.3,
             "#f1b6da"
            ],
            [
             0.4,
             "#fde0ef"
            ],
            [
             0.5,
             "#f7f7f7"
            ],
            [
             0.6,
             "#e6f5d0"
            ],
            [
             0.7,
             "#b8e186"
            ],
            [
             0.8,
             "#7fbc41"
            ],
            [
             0.9,
             "#4d9221"
            ],
            [
             1,
             "#276419"
            ]
           ],
           "sequential": [
            [
             0,
             "#0d0887"
            ],
            [
             0.1111111111111111,
             "#46039f"
            ],
            [
             0.2222222222222222,
             "#7201a8"
            ],
            [
             0.3333333333333333,
             "#9c179e"
            ],
            [
             0.4444444444444444,
             "#bd3786"
            ],
            [
             0.5555555555555556,
             "#d8576b"
            ],
            [
             0.6666666666666666,
             "#ed7953"
            ],
            [
             0.7777777777777778,
             "#fb9f3a"
            ],
            [
             0.8888888888888888,
             "#fdca26"
            ],
            [
             1,
             "#f0f921"
            ]
           ],
           "sequentialminus": [
            [
             0,
             "#0d0887"
            ],
            [
             0.1111111111111111,
             "#46039f"
            ],
            [
             0.2222222222222222,
             "#7201a8"
            ],
            [
             0.3333333333333333,
             "#9c179e"
            ],
            [
             0.4444444444444444,
             "#bd3786"
            ],
            [
             0.5555555555555556,
             "#d8576b"
            ],
            [
             0.6666666666666666,
             "#ed7953"
            ],
            [
             0.7777777777777778,
             "#fb9f3a"
            ],
            [
             0.8888888888888888,
             "#fdca26"
            ],
            [
             1,
             "#f0f921"
            ]
           ]
          },
          "colorway": [
           "#636efa",
           "#EF553B",
           "#00cc96",
           "#ab63fa",
           "#FFA15A",
           "#19d3f3",
           "#FF6692",
           "#B6E880",
           "#FF97FF",
           "#FECB52"
          ],
          "font": {
           "color": "#2a3f5f"
          },
          "geo": {
           "bgcolor": "white",
           "lakecolor": "white",
           "landcolor": "#E5ECF6",
           "showlakes": true,
           "showland": true,
           "subunitcolor": "white"
          },
          "hoverlabel": {
           "align": "left"
          },
          "hovermode": "closest",
          "mapbox": {
           "style": "light"
          },
          "paper_bgcolor": "white",
          "plot_bgcolor": "#E5ECF6",
          "polar": {
           "angularaxis": {
            "gridcolor": "white",
            "linecolor": "white",
            "ticks": ""
           },
           "bgcolor": "#E5ECF6",
           "radialaxis": {
            "gridcolor": "white",
            "linecolor": "white",
            "ticks": ""
           }
          },
          "scene": {
           "xaxis": {
            "backgroundcolor": "#E5ECF6",
            "gridcolor": "white",
            "gridwidth": 2,
            "linecolor": "white",
            "showbackground": true,
            "ticks": "",
            "zerolinecolor": "white"
           },
           "yaxis": {
            "backgroundcolor": "#E5ECF6",
            "gridcolor": "white",
            "gridwidth": 2,
            "linecolor": "white",
            "showbackground": true,
            "ticks": "",
            "zerolinecolor": "white"
           },
           "zaxis": {
            "backgroundcolor": "#E5ECF6",
            "gridcolor": "white",
            "gridwidth": 2,
            "linecolor": "white",
            "showbackground": true,
            "ticks": "",
            "zerolinecolor": "white"
           }
          },
          "shapedefaults": {
           "line": {
            "color": "#2a3f5f"
           }
          },
          "ternary": {
           "aaxis": {
            "gridcolor": "white",
            "linecolor": "white",
            "ticks": ""
           },
           "baxis": {
            "gridcolor": "white",
            "linecolor": "white",
            "ticks": ""
           },
           "bgcolor": "#E5ECF6",
           "caxis": {
            "gridcolor": "white",
            "linecolor": "white",
            "ticks": ""
           }
          },
          "title": {
           "x": 0.05
          },
          "xaxis": {
           "automargin": true,
           "gridcolor": "white",
           "linecolor": "white",
           "ticks": "",
           "title": {
            "standoff": 15
           },
           "zerolinecolor": "white",
           "zerolinewidth": 2
          },
          "yaxis": {
           "automargin": true,
           "gridcolor": "white",
           "linecolor": "white",
           "ticks": "",
           "title": {
            "standoff": 15
           },
           "zerolinecolor": "white",
           "zerolinewidth": 2
          }
         }
        },
        "xaxis": {
         "title": {
          "text": "time (s)"
         }
        },
        "yaxis": {
         "title": {
          "text": "amp"
         }
        }
       }
      },
      "text/html": [
       "<div>\n",
       "        \n",
       "        \n",
       "            <div id=\"dc6c774e-db4e-4dad-ab41-be5218b1cb4a\" class=\"plotly-graph-div\" style=\"height:525px; width:100%;\"></div>\n",
       "            <script type=\"text/javascript\">\n",
       "                require([\"plotly\"], function(Plotly) {\n",
       "                    window.PLOTLYENV=window.PLOTLYENV || {};\n",
       "                    \n",
       "                if (document.getElementById(\"dc6c774e-db4e-4dad-ab41-be5218b1cb4a\")) {\n",
       "                    Plotly.newPlot(\n",
       "                        'dc6c774e-db4e-4dad-ab41-be5218b1cb4a',\n",
       "                        [{\"line\": {\"color\": \"#1f77b4\", \"shape\": \"linear\"}, \"mode\": \"lines\", \"name\": \"sys\", \"type\": \"scatter\", \"x\": [0.0, 0.03535353535353535, 0.0707070707070707, 0.10606060606060605, 0.1414141414141414, 0.17676767676767677, 0.2121212121212121, 0.24747474747474746, 0.2828282828282828, 0.3181818181818182, 0.35353535353535354, 0.3888888888888889, 0.4242424242424242, 0.45959595959595956, 0.4949494949494949, 0.5303030303030303, 0.5656565656565656, 0.601010101010101, 0.6363636363636364, 0.6717171717171717, 0.7070707070707071, 0.7424242424242424, 0.7777777777777778, 0.8131313131313131, 0.8484848484848484, 0.8838383838383838, 0.9191919191919191, 0.9545454545454545, 0.9898989898989898, 1.0252525252525253, 1.0606060606060606, 1.095959595959596, 1.1313131313131313, 1.1666666666666665, 1.202020202020202, 1.2373737373737372, 1.2727272727272727, 1.308080808080808, 1.3434343434343434, 1.3787878787878787, 1.4141414141414141, 1.4494949494949494, 1.4848484848484849, 1.52020202020202, 1.5555555555555556, 1.5909090909090908, 1.6262626262626263, 1.6616161616161615, 1.6969696969696968, 1.7323232323232323, 1.7676767676767675, 1.803030303030303, 1.8383838383838382, 1.8737373737373737, 1.909090909090909, 1.9444444444444444, 1.9797979797979797, 2.015151515151515, 2.0505050505050506, 2.0858585858585856, 2.121212121212121, 2.1565656565656566, 2.191919191919192, 2.227272727272727, 2.2626262626262625, 2.297979797979798, 2.333333333333333, 2.3686868686868685, 2.404040404040404, 2.4393939393939394, 2.4747474747474745, 2.51010101010101, 2.5454545454545454, 2.580808080808081, 2.616161616161616, 2.6515151515151514, 2.686868686868687, 2.7222222222222223, 2.7575757575757573, 2.792929292929293, 2.8282828282828283, 2.8636363636363633, 2.898989898989899, 2.9343434343434343, 2.9696969696969697, 3.0050505050505047, 3.04040404040404, 3.0757575757575757, 3.111111111111111, 3.146464646464646, 3.1818181818181817, 3.217171717171717, 3.2525252525252526, 3.2878787878787876, 3.323232323232323, 3.3585858585858586, 3.3939393939393936, 3.429292929292929, 3.4646464646464645, 3.5], \"y\": [0.0, -0.026862397816177393, -0.024690800139722843, -0.005690694878746981, 0.02260823531837594, 0.05558864070643371, 0.0904452619544534, 0.12549860791500614, 0.15976695145225572, 0.19269952754744016, 0.224010321495459, 0.2535746182488357, 0.281364703794028, 0.3074099845112829, 0.33177232966177395, 0.3545308992921614, 0.3757728775105368, 0.3955878776978448, 0.4140646266229736, 0.4312890588950558, 0.44734328046626043, 0.4623050641107424, 0.47624766721036943, 0.48923984164776263, 0.5013459551622438, 0.5126261744113721, 0.5231366792192964, 0.5329298894640507, 0.5420546934933034, 0.5505566715682236, 0.558478310682877, 0.5658592088563347, 0.5727362680610598, 0.5791438755927263, 0.5851140740647333, 0.5906767204258581, 0.5958596345144022, 0.600688737715835, 0.6051881823075977, 0.609380472069431, 0.6132865747196788, 0.6169260267132193, 0.6203170309085057, 0.6234765475818059, 0.6264203792373579, 0.629163249633574, 0.6317188774180199, 0.6341000447378797, 0.6363186611680827, 0.6383858232762157, 0.6403118701217609, 0.6421064349669947, 0.6437784934580423, 0.64533640851697, 0.6467879721693912, 0.6481404445167511, 0.6494005900481926, 0.6505747114736046, 0.651668681247061, 0.6526879709383148, 0.653637678599244, 0.6545225542621255, 0.6553470236972642, 0.656115210548805, 0.656830956959439, 0.6574978427871601, 0.6581192035101854, 0.6586981469095937, 0.6592375686131197, 0.6597401665778463, 0.6602084545842357, 0.660644774808985, 0.6610513095395945, 0.6614300920892386, 0.6617830169665295, 0.6621118493510408, 0.6624182339219826, 0.6627037030841841, 0.6629696846325287, 0.6632175088931748, 0.6634484153772785, 0.6636635589805003, 0.6638640157592994, 0.6640507883129091, 0.6642248107979098, 0.664386953600482, 0.6645380276897059, 0.6646787886736828, 0.6648099405787641, 0.6649321393707907, 0.6650459962359541, 0.6651520806376886, 0.665250923164885, 0.6653430181856683, 0.6654288263200178, 0.66550877674359, 0.6655832693342731, 0.6656526766722054, 0.6657173459032609, 0.6657776004753269]}],\n",
       "                        {\"template\": {\"data\": {\"bar\": [{\"error_x\": {\"color\": \"#2a3f5f\"}, \"error_y\": {\"color\": \"#2a3f5f\"}, \"marker\": {\"line\": {\"color\": \"#E5ECF6\", \"width\": 0.5}}, \"type\": \"bar\"}], \"barpolar\": [{\"marker\": {\"line\": {\"color\": \"#E5ECF6\", \"width\": 0.5}}, \"type\": \"barpolar\"}], \"carpet\": [{\"aaxis\": {\"endlinecolor\": \"#2a3f5f\", \"gridcolor\": \"white\", \"linecolor\": \"white\", \"minorgridcolor\": \"white\", \"startlinecolor\": \"#2a3f5f\"}, \"baxis\": {\"endlinecolor\": \"#2a3f5f\", \"gridcolor\": \"white\", \"linecolor\": \"white\", \"minorgridcolor\": \"white\", \"startlinecolor\": \"#2a3f5f\"}, \"type\": \"carpet\"}], \"choropleth\": [{\"colorbar\": {\"outlinewidth\": 0, \"ticks\": \"\"}, \"type\": \"choropleth\"}], \"contour\": [{\"colorbar\": {\"outlinewidth\": 0, \"ticks\": \"\"}, \"colorscale\": [[0.0, \"#0d0887\"], [0.1111111111111111, \"#46039f\"], [0.2222222222222222, \"#7201a8\"], [0.3333333333333333, \"#9c179e\"], [0.4444444444444444, \"#bd3786\"], [0.5555555555555556, \"#d8576b\"], [0.6666666666666666, \"#ed7953\"], [0.7777777777777778, \"#fb9f3a\"], [0.8888888888888888, \"#fdca26\"], [1.0, \"#f0f921\"]], \"type\": \"contour\"}], \"contourcarpet\": [{\"colorbar\": {\"outlinewidth\": 0, \"ticks\": \"\"}, \"type\": \"contourcarpet\"}], \"heatmap\": [{\"colorbar\": {\"outlinewidth\": 0, \"ticks\": \"\"}, \"colorscale\": [[0.0, \"#0d0887\"], [0.1111111111111111, \"#46039f\"], [0.2222222222222222, \"#7201a8\"], [0.3333333333333333, \"#9c179e\"], [0.4444444444444444, \"#bd3786\"], [0.5555555555555556, \"#d8576b\"], [0.6666666666666666, \"#ed7953\"], [0.7777777777777778, \"#fb9f3a\"], [0.8888888888888888, \"#fdca26\"], [1.0, \"#f0f921\"]], \"type\": \"heatmap\"}], \"heatmapgl\": [{\"colorbar\": {\"outlinewidth\": 0, \"ticks\": \"\"}, \"colorscale\": [[0.0, \"#0d0887\"], [0.1111111111111111, \"#46039f\"], [0.2222222222222222, \"#7201a8\"], [0.3333333333333333, \"#9c179e\"], [0.4444444444444444, \"#bd3786\"], [0.5555555555555556, \"#d8576b\"], [0.6666666666666666, \"#ed7953\"], [0.7777777777777778, \"#fb9f3a\"], [0.8888888888888888, \"#fdca26\"], [1.0, \"#f0f921\"]], \"type\": \"heatmapgl\"}], \"histogram\": [{\"marker\": {\"colorbar\": {\"outlinewidth\": 0, \"ticks\": \"\"}}, \"type\": \"histogram\"}], \"histogram2d\": [{\"colorbar\": {\"outlinewidth\": 0, \"ticks\": \"\"}, \"colorscale\": [[0.0, \"#0d0887\"], [0.1111111111111111, \"#46039f\"], [0.2222222222222222, \"#7201a8\"], [0.3333333333333333, \"#9c179e\"], [0.4444444444444444, \"#bd3786\"], [0.5555555555555556, \"#d8576b\"], [0.6666666666666666, \"#ed7953\"], [0.7777777777777778, \"#fb9f3a\"], [0.8888888888888888, \"#fdca26\"], [1.0, \"#f0f921\"]], \"type\": \"histogram2d\"}], \"histogram2dcontour\": [{\"colorbar\": {\"outlinewidth\": 0, \"ticks\": \"\"}, \"colorscale\": [[0.0, \"#0d0887\"], [0.1111111111111111, \"#46039f\"], [0.2222222222222222, \"#7201a8\"], [0.3333333333333333, \"#9c179e\"], [0.4444444444444444, \"#bd3786\"], [0.5555555555555556, \"#d8576b\"], [0.6666666666666666, \"#ed7953\"], [0.7777777777777778, \"#fb9f3a\"], [0.8888888888888888, \"#fdca26\"], [1.0, \"#f0f921\"]], \"type\": \"histogram2dcontour\"}], \"mesh3d\": [{\"colorbar\": {\"outlinewidth\": 0, \"ticks\": \"\"}, \"type\": \"mesh3d\"}], \"parcoords\": [{\"line\": {\"colorbar\": {\"outlinewidth\": 0, \"ticks\": \"\"}}, \"type\": \"parcoords\"}], \"pie\": [{\"automargin\": true, \"type\": \"pie\"}], \"scatter\": [{\"marker\": {\"colorbar\": {\"outlinewidth\": 0, \"ticks\": \"\"}}, \"type\": \"scatter\"}], \"scatter3d\": [{\"line\": {\"colorbar\": {\"outlinewidth\": 0, \"ticks\": \"\"}}, \"marker\": {\"colorbar\": {\"outlinewidth\": 0, \"ticks\": \"\"}}, \"type\": \"scatter3d\"}], \"scattercarpet\": [{\"marker\": {\"colorbar\": {\"outlinewidth\": 0, \"ticks\": \"\"}}, \"type\": \"scattercarpet\"}], \"scattergeo\": [{\"marker\": {\"colorbar\": {\"outlinewidth\": 0, \"ticks\": \"\"}}, \"type\": \"scattergeo\"}], \"scattergl\": [{\"marker\": {\"colorbar\": {\"outlinewidth\": 0, \"ticks\": \"\"}}, \"type\": \"scattergl\"}], \"scattermapbox\": [{\"marker\": {\"colorbar\": {\"outlinewidth\": 0, \"ticks\": \"\"}}, \"type\": \"scattermapbox\"}], \"scatterpolar\": [{\"marker\": {\"colorbar\": {\"outlinewidth\": 0, \"ticks\": \"\"}}, \"type\": \"scatterpolar\"}], \"scatterpolargl\": [{\"marker\": {\"colorbar\": {\"outlinewidth\": 0, \"ticks\": \"\"}}, \"type\": \"scatterpolargl\"}], \"scatterternary\": [{\"marker\": {\"colorbar\": {\"outlinewidth\": 0, \"ticks\": \"\"}}, \"type\": \"scatterternary\"}], \"surface\": [{\"colorbar\": {\"outlinewidth\": 0, \"ticks\": \"\"}, \"colorscale\": [[0.0, \"#0d0887\"], [0.1111111111111111, \"#46039f\"], [0.2222222222222222, \"#7201a8\"], [0.3333333333333333, \"#9c179e\"], [0.4444444444444444, \"#bd3786\"], [0.5555555555555556, \"#d8576b\"], [0.6666666666666666, \"#ed7953\"], [0.7777777777777778, \"#fb9f3a\"], [0.8888888888888888, \"#fdca26\"], [1.0, \"#f0f921\"]], \"type\": \"surface\"}], \"table\": [{\"cells\": {\"fill\": {\"color\": \"#EBF0F8\"}, \"line\": {\"color\": \"white\"}}, \"header\": {\"fill\": {\"color\": \"#C8D4E3\"}, \"line\": {\"color\": \"white\"}}, \"type\": \"table\"}]}, \"layout\": {\"annotationdefaults\": {\"arrowcolor\": \"#2a3f5f\", \"arrowhead\": 0, \"arrowwidth\": 1}, \"coloraxis\": {\"colorbar\": {\"outlinewidth\": 0, \"ticks\": \"\"}}, \"colorscale\": {\"diverging\": [[0, \"#8e0152\"], [0.1, \"#c51b7d\"], [0.2, \"#de77ae\"], [0.3, \"#f1b6da\"], [0.4, \"#fde0ef\"], [0.5, \"#f7f7f7\"], [0.6, \"#e6f5d0\"], [0.7, \"#b8e186\"], [0.8, \"#7fbc41\"], [0.9, \"#4d9221\"], [1, \"#276419\"]], \"sequential\": [[0.0, \"#0d0887\"], [0.1111111111111111, \"#46039f\"], [0.2222222222222222, \"#7201a8\"], [0.3333333333333333, \"#9c179e\"], [0.4444444444444444, \"#bd3786\"], [0.5555555555555556, \"#d8576b\"], [0.6666666666666666, \"#ed7953\"], [0.7777777777777778, \"#fb9f3a\"], [0.8888888888888888, \"#fdca26\"], [1.0, \"#f0f921\"]], \"sequentialminus\": [[0.0, \"#0d0887\"], [0.1111111111111111, \"#46039f\"], [0.2222222222222222, \"#7201a8\"], [0.3333333333333333, \"#9c179e\"], [0.4444444444444444, \"#bd3786\"], [0.5555555555555556, \"#d8576b\"], [0.6666666666666666, \"#ed7953\"], [0.7777777777777778, \"#fb9f3a\"], [0.8888888888888888, \"#fdca26\"], [1.0, \"#f0f921\"]]}, \"colorway\": [\"#636efa\", \"#EF553B\", \"#00cc96\", \"#ab63fa\", \"#FFA15A\", \"#19d3f3\", \"#FF6692\", \"#B6E880\", \"#FF97FF\", \"#FECB52\"], \"font\": {\"color\": \"#2a3f5f\"}, \"geo\": {\"bgcolor\": \"white\", \"lakecolor\": \"white\", \"landcolor\": \"#E5ECF6\", \"showlakes\": true, \"showland\": true, \"subunitcolor\": \"white\"}, \"hoverlabel\": {\"align\": \"left\"}, \"hovermode\": \"closest\", \"mapbox\": {\"style\": \"light\"}, \"paper_bgcolor\": \"white\", \"plot_bgcolor\": \"#E5ECF6\", \"polar\": {\"angularaxis\": {\"gridcolor\": \"white\", \"linecolor\": \"white\", \"ticks\": \"\"}, \"bgcolor\": \"#E5ECF6\", \"radialaxis\": {\"gridcolor\": \"white\", \"linecolor\": \"white\", \"ticks\": \"\"}}, \"scene\": {\"xaxis\": {\"backgroundcolor\": \"#E5ECF6\", \"gridcolor\": \"white\", \"gridwidth\": 2, \"linecolor\": \"white\", \"showbackground\": true, \"ticks\": \"\", \"zerolinecolor\": \"white\"}, \"yaxis\": {\"backgroundcolor\": \"#E5ECF6\", \"gridcolor\": \"white\", \"gridwidth\": 2, \"linecolor\": \"white\", \"showbackground\": true, \"ticks\": \"\", \"zerolinecolor\": \"white\"}, \"zaxis\": {\"backgroundcolor\": \"#E5ECF6\", \"gridcolor\": \"white\", \"gridwidth\": 2, \"linecolor\": \"white\", \"showbackground\": true, \"ticks\": \"\", \"zerolinecolor\": \"white\"}}, \"shapedefaults\": {\"line\": {\"color\": \"#2a3f5f\"}}, \"ternary\": {\"aaxis\": {\"gridcolor\": \"white\", \"linecolor\": \"white\", \"ticks\": \"\"}, \"baxis\": {\"gridcolor\": \"white\", \"linecolor\": \"white\", \"ticks\": \"\"}, \"bgcolor\": \"#E5ECF6\", \"caxis\": {\"gridcolor\": \"white\", \"linecolor\": \"white\", \"ticks\": \"\"}}, \"title\": {\"x\": 0.05}, \"xaxis\": {\"automargin\": true, \"gridcolor\": \"white\", \"linecolor\": \"white\", \"ticks\": \"\", \"title\": {\"standoff\": 15}, \"zerolinecolor\": \"white\", \"zerolinewidth\": 2}, \"yaxis\": {\"automargin\": true, \"gridcolor\": \"white\", \"linecolor\": \"white\", \"ticks\": \"\", \"title\": {\"standoff\": 15}, \"zerolinecolor\": \"white\", \"zerolinewidth\": 2}}}, \"xaxis\": {\"title\": {\"text\": \"time (s)\"}}, \"yaxis\": {\"title\": {\"text\": \"amp\"}}},\n",
       "                        {\"responsive\": true}\n",
       "                    ).then(function(){\n",
       "                            \n",
       "var gd = document.getElementById('dc6c774e-db4e-4dad-ab41-be5218b1cb4a');\n",
       "var x = new MutationObserver(function (mutations, observer) {{\n",
       "        var display = window.getComputedStyle(gd).display;\n",
       "        if (!display || display === 'none') {{\n",
       "            console.log([gd, 'removed!']);\n",
       "            Plotly.purge(gd);\n",
       "            observer.disconnect();\n",
       "        }}\n",
       "}});\n",
       "\n",
       "// Listen for the removal of the full notebook cells\n",
       "var notebookContainer = gd.closest('#notebook-container');\n",
       "if (notebookContainer) {{\n",
       "    x.observe(notebookContainer, {childList: true});\n",
       "}}\n",
       "\n",
       "// Listen for the clearing of the current output cell\n",
       "var outputEl = gd.closest('.output');\n",
       "if (outputEl) {{\n",
       "    x.observe(outputEl, {childList: true});\n",
       "}}\n",
       "\n",
       "                        })\n",
       "                };\n",
       "                });\n",
       "            </script>\n",
       "        </div>"
      ]
     },
     "metadata": {},
     "output_type": "display_data"
    }
   ],
   "source": [
    "K = 0.6666\n",
    "f0 = tf([K],[0.5,1])\n",
    "[num, den]= pade(0.15,1)\n",
    "Delay=tf(num, den)\n",
    "f = f0*Delay\n",
    "\n",
    "print(2/3*0.95)\n",
    "fig = figure(\"time\")\n",
    "fig.plot(f)\n",
    "fig.show()"
   ]
  },
  {
   "cell_type": "markdown",
   "metadata": {},
   "source": [
    "Par la suite on gardera une fonction de Padé d'ordre $1$ (`j=1`)`\n",
    "\n",
    "\n",
    "* **Question**\n",
    "    * Tracez les réponses fréquentielles des fonctions de transfert avec et sans retard f0 et f dans le plan de Black-Nichols. Observez le déphasage produit par le retard pur .\n",
    "    * Complétez le tableau suivant pour F(p) pour des pulsations comprises entre 0,01 et 20 rad/s.\n",
    "    * Vérifiez vos résultats en comparant aux résultats obtenus dans la préparation.\n"
   ]
  },
  {
   "cell_type": "markdown",
   "metadata": {},
   "source": [
    "<table class=\"table\">\n",
    "<thead>\n",
    "<tr>\n",
    "    <th>$\\omega$ (rad/s)</th>\n",
    "    <th>0.01</th>\n",
    "    <th>0.1</th>\n",
    "    <th>1</th>\n",
    "    <th>3</th>\n",
    "    <th>6</th>\n",
    "    <th>9</th>\n",
    "    <th>12</th>\n",
    "    <th>15</th>\n",
    "    <th>20</th>\n",
    "    <th>$\\infty$</th>\n",
    "</tr>\n",
    "</thead>\n",
    "<tbody>\n",
    "<tr>\n",
    "    <th>Gain (dB)</th>\n",
    "    <td>...</td>\n",
    "    <td>...</td>\n",
    "    <td>...</td>\n",
    "    <td>...</td>\n",
    "    <td>...</td>\n",
    "    <td>...</td>\n",
    "    <td>...</td>\n",
    "    <td>...</td>\n",
    "    <td>...</td>\n",
    "    <td>...</td>\n",
    "</tr>\n",
    "<tr>\n",
    "    <th>Phase (deg)</th>\n",
    "    <td>...</td>\n",
    "    <td>...</td>\n",
    "    <td>...</td>\n",
    "    <td>...</td>\n",
    "    <td>...</td>\n",
    "    <td>...</td>\n",
    "    <td>...</td>\n",
    "    <td>...</td>\n",
    "    <td>...</td>\n",
    "    <td>...</td>\n",
    "</tr>\n",
    "</tboby>\n",
    "</table>"
   ]
  },
  {
   "cell_type": "code",
   "execution_count": 61,
   "metadata": {},
   "outputs": [
    {
     "name": "stdout",
     "output_type": "stream",
     "text": [
      "mag: [[[ -3.52280239  -3.53353763  -4.49179394  -8.64152742 -13.52269381\n",
      "   -16.79628316 -19.20471105 -21.10044872 -23.56590755 -57.50211127]]]\n",
      "phase: [[[  -0.37242016   -3.7218258   -35.14335783  -81.67069946 -120.02054181\n",
      "   -145.50989227 -164.51210278 -179.13827796  163.09072819   91.64238833]]]\n"
     ]
    },
    {
     "data": {
      "application/vnd.plotly.v1+json": {
       "config": {
        "plotlyServerURL": "https://plot.ly"
       },
       "data": [
        {
         "hovertemplate": "<b>w</b>: %{x:.3f} rad/s<br><b>mag</b>: %{y:.3f} dB<br><b>phase</b>: %{text:.3f} deg<br>",
         "line": {
          "color": "#1f77b4"
         },
         "name": "sys",
         "showlegend": false,
         "text": [
          -3.7218258049138355,
          -4.490153203125646,
          -5.416369911230212,
          -6.532378420513882,
          -7.87612113229808,
          -9.4924213248252,
          -11.433710230509682,
          -13.760430030950145,
          -16.540761906306415,
          -19.84914212871332,
          -23.762838248397053,
          -28.35579137518912,
          -33.68926408672415,
          -39.79996188395485,
          -46.68843723414922,
          -54.31307567220505,
          -62.59566836417138,
          -71.44093752970626,
          -80.76471506153541,
          -90.51886698014029,
          -100.70115673672251,
          -111.34482738735943,
          -122.49035561369104,
          -134.14679065316272,
          -146.25308204010256,
          -158.6523820104624,
          -171.09244798643422,
          -183.25824218523735,
          -194.82819861914214,
          -205.53245386673797,
          -215.19105585032216,
          -223.72310985427848,
          -231.13260305175987,
          -237.4833370498692,
          -242.8736184704135,
          -247.41625030502203,
          -251.2250874725586,
          -254.40719618356442,
          -257.05901248299716,
          -259.2650361554829,
          -261.0979789585182,
          -262.6196568884265,
          -263.8821960945256,
          -264.9293093138456,
          -265.7975159861908,
          -266.51724757522555,
          -267.1138178719193,
          -267.60825826766575,
          -268.0180277864819,
          -268.35761167190225
         ],
         "type": "scatter",
         "x": [
          0.1,
          0.12067926406393285,
          0.14563484775012436,
          0.1757510624854792,
          0.21209508879201905,
          0.2559547922699536,
          0.3088843596477481,
          0.372759372031494,
          0.44984326689694454,
          0.5428675439323859,
          0.6551285568595507,
          0.7906043210907697,
          0.9540954763499939,
          1.151395399326447,
          1.3894954943731375,
          1.6768329368110073,
          2.0235896477251565,
          2.442053094548651,
          2.9470517025518097,
          3.5564803062231287,
          4.291934260128776,
          5.17947467923121,
          6.25055192527397,
          7.543120063354615,
          9.102981779915218,
          10.985411419875584,
          13.257113655901081,
          15.998587196060573,
          19.306977288832496,
          23.29951810515372,
          28.11768697974228,
          33.93221771895326,
          40.94915062380423,
          49.417133613238335,
          59.63623316594643,
          71.96856730011514,
          86.85113737513521,
          104.81131341546852,
          126.48552168552958,
          152.6417967175232,
          184.20699693267144,
          222.29964825261933,
          268.26957952797244,
          323.74575428176433,
          390.6939937054613,
          471.486636345739,
          568.9866029018293,
          686.6488450042998,
          828.6427728546843,
          1000
         ],
         "xaxis": "x",
         "y": [
          -3.533537626431975,
          -3.5384772009607346,
          -3.5456609087519517,
          -3.556101682516368,
          -3.5712623319124033,
          -3.5932472872194654,
          -3.6250672844773106,
          -3.6709952274546676,
          -3.7370253703663976,
          -3.8314274507590556,
          -3.9653403666942872,
          -4.153263097287845,
          -4.413172554910769,
          -4.765870155641153,
          -5.2331517984233225,
          -5.8346928255801,
          -6.584216862090089,
          -7.486266903189682,
          -8.535037555778528,
          -9.715858613459336,
          -11.008585517245809,
          -12.39140060078817,
          -13.84378205322269,
          -15.348171287153212,
          -16.890506006782907,
          -18.460036201539943,
          -20.048808561445103,
          -21.651072180907956,
          -23.26273454383108,
          -24.880915391988285,
          -26.503603124599202,
          -28.129400239129204,
          -29.75733939734524,
          -31.386752697139762,
          -33.01717977959959,
          -34.648303714134485,
          -36.279906490428516,
          -37.911838227608506,
          -39.54399592312639,
          -41.17630880933885,
          -42.808728274353854,
          -44.44122092973486,
          -46.07376384504137,
          -47.706341273080824,
          -49.33894240010342,
          -50.97155980040854,
          -52.60418837493437,
          -54.23682462231555,
          -55.869466138296275,
          -57.502111271974684
         ],
         "yaxis": "y"
        },
        {
         "hovertemplate": "<b>w</b>: %{x:.3f} rad/s<br><b>mag</b>: %{text:.3f} dB<br><b>phase</b>: %{y:.3f} deg<br>",
         "line": {
          "color": "#1f77b4"
         },
         "name": "sys",
         "showlegend": false,
         "text": [
          -3.533537626431975,
          -3.5384772009607346,
          -3.5456609087519517,
          -3.556101682516368,
          -3.5712623319124033,
          -3.5932472872194654,
          -3.6250672844773106,
          -3.6709952274546676,
          -3.7370253703663976,
          -3.8314274507590556,
          -3.9653403666942872,
          -4.153263097287845,
          -4.413172554910769,
          -4.765870155641153,
          -5.2331517984233225,
          -5.8346928255801,
          -6.584216862090089,
          -7.486266903189682,
          -8.535037555778528,
          -9.715858613459336,
          -11.008585517245809,
          -12.39140060078817,
          -13.84378205322269,
          -15.348171287153212,
          -16.890506006782907,
          -18.460036201539943,
          -20.048808561445103,
          -21.651072180907956,
          -23.26273454383108,
          -24.880915391988285,
          -26.503603124599202,
          -28.129400239129204,
          -29.75733939734524,
          -31.386752697139762,
          -33.01717977959959,
          -34.648303714134485,
          -36.279906490428516,
          -37.911838227608506,
          -39.54399592312639,
          -41.17630880933885,
          -42.808728274353854,
          -44.44122092973486,
          -46.07376384504137,
          -47.706341273080824,
          -49.33894240010342,
          -50.97155980040854,
          -52.60418837493437,
          -54.23682462231555,
          -55.869466138296275,
          -57.502111271974684
         ],
         "type": "scatter",
         "x": [
          0.1,
          0.12067926406393285,
          0.14563484775012436,
          0.1757510624854792,
          0.21209508879201905,
          0.2559547922699536,
          0.3088843596477481,
          0.372759372031494,
          0.44984326689694454,
          0.5428675439323859,
          0.6551285568595507,
          0.7906043210907697,
          0.9540954763499939,
          1.151395399326447,
          1.3894954943731375,
          1.6768329368110073,
          2.0235896477251565,
          2.442053094548651,
          2.9470517025518097,
          3.5564803062231287,
          4.291934260128776,
          5.17947467923121,
          6.25055192527397,
          7.543120063354615,
          9.102981779915218,
          10.985411419875584,
          13.257113655901081,
          15.998587196060573,
          19.306977288832496,
          23.29951810515372,
          28.11768697974228,
          33.93221771895326,
          40.94915062380423,
          49.417133613238335,
          59.63623316594643,
          71.96856730011514,
          86.85113737513521,
          104.81131341546852,
          126.48552168552958,
          152.6417967175232,
          184.20699693267144,
          222.29964825261933,
          268.26957952797244,
          323.74575428176433,
          390.6939937054613,
          471.486636345739,
          568.9866029018293,
          686.6488450042998,
          828.6427728546843,
          1000
         ],
         "xaxis": "x2",
         "y": [
          -3.7218258049138355,
          -4.490153203125646,
          -5.416369911230212,
          -6.532378420513882,
          -7.87612113229808,
          -9.4924213248252,
          -11.433710230509682,
          -13.760430030950145,
          -16.540761906306415,
          -19.84914212871332,
          -23.762838248397053,
          -28.35579137518912,
          -33.68926408672415,
          -39.79996188395485,
          -46.68843723414922,
          -54.31307567220505,
          -62.59566836417138,
          -71.44093752970626,
          -80.76471506153541,
          -90.51886698014029,
          -100.70115673672251,
          -111.34482738735943,
          -122.49035561369104,
          -134.14679065316272,
          -146.25308204010256,
          -158.6523820104624,
          -171.09244798643422,
          -183.25824218523735,
          -194.82819861914214,
          -205.53245386673797,
          -215.19105585032216,
          -223.72310985427848,
          -231.13260305175987,
          -237.4833370498692,
          -242.8736184704135,
          -247.41625030502203,
          -251.2250874725586,
          -254.40719618356442,
          -257.05901248299716,
          -259.2650361554829,
          -261.0979789585182,
          -262.6196568884265,
          -263.8821960945256,
          -264.9293093138456,
          -265.7975159861908,
          -266.51724757522555,
          -267.1138178719193,
          -267.60825826766575,
          -268.0180277864819,
          -268.35761167190225
         ],
         "yaxis": "y2"
        }
       ],
       "layout": {
        "template": {
         "data": {
          "bar": [
           {
            "error_x": {
             "color": "#2a3f5f"
            },
            "error_y": {
             "color": "#2a3f5f"
            },
            "marker": {
             "line": {
              "color": "#E5ECF6",
              "width": 0.5
             }
            },
            "type": "bar"
           }
          ],
          "barpolar": [
           {
            "marker": {
             "line": {
              "color": "#E5ECF6",
              "width": 0.5
             }
            },
            "type": "barpolar"
           }
          ],
          "carpet": [
           {
            "aaxis": {
             "endlinecolor": "#2a3f5f",
             "gridcolor": "white",
             "linecolor": "white",
             "minorgridcolor": "white",
             "startlinecolor": "#2a3f5f"
            },
            "baxis": {
             "endlinecolor": "#2a3f5f",
             "gridcolor": "white",
             "linecolor": "white",
             "minorgridcolor": "white",
             "startlinecolor": "#2a3f5f"
            },
            "type": "carpet"
           }
          ],
          "choropleth": [
           {
            "colorbar": {
             "outlinewidth": 0,
             "ticks": ""
            },
            "type": "choropleth"
           }
          ],
          "contour": [
           {
            "colorbar": {
             "outlinewidth": 0,
             "ticks": ""
            },
            "colorscale": [
             [
              0,
              "#0d0887"
             ],
             [
              0.1111111111111111,
              "#46039f"
             ],
             [
              0.2222222222222222,
              "#7201a8"
             ],
             [
              0.3333333333333333,
              "#9c179e"
             ],
             [
              0.4444444444444444,
              "#bd3786"
             ],
             [
              0.5555555555555556,
              "#d8576b"
             ],
             [
              0.6666666666666666,
              "#ed7953"
             ],
             [
              0.7777777777777778,
              "#fb9f3a"
             ],
             [
              0.8888888888888888,
              "#fdca26"
             ],
             [
              1,
              "#f0f921"
             ]
            ],
            "type": "contour"
           }
          ],
          "contourcarpet": [
           {
            "colorbar": {
             "outlinewidth": 0,
             "ticks": ""
            },
            "type": "contourcarpet"
           }
          ],
          "heatmap": [
           {
            "colorbar": {
             "outlinewidth": 0,
             "ticks": ""
            },
            "colorscale": [
             [
              0,
              "#0d0887"
             ],
             [
              0.1111111111111111,
              "#46039f"
             ],
             [
              0.2222222222222222,
              "#7201a8"
             ],
             [
              0.3333333333333333,
              "#9c179e"
             ],
             [
              0.4444444444444444,
              "#bd3786"
             ],
             [
              0.5555555555555556,
              "#d8576b"
             ],
             [
              0.6666666666666666,
              "#ed7953"
             ],
             [
              0.7777777777777778,
              "#fb9f3a"
             ],
             [
              0.8888888888888888,
              "#fdca26"
             ],
             [
              1,
              "#f0f921"
             ]
            ],
            "type": "heatmap"
           }
          ],
          "heatmapgl": [
           {
            "colorbar": {
             "outlinewidth": 0,
             "ticks": ""
            },
            "colorscale": [
             [
              0,
              "#0d0887"
             ],
             [
              0.1111111111111111,
              "#46039f"
             ],
             [
              0.2222222222222222,
              "#7201a8"
             ],
             [
              0.3333333333333333,
              "#9c179e"
             ],
             [
              0.4444444444444444,
              "#bd3786"
             ],
             [
              0.5555555555555556,
              "#d8576b"
             ],
             [
              0.6666666666666666,
              "#ed7953"
             ],
             [
              0.7777777777777778,
              "#fb9f3a"
             ],
             [
              0.8888888888888888,
              "#fdca26"
             ],
             [
              1,
              "#f0f921"
             ]
            ],
            "type": "heatmapgl"
           }
          ],
          "histogram": [
           {
            "marker": {
             "colorbar": {
              "outlinewidth": 0,
              "ticks": ""
             }
            },
            "type": "histogram"
           }
          ],
          "histogram2d": [
           {
            "colorbar": {
             "outlinewidth": 0,
             "ticks": ""
            },
            "colorscale": [
             [
              0,
              "#0d0887"
             ],
             [
              0.1111111111111111,
              "#46039f"
             ],
             [
              0.2222222222222222,
              "#7201a8"
             ],
             [
              0.3333333333333333,
              "#9c179e"
             ],
             [
              0.4444444444444444,
              "#bd3786"
             ],
             [
              0.5555555555555556,
              "#d8576b"
             ],
             [
              0.6666666666666666,
              "#ed7953"
             ],
             [
              0.7777777777777778,
              "#fb9f3a"
             ],
             [
              0.8888888888888888,
              "#fdca26"
             ],
             [
              1,
              "#f0f921"
             ]
            ],
            "type": "histogram2d"
           }
          ],
          "histogram2dcontour": [
           {
            "colorbar": {
             "outlinewidth": 0,
             "ticks": ""
            },
            "colorscale": [
             [
              0,
              "#0d0887"
             ],
             [
              0.1111111111111111,
              "#46039f"
             ],
             [
              0.2222222222222222,
              "#7201a8"
             ],
             [
              0.3333333333333333,
              "#9c179e"
             ],
             [
              0.4444444444444444,
              "#bd3786"
             ],
             [
              0.5555555555555556,
              "#d8576b"
             ],
             [
              0.6666666666666666,
              "#ed7953"
             ],
             [
              0.7777777777777778,
              "#fb9f3a"
             ],
             [
              0.8888888888888888,
              "#fdca26"
             ],
             [
              1,
              "#f0f921"
             ]
            ],
            "type": "histogram2dcontour"
           }
          ],
          "mesh3d": [
           {
            "colorbar": {
             "outlinewidth": 0,
             "ticks": ""
            },
            "type": "mesh3d"
           }
          ],
          "parcoords": [
           {
            "line": {
             "colorbar": {
              "outlinewidth": 0,
              "ticks": ""
             }
            },
            "type": "parcoords"
           }
          ],
          "pie": [
           {
            "automargin": true,
            "type": "pie"
           }
          ],
          "scatter": [
           {
            "marker": {
             "colorbar": {
              "outlinewidth": 0,
              "ticks": ""
             }
            },
            "type": "scatter"
           }
          ],
          "scatter3d": [
           {
            "line": {
             "colorbar": {
              "outlinewidth": 0,
              "ticks": ""
             }
            },
            "marker": {
             "colorbar": {
              "outlinewidth": 0,
              "ticks": ""
             }
            },
            "type": "scatter3d"
           }
          ],
          "scattercarpet": [
           {
            "marker": {
             "colorbar": {
              "outlinewidth": 0,
              "ticks": ""
             }
            },
            "type": "scattercarpet"
           }
          ],
          "scattergeo": [
           {
            "marker": {
             "colorbar": {
              "outlinewidth": 0,
              "ticks": ""
             }
            },
            "type": "scattergeo"
           }
          ],
          "scattergl": [
           {
            "marker": {
             "colorbar": {
              "outlinewidth": 0,
              "ticks": ""
             }
            },
            "type": "scattergl"
           }
          ],
          "scattermapbox": [
           {
            "marker": {
             "colorbar": {
              "outlinewidth": 0,
              "ticks": ""
             }
            },
            "type": "scattermapbox"
           }
          ],
          "scatterpolar": [
           {
            "marker": {
             "colorbar": {
              "outlinewidth": 0,
              "ticks": ""
             }
            },
            "type": "scatterpolar"
           }
          ],
          "scatterpolargl": [
           {
            "marker": {
             "colorbar": {
              "outlinewidth": 0,
              "ticks": ""
             }
            },
            "type": "scatterpolargl"
           }
          ],
          "scatterternary": [
           {
            "marker": {
             "colorbar": {
              "outlinewidth": 0,
              "ticks": ""
             }
            },
            "type": "scatterternary"
           }
          ],
          "surface": [
           {
            "colorbar": {
             "outlinewidth": 0,
             "ticks": ""
            },
            "colorscale": [
             [
              0,
              "#0d0887"
             ],
             [
              0.1111111111111111,
              "#46039f"
             ],
             [
              0.2222222222222222,
              "#7201a8"
             ],
             [
              0.3333333333333333,
              "#9c179e"
             ],
             [
              0.4444444444444444,
              "#bd3786"
             ],
             [
              0.5555555555555556,
              "#d8576b"
             ],
             [
              0.6666666666666666,
              "#ed7953"
             ],
             [
              0.7777777777777778,
              "#fb9f3a"
             ],
             [
              0.8888888888888888,
              "#fdca26"
             ],
             [
              1,
              "#f0f921"
             ]
            ],
            "type": "surface"
           }
          ],
          "table": [
           {
            "cells": {
             "fill": {
              "color": "#EBF0F8"
             },
             "line": {
              "color": "white"
             }
            },
            "header": {
             "fill": {
              "color": "#C8D4E3"
             },
             "line": {
              "color": "white"
             }
            },
            "type": "table"
           }
          ]
         },
         "layout": {
          "annotationdefaults": {
           "arrowcolor": "#2a3f5f",
           "arrowhead": 0,
           "arrowwidth": 1
          },
          "coloraxis": {
           "colorbar": {
            "outlinewidth": 0,
            "ticks": ""
           }
          },
          "colorscale": {
           "diverging": [
            [
             0,
             "#8e0152"
            ],
            [
             0.1,
             "#c51b7d"
            ],
            [
             0.2,
             "#de77ae"
            ],
            [
             0.3,
             "#f1b6da"
            ],
            [
             0.4,
             "#fde0ef"
            ],
            [
             0.5,
             "#f7f7f7"
            ],
            [
             0.6,
             "#e6f5d0"
            ],
            [
             0.7,
             "#b8e186"
            ],
            [
             0.8,
             "#7fbc41"
            ],
            [
             0.9,
             "#4d9221"
            ],
            [
             1,
             "#276419"
            ]
           ],
           "sequential": [
            [
             0,
             "#0d0887"
            ],
            [
             0.1111111111111111,
             "#46039f"
            ],
            [
             0.2222222222222222,
             "#7201a8"
            ],
            [
             0.3333333333333333,
             "#9c179e"
            ],
            [
             0.4444444444444444,
             "#bd3786"
            ],
            [
             0.5555555555555556,
             "#d8576b"
            ],
            [
             0.6666666666666666,
             "#ed7953"
            ],
            [
             0.7777777777777778,
             "#fb9f3a"
            ],
            [
             0.8888888888888888,
             "#fdca26"
            ],
            [
             1,
             "#f0f921"
            ]
           ],
           "sequentialminus": [
            [
             0,
             "#0d0887"
            ],
            [
             0.1111111111111111,
             "#46039f"
            ],
            [
             0.2222222222222222,
             "#7201a8"
            ],
            [
             0.3333333333333333,
             "#9c179e"
            ],
            [
             0.4444444444444444,
             "#bd3786"
            ],
            [
             0.5555555555555556,
             "#d8576b"
            ],
            [
             0.6666666666666666,
             "#ed7953"
            ],
            [
             0.7777777777777778,
             "#fb9f3a"
            ],
            [
             0.8888888888888888,
             "#fdca26"
            ],
            [
             1,
             "#f0f921"
            ]
           ]
          },
          "colorway": [
           "#636efa",
           "#EF553B",
           "#00cc96",
           "#ab63fa",
           "#FFA15A",
           "#19d3f3",
           "#FF6692",
           "#B6E880",
           "#FF97FF",
           "#FECB52"
          ],
          "font": {
           "color": "#2a3f5f"
          },
          "geo": {
           "bgcolor": "white",
           "lakecolor": "white",
           "landcolor": "#E5ECF6",
           "showlakes": true,
           "showland": true,
           "subunitcolor": "white"
          },
          "hoverlabel": {
           "align": "left"
          },
          "hovermode": "closest",
          "mapbox": {
           "style": "light"
          },
          "paper_bgcolor": "white",
          "plot_bgcolor": "#E5ECF6",
          "polar": {
           "angularaxis": {
            "gridcolor": "white",
            "linecolor": "white",
            "ticks": ""
           },
           "bgcolor": "#E5ECF6",
           "radialaxis": {
            "gridcolor": "white",
            "linecolor": "white",
            "ticks": ""
           }
          },
          "scene": {
           "xaxis": {
            "backgroundcolor": "#E5ECF6",
            "gridcolor": "white",
            "gridwidth": 2,
            "linecolor": "white",
            "showbackground": true,
            "ticks": "",
            "zerolinecolor": "white"
           },
           "yaxis": {
            "backgroundcolor": "#E5ECF6",
            "gridcolor": "white",
            "gridwidth": 2,
            "linecolor": "white",
            "showbackground": true,
            "ticks": "",
            "zerolinecolor": "white"
           },
           "zaxis": {
            "backgroundcolor": "#E5ECF6",
            "gridcolor": "white",
            "gridwidth": 2,
            "linecolor": "white",
            "showbackground": true,
            "ticks": "",
            "zerolinecolor": "white"
           }
          },
          "shapedefaults": {
           "line": {
            "color": "#2a3f5f"
           }
          },
          "ternary": {
           "aaxis": {
            "gridcolor": "white",
            "linecolor": "white",
            "ticks": ""
           },
           "baxis": {
            "gridcolor": "white",
            "linecolor": "white",
            "ticks": ""
           },
           "bgcolor": "#E5ECF6",
           "caxis": {
            "gridcolor": "white",
            "linecolor": "white",
            "ticks": ""
           }
          },
          "title": {
           "x": 0.05
          },
          "xaxis": {
           "automargin": true,
           "gridcolor": "white",
           "linecolor": "white",
           "ticks": "",
           "title": {
            "standoff": 15
           },
           "zerolinecolor": "white",
           "zerolinewidth": 2
          },
          "yaxis": {
           "automargin": true,
           "gridcolor": "white",
           "linecolor": "white",
           "ticks": "",
           "title": {
            "standoff": 15
           },
           "zerolinecolor": "white",
           "zerolinewidth": 2
          }
         }
        },
        "xaxis": {
         "anchor": "y",
         "domain": [
          0,
          1
         ],
         "matches": "x2",
         "showticklabels": false,
         "title": {
          "text": "w (rad/s)"
         },
         "type": "log"
        },
        "xaxis2": {
         "anchor": "y2",
         "domain": [
          0,
          1
         ],
         "title": {
          "text": "w (rad/s)"
         },
         "type": "log"
        },
        "yaxis": {
         "anchor": "x",
         "domain": [
          0.575,
          1
         ],
         "title": {
          "text": "Magnitude"
         }
        },
        "yaxis2": {
         "anchor": "x2",
         "domain": [
          0,
          0.425
         ],
         "title": {
          "text": "Phase"
         }
        }
       }
      },
      "text/html": [
       "<div>\n",
       "        \n",
       "        \n",
       "            <div id=\"e8854161-d073-4a56-8b5a-34fa7fb41905\" class=\"plotly-graph-div\" style=\"height:525px; width:100%;\"></div>\n",
       "            <script type=\"text/javascript\">\n",
       "                require([\"plotly\"], function(Plotly) {\n",
       "                    window.PLOTLYENV=window.PLOTLYENV || {};\n",
       "                    \n",
       "                if (document.getElementById(\"e8854161-d073-4a56-8b5a-34fa7fb41905\")) {\n",
       "                    Plotly.newPlot(\n",
       "                        'e8854161-d073-4a56-8b5a-34fa7fb41905',\n",
       "                        [{\"hovertemplate\": \"<b>w</b>: %{x:.3f} rad/s<br><b>mag</b>: %{y:.3f} dB<br><b>phase</b>: %{text:.3f} deg<br>\", \"line\": {\"color\": \"#1f77b4\"}, \"name\": \"sys\", \"showlegend\": false, \"text\": [-3.7218258049138355, -4.490153203125646, -5.416369911230212, -6.532378420513882, -7.87612113229808, -9.4924213248252, -11.433710230509682, -13.760430030950145, -16.540761906306415, -19.84914212871332, -23.762838248397053, -28.35579137518912, -33.68926408672415, -39.79996188395485, -46.68843723414922, -54.31307567220505, -62.59566836417138, -71.44093752970626, -80.76471506153541, -90.51886698014029, -100.70115673672251, -111.34482738735943, -122.49035561369104, -134.14679065316272, -146.25308204010256, -158.6523820104624, -171.09244798643422, -183.25824218523735, -194.82819861914214, -205.53245386673797, -215.19105585032216, -223.72310985427848, -231.13260305175987, -237.4833370498692, -242.8736184704135, -247.41625030502203, -251.2250874725586, -254.40719618356442, -257.05901248299716, -259.2650361554829, -261.0979789585182, -262.6196568884265, -263.8821960945256, -264.9293093138456, -265.7975159861908, -266.51724757522555, -267.1138178719193, -267.60825826766575, -268.0180277864819, -268.35761167190225], \"type\": \"scatter\", \"x\": [0.1, 0.12067926406393285, 0.14563484775012436, 0.1757510624854792, 0.21209508879201905, 0.2559547922699536, 0.3088843596477481, 0.372759372031494, 0.44984326689694454, 0.5428675439323859, 0.6551285568595507, 0.7906043210907697, 0.9540954763499939, 1.151395399326447, 1.3894954943731375, 1.6768329368110073, 2.0235896477251565, 2.442053094548651, 2.9470517025518097, 3.5564803062231287, 4.291934260128776, 5.17947467923121, 6.25055192527397, 7.543120063354615, 9.102981779915218, 10.985411419875584, 13.257113655901081, 15.998587196060573, 19.306977288832496, 23.29951810515372, 28.11768697974228, 33.93221771895326, 40.94915062380423, 49.417133613238335, 59.63623316594643, 71.96856730011514, 86.85113737513521, 104.81131341546852, 126.48552168552958, 152.6417967175232, 184.20699693267144, 222.29964825261933, 268.26957952797244, 323.74575428176433, 390.6939937054613, 471.486636345739, 568.9866029018293, 686.6488450042998, 828.6427728546843, 1000.0], \"xaxis\": \"x\", \"y\": [-3.533537626431975, -3.5384772009607346, -3.5456609087519517, -3.556101682516368, -3.5712623319124033, -3.5932472872194654, -3.6250672844773106, -3.6709952274546676, -3.7370253703663976, -3.8314274507590556, -3.9653403666942872, -4.153263097287845, -4.413172554910769, -4.765870155641153, -5.2331517984233225, -5.8346928255801, -6.584216862090089, -7.486266903189682, -8.535037555778528, -9.715858613459336, -11.008585517245809, -12.39140060078817, -13.84378205322269, -15.348171287153212, -16.890506006782907, -18.460036201539943, -20.048808561445103, -21.651072180907956, -23.26273454383108, -24.880915391988285, -26.503603124599202, -28.129400239129204, -29.75733939734524, -31.386752697139762, -33.01717977959959, -34.648303714134485, -36.279906490428516, -37.911838227608506, -39.54399592312639, -41.17630880933885, -42.808728274353854, -44.44122092973486, -46.07376384504137, -47.706341273080824, -49.33894240010342, -50.97155980040854, -52.60418837493437, -54.23682462231555, -55.869466138296275, -57.502111271974684], \"yaxis\": \"y\"}, {\"hovertemplate\": \"<b>w</b>: %{x:.3f} rad/s<br><b>mag</b>: %{text:.3f} dB<br><b>phase</b>: %{y:.3f} deg<br>\", \"line\": {\"color\": \"#1f77b4\"}, \"name\": \"sys\", \"showlegend\": false, \"text\": [-3.533537626431975, -3.5384772009607346, -3.5456609087519517, -3.556101682516368, -3.5712623319124033, -3.5932472872194654, -3.6250672844773106, -3.6709952274546676, -3.7370253703663976, -3.8314274507590556, -3.9653403666942872, -4.153263097287845, -4.413172554910769, -4.765870155641153, -5.2331517984233225, -5.8346928255801, -6.584216862090089, -7.486266903189682, -8.535037555778528, -9.715858613459336, -11.008585517245809, -12.39140060078817, -13.84378205322269, -15.348171287153212, -16.890506006782907, -18.460036201539943, -20.048808561445103, -21.651072180907956, -23.26273454383108, -24.880915391988285, -26.503603124599202, -28.129400239129204, -29.75733939734524, -31.386752697139762, -33.01717977959959, -34.648303714134485, -36.279906490428516, -37.911838227608506, -39.54399592312639, -41.17630880933885, -42.808728274353854, -44.44122092973486, -46.07376384504137, -47.706341273080824, -49.33894240010342, -50.97155980040854, -52.60418837493437, -54.23682462231555, -55.869466138296275, -57.502111271974684], \"type\": \"scatter\", \"x\": [0.1, 0.12067926406393285, 0.14563484775012436, 0.1757510624854792, 0.21209508879201905, 0.2559547922699536, 0.3088843596477481, 0.372759372031494, 0.44984326689694454, 0.5428675439323859, 0.6551285568595507, 0.7906043210907697, 0.9540954763499939, 1.151395399326447, 1.3894954943731375, 1.6768329368110073, 2.0235896477251565, 2.442053094548651, 2.9470517025518097, 3.5564803062231287, 4.291934260128776, 5.17947467923121, 6.25055192527397, 7.543120063354615, 9.102981779915218, 10.985411419875584, 13.257113655901081, 15.998587196060573, 19.306977288832496, 23.29951810515372, 28.11768697974228, 33.93221771895326, 40.94915062380423, 49.417133613238335, 59.63623316594643, 71.96856730011514, 86.85113737513521, 104.81131341546852, 126.48552168552958, 152.6417967175232, 184.20699693267144, 222.29964825261933, 268.26957952797244, 323.74575428176433, 390.6939937054613, 471.486636345739, 568.9866029018293, 686.6488450042998, 828.6427728546843, 1000.0], \"xaxis\": \"x2\", \"y\": [-3.7218258049138355, -4.490153203125646, -5.416369911230212, -6.532378420513882, -7.87612113229808, -9.4924213248252, -11.433710230509682, -13.760430030950145, -16.540761906306415, -19.84914212871332, -23.762838248397053, -28.35579137518912, -33.68926408672415, -39.79996188395485, -46.68843723414922, -54.31307567220505, -62.59566836417138, -71.44093752970626, -80.76471506153541, -90.51886698014029, -100.70115673672251, -111.34482738735943, -122.49035561369104, -134.14679065316272, -146.25308204010256, -158.6523820104624, -171.09244798643422, -183.25824218523735, -194.82819861914214, -205.53245386673797, -215.19105585032216, -223.72310985427848, -231.13260305175987, -237.4833370498692, -242.8736184704135, -247.41625030502203, -251.2250874725586, -254.40719618356442, -257.05901248299716, -259.2650361554829, -261.0979789585182, -262.6196568884265, -263.8821960945256, -264.9293093138456, -265.7975159861908, -266.51724757522555, -267.1138178719193, -267.60825826766575, -268.0180277864819, -268.35761167190225], \"yaxis\": \"y2\"}],\n",
       "                        {\"template\": {\"data\": {\"bar\": [{\"error_x\": {\"color\": \"#2a3f5f\"}, \"error_y\": {\"color\": \"#2a3f5f\"}, \"marker\": {\"line\": {\"color\": \"#E5ECF6\", \"width\": 0.5}}, \"type\": \"bar\"}], \"barpolar\": [{\"marker\": {\"line\": {\"color\": \"#E5ECF6\", \"width\": 0.5}}, \"type\": \"barpolar\"}], \"carpet\": [{\"aaxis\": {\"endlinecolor\": \"#2a3f5f\", \"gridcolor\": \"white\", \"linecolor\": \"white\", \"minorgridcolor\": \"white\", \"startlinecolor\": \"#2a3f5f\"}, \"baxis\": {\"endlinecolor\": \"#2a3f5f\", \"gridcolor\": \"white\", \"linecolor\": \"white\", \"minorgridcolor\": \"white\", \"startlinecolor\": \"#2a3f5f\"}, \"type\": \"carpet\"}], \"choropleth\": [{\"colorbar\": {\"outlinewidth\": 0, \"ticks\": \"\"}, \"type\": \"choropleth\"}], \"contour\": [{\"colorbar\": {\"outlinewidth\": 0, \"ticks\": \"\"}, \"colorscale\": [[0.0, \"#0d0887\"], [0.1111111111111111, \"#46039f\"], [0.2222222222222222, \"#7201a8\"], [0.3333333333333333, \"#9c179e\"], [0.4444444444444444, \"#bd3786\"], [0.5555555555555556, \"#d8576b\"], [0.6666666666666666, \"#ed7953\"], [0.7777777777777778, \"#fb9f3a\"], [0.8888888888888888, \"#fdca26\"], [1.0, \"#f0f921\"]], \"type\": \"contour\"}], \"contourcarpet\": [{\"colorbar\": {\"outlinewidth\": 0, \"ticks\": \"\"}, \"type\": \"contourcarpet\"}], \"heatmap\": [{\"colorbar\": {\"outlinewidth\": 0, \"ticks\": \"\"}, \"colorscale\": [[0.0, \"#0d0887\"], [0.1111111111111111, \"#46039f\"], [0.2222222222222222, \"#7201a8\"], [0.3333333333333333, \"#9c179e\"], [0.4444444444444444, \"#bd3786\"], [0.5555555555555556, \"#d8576b\"], [0.6666666666666666, \"#ed7953\"], [0.7777777777777778, \"#fb9f3a\"], [0.8888888888888888, \"#fdca26\"], [1.0, \"#f0f921\"]], \"type\": \"heatmap\"}], \"heatmapgl\": [{\"colorbar\": {\"outlinewidth\": 0, \"ticks\": \"\"}, \"colorscale\": [[0.0, \"#0d0887\"], [0.1111111111111111, \"#46039f\"], [0.2222222222222222, \"#7201a8\"], [0.3333333333333333, \"#9c179e\"], [0.4444444444444444, \"#bd3786\"], [0.5555555555555556, \"#d8576b\"], [0.6666666666666666, \"#ed7953\"], [0.7777777777777778, \"#fb9f3a\"], [0.8888888888888888, \"#fdca26\"], [1.0, \"#f0f921\"]], \"type\": \"heatmapgl\"}], \"histogram\": [{\"marker\": {\"colorbar\": {\"outlinewidth\": 0, \"ticks\": \"\"}}, \"type\": \"histogram\"}], \"histogram2d\": [{\"colorbar\": {\"outlinewidth\": 0, \"ticks\": \"\"}, \"colorscale\": [[0.0, \"#0d0887\"], [0.1111111111111111, \"#46039f\"], [0.2222222222222222, \"#7201a8\"], [0.3333333333333333, \"#9c179e\"], [0.4444444444444444, \"#bd3786\"], [0.5555555555555556, \"#d8576b\"], [0.6666666666666666, \"#ed7953\"], [0.7777777777777778, \"#fb9f3a\"], [0.8888888888888888, \"#fdca26\"], [1.0, \"#f0f921\"]], \"type\": \"histogram2d\"}], \"histogram2dcontour\": [{\"colorbar\": {\"outlinewidth\": 0, \"ticks\": \"\"}, \"colorscale\": [[0.0, \"#0d0887\"], [0.1111111111111111, \"#46039f\"], [0.2222222222222222, \"#7201a8\"], [0.3333333333333333, \"#9c179e\"], [0.4444444444444444, \"#bd3786\"], [0.5555555555555556, \"#d8576b\"], [0.6666666666666666, \"#ed7953\"], [0.7777777777777778, \"#fb9f3a\"], [0.8888888888888888, \"#fdca26\"], [1.0, \"#f0f921\"]], \"type\": \"histogram2dcontour\"}], \"mesh3d\": [{\"colorbar\": {\"outlinewidth\": 0, \"ticks\": \"\"}, \"type\": \"mesh3d\"}], \"parcoords\": [{\"line\": {\"colorbar\": {\"outlinewidth\": 0, \"ticks\": \"\"}}, \"type\": \"parcoords\"}], \"pie\": [{\"automargin\": true, \"type\": \"pie\"}], \"scatter\": [{\"marker\": {\"colorbar\": {\"outlinewidth\": 0, \"ticks\": \"\"}}, \"type\": \"scatter\"}], \"scatter3d\": [{\"line\": {\"colorbar\": {\"outlinewidth\": 0, \"ticks\": \"\"}}, \"marker\": {\"colorbar\": {\"outlinewidth\": 0, \"ticks\": \"\"}}, \"type\": \"scatter3d\"}], \"scattercarpet\": [{\"marker\": {\"colorbar\": {\"outlinewidth\": 0, \"ticks\": \"\"}}, \"type\": \"scattercarpet\"}], \"scattergeo\": [{\"marker\": {\"colorbar\": {\"outlinewidth\": 0, \"ticks\": \"\"}}, \"type\": \"scattergeo\"}], \"scattergl\": [{\"marker\": {\"colorbar\": {\"outlinewidth\": 0, \"ticks\": \"\"}}, \"type\": \"scattergl\"}], \"scattermapbox\": [{\"marker\": {\"colorbar\": {\"outlinewidth\": 0, \"ticks\": \"\"}}, \"type\": \"scattermapbox\"}], \"scatterpolar\": [{\"marker\": {\"colorbar\": {\"outlinewidth\": 0, \"ticks\": \"\"}}, \"type\": \"scatterpolar\"}], \"scatterpolargl\": [{\"marker\": {\"colorbar\": {\"outlinewidth\": 0, \"ticks\": \"\"}}, \"type\": \"scatterpolargl\"}], \"scatterternary\": [{\"marker\": {\"colorbar\": {\"outlinewidth\": 0, \"ticks\": \"\"}}, \"type\": \"scatterternary\"}], \"surface\": [{\"colorbar\": {\"outlinewidth\": 0, \"ticks\": \"\"}, \"colorscale\": [[0.0, \"#0d0887\"], [0.1111111111111111, \"#46039f\"], [0.2222222222222222, \"#7201a8\"], [0.3333333333333333, \"#9c179e\"], [0.4444444444444444, \"#bd3786\"], [0.5555555555555556, \"#d8576b\"], [0.6666666666666666, \"#ed7953\"], [0.7777777777777778, \"#fb9f3a\"], [0.8888888888888888, \"#fdca26\"], [1.0, \"#f0f921\"]], \"type\": \"surface\"}], \"table\": [{\"cells\": {\"fill\": {\"color\": \"#EBF0F8\"}, \"line\": {\"color\": \"white\"}}, \"header\": {\"fill\": {\"color\": \"#C8D4E3\"}, \"line\": {\"color\": \"white\"}}, \"type\": \"table\"}]}, \"layout\": {\"annotationdefaults\": {\"arrowcolor\": \"#2a3f5f\", \"arrowhead\": 0, \"arrowwidth\": 1}, \"coloraxis\": {\"colorbar\": {\"outlinewidth\": 0, \"ticks\": \"\"}}, \"colorscale\": {\"diverging\": [[0, \"#8e0152\"], [0.1, \"#c51b7d\"], [0.2, \"#de77ae\"], [0.3, \"#f1b6da\"], [0.4, \"#fde0ef\"], [0.5, \"#f7f7f7\"], [0.6, \"#e6f5d0\"], [0.7, \"#b8e186\"], [0.8, \"#7fbc41\"], [0.9, \"#4d9221\"], [1, \"#276419\"]], \"sequential\": [[0.0, \"#0d0887\"], [0.1111111111111111, \"#46039f\"], [0.2222222222222222, \"#7201a8\"], [0.3333333333333333, \"#9c179e\"], [0.4444444444444444, \"#bd3786\"], [0.5555555555555556, \"#d8576b\"], [0.6666666666666666, \"#ed7953\"], [0.7777777777777778, \"#fb9f3a\"], [0.8888888888888888, \"#fdca26\"], [1.0, \"#f0f921\"]], \"sequentialminus\": [[0.0, \"#0d0887\"], [0.1111111111111111, \"#46039f\"], [0.2222222222222222, \"#7201a8\"], [0.3333333333333333, \"#9c179e\"], [0.4444444444444444, \"#bd3786\"], [0.5555555555555556, \"#d8576b\"], [0.6666666666666666, \"#ed7953\"], [0.7777777777777778, \"#fb9f3a\"], [0.8888888888888888, \"#fdca26\"], [1.0, \"#f0f921\"]]}, \"colorway\": [\"#636efa\", \"#EF553B\", \"#00cc96\", \"#ab63fa\", \"#FFA15A\", \"#19d3f3\", \"#FF6692\", \"#B6E880\", \"#FF97FF\", \"#FECB52\"], \"font\": {\"color\": \"#2a3f5f\"}, \"geo\": {\"bgcolor\": \"white\", \"lakecolor\": \"white\", \"landcolor\": \"#E5ECF6\", \"showlakes\": true, \"showland\": true, \"subunitcolor\": \"white\"}, \"hoverlabel\": {\"align\": \"left\"}, \"hovermode\": \"closest\", \"mapbox\": {\"style\": \"light\"}, \"paper_bgcolor\": \"white\", \"plot_bgcolor\": \"#E5ECF6\", \"polar\": {\"angularaxis\": {\"gridcolor\": \"white\", \"linecolor\": \"white\", \"ticks\": \"\"}, \"bgcolor\": \"#E5ECF6\", \"radialaxis\": {\"gridcolor\": \"white\", \"linecolor\": \"white\", \"ticks\": \"\"}}, \"scene\": {\"xaxis\": {\"backgroundcolor\": \"#E5ECF6\", \"gridcolor\": \"white\", \"gridwidth\": 2, \"linecolor\": \"white\", \"showbackground\": true, \"ticks\": \"\", \"zerolinecolor\": \"white\"}, \"yaxis\": {\"backgroundcolor\": \"#E5ECF6\", \"gridcolor\": \"white\", \"gridwidth\": 2, \"linecolor\": \"white\", \"showbackground\": true, \"ticks\": \"\", \"zerolinecolor\": \"white\"}, \"zaxis\": {\"backgroundcolor\": \"#E5ECF6\", \"gridcolor\": \"white\", \"gridwidth\": 2, \"linecolor\": \"white\", \"showbackground\": true, \"ticks\": \"\", \"zerolinecolor\": \"white\"}}, \"shapedefaults\": {\"line\": {\"color\": \"#2a3f5f\"}}, \"ternary\": {\"aaxis\": {\"gridcolor\": \"white\", \"linecolor\": \"white\", \"ticks\": \"\"}, \"baxis\": {\"gridcolor\": \"white\", \"linecolor\": \"white\", \"ticks\": \"\"}, \"bgcolor\": \"#E5ECF6\", \"caxis\": {\"gridcolor\": \"white\", \"linecolor\": \"white\", \"ticks\": \"\"}}, \"title\": {\"x\": 0.05}, \"xaxis\": {\"automargin\": true, \"gridcolor\": \"white\", \"linecolor\": \"white\", \"ticks\": \"\", \"title\": {\"standoff\": 15}, \"zerolinecolor\": \"white\", \"zerolinewidth\": 2}, \"yaxis\": {\"automargin\": true, \"gridcolor\": \"white\", \"linecolor\": \"white\", \"ticks\": \"\", \"title\": {\"standoff\": 15}, \"zerolinecolor\": \"white\", \"zerolinewidth\": 2}}}, \"xaxis\": {\"anchor\": \"y\", \"domain\": [0.0, 1.0], \"matches\": \"x2\", \"showticklabels\": false, \"title\": {\"text\": \"w (rad/s)\"}, \"type\": \"log\"}, \"xaxis2\": {\"anchor\": \"y2\", \"domain\": [0.0, 1.0], \"title\": {\"text\": \"w (rad/s)\"}, \"type\": \"log\"}, \"yaxis\": {\"anchor\": \"x\", \"domain\": [0.575, 1.0], \"title\": {\"text\": \"Magnitude\"}}, \"yaxis2\": {\"anchor\": \"x2\", \"domain\": [0.0, 0.425], \"title\": {\"text\": \"Phase\"}}},\n",
       "                        {\"responsive\": true}\n",
       "                    ).then(function(){\n",
       "                            \n",
       "var gd = document.getElementById('e8854161-d073-4a56-8b5a-34fa7fb41905');\n",
       "var x = new MutationObserver(function (mutations, observer) {{\n",
       "        var display = window.getComputedStyle(gd).display;\n",
       "        if (!display || display === 'none') {{\n",
       "            console.log([gd, 'removed!']);\n",
       "            Plotly.purge(gd);\n",
       "            observer.disconnect();\n",
       "        }}\n",
       "}});\n",
       "\n",
       "// Listen for the removal of the full notebook cells\n",
       "var notebookContainer = gd.closest('#notebook-container');\n",
       "if (notebookContainer) {{\n",
       "    x.observe(notebookContainer, {childList: true});\n",
       "}}\n",
       "\n",
       "// Listen for the clearing of the current output cell\n",
       "var outputEl = gd.closest('.output');\n",
       "if (outputEl) {{\n",
       "    x.observe(outputEl, {childList: true});\n",
       "}}\n",
       "\n",
       "                        })\n",
       "                };\n",
       "                });\n",
       "            </script>\n",
       "        </div>"
      ]
     },
     "metadata": {},
     "output_type": "display_data"
    }
   ],
   "source": [
    "mag,phase,w = freqresp(f,omega=[0.01,0.1,1,3,6,9,12,15,20,1000])\n",
    "print(\"mag: {}\".format(20*np.log10(mag)))\n",
    "print(\"phase: {}\".format(180*phase/np.pi))\n",
    "\n",
    "fig = figure(\"bode\")\n",
    "fig.plot(f)\n",
    "fig.show()"
   ]
  },
  {
   "cell_type": "markdown",
   "metadata": {},
   "source": [
    "### 4-2 Analyse de $F(z)$\n",
    "\n",
    "On se propose d'échantillonner à $T_e = 0.05 s$. \n",
    "\n",
    "* **Question**\n",
    "    * Déterminez la fonction de transfert en B.O. $F(z)$ avec BOZ.\n",
    "    * Tracez la réponse indicielle et vérifiez que vous retrouvez les caractéristiques théoriques obtenues dans la préparation.\n",
    "    * Tracez la réponse fréquentielle de $F(z)$ dans le plan de Black-Nichols et comparez là avec la réponse fréquentielle de $F(p)$."
   ]
  },
  {
   "cell_type": "code",
   "execution_count": 62,
   "metadata": {},
   "outputs": [
    {
     "name": "stdout",
     "output_type": "stream",
     "text": [
      "\n",
      " -0.02865 z + 0.05952\n",
      "----------------------\n",
      "z^2 - 1.418 z + 0.4646\n",
      "\n",
      "dt = 0.05\n",
      "\n"
     ]
    }
   ],
   "source": [
    "Te = 0.05\n",
    "Fz = c2d(f,Te)\n",
    "print(Fz)"
   ]
  },
  {
   "cell_type": "markdown",
   "metadata": {},
   "source": [
    "* **Question** Tracez la réponse indicielle et vérifiez que vous retrouvez les caractéristiques théoriques obtenues dans la préparation.\n",
    "    "
   ]
  },
  {
   "cell_type": "code",
   "execution_count": 63,
   "metadata": {},
   "outputs": [
    {
     "data": {
      "application/vnd.plotly.v1+json": {
       "config": {
        "plotlyServerURL": "https://plot.ly"
       },
       "data": [
        {
         "line": {
          "color": "#1f77b4",
          "shape": "hv"
         },
         "mode": "lines",
         "name": "sys",
         "type": "scatter",
         "x": [
          0,
          0.05,
          0.1,
          0.15000000000000002,
          0.2,
          0.25,
          0.30000000000000004,
          0.35000000000000003,
          0.4,
          0.45,
          0.5,
          0.55,
          0.6000000000000001,
          0.65,
          0.7000000000000001,
          0.75,
          0.8,
          0.8500000000000001,
          0.9,
          0.9500000000000001,
          1,
          1.05,
          1.1,
          1.1500000000000001,
          1.2000000000000002,
          1.25,
          1.3,
          1.35,
          1.4000000000000001,
          1.4500000000000002,
          1.5,
          1.55,
          1.6,
          1.6500000000000001,
          1.7000000000000002,
          1.75,
          1.8,
          1.85,
          1.9000000000000001,
          1.9500000000000002,
          2,
          2.0500000000000003,
          2.1,
          2.15,
          2.2,
          2.25,
          2.3000000000000003,
          2.35,
          2.4000000000000004,
          2.45,
          2.5,
          2.5500000000000003,
          2.6,
          2.6500000000000004,
          2.7,
          2.75,
          2.8000000000000003,
          2.85,
          2.9000000000000004,
          2.95,
          3,
          3.0500000000000003,
          3.1,
          3.1500000000000004,
          3.2,
          3.25,
          3.3000000000000003,
          3.35,
          3.4000000000000004,
          3.45,
          3.5,
          3.5500000000000003,
          3.6,
          3.6500000000000004,
          3.7,
          3.75,
          3.8000000000000003,
          3.85,
          3.9000000000000004,
          3.95,
          4,
          4.05,
          4.1000000000000005,
          4.15,
          4.2,
          4.25,
          4.3,
          4.3500000000000005,
          4.4,
          4.45,
          4.5,
          4.55,
          4.6000000000000005,
          4.65,
          4.7,
          4.75,
          4.800000000000001,
          4.8500000000000005,
          4.9,
          4.95
         ],
         "y": [
          0,
          -0.02865430685652748,
          -0.009772532143137336,
          0.030318247234423834,
          0.07840547821773633,
          0.12798087854173748,
          0.1759520580607654,
          0.2209567016536385,
          0.2624992974554671,
          0.3005099592938182,
          0.3351197652940913,
          0.3665470838541469,
          0.3950407234194764,
          0.4208521126877713,
          0.44422225534258636,
          0.465376152482084,
          0.4845209524994426,
          0.5018459182533908,
          0.5175232399974156,
          0.5317092035715214,
          0.5445454695418993,
          0.5561603446525445,
          0.5666699908314106,
          0.5761795492045568,
          0.5847841725795961,
          0.5925699675991176,
          0.5996148513045572,
          0.6059893282759174,
          0.6117571948892323,
          0.6169761771056442,
          0.6216985078494964,
          0.6259714495867659,
          0.6298377672480936,
          0.6333361561854945,
          0.6365016294232437,
          0.6393658680670501,
          0.6419575383725679,
          0.644302578643508,
          0.6464244588291472,
          0.6483444154185715,
          0.6500816639821333,
          0.651653591487102,
          0.653075930312155,
          0.6543629157022489,
          0.6555274282397023,
          0.656581122757378,
          0.6575345449841583,
          0.6583972370901408,
          0.6591778331878799,
          0.6598841457454881,
          0.6605232437764411,
          0.6611015235886413,
          0.6616247728008147,
          0.6620982282669469,
          0.6625266284884773,
          0.6629142610388132,
          0.6632650054748057,
          0.6635823721646593,
          0.6638695374208772,
          0.6641293752898632,
          0.6643644863163444,
          0.6645772235704974,
          0.6647697161982655,
          0.6649438907305658,
          0.66510149036466,
          0.6652440924106575,
          0.6653731240777642,
          0.6654898767582741,
          0.6655955189522553,
          0.6656911079622929,
          0.6657776004753283,
          0.6658558621375025,
          0.6659266762178352,
          0.6659907514474442,
          0.6660487291127638,
          0.6661011894737552,
          0.6661486575713438,
          0.6661916084822052,
          0.666230472073491,
          0.6662656373050857,
          0.6662974561224465,
          0.6663262469789923,
          0.6663522980232923,
          0.6663758699829538,
          0.666397198774072,
          0.6664164978623571,
          0.6664339603995715,
          0.6664497611566568,
          0.666464058272901,
          0.6664769948386488,
          0.6664887003273979,
          0.6664992918916149,
          0.666508875535234,
          0.6665175471745816,
          0.666525393598339,
          0.6665324933361526,
          0.6665389174445846,
          0.6665447302182711,
          0.6665499898334054,
          0.6665547489299832
         ]
        }
       ],
       "layout": {
        "template": {
         "data": {
          "bar": [
           {
            "error_x": {
             "color": "#2a3f5f"
            },
            "error_y": {
             "color": "#2a3f5f"
            },
            "marker": {
             "line": {
              "color": "#E5ECF6",
              "width": 0.5
             }
            },
            "type": "bar"
           }
          ],
          "barpolar": [
           {
            "marker": {
             "line": {
              "color": "#E5ECF6",
              "width": 0.5
             }
            },
            "type": "barpolar"
           }
          ],
          "carpet": [
           {
            "aaxis": {
             "endlinecolor": "#2a3f5f",
             "gridcolor": "white",
             "linecolor": "white",
             "minorgridcolor": "white",
             "startlinecolor": "#2a3f5f"
            },
            "baxis": {
             "endlinecolor": "#2a3f5f",
             "gridcolor": "white",
             "linecolor": "white",
             "minorgridcolor": "white",
             "startlinecolor": "#2a3f5f"
            },
            "type": "carpet"
           }
          ],
          "choropleth": [
           {
            "colorbar": {
             "outlinewidth": 0,
             "ticks": ""
            },
            "type": "choropleth"
           }
          ],
          "contour": [
           {
            "colorbar": {
             "outlinewidth": 0,
             "ticks": ""
            },
            "colorscale": [
             [
              0,
              "#0d0887"
             ],
             [
              0.1111111111111111,
              "#46039f"
             ],
             [
              0.2222222222222222,
              "#7201a8"
             ],
             [
              0.3333333333333333,
              "#9c179e"
             ],
             [
              0.4444444444444444,
              "#bd3786"
             ],
             [
              0.5555555555555556,
              "#d8576b"
             ],
             [
              0.6666666666666666,
              "#ed7953"
             ],
             [
              0.7777777777777778,
              "#fb9f3a"
             ],
             [
              0.8888888888888888,
              "#fdca26"
             ],
             [
              1,
              "#f0f921"
             ]
            ],
            "type": "contour"
           }
          ],
          "contourcarpet": [
           {
            "colorbar": {
             "outlinewidth": 0,
             "ticks": ""
            },
            "type": "contourcarpet"
           }
          ],
          "heatmap": [
           {
            "colorbar": {
             "outlinewidth": 0,
             "ticks": ""
            },
            "colorscale": [
             [
              0,
              "#0d0887"
             ],
             [
              0.1111111111111111,
              "#46039f"
             ],
             [
              0.2222222222222222,
              "#7201a8"
             ],
             [
              0.3333333333333333,
              "#9c179e"
             ],
             [
              0.4444444444444444,
              "#bd3786"
             ],
             [
              0.5555555555555556,
              "#d8576b"
             ],
             [
              0.6666666666666666,
              "#ed7953"
             ],
             [
              0.7777777777777778,
              "#fb9f3a"
             ],
             [
              0.8888888888888888,
              "#fdca26"
             ],
             [
              1,
              "#f0f921"
             ]
            ],
            "type": "heatmap"
           }
          ],
          "heatmapgl": [
           {
            "colorbar": {
             "outlinewidth": 0,
             "ticks": ""
            },
            "colorscale": [
             [
              0,
              "#0d0887"
             ],
             [
              0.1111111111111111,
              "#46039f"
             ],
             [
              0.2222222222222222,
              "#7201a8"
             ],
             [
              0.3333333333333333,
              "#9c179e"
             ],
             [
              0.4444444444444444,
              "#bd3786"
             ],
             [
              0.5555555555555556,
              "#d8576b"
             ],
             [
              0.6666666666666666,
              "#ed7953"
             ],
             [
              0.7777777777777778,
              "#fb9f3a"
             ],
             [
              0.8888888888888888,
              "#fdca26"
             ],
             [
              1,
              "#f0f921"
             ]
            ],
            "type": "heatmapgl"
           }
          ],
          "histogram": [
           {
            "marker": {
             "colorbar": {
              "outlinewidth": 0,
              "ticks": ""
             }
            },
            "type": "histogram"
           }
          ],
          "histogram2d": [
           {
            "colorbar": {
             "outlinewidth": 0,
             "ticks": ""
            },
            "colorscale": [
             [
              0,
              "#0d0887"
             ],
             [
              0.1111111111111111,
              "#46039f"
             ],
             [
              0.2222222222222222,
              "#7201a8"
             ],
             [
              0.3333333333333333,
              "#9c179e"
             ],
             [
              0.4444444444444444,
              "#bd3786"
             ],
             [
              0.5555555555555556,
              "#d8576b"
             ],
             [
              0.6666666666666666,
              "#ed7953"
             ],
             [
              0.7777777777777778,
              "#fb9f3a"
             ],
             [
              0.8888888888888888,
              "#fdca26"
             ],
             [
              1,
              "#f0f921"
             ]
            ],
            "type": "histogram2d"
           }
          ],
          "histogram2dcontour": [
           {
            "colorbar": {
             "outlinewidth": 0,
             "ticks": ""
            },
            "colorscale": [
             [
              0,
              "#0d0887"
             ],
             [
              0.1111111111111111,
              "#46039f"
             ],
             [
              0.2222222222222222,
              "#7201a8"
             ],
             [
              0.3333333333333333,
              "#9c179e"
             ],
             [
              0.4444444444444444,
              "#bd3786"
             ],
             [
              0.5555555555555556,
              "#d8576b"
             ],
             [
              0.6666666666666666,
              "#ed7953"
             ],
             [
              0.7777777777777778,
              "#fb9f3a"
             ],
             [
              0.8888888888888888,
              "#fdca26"
             ],
             [
              1,
              "#f0f921"
             ]
            ],
            "type": "histogram2dcontour"
           }
          ],
          "mesh3d": [
           {
            "colorbar": {
             "outlinewidth": 0,
             "ticks": ""
            },
            "type": "mesh3d"
           }
          ],
          "parcoords": [
           {
            "line": {
             "colorbar": {
              "outlinewidth": 0,
              "ticks": ""
             }
            },
            "type": "parcoords"
           }
          ],
          "pie": [
           {
            "automargin": true,
            "type": "pie"
           }
          ],
          "scatter": [
           {
            "marker": {
             "colorbar": {
              "outlinewidth": 0,
              "ticks": ""
             }
            },
            "type": "scatter"
           }
          ],
          "scatter3d": [
           {
            "line": {
             "colorbar": {
              "outlinewidth": 0,
              "ticks": ""
             }
            },
            "marker": {
             "colorbar": {
              "outlinewidth": 0,
              "ticks": ""
             }
            },
            "type": "scatter3d"
           }
          ],
          "scattercarpet": [
           {
            "marker": {
             "colorbar": {
              "outlinewidth": 0,
              "ticks": ""
             }
            },
            "type": "scattercarpet"
           }
          ],
          "scattergeo": [
           {
            "marker": {
             "colorbar": {
              "outlinewidth": 0,
              "ticks": ""
             }
            },
            "type": "scattergeo"
           }
          ],
          "scattergl": [
           {
            "marker": {
             "colorbar": {
              "outlinewidth": 0,
              "ticks": ""
             }
            },
            "type": "scattergl"
           }
          ],
          "scattermapbox": [
           {
            "marker": {
             "colorbar": {
              "outlinewidth": 0,
              "ticks": ""
             }
            },
            "type": "scattermapbox"
           }
          ],
          "scatterpolar": [
           {
            "marker": {
             "colorbar": {
              "outlinewidth": 0,
              "ticks": ""
             }
            },
            "type": "scatterpolar"
           }
          ],
          "scatterpolargl": [
           {
            "marker": {
             "colorbar": {
              "outlinewidth": 0,
              "ticks": ""
             }
            },
            "type": "scatterpolargl"
           }
          ],
          "scatterternary": [
           {
            "marker": {
             "colorbar": {
              "outlinewidth": 0,
              "ticks": ""
             }
            },
            "type": "scatterternary"
           }
          ],
          "surface": [
           {
            "colorbar": {
             "outlinewidth": 0,
             "ticks": ""
            },
            "colorscale": [
             [
              0,
              "#0d0887"
             ],
             [
              0.1111111111111111,
              "#46039f"
             ],
             [
              0.2222222222222222,
              "#7201a8"
             ],
             [
              0.3333333333333333,
              "#9c179e"
             ],
             [
              0.4444444444444444,
              "#bd3786"
             ],
             [
              0.5555555555555556,
              "#d8576b"
             ],
             [
              0.6666666666666666,
              "#ed7953"
             ],
             [
              0.7777777777777778,
              "#fb9f3a"
             ],
             [
              0.8888888888888888,
              "#fdca26"
             ],
             [
              1,
              "#f0f921"
             ]
            ],
            "type": "surface"
           }
          ],
          "table": [
           {
            "cells": {
             "fill": {
              "color": "#EBF0F8"
             },
             "line": {
              "color": "white"
             }
            },
            "header": {
             "fill": {
              "color": "#C8D4E3"
             },
             "line": {
              "color": "white"
             }
            },
            "type": "table"
           }
          ]
         },
         "layout": {
          "annotationdefaults": {
           "arrowcolor": "#2a3f5f",
           "arrowhead": 0,
           "arrowwidth": 1
          },
          "coloraxis": {
           "colorbar": {
            "outlinewidth": 0,
            "ticks": ""
           }
          },
          "colorscale": {
           "diverging": [
            [
             0,
             "#8e0152"
            ],
            [
             0.1,
             "#c51b7d"
            ],
            [
             0.2,
             "#de77ae"
            ],
            [
             0.3,
             "#f1b6da"
            ],
            [
             0.4,
             "#fde0ef"
            ],
            [
             0.5,
             "#f7f7f7"
            ],
            [
             0.6,
             "#e6f5d0"
            ],
            [
             0.7,
             "#b8e186"
            ],
            [
             0.8,
             "#7fbc41"
            ],
            [
             0.9,
             "#4d9221"
            ],
            [
             1,
             "#276419"
            ]
           ],
           "sequential": [
            [
             0,
             "#0d0887"
            ],
            [
             0.1111111111111111,
             "#46039f"
            ],
            [
             0.2222222222222222,
             "#7201a8"
            ],
            [
             0.3333333333333333,
             "#9c179e"
            ],
            [
             0.4444444444444444,
             "#bd3786"
            ],
            [
             0.5555555555555556,
             "#d8576b"
            ],
            [
             0.6666666666666666,
             "#ed7953"
            ],
            [
             0.7777777777777778,
             "#fb9f3a"
            ],
            [
             0.8888888888888888,
             "#fdca26"
            ],
            [
             1,
             "#f0f921"
            ]
           ],
           "sequentialminus": [
            [
             0,
             "#0d0887"
            ],
            [
             0.1111111111111111,
             "#46039f"
            ],
            [
             0.2222222222222222,
             "#7201a8"
            ],
            [
             0.3333333333333333,
             "#9c179e"
            ],
            [
             0.4444444444444444,
             "#bd3786"
            ],
            [
             0.5555555555555556,
             "#d8576b"
            ],
            [
             0.6666666666666666,
             "#ed7953"
            ],
            [
             0.7777777777777778,
             "#fb9f3a"
            ],
            [
             0.8888888888888888,
             "#fdca26"
            ],
            [
             1,
             "#f0f921"
            ]
           ]
          },
          "colorway": [
           "#636efa",
           "#EF553B",
           "#00cc96",
           "#ab63fa",
           "#FFA15A",
           "#19d3f3",
           "#FF6692",
           "#B6E880",
           "#FF97FF",
           "#FECB52"
          ],
          "font": {
           "color": "#2a3f5f"
          },
          "geo": {
           "bgcolor": "white",
           "lakecolor": "white",
           "landcolor": "#E5ECF6",
           "showlakes": true,
           "showland": true,
           "subunitcolor": "white"
          },
          "hoverlabel": {
           "align": "left"
          },
          "hovermode": "closest",
          "mapbox": {
           "style": "light"
          },
          "paper_bgcolor": "white",
          "plot_bgcolor": "#E5ECF6",
          "polar": {
           "angularaxis": {
            "gridcolor": "white",
            "linecolor": "white",
            "ticks": ""
           },
           "bgcolor": "#E5ECF6",
           "radialaxis": {
            "gridcolor": "white",
            "linecolor": "white",
            "ticks": ""
           }
          },
          "scene": {
           "xaxis": {
            "backgroundcolor": "#E5ECF6",
            "gridcolor": "white",
            "gridwidth": 2,
            "linecolor": "white",
            "showbackground": true,
            "ticks": "",
            "zerolinecolor": "white"
           },
           "yaxis": {
            "backgroundcolor": "#E5ECF6",
            "gridcolor": "white",
            "gridwidth": 2,
            "linecolor": "white",
            "showbackground": true,
            "ticks": "",
            "zerolinecolor": "white"
           },
           "zaxis": {
            "backgroundcolor": "#E5ECF6",
            "gridcolor": "white",
            "gridwidth": 2,
            "linecolor": "white",
            "showbackground": true,
            "ticks": "",
            "zerolinecolor": "white"
           }
          },
          "shapedefaults": {
           "line": {
            "color": "#2a3f5f"
           }
          },
          "ternary": {
           "aaxis": {
            "gridcolor": "white",
            "linecolor": "white",
            "ticks": ""
           },
           "baxis": {
            "gridcolor": "white",
            "linecolor": "white",
            "ticks": ""
           },
           "bgcolor": "#E5ECF6",
           "caxis": {
            "gridcolor": "white",
            "linecolor": "white",
            "ticks": ""
           }
          },
          "title": {
           "x": 0.05
          },
          "xaxis": {
           "automargin": true,
           "gridcolor": "white",
           "linecolor": "white",
           "ticks": "",
           "title": {
            "standoff": 15
           },
           "zerolinecolor": "white",
           "zerolinewidth": 2
          },
          "yaxis": {
           "automargin": true,
           "gridcolor": "white",
           "linecolor": "white",
           "ticks": "",
           "title": {
            "standoff": 15
           },
           "zerolinecolor": "white",
           "zerolinewidth": 2
          }
         }
        },
        "xaxis": {
         "title": {
          "text": "time (s)"
         }
        },
        "yaxis": {
         "title": {
          "text": "amp"
         }
        }
       }
      },
      "text/html": [
       "<div>\n",
       "        \n",
       "        \n",
       "            <div id=\"acb75928-6750-4fc2-8ad5-7aae8e45d877\" class=\"plotly-graph-div\" style=\"height:525px; width:100%;\"></div>\n",
       "            <script type=\"text/javascript\">\n",
       "                require([\"plotly\"], function(Plotly) {\n",
       "                    window.PLOTLYENV=window.PLOTLYENV || {};\n",
       "                    \n",
       "                if (document.getElementById(\"acb75928-6750-4fc2-8ad5-7aae8e45d877\")) {\n",
       "                    Plotly.newPlot(\n",
       "                        'acb75928-6750-4fc2-8ad5-7aae8e45d877',\n",
       "                        [{\"line\": {\"color\": \"#1f77b4\", \"shape\": \"hv\"}, \"mode\": \"lines\", \"name\": \"sys\", \"type\": \"scatter\", \"x\": [0.0, 0.05, 0.1, 0.15000000000000002, 0.2, 0.25, 0.30000000000000004, 0.35000000000000003, 0.4, 0.45, 0.5, 0.55, 0.6000000000000001, 0.65, 0.7000000000000001, 0.75, 0.8, 0.8500000000000001, 0.9, 0.9500000000000001, 1.0, 1.05, 1.1, 1.1500000000000001, 1.2000000000000002, 1.25, 1.3, 1.35, 1.4000000000000001, 1.4500000000000002, 1.5, 1.55, 1.6, 1.6500000000000001, 1.7000000000000002, 1.75, 1.8, 1.85, 1.9000000000000001, 1.9500000000000002, 2.0, 2.0500000000000003, 2.1, 2.15, 2.2, 2.25, 2.3000000000000003, 2.35, 2.4000000000000004, 2.45, 2.5, 2.5500000000000003, 2.6, 2.6500000000000004, 2.7, 2.75, 2.8000000000000003, 2.85, 2.9000000000000004, 2.95, 3.0, 3.0500000000000003, 3.1, 3.1500000000000004, 3.2, 3.25, 3.3000000000000003, 3.35, 3.4000000000000004, 3.45, 3.5, 3.5500000000000003, 3.6, 3.6500000000000004, 3.7, 3.75, 3.8000000000000003, 3.85, 3.9000000000000004, 3.95, 4.0, 4.05, 4.1000000000000005, 4.15, 4.2, 4.25, 4.3, 4.3500000000000005, 4.4, 4.45, 4.5, 4.55, 4.6000000000000005, 4.65, 4.7, 4.75, 4.800000000000001, 4.8500000000000005, 4.9, 4.95], \"y\": [0.0, -0.02865430685652748, -0.009772532143137336, 0.030318247234423834, 0.07840547821773633, 0.12798087854173748, 0.1759520580607654, 0.2209567016536385, 0.2624992974554671, 0.3005099592938182, 0.3351197652940913, 0.3665470838541469, 0.3950407234194764, 0.4208521126877713, 0.44422225534258636, 0.465376152482084, 0.4845209524994426, 0.5018459182533908, 0.5175232399974156, 0.5317092035715214, 0.5445454695418993, 0.5561603446525445, 0.5666699908314106, 0.5761795492045568, 0.5847841725795961, 0.5925699675991176, 0.5996148513045572, 0.6059893282759174, 0.6117571948892323, 0.6169761771056442, 0.6216985078494964, 0.6259714495867659, 0.6298377672480936, 0.6333361561854945, 0.6365016294232437, 0.6393658680670501, 0.6419575383725679, 0.644302578643508, 0.6464244588291472, 0.6483444154185715, 0.6500816639821333, 0.651653591487102, 0.653075930312155, 0.6543629157022489, 0.6555274282397023, 0.656581122757378, 0.6575345449841583, 0.6583972370901408, 0.6591778331878799, 0.6598841457454881, 0.6605232437764411, 0.6611015235886413, 0.6616247728008147, 0.6620982282669469, 0.6625266284884773, 0.6629142610388132, 0.6632650054748057, 0.6635823721646593, 0.6638695374208772, 0.6641293752898632, 0.6643644863163444, 0.6645772235704974, 0.6647697161982655, 0.6649438907305658, 0.66510149036466, 0.6652440924106575, 0.6653731240777642, 0.6654898767582741, 0.6655955189522553, 0.6656911079622929, 0.6657776004753283, 0.6658558621375025, 0.6659266762178352, 0.6659907514474442, 0.6660487291127638, 0.6661011894737552, 0.6661486575713438, 0.6661916084822052, 0.666230472073491, 0.6662656373050857, 0.6662974561224465, 0.6663262469789923, 0.6663522980232923, 0.6663758699829538, 0.666397198774072, 0.6664164978623571, 0.6664339603995715, 0.6664497611566568, 0.666464058272901, 0.6664769948386488, 0.6664887003273979, 0.6664992918916149, 0.666508875535234, 0.6665175471745816, 0.666525393598339, 0.6665324933361526, 0.6665389174445846, 0.6665447302182711, 0.6665499898334054, 0.6665547489299832]}],\n",
       "                        {\"template\": {\"data\": {\"bar\": [{\"error_x\": {\"color\": \"#2a3f5f\"}, \"error_y\": {\"color\": \"#2a3f5f\"}, \"marker\": {\"line\": {\"color\": \"#E5ECF6\", \"width\": 0.5}}, \"type\": \"bar\"}], \"barpolar\": [{\"marker\": {\"line\": {\"color\": \"#E5ECF6\", \"width\": 0.5}}, \"type\": \"barpolar\"}], \"carpet\": [{\"aaxis\": {\"endlinecolor\": \"#2a3f5f\", \"gridcolor\": \"white\", \"linecolor\": \"white\", \"minorgridcolor\": \"white\", \"startlinecolor\": \"#2a3f5f\"}, \"baxis\": {\"endlinecolor\": \"#2a3f5f\", \"gridcolor\": \"white\", \"linecolor\": \"white\", \"minorgridcolor\": \"white\", \"startlinecolor\": \"#2a3f5f\"}, \"type\": \"carpet\"}], \"choropleth\": [{\"colorbar\": {\"outlinewidth\": 0, \"ticks\": \"\"}, \"type\": \"choropleth\"}], \"contour\": [{\"colorbar\": {\"outlinewidth\": 0, \"ticks\": \"\"}, \"colorscale\": [[0.0, \"#0d0887\"], [0.1111111111111111, \"#46039f\"], [0.2222222222222222, \"#7201a8\"], [0.3333333333333333, \"#9c179e\"], [0.4444444444444444, \"#bd3786\"], [0.5555555555555556, \"#d8576b\"], [0.6666666666666666, \"#ed7953\"], [0.7777777777777778, \"#fb9f3a\"], [0.8888888888888888, \"#fdca26\"], [1.0, \"#f0f921\"]], \"type\": \"contour\"}], \"contourcarpet\": [{\"colorbar\": {\"outlinewidth\": 0, \"ticks\": \"\"}, \"type\": \"contourcarpet\"}], \"heatmap\": [{\"colorbar\": {\"outlinewidth\": 0, \"ticks\": \"\"}, \"colorscale\": [[0.0, \"#0d0887\"], [0.1111111111111111, \"#46039f\"], [0.2222222222222222, \"#7201a8\"], [0.3333333333333333, \"#9c179e\"], [0.4444444444444444, \"#bd3786\"], [0.5555555555555556, \"#d8576b\"], [0.6666666666666666, \"#ed7953\"], [0.7777777777777778, \"#fb9f3a\"], [0.8888888888888888, \"#fdca26\"], [1.0, \"#f0f921\"]], \"type\": \"heatmap\"}], \"heatmapgl\": [{\"colorbar\": {\"outlinewidth\": 0, \"ticks\": \"\"}, \"colorscale\": [[0.0, \"#0d0887\"], [0.1111111111111111, \"#46039f\"], [0.2222222222222222, \"#7201a8\"], [0.3333333333333333, \"#9c179e\"], [0.4444444444444444, \"#bd3786\"], [0.5555555555555556, \"#d8576b\"], [0.6666666666666666, \"#ed7953\"], [0.7777777777777778, \"#fb9f3a\"], [0.8888888888888888, \"#fdca26\"], [1.0, \"#f0f921\"]], \"type\": \"heatmapgl\"}], \"histogram\": [{\"marker\": {\"colorbar\": {\"outlinewidth\": 0, \"ticks\": \"\"}}, \"type\": \"histogram\"}], \"histogram2d\": [{\"colorbar\": {\"outlinewidth\": 0, \"ticks\": \"\"}, \"colorscale\": [[0.0, \"#0d0887\"], [0.1111111111111111, \"#46039f\"], [0.2222222222222222, \"#7201a8\"], [0.3333333333333333, \"#9c179e\"], [0.4444444444444444, \"#bd3786\"], [0.5555555555555556, \"#d8576b\"], [0.6666666666666666, \"#ed7953\"], [0.7777777777777778, \"#fb9f3a\"], [0.8888888888888888, \"#fdca26\"], [1.0, \"#f0f921\"]], \"type\": \"histogram2d\"}], \"histogram2dcontour\": [{\"colorbar\": {\"outlinewidth\": 0, \"ticks\": \"\"}, \"colorscale\": [[0.0, \"#0d0887\"], [0.1111111111111111, \"#46039f\"], [0.2222222222222222, \"#7201a8\"], [0.3333333333333333, \"#9c179e\"], [0.4444444444444444, \"#bd3786\"], [0.5555555555555556, \"#d8576b\"], [0.6666666666666666, \"#ed7953\"], [0.7777777777777778, \"#fb9f3a\"], [0.8888888888888888, \"#fdca26\"], [1.0, \"#f0f921\"]], \"type\": \"histogram2dcontour\"}], \"mesh3d\": [{\"colorbar\": {\"outlinewidth\": 0, \"ticks\": \"\"}, \"type\": \"mesh3d\"}], \"parcoords\": [{\"line\": {\"colorbar\": {\"outlinewidth\": 0, \"ticks\": \"\"}}, \"type\": \"parcoords\"}], \"pie\": [{\"automargin\": true, \"type\": \"pie\"}], \"scatter\": [{\"marker\": {\"colorbar\": {\"outlinewidth\": 0, \"ticks\": \"\"}}, \"type\": \"scatter\"}], \"scatter3d\": [{\"line\": {\"colorbar\": {\"outlinewidth\": 0, \"ticks\": \"\"}}, \"marker\": {\"colorbar\": {\"outlinewidth\": 0, \"ticks\": \"\"}}, \"type\": \"scatter3d\"}], \"scattercarpet\": [{\"marker\": {\"colorbar\": {\"outlinewidth\": 0, \"ticks\": \"\"}}, \"type\": \"scattercarpet\"}], \"scattergeo\": [{\"marker\": {\"colorbar\": {\"outlinewidth\": 0, \"ticks\": \"\"}}, \"type\": \"scattergeo\"}], \"scattergl\": [{\"marker\": {\"colorbar\": {\"outlinewidth\": 0, \"ticks\": \"\"}}, \"type\": \"scattergl\"}], \"scattermapbox\": [{\"marker\": {\"colorbar\": {\"outlinewidth\": 0, \"ticks\": \"\"}}, \"type\": \"scattermapbox\"}], \"scatterpolar\": [{\"marker\": {\"colorbar\": {\"outlinewidth\": 0, \"ticks\": \"\"}}, \"type\": \"scatterpolar\"}], \"scatterpolargl\": [{\"marker\": {\"colorbar\": {\"outlinewidth\": 0, \"ticks\": \"\"}}, \"type\": \"scatterpolargl\"}], \"scatterternary\": [{\"marker\": {\"colorbar\": {\"outlinewidth\": 0, \"ticks\": \"\"}}, \"type\": \"scatterternary\"}], \"surface\": [{\"colorbar\": {\"outlinewidth\": 0, \"ticks\": \"\"}, \"colorscale\": [[0.0, \"#0d0887\"], [0.1111111111111111, \"#46039f\"], [0.2222222222222222, \"#7201a8\"], [0.3333333333333333, \"#9c179e\"], [0.4444444444444444, \"#bd3786\"], [0.5555555555555556, \"#d8576b\"], [0.6666666666666666, \"#ed7953\"], [0.7777777777777778, \"#fb9f3a\"], [0.8888888888888888, \"#fdca26\"], [1.0, \"#f0f921\"]], \"type\": \"surface\"}], \"table\": [{\"cells\": {\"fill\": {\"color\": \"#EBF0F8\"}, \"line\": {\"color\": \"white\"}}, \"header\": {\"fill\": {\"color\": \"#C8D4E3\"}, \"line\": {\"color\": \"white\"}}, \"type\": \"table\"}]}, \"layout\": {\"annotationdefaults\": {\"arrowcolor\": \"#2a3f5f\", \"arrowhead\": 0, \"arrowwidth\": 1}, \"coloraxis\": {\"colorbar\": {\"outlinewidth\": 0, \"ticks\": \"\"}}, \"colorscale\": {\"diverging\": [[0, \"#8e0152\"], [0.1, \"#c51b7d\"], [0.2, \"#de77ae\"], [0.3, \"#f1b6da\"], [0.4, \"#fde0ef\"], [0.5, \"#f7f7f7\"], [0.6, \"#e6f5d0\"], [0.7, \"#b8e186\"], [0.8, \"#7fbc41\"], [0.9, \"#4d9221\"], [1, \"#276419\"]], \"sequential\": [[0.0, \"#0d0887\"], [0.1111111111111111, \"#46039f\"], [0.2222222222222222, \"#7201a8\"], [0.3333333333333333, \"#9c179e\"], [0.4444444444444444, \"#bd3786\"], [0.5555555555555556, \"#d8576b\"], [0.6666666666666666, \"#ed7953\"], [0.7777777777777778, \"#fb9f3a\"], [0.8888888888888888, \"#fdca26\"], [1.0, \"#f0f921\"]], \"sequentialminus\": [[0.0, \"#0d0887\"], [0.1111111111111111, \"#46039f\"], [0.2222222222222222, \"#7201a8\"], [0.3333333333333333, \"#9c179e\"], [0.4444444444444444, \"#bd3786\"], [0.5555555555555556, \"#d8576b\"], [0.6666666666666666, \"#ed7953\"], [0.7777777777777778, \"#fb9f3a\"], [0.8888888888888888, \"#fdca26\"], [1.0, \"#f0f921\"]]}, \"colorway\": [\"#636efa\", \"#EF553B\", \"#00cc96\", \"#ab63fa\", \"#FFA15A\", \"#19d3f3\", \"#FF6692\", \"#B6E880\", \"#FF97FF\", \"#FECB52\"], \"font\": {\"color\": \"#2a3f5f\"}, \"geo\": {\"bgcolor\": \"white\", \"lakecolor\": \"white\", \"landcolor\": \"#E5ECF6\", \"showlakes\": true, \"showland\": true, \"subunitcolor\": \"white\"}, \"hoverlabel\": {\"align\": \"left\"}, \"hovermode\": \"closest\", \"mapbox\": {\"style\": \"light\"}, \"paper_bgcolor\": \"white\", \"plot_bgcolor\": \"#E5ECF6\", \"polar\": {\"angularaxis\": {\"gridcolor\": \"white\", \"linecolor\": \"white\", \"ticks\": \"\"}, \"bgcolor\": \"#E5ECF6\", \"radialaxis\": {\"gridcolor\": \"white\", \"linecolor\": \"white\", \"ticks\": \"\"}}, \"scene\": {\"xaxis\": {\"backgroundcolor\": \"#E5ECF6\", \"gridcolor\": \"white\", \"gridwidth\": 2, \"linecolor\": \"white\", \"showbackground\": true, \"ticks\": \"\", \"zerolinecolor\": \"white\"}, \"yaxis\": {\"backgroundcolor\": \"#E5ECF6\", \"gridcolor\": \"white\", \"gridwidth\": 2, \"linecolor\": \"white\", \"showbackground\": true, \"ticks\": \"\", \"zerolinecolor\": \"white\"}, \"zaxis\": {\"backgroundcolor\": \"#E5ECF6\", \"gridcolor\": \"white\", \"gridwidth\": 2, \"linecolor\": \"white\", \"showbackground\": true, \"ticks\": \"\", \"zerolinecolor\": \"white\"}}, \"shapedefaults\": {\"line\": {\"color\": \"#2a3f5f\"}}, \"ternary\": {\"aaxis\": {\"gridcolor\": \"white\", \"linecolor\": \"white\", \"ticks\": \"\"}, \"baxis\": {\"gridcolor\": \"white\", \"linecolor\": \"white\", \"ticks\": \"\"}, \"bgcolor\": \"#E5ECF6\", \"caxis\": {\"gridcolor\": \"white\", \"linecolor\": \"white\", \"ticks\": \"\"}}, \"title\": {\"x\": 0.05}, \"xaxis\": {\"automargin\": true, \"gridcolor\": \"white\", \"linecolor\": \"white\", \"ticks\": \"\", \"title\": {\"standoff\": 15}, \"zerolinecolor\": \"white\", \"zerolinewidth\": 2}, \"yaxis\": {\"automargin\": true, \"gridcolor\": \"white\", \"linecolor\": \"white\", \"ticks\": \"\", \"title\": {\"standoff\": 15}, \"zerolinecolor\": \"white\", \"zerolinewidth\": 2}}}, \"xaxis\": {\"title\": {\"text\": \"time (s)\"}}, \"yaxis\": {\"title\": {\"text\": \"amp\"}}},\n",
       "                        {\"responsive\": true}\n",
       "                    ).then(function(){\n",
       "                            \n",
       "var gd = document.getElementById('acb75928-6750-4fc2-8ad5-7aae8e45d877');\n",
       "var x = new MutationObserver(function (mutations, observer) {{\n",
       "        var display = window.getComputedStyle(gd).display;\n",
       "        if (!display || display === 'none') {{\n",
       "            console.log([gd, 'removed!']);\n",
       "            Plotly.purge(gd);\n",
       "            observer.disconnect();\n",
       "        }}\n",
       "}});\n",
       "\n",
       "// Listen for the removal of the full notebook cells\n",
       "var notebookContainer = gd.closest('#notebook-container');\n",
       "if (notebookContainer) {{\n",
       "    x.observe(notebookContainer, {childList: true});\n",
       "}}\n",
       "\n",
       "// Listen for the clearing of the current output cell\n",
       "var outputEl = gd.closest('.output');\n",
       "if (outputEl) {{\n",
       "    x.observe(outputEl, {childList: true});\n",
       "}}\n",
       "\n",
       "                        })\n",
       "                };\n",
       "                });\n",
       "            </script>\n",
       "        </div>"
      ]
     },
     "metadata": {},
     "output_type": "display_data"
    }
   ],
   "source": [
    "fig = figure(\"time\")\n",
    "fig.plot(Fz)\n",
    "fig.show()"
   ]
  },
  {
   "cell_type": "markdown",
   "metadata": {},
   "source": [
    "* **Question** Tracez la réponse fréquentielle de $F(z)$ dans le plan de Black-Nichols et comparez là avec la réponse fréquentielle de $F(p)$."
   ]
  },
  {
   "cell_type": "code",
   "execution_count": 66,
   "metadata": {},
   "outputs": [
    {
     "data": {
      "application/vnd.plotly.v1+json": {
       "config": {
        "plotlyServerURL": "https://plot.ly"
       },
       "data": [
        {
         "hoverinfo": "none",
         "marker": {
          "line": {
           "color": "#FF0000",
           "width": 1
          },
          "size": 3
         },
         "mode": "markers",
         "showlegend": false,
         "type": "scatter",
         "x": [
          -180
         ],
         "y": [
          0
         ]
        },
        {
         "hovertemplate": "<b>w</b>: %{text:.3f} rad/s<br><b>mag</b>: %{y:.3f} dB<br><b>phase</b>: %{x:.3f} deg<br>",
         "line": {
          "color": "#1f77b4"
         },
         "name": "sys",
         "showlegend": false,
         "text": [
          0.1,
          0.12067926406393285,
          0.14563484775012436,
          0.1757510624854792,
          0.21209508879201905,
          0.2559547922699536,
          0.3088843596477481,
          0.372759372031494,
          0.44984326689694454,
          0.5428675439323859,
          0.6551285568595507,
          0.7906043210907697,
          0.9540954763499939,
          1.151395399326447,
          1.3894954943731375,
          1.6768329368110073,
          2.0235896477251565,
          2.442053094548651,
          2.9470517025518097,
          3.5564803062231287,
          4.291934260128776,
          5.17947467923121,
          6.25055192527397,
          7.543120063354615,
          9.102981779915218,
          10.985411419875584,
          13.257113655901081,
          15.998587196060573,
          19.306977288832496,
          23.29951810515372,
          28.11768697974228,
          33.93221771895326,
          40.94915062380423,
          49.417133613238335,
          59.63623316594643,
          71.96856730011514,
          86.85113737513521,
          104.81131341546852,
          126.48552168552958,
          152.6417967175232,
          184.20699693267144,
          222.29964825261933,
          268.26957952797244,
          323.74575428176433,
          390.6939937054613,
          471.486636345739,
          568.9866029018293,
          686.6488450042998,
          828.6427728546843,
          1000
         ],
         "type": "scatter",
         "x": [
          -3.7218258049138355,
          -4.490153203125646,
          -5.416369911230212,
          -6.532378420513882,
          -7.87612113229808,
          -9.4924213248252,
          -11.433710230509682,
          -13.760430030950145,
          -16.540761906306415,
          -19.84914212871332,
          -23.762838248397053,
          -28.35579137518912,
          -33.68926408672415,
          -39.79996188395485,
          -46.68843723414922,
          -54.31307567220505,
          -62.59566836417138,
          -71.44093752970626,
          -80.76471506153541,
          -90.51886698014029,
          -100.70115673672251,
          -111.34482738735943,
          -122.49035561369104,
          -134.14679065316272,
          -146.25308204010256,
          -158.6523820104624,
          -171.09244798643422,
          -183.25824218523735,
          -194.82819861914214,
          -205.53245386673797,
          -215.19105585032216,
          -223.72310985427848,
          -231.13260305175987,
          -237.4833370498692,
          -242.8736184704135,
          -247.41625030502203,
          -251.2250874725586,
          -254.40719618356442,
          -257.05901248299716,
          -259.2650361554829,
          -261.0979789585182,
          -262.6196568884265,
          -263.8821960945256,
          -264.9293093138456,
          -265.7975159861908,
          -266.51724757522555,
          -267.1138178719193,
          -267.60825826766575,
          -268.0180277864819,
          -268.35761167190225
         ],
         "y": [
          -3.533537626431975,
          -3.5384772009607346,
          -3.5456609087519517,
          -3.556101682516368,
          -3.5712623319124033,
          -3.5932472872194654,
          -3.6250672844773106,
          -3.6709952274546676,
          -3.7370253703663976,
          -3.8314274507590556,
          -3.9653403666942872,
          -4.153263097287845,
          -4.413172554910769,
          -4.765870155641153,
          -5.2331517984233225,
          -5.8346928255801,
          -6.584216862090089,
          -7.486266903189682,
          -8.535037555778528,
          -9.715858613459336,
          -11.008585517245809,
          -12.39140060078817,
          -13.84378205322269,
          -15.348171287153212,
          -16.890506006782907,
          -18.460036201539943,
          -20.048808561445103,
          -21.651072180907956,
          -23.26273454383108,
          -24.880915391988285,
          -26.503603124599202,
          -28.129400239129204,
          -29.75733939734524,
          -31.386752697139762,
          -33.01717977959959,
          -34.648303714134485,
          -36.279906490428516,
          -37.911838227608506,
          -39.54399592312639,
          -41.17630880933885,
          -42.808728274353854,
          -44.44122092973486,
          -46.07376384504137,
          -47.706341273080824,
          -49.33894240010342,
          -50.97155980040854,
          -52.60418837493437,
          -54.23682462231555,
          -55.869466138296275,
          -57.502111271974684
         ]
        },
        {
         "hovertemplate": "<b>w</b>: %{text:.3f} rad/s<br><b>mag</b>: %{y:.3f} dB<br><b>phase</b>: %{x:.3f} deg<br>",
         "line": {
          "color": "#ff7f0e"
         },
         "name": "sys",
         "showlegend": false,
         "text": [
          0.1,
          0.12067926406393285,
          0.14563484775012436,
          0.1757510624854792,
          0.21209508879201905,
          0.2559547922699536,
          0.3088843596477481,
          0.372759372031494,
          0.44984326689694454,
          0.5428675439323859,
          0.6551285568595507,
          0.7906043210907697,
          0.9540954763499939,
          1.151395399326447,
          1.3894954943731375,
          1.6768329368110073,
          2.0235896477251565,
          2.442053094548651,
          2.9470517025518097,
          3.5564803062231287,
          4.291934260128776,
          5.17947467923121,
          6.25055192527397,
          7.543120063354615,
          9.102981779915218,
          10.985411419875584,
          13.257113655901081,
          15.998587196060573,
          19.306977288832496,
          23.29951810515372,
          28.11768697974228,
          33.93221771895326,
          40.94915062380423,
          49.417133613238335,
          59.63623316594643
         ],
         "type": "scatter",
         "x": [
          -3.8627205254367114,
          -4.66018499451092,
          -5.621564922966227,
          -6.78000958467415,
          -8.17496645780495,
          -9.853075959775332,
          -11.868963679453637,
          -14.285722470795495,
          -17.174736781514788,
          -20.614316376696394,
          -24.686416996193824,
          -29.470661362576088,
          -35.03521036456657,
          -41.425167025822425,
          -48.65134376190297,
          -56.684724250115636,
          -65.46267173156207,
          -74.9093196143938,
          -84.96494206735646,
          -95.61252125620275,
          -106.88983180892468,
          -118.88188257731831,
          -131.69601547740342,
          -145.42651069775812,
          -160.11805491086884,
          -175.73995777096079,
          -192.18427273304437,
          -209.29632791556713,
          -226.93349529792874,
          -245.03412790421737,
          -263.675430197621,
          -283.11083716117025,
          -303.79663344380947,
          -326.43736711601554,
          -352.1135879406071
         ],
         "y": [
          -3.5335696614722787,
          -3.53852385373401,
          -3.545728848459196,
          -3.5562006200685,
          -3.571406406026847,
          -3.5934570808383444,
          -3.6253727566668466,
          -3.6714399732967395,
          -3.7376728037182594,
          -3.8323697637938245,
          -3.9667114835784685,
          -4.155257339659254,
          -4.416071404805163,
          -4.770080348356845,
          -5.239258951876279,
          -5.843535705424193,
          -6.596987637905731,
          -7.504641117443608,
          -8.561331484262785,
          -9.753196743905976,
          -11.061030235109456,
          -12.463942648351093,
          -13.942013774862028,
          -15.477388190417223,
          -17.053969569748958,
          -18.656270541973065,
          -20.268109637490873,
          -21.871679674314528,
          -23.4469803215967,
          -24.970936846988934,
          -26.41517191994565,
          -27.74143187774328,
          -28.893480397967494,
          -29.782844184960048,
          -30.261191637275147
         ]
        },
        {
         "hoverinfo": "name",
         "line": {
          "color": "#555",
          "dash": "dot",
          "width": 1
         },
         "name": "6.00 dB",
         "showlegend": false,
         "type": "scatter",
         "x": [
          -181.0044525859156,
          -182.00706208752763,
          -183.0059994899574,
          -183.99946365000403,
          -184.98569457347367,
          -187.408591693385,
          -189.75111962661822,
          -194.11400997325404,
          -197.95308877480693,
          -201.2110046386224,
          -203.882655271241,
          -208.76368925804854,
          -210.07854669531383,
          -209.08573699075276,
          -206.61944411079287,
          -203.19624885388873,
          -199.14024541544325,
          -194.6633656344593,
          -189.91215173606156,
          -181.66883360739166,
          -180,
          -178.33116639260837,
          -170.08784826393844,
          -165.33663436554068,
          -160.85975458455675,
          -156.8037511461113,
          -153.38055588920716,
          -150.91426300924724,
          -149.92145330468617,
          -151.23631074195148,
          -156.11734472875898,
          -158.78899536137763,
          -162.04691122519313,
          -165.88599002674593,
          -170.24888037338178,
          -172.59140830661497,
          -175.0143054265264,
          -176.00053634999594,
          -176.99400051004255,
          -177.99293791247237,
          -178.9955474140844
         ],
         "y": [
          6.038584887637681,
          6.030603754626434,
          6.017337064173958,
          5.998837145331412,
          5.975176335900421,
          5.894089570862205,
          5.783261698845564,
          5.4826074459056695,
          5.096695738427625,
          4.650493262050236,
          4.166800369039922,
          2.6567802911878013,
          1.2493792041125524,
          0.03595583500082545,
          -0.9732279370869548,
          -1.7915587587987878,
          -2.436272660456205,
          -2.922504047148822,
          -3.2618637150774954,
          -3.5213402361322443,
          -3.528697248729707,
          -3.5213402361322443,
          -3.261863715077498,
          -2.9225040471488253,
          -2.4362726604562077,
          -1.7915587587987878,
          -0.9732279370869548,
          0.03595583500082353,
          1.2493792041125524,
          2.6567802911877987,
          4.166800369039918,
          4.650493262050238,
          5.096695738427627,
          5.482607445905669,
          5.783261698845564,
          5.894089570862203,
          5.975176335900418,
          5.998837145331412,
          6.017337064173956,
          6.030603754626437,
          6.038584887637679
         ]
        },
        {
         "hoverinfo": "name",
         "line": {
          "color": "#555",
          "dash": "dot",
          "width": 1
         },
         "name": "3.00 dB",
         "showlegend": false,
         "type": "scatter",
         "x": [
          -182.42156130189062,
          -184.82844943546547,
          -187.20643299081019,
          -189.54213134653503,
          -191.8233626783699,
          -197.22187957454412,
          -202.09598892987356,
          -210.09301738566455,
          -215.8791234237175,
          -219.8563069529548,
          -222.4551688385875,
          -225.06798311222548,
          -223.50196919041633,
          -219.93702449004138,
          -215.29642457077978,
          -210.02487275397982,
          -204.36172377497314,
          -198.44853900143266,
          -192.37662214327372,
          -182.07224305175168,
          -180,
          -177.92775694824832,
          -167.6233778567263,
          -161.5514609985674,
          -155.63827622502694,
          -149.9751272460202,
          -144.70357542922022,
          -140.06297550995865,
          -136.49803080958367,
          -134.93201688777452,
          -137.54483116141245,
          -140.1436930470452,
          -144.12087657628254,
          -149.90698261433542,
          -157.9040110701264,
          -162.7781204254559,
          -168.17663732163007,
          -170.45786865346497,
          -172.7935670091897,
          -175.17155056453453,
          -177.57843869810938
         ],
         "y": [
          10.679764301197936,
          10.647034445747146,
          10.593037830089836,
          10.518575471800114,
          10.424714401516344,
          10.11401746557135,
          9.714033764687105,
          8.743853755272685,
          7.678062347477537,
          6.616357953051257,
          5.606844160199614,
          3.010293842417393,
          1.0059460068552415,
          -0.5489159148760905,
          -1.764348624364853,
          -2.712947800201404,
          -3.4422186673114457,
          -3.9835217795043447,
          -4.357464956087062,
          -4.641452702670781,
          -4.649481613751726,
          -4.641452702670781,
          -4.357464956087062,
          -3.9835217795043465,
          -3.4422186673114483,
          -2.7129478002014027,
          -1.764348624364854,
          -0.5489159148760926,
          1.0059460068552415,
          3.0102938424173904,
          5.606844160199607,
          6.61635795305126,
          7.678062347477541,
          8.743853755272685,
          9.714033764687107,
          10.11401746557135,
          10.424714401516344,
          10.518575471800112,
          10.59303783008983,
          10.647034445747146,
          10.679764301197936
         ]
        },
        {
         "hoverinfo": "name",
         "line": {
          "color": "#555",
          "dash": "dot",
          "width": 1
         },
         "name": "1.00 dB",
         "showlegend": false,
         "type": "scatter",
         "x": [
          -188.12984536554268,
          -195.88621216474792,
          -202.9844437398292,
          -209.27055340099685,
          -214.7096153155495,
          -224.98959838098392,
          -231.68544618825558,
          -238.9060061369517,
          -241.93858840592924,
          -242.95955537487828,
          -242.88818452740378,
          -239.59670953467293,
          -234.31238992498834,
          -228.21444019414758,
          -221.70905190957956,
          -214.9736246071892,
          -208.09857633531192,
          -201.13560158246298,
          -194.1172919529556,
          -182.35615618485986,
          -180,
          -177.6438438151401,
          -165.88270804704442,
          -158.86439841753705,
          -151.90142366468808,
          -145.0263753928108,
          -138.29094809042041,
          -131.78555980585242,
          -125.68761007501163,
          -120.40329046532707,
          -117.11181547259622,
          -117.04044462512172,
          -118.06141159407076,
          -121.0939938630483,
          -128.3145538117444,
          -135.0104016190161,
          -145.29038468445046,
          -150.72944659900304,
          -157.0155562601706,
          -164.11378783525214,
          -171.87015463445724
         ],
         "y": [
          19.17292087222408,
          18.88999404600427,
          18.45599908317477,
          17.91331788277162,
          17.30269583621942,
          15.674169524423078,
          14.099770859367858,
          11.392809577292622,
          9.232708314999615,
          7.475525714001363,
          6.009559815241832,
          2.725327008857705,
          0.44275075770600797,
          -1.2482454597388433,
          -2.5390189104386724,
          -3.5327626980741282,
          -4.29037960222416,
          -4.8497530368011,
          -5.234889529168014,
          -5.526739523137509,
          -5.534983129163744,
          -5.526739523137509,
          -5.2348895291680115,
          -4.8497530368011015,
          -4.290379602224161,
          -3.5327626980741273,
          -2.5390189104386733,
          -1.2482454597388464,
          0.44275075770600797,
          2.7253270088577004,
          6.009559815241823,
          7.4755257140013684,
          9.23270831499962,
          11.392809577292622,
          14.099770859367855,
          15.674169524423071,
          17.302695836219414,
          17.913317882771604,
          18.455999083174753,
          18.88999404600427,
          19.172920872224083
         ]
        },
        {
         "hoverinfo": "name",
         "line": {
          "color": "#555",
          "dash": "dot",
          "width": 1
         },
         "name": "0.50 dB",
         "showlegend": false,
         "type": "scatter",
         "x": [
          -196.3718246156576,
          -210.241776113004,
          -220.80355193113053,
          -228.51181527270387,
          -234.1134646185559,
          -242.54794804403969,
          -246.79435053744254,
          -250.17113669346753,
          -250.7317375930338,
          -250.10476324945597,
          -248.87064427851567,
          -243.52619111012865,
          -237.14681544455618,
          -230.35244392901245,
          -223.35180491824565,
          -216.23515197605684,
          -209.04823910924426,
          -201.81713920054904,
          -194.55825435352733,
          -182.42801843030043,
          -180,
          -177.57198156969963,
          -165.44174564647267,
          -158.18286079945094,
          -150.95176089075574,
          -143.76484802394313,
          -136.64819508175432,
          -129.64755607098758,
          -122.85318455544379,
          -116.47380888987135,
          -111.12935572148433,
          -109.89523675054403,
          -109.26826240696619,
          -109.82886330653247,
          -113.20564946255746,
          -117.45205195596026,
          -125.88653538144405,
          -131.488184727296,
          -139.19644806886924,
          -149.75822388699612,
          -163.6281753843424
         ],
         "y": [
          24.66386078734449,
          23.68619318037223,
          22.428476998260905,
          21.119016837844416,
          19.86570394081788,
          17.148405136599663,
          14.97381756434649,
          11.709190668056703,
          9.318257934761284,
          7.44651521952795,
          5.916081684987016,
          2.548102112298766,
          0.2356286732226798,
          -1.469242571571364,
          -2.7674915645818707,
          -3.7656469575966494,
          -4.526008275446839,
          -5.0871210227374375,
          -5.473330927281008,
          -5.765933081450027,
          -5.774197205849433,
          -5.765933081450027,
          -5.4733309272810065,
          -5.0871210227374375,
          -4.5260082754468405,
          -3.765646957596645,
          -2.767491564581872,
          -1.4692425715713675,
          0.2356286732226798,
          2.548102112298763,
          5.916081684987007,
          7.446515219527957,
          9.31825793476129,
          11.709190668056703,
          14.973817564346488,
          17.148405136599656,
          19.86570394081787,
          21.119016837844388,
          22.428476998260866,
          23.68619318037224,
          24.663860787344486
         ]
        },
        {
         "hoverinfo": "name",
         "line": {
          "color": "#555",
          "dash": "dot",
          "width": 1
         },
         "name": "0.25 dB",
         "showlegend": false,
         "type": "scatter",
         "x": [
          -210.7345808486815,
          -229.4974236482455,
          -239.7095256979066,
          -245.60440268536485,
          -249.25835228553376,
          -253.86709641080222,
          -255.65960361036178,
          -256.26209749939164,
          -255.33439270580863,
          -253.7861505386665,
          -251.9258936010815,
          -245.51029169050867,
          -238.57222728724224,
          -231.42562231524357,
          -224.1755612738757,
          -216.86736796171624,
          -209.52398817799792,
          -202.15848677226302,
          -194.77907815652532,
          -182.46400174809128,
          -180,
          -177.53599825190878,
          -165.2209218434747,
          -157.84151322773704,
          -150.47601182200208,
          -143.13263203828376,
          -135.82443872612433,
          -128.57437768475643,
          -121.42777271275776,
          -114.48970830949133,
          -108.0741063989185,
          -106.2138494613335,
          -104.66560729419137,
          -103.73790250060836,
          -104.34039638963822,
          -106.13290358919781,
          -110.74164771446624,
          -114.3955973146351,
          -120.2904743020932,
          -130.50257635175458,
          -149.26541915131847
         ],
         "y": [
          29.582361840040452,
          27.014193437570665,
          24.599036537237854,
          22.565963255105842,
          20.862047629248345,
          17.58707676714537,
          15.181648668301047,
          11.737967925491535,
          9.28126664709167,
          7.378506027626564,
          5.831068132828873,
          2.441468980087758,
          0.12140345203767483,
          -1.5869690247594759,
          -2.887098602924716,
          -3.8863619025215304,
          -4.6474117274845135,
          -5.208960544669629,
          -5.595439459606192,
          -5.888230064901855,
          -5.896499329536557,
          -5.888230064901855,
          -5.59543945960619,
          -5.20896054466963,
          -4.6474117274845135,
          -3.8863619025215304,
          -2.8870986029247176,
          -1.586969024759478,
          0.12140345203767483,
          2.441468980087755,
          5.831068132828864,
          7.37850602762657,
          9.281266647091675,
          11.737967925491537,
          15.181648668301042,
          17.587076767145362,
          20.86204762924833,
          22.565963255105807,
          24.599036537237783,
          27.014193437570686,
          29.58236184004044
         ]
        },
        {
         "hoverinfo": "name",
         "line": {
          "color": "#555",
          "dash": "dot",
          "width": 1
         },
         "name": "0.00 dB",
         "showlegend": false,
         "type": "scatter",
         "x": [
          -269.4999999999999,
          -268.99999999999994,
          -268.50000000000006,
          -268.00000000000006,
          -267.5,
          -266.25,
          -265,
          -262.5,
          -260,
          -257.5,
          -255,
          -247.5,
          -240,
          -232.5,
          -225,
          -217.5,
          -210,
          -202.5,
          -195,
          -182.5,
          -180,
          -177.5,
          -165,
          -157.5,
          -150.00000000000003,
          -142.5,
          -135,
          -127.5,
          -120,
          -112.5,
          -105,
          -102.5,
          -100,
          -97.5,
          -95,
          -93.75,
          -92.5,
          -92,
          -91.5,
          -91.00000000000006,
          -90.50000000000011
         ],
         "y": [
          35.16256289318372,
          29.14229371826325,
          25.62101977894313,
          23.123016808799058,
          21.185808854403394,
          17.667429531589104,
          15.173479920117972,
          11.665446712198822,
          9.185995486488366,
          7.272665074459145,
          5.719475475333597,
          2.322606875058725,
          0,
          -1.7095424698920367,
          -3.0102999566398116,
          -4.009933005441557,
          -4.771212547196623,
          -5.332906831698536,
          -5.719475475333596,
          -6.0123289342854225,
          -6.020599913279624,
          -6.0123289342854225,
          -5.719475475333596,
          -5.332906831698536,
          -4.771212547196625,
          -4.009933005441557,
          -3.0102999566398125,
          -1.709542469892039,
          0,
          2.3226068750587237,
          5.719475475333587,
          7.27266507445915,
          9.18599548648837,
          11.665446712198822,
          15.17347992011797,
          17.667429531589097,
          21.185808854403376,
          23.123016808799015,
          25.621019778943044,
          29.14229371826329,
          35.1625628931837
         ]
        },
        {
         "hoverinfo": "name",
         "line": {
          "color": "#555",
          "dash": "dot",
          "width": 1
         },
         "name": "-1.00 dB",
         "showlegend": false,
         "type": "scatter",
         "x": [
          -350.87015463445726,
          -342.1137878352521,
          -334.01555626017085,
          -326.72944659900315,
          -320.29038468445054,
          -307.51040161901614,
          -298.3145538117444,
          -286.09399386304824,
          -278.06141159407076,
          -272.0404446251217,
          -267.1118154725962,
          -255.40329046532707,
          -245.68761007501166,
          -236.78555980585242,
          -228.29094809042044,
          -220.0263753928108,
          -211.90142366468808,
          -203.86439841753702,
          -195.8827080470444,
          -182.64384381514014,
          -180,
          -177.35615618485994,
          -164.1172919529556,
          -156.13560158246298,
          -148.09857633531195,
          -139.9736246071892,
          -131.70905190957959,
          -123.21444019414761,
          -114.31238992498837,
          -104.59670953467293,
          -92.88818452740384,
          -87.95955537487828,
          -81.93858840592918,
          -73.9060061369517,
          -61.68544618825558,
          -52.489598380983864,
          -39.70961531554951,
          -33.27055340099696,
          -25.98444373982943,
          -17.88621216474786,
          -9.129845365542792
         ],
         "y": [
          18.172920872224083,
          17.889994046004272,
          17.45599908317476,
          16.91331788277161,
          16.302695836219424,
          14.674169524423068,
          13.099770859367856,
          10.39280957729262,
          8.232708314999616,
          6.475525714001364,
          5.009559815241831,
          1.7253270088577046,
          -0.5572492422939905,
          -2.2482454597388433,
          -3.539018910438671,
          -4.532762698074128,
          -5.290379602224158,
          -5.8497530368011,
          -6.234889529168011,
          -6.526739523137509,
          -6.534983129163744,
          -6.526739523137509,
          -6.234889529168011,
          -5.8497530368011,
          -5.290379602224159,
          -4.532762698074128,
          -3.5390189104386724,
          -2.248245459738846,
          -0.5572492422939905,
          1.725327008857703,
          5.009559815241822,
          6.47552571400137,
          8.23270831499962,
          10.392809577292624,
          13.099770859367855,
          14.674169524423066,
          16.302695836219417,
          16.9133178827716,
          17.455999083174746,
          17.889994046004276,
          18.17292087222408
         ]
        },
        {
         "hoverinfo": "name",
         "line": {
          "color": "#555",
          "dash": "dot",
          "width": 1
         },
         "name": "-3.00 dB",
         "showlegend": false,
         "type": "scatter",
         "x": [
          -356.5784386981094,
          -353.1715505645345,
          -349.7935670091898,
          -346.457868653465,
          -343.1766373216301,
          -335.27812042545594,
          -327.9040110701264,
          -314.9069826143354,
          -304.1208765762825,
          -295.1436930470452,
          -287.54483116141245,
          -269.9320168877745,
          -256.4980308095836,
          -245.06297550995862,
          -234.70357542922022,
          -224.97512724602018,
          -215.6382762250269,
          -206.55146099856734,
          -197.62337785672628,
          -182.92775694824832,
          -180,
          -177.0722430517517,
          -162.3766221432737,
          -153.44853900143264,
          -144.36172377497311,
          -135.02487275397982,
          -125.29642457077978,
          -114.93702449004138,
          -103.50196919041633,
          -90.06798311222553,
          -72.45516883858761,
          -64.85630695295481,
          -55.87912342371749,
          -45.09301738566461,
          -32.09598892987361,
          -24.72187957454412,
          -16.82336267836996,
          -13.542131346535086,
          -10.206432990810299,
          -6.828449435465473,
          -3.4215613018906197
         ],
         "y": [
          7.6797643011979355,
          7.647034445747147,
          7.593037830089832,
          7.51857547180011,
          7.424714401516347,
          7.114017465571349,
          6.714033764687107,
          5.743853755272688,
          4.678062347477541,
          3.6163579530512586,
          2.6068441601996146,
          0.010293842417393655,
          -1.9940539931447574,
          -3.54891591487609,
          -4.764348624364852,
          -5.712947800201404,
          -6.442218667311447,
          -6.983521779504347,
          -7.357464956087063,
          -7.64145270267078,
          -7.6494816137517265,
          -7.64145270267078,
          -7.357464956087062,
          -6.983521779504346,
          -6.442218667311449,
          -5.712947800201404,
          -4.764348624364854,
          -3.5489159148760945,
          -1.9940539931447574,
          0.01029384241739173,
          2.606844160199607,
          3.6163579530512613,
          4.6780623474775425,
          5.743853755272687,
          6.714033764687107,
          7.114017465571347,
          7.424714401516347,
          7.51857547180011,
          7.593037830089831,
          7.647034445747147,
          7.6797643011979355
         ]
        },
        {
         "hoverinfo": "name",
         "line": {
          "color": "#555",
          "dash": "dot",
          "width": 1
         },
         "name": "-6.00 dB",
         "showlegend": false,
         "type": "scatter",
         "x": [
          -357.9955474140844,
          -355.99293791247237,
          -353.99400051004255,
          -352.00053634999597,
          -350.0143054265264,
          -345.09140830661494,
          -340.2488803733818,
          -330.8859900267459,
          -322.0469112251931,
          -313.7889953613776,
          -306.117344728759,
          -286.23631074195146,
          -269.92145330468617,
          -255.91426300924724,
          -243.38055588920713,
          -231.80375114611127,
          -220.85975458455675,
          -210.33663436554065,
          -200.08784826393844,
          -183.33116639260834,
          -180,
          -176.66883360739166,
          -159.91215173606153,
          -149.66336563445935,
          -139.14024541544327,
          -128.1962488538887,
          -116.61944411079287,
          -104.08573699075279,
          -90.07854669531383,
          -73.76368925804854,
          -53.88265527124105,
          -46.21100463862234,
          -37.95308877480687,
          -29.114009973254042,
          -19.75111962661822,
          -14.908591693385063,
          -9.985694573473609,
          -7.999463650004088,
          -6.005999489957503,
          -4.007062087527629,
          -2.004452585915658
         ],
         "y": [
          0.03858488763767778,
          0.03060375462643412,
          0.017337064173952046,
          -0.0011628546685900252,
          -0.024823664099580364,
          -0.10591042913779797,
          -0.21673830115443865,
          -0.5173925540943324,
          -0.9033042615723732,
          -1.3495067379497658,
          -1.8331996309600802,
          -3.3432197088121995,
          -4.750620795887448,
          -5.964044164999175,
          -6.973227937086955,
          -7.791558758798789,
          -8.436272660456204,
          -8.922504047148825,
          -9.261863715077498,
          -9.521340236132247,
          -9.528697248729706,
          -9.521340236132247,
          -9.261863715077496,
          -8.922504047148825,
          -8.43627266045621,
          -7.791558758798788,
          -6.973227937086954,
          -5.964044164999177,
          -4.75062079588745,
          -3.343219708812202,
          -1.8331996309600862,
          -1.3495067379497636,
          -0.9033042615723743,
          -0.5173925540943324,
          -0.21673830115443865,
          -0.10591042913779991,
          -0.02482366409958133,
          -0.001162854668589061,
          0.017337064173952046,
          0.03060375462643412,
          0.03858488763767969
         ]
        },
        {
         "hoverinfo": "name",
         "line": {
          "color": "#555",
          "dash": "dot",
          "width": 1
         },
         "name": "-12.00 dB",
         "showlegend": false,
         "type": "scatter",
         "x": [
          -358.6645881674737,
          -357.3294042376337,
          -355.99467567103443,
          -354.66062904607696,
          -353.32748962319005,
          -350.00007143960084,
          -346.68313903391805,
          -340.093777577436,
          -333.58372479687006,
          -327.1738821606527,
          -320.8811636256163,
          -302.8125312477642,
          -286.02949646482057,
          -270.4526028005789,
          -255.89967637641075,
          -242.16599931121726,
          -229.0616987201294,
          -216.4228646138801,
          -204.1105118631359,
          -183.9968095913896,
          -180,
          -176.00319040861044,
          -155.88948813686406,
          -143.57713538611992,
          -130.93830127987064,
          -117.83400068878268,
          -104.10032362358922,
          -89.54739719942108,
          -73.97050353517949,
          -57.18746875223587,
          -39.11883637438376,
          -32.82611783934732,
          -26.416275203129942,
          -19.906222422563985,
          -13.316860966081947,
          -9.999928560399155,
          -6.672510376809953,
          -5.339370953923037,
          -4.005324328965571,
          -2.670595762366247,
          -1.3354118325262903
         ],
         "y": [
          -9.488041039111309,
          -9.489818140538599,
          -9.492777760313825,
          -9.496916581919354,
          -9.502229976955315,
          -9.520610194811976,
          -9.546163900231825,
          -9.618050006682063,
          -9.715988750167744,
          -9.837516123650202,
          -9.979764081669678,
          -10.499481991597179,
          -11.095063346037577,
          -11.699146567511661,
          -12.265723755961025,
          -12.766843237510201,
          -13.186893456343654,
          -13.517773258690749,
          -13.75560292379796,
          -13.94114919117165,
          -13.946455874173909,
          -13.94114919117165,
          -13.75560292379796,
          -13.517773258690745,
          -13.186893456343656,
          -12.766843237510201,
          -12.265723755961025,
          -11.699146567511665,
          -11.095063346037577,
          -10.499481991597179,
          -9.97976408166968,
          -9.837516123650202,
          -9.715988750167746,
          -9.618050006682063,
          -9.546163900231825,
          -9.520610194811976,
          -9.502229976955315,
          -9.496916581919356,
          -9.492777760313823,
          -9.489818140538599,
          -9.488041039111307
         ]
        },
        {
         "hoverinfo": "name",
         "line": {
          "color": "#555",
          "dash": "dot",
          "width": 1
         },
         "name": "-20.00 dB",
         "showlegend": false,
         "type": "scatter",
         "x": [
          -358.8888965493027,
          -357.7778390541404,
          -356.66687343532357,
          -355.5560455442723,
          -354.44540112846903,
          -351.66989167066737,
          -348.89652075551027,
          -343.3589703285723,
          -337.8381516710673,
          -332.33916301626834,
          -326.8667171206091,
          -310.64868408641405,
          -294.79128089714493,
          -279.3371191156383,
          -264.28940686250036,
          -249.6211360082914,
          -235.2849960460518,
          -221.22162278409758,
          -207.3653939814767,
          -184.54588366326493,
          -180,
          -175.45411633673513,
          -152.63460601852324,
          -138.77837721590248,
          -124.71500395394827,
          -110.37886399170858,
          -95.71059313749964,
          -80.6628808843617,
          -65.20871910285507,
          -49.35131591358595,
          -33.13328287939095,
          -27.660836983731656,
          -22.161848328932706,
          -16.641029671427702,
          -11.103479244489733,
          -8.330108329332631,
          -5.55459887153097,
          -4.443954455727749,
          -3.3331265646764905,
          -2.2221609458596276,
          -1.1111034506973283
         ],
         "y": [
          -19.085013507081424,
          -19.085503375377726,
          -19.086319534008915,
          -19.08746155052706,
          -19.08892882019638,
          -19.094014462352902,
          -19.101110842980592,
          -19.121236166745526,
          -19.149042963976978,
          -19.184174848780152,
          -19.226190346310158,
          -19.38809146911957,
          -19.590413923210935,
          -19.81472569408657,
          -20.043213737826427,
          -20.260279180191155,
          -20.453229787866572,
          -20.612342803649057,
          -20.730600258806064,
          -20.825121237762787,
          -20.8278537031645,
          -20.825121237762787,
          -20.730600258806064,
          -20.612342803649057,
          -20.453229787866576,
          -20.26027918019116,
          -20.043213737826427,
          -19.81472569408657,
          -19.590413923210935,
          -19.38809146911957,
          -19.226190346310158,
          -19.184174848780152,
          -19.149042963976978,
          -19.121236166745526,
          -19.101110842980592,
          -19.094014462352902,
          -19.08892882019638,
          -19.08746155052706,
          -19.086319534008915,
          -19.085503375377726,
          -19.085013507081424
         ]
        },
        {
         "hoverinfo": "name",
         "line": {
          "color": "#555",
          "dash": "dot",
          "width": 1
         },
         "name": "-20.00 dB",
         "showlegend": false,
         "type": "scatter",
         "x": [
          -358.8888965493027,
          -357.7778390541404,
          -356.66687343532357,
          -355.5560455442723,
          -354.44540112846903,
          -351.66989167066737,
          -348.89652075551027,
          -343.3589703285723,
          -337.8381516710673,
          -332.33916301626834,
          -326.8667171206091,
          -310.64868408641405,
          -294.79128089714493,
          -279.3371191156383,
          -264.28940686250036,
          -249.6211360082914,
          -235.2849960460518,
          -221.22162278409758,
          -207.3653939814767,
          -184.54588366326493,
          -180,
          -175.45411633673513,
          -152.63460601852324,
          -138.77837721590248,
          -124.71500395394827,
          -110.37886399170858,
          -95.71059313749964,
          -80.6628808843617,
          -65.20871910285507,
          -49.35131591358595,
          -33.13328287939095,
          -27.660836983731656,
          -22.161848328932706,
          -16.641029671427702,
          -11.103479244489733,
          -8.330108329332631,
          -5.55459887153097,
          -4.443954455727749,
          -3.3331265646764905,
          -2.2221609458596276,
          -1.1111034506973283
         ],
         "y": [
          -19.085013507081424,
          -19.085503375377726,
          -19.086319534008915,
          -19.08746155052706,
          -19.08892882019638,
          -19.094014462352902,
          -19.101110842980592,
          -19.121236166745526,
          -19.149042963976978,
          -19.184174848780152,
          -19.226190346310158,
          -19.38809146911957,
          -19.590413923210935,
          -19.81472569408657,
          -20.043213737826427,
          -20.260279180191155,
          -20.453229787866572,
          -20.612342803649057,
          -20.730600258806064,
          -20.825121237762787,
          -20.8278537031645,
          -20.825121237762787,
          -20.730600258806064,
          -20.612342803649057,
          -20.453229787866576,
          -20.26027918019116,
          -20.043213737826427,
          -19.81472569408657,
          -19.590413923210935,
          -19.38809146911957,
          -19.226190346310158,
          -19.184174848780152,
          -19.149042963976978,
          -19.121236166745526,
          -19.101110842980592,
          -19.094014462352902,
          -19.08892882019638,
          -19.08746155052706,
          -19.086319534008915,
          -19.085503375377726,
          -19.085013507081424
         ]
        }
       ],
       "layout": {
        "template": {
         "data": {
          "bar": [
           {
            "error_x": {
             "color": "#2a3f5f"
            },
            "error_y": {
             "color": "#2a3f5f"
            },
            "marker": {
             "line": {
              "color": "#E5ECF6",
              "width": 0.5
             }
            },
            "type": "bar"
           }
          ],
          "barpolar": [
           {
            "marker": {
             "line": {
              "color": "#E5ECF6",
              "width": 0.5
             }
            },
            "type": "barpolar"
           }
          ],
          "carpet": [
           {
            "aaxis": {
             "endlinecolor": "#2a3f5f",
             "gridcolor": "white",
             "linecolor": "white",
             "minorgridcolor": "white",
             "startlinecolor": "#2a3f5f"
            },
            "baxis": {
             "endlinecolor": "#2a3f5f",
             "gridcolor": "white",
             "linecolor": "white",
             "minorgridcolor": "white",
             "startlinecolor": "#2a3f5f"
            },
            "type": "carpet"
           }
          ],
          "choropleth": [
           {
            "colorbar": {
             "outlinewidth": 0,
             "ticks": ""
            },
            "type": "choropleth"
           }
          ],
          "contour": [
           {
            "colorbar": {
             "outlinewidth": 0,
             "ticks": ""
            },
            "colorscale": [
             [
              0,
              "#0d0887"
             ],
             [
              0.1111111111111111,
              "#46039f"
             ],
             [
              0.2222222222222222,
              "#7201a8"
             ],
             [
              0.3333333333333333,
              "#9c179e"
             ],
             [
              0.4444444444444444,
              "#bd3786"
             ],
             [
              0.5555555555555556,
              "#d8576b"
             ],
             [
              0.6666666666666666,
              "#ed7953"
             ],
             [
              0.7777777777777778,
              "#fb9f3a"
             ],
             [
              0.8888888888888888,
              "#fdca26"
             ],
             [
              1,
              "#f0f921"
             ]
            ],
            "type": "contour"
           }
          ],
          "contourcarpet": [
           {
            "colorbar": {
             "outlinewidth": 0,
             "ticks": ""
            },
            "type": "contourcarpet"
           }
          ],
          "heatmap": [
           {
            "colorbar": {
             "outlinewidth": 0,
             "ticks": ""
            },
            "colorscale": [
             [
              0,
              "#0d0887"
             ],
             [
              0.1111111111111111,
              "#46039f"
             ],
             [
              0.2222222222222222,
              "#7201a8"
             ],
             [
              0.3333333333333333,
              "#9c179e"
             ],
             [
              0.4444444444444444,
              "#bd3786"
             ],
             [
              0.5555555555555556,
              "#d8576b"
             ],
             [
              0.6666666666666666,
              "#ed7953"
             ],
             [
              0.7777777777777778,
              "#fb9f3a"
             ],
             [
              0.8888888888888888,
              "#fdca26"
             ],
             [
              1,
              "#f0f921"
             ]
            ],
            "type": "heatmap"
           }
          ],
          "heatmapgl": [
           {
            "colorbar": {
             "outlinewidth": 0,
             "ticks": ""
            },
            "colorscale": [
             [
              0,
              "#0d0887"
             ],
             [
              0.1111111111111111,
              "#46039f"
             ],
             [
              0.2222222222222222,
              "#7201a8"
             ],
             [
              0.3333333333333333,
              "#9c179e"
             ],
             [
              0.4444444444444444,
              "#bd3786"
             ],
             [
              0.5555555555555556,
              "#d8576b"
             ],
             [
              0.6666666666666666,
              "#ed7953"
             ],
             [
              0.7777777777777778,
              "#fb9f3a"
             ],
             [
              0.8888888888888888,
              "#fdca26"
             ],
             [
              1,
              "#f0f921"
             ]
            ],
            "type": "heatmapgl"
           }
          ],
          "histogram": [
           {
            "marker": {
             "colorbar": {
              "outlinewidth": 0,
              "ticks": ""
             }
            },
            "type": "histogram"
           }
          ],
          "histogram2d": [
           {
            "colorbar": {
             "outlinewidth": 0,
             "ticks": ""
            },
            "colorscale": [
             [
              0,
              "#0d0887"
             ],
             [
              0.1111111111111111,
              "#46039f"
             ],
             [
              0.2222222222222222,
              "#7201a8"
             ],
             [
              0.3333333333333333,
              "#9c179e"
             ],
             [
              0.4444444444444444,
              "#bd3786"
             ],
             [
              0.5555555555555556,
              "#d8576b"
             ],
             [
              0.6666666666666666,
              "#ed7953"
             ],
             [
              0.7777777777777778,
              "#fb9f3a"
             ],
             [
              0.8888888888888888,
              "#fdca26"
             ],
             [
              1,
              "#f0f921"
             ]
            ],
            "type": "histogram2d"
           }
          ],
          "histogram2dcontour": [
           {
            "colorbar": {
             "outlinewidth": 0,
             "ticks": ""
            },
            "colorscale": [
             [
              0,
              "#0d0887"
             ],
             [
              0.1111111111111111,
              "#46039f"
             ],
             [
              0.2222222222222222,
              "#7201a8"
             ],
             [
              0.3333333333333333,
              "#9c179e"
             ],
             [
              0.4444444444444444,
              "#bd3786"
             ],
             [
              0.5555555555555556,
              "#d8576b"
             ],
             [
              0.6666666666666666,
              "#ed7953"
             ],
             [
              0.7777777777777778,
              "#fb9f3a"
             ],
             [
              0.8888888888888888,
              "#fdca26"
             ],
             [
              1,
              "#f0f921"
             ]
            ],
            "type": "histogram2dcontour"
           }
          ],
          "mesh3d": [
           {
            "colorbar": {
             "outlinewidth": 0,
             "ticks": ""
            },
            "type": "mesh3d"
           }
          ],
          "parcoords": [
           {
            "line": {
             "colorbar": {
              "outlinewidth": 0,
              "ticks": ""
             }
            },
            "type": "parcoords"
           }
          ],
          "pie": [
           {
            "automargin": true,
            "type": "pie"
           }
          ],
          "scatter": [
           {
            "marker": {
             "colorbar": {
              "outlinewidth": 0,
              "ticks": ""
             }
            },
            "type": "scatter"
           }
          ],
          "scatter3d": [
           {
            "line": {
             "colorbar": {
              "outlinewidth": 0,
              "ticks": ""
             }
            },
            "marker": {
             "colorbar": {
              "outlinewidth": 0,
              "ticks": ""
             }
            },
            "type": "scatter3d"
           }
          ],
          "scattercarpet": [
           {
            "marker": {
             "colorbar": {
              "outlinewidth": 0,
              "ticks": ""
             }
            },
            "type": "scattercarpet"
           }
          ],
          "scattergeo": [
           {
            "marker": {
             "colorbar": {
              "outlinewidth": 0,
              "ticks": ""
             }
            },
            "type": "scattergeo"
           }
          ],
          "scattergl": [
           {
            "marker": {
             "colorbar": {
              "outlinewidth": 0,
              "ticks": ""
             }
            },
            "type": "scattergl"
           }
          ],
          "scattermapbox": [
           {
            "marker": {
             "colorbar": {
              "outlinewidth": 0,
              "ticks": ""
             }
            },
            "type": "scattermapbox"
           }
          ],
          "scatterpolar": [
           {
            "marker": {
             "colorbar": {
              "outlinewidth": 0,
              "ticks": ""
             }
            },
            "type": "scatterpolar"
           }
          ],
          "scatterpolargl": [
           {
            "marker": {
             "colorbar": {
              "outlinewidth": 0,
              "ticks": ""
             }
            },
            "type": "scatterpolargl"
           }
          ],
          "scatterternary": [
           {
            "marker": {
             "colorbar": {
              "outlinewidth": 0,
              "ticks": ""
             }
            },
            "type": "scatterternary"
           }
          ],
          "surface": [
           {
            "colorbar": {
             "outlinewidth": 0,
             "ticks": ""
            },
            "colorscale": [
             [
              0,
              "#0d0887"
             ],
             [
              0.1111111111111111,
              "#46039f"
             ],
             [
              0.2222222222222222,
              "#7201a8"
             ],
             [
              0.3333333333333333,
              "#9c179e"
             ],
             [
              0.4444444444444444,
              "#bd3786"
             ],
             [
              0.5555555555555556,
              "#d8576b"
             ],
             [
              0.6666666666666666,
              "#ed7953"
             ],
             [
              0.7777777777777778,
              "#fb9f3a"
             ],
             [
              0.8888888888888888,
              "#fdca26"
             ],
             [
              1,
              "#f0f921"
             ]
            ],
            "type": "surface"
           }
          ],
          "table": [
           {
            "cells": {
             "fill": {
              "color": "#EBF0F8"
             },
             "line": {
              "color": "white"
             }
            },
            "header": {
             "fill": {
              "color": "#C8D4E3"
             },
             "line": {
              "color": "white"
             }
            },
            "type": "table"
           }
          ]
         },
         "layout": {
          "annotationdefaults": {
           "arrowcolor": "#2a3f5f",
           "arrowhead": 0,
           "arrowwidth": 1
          },
          "coloraxis": {
           "colorbar": {
            "outlinewidth": 0,
            "ticks": ""
           }
          },
          "colorscale": {
           "diverging": [
            [
             0,
             "#8e0152"
            ],
            [
             0.1,
             "#c51b7d"
            ],
            [
             0.2,
             "#de77ae"
            ],
            [
             0.3,
             "#f1b6da"
            ],
            [
             0.4,
             "#fde0ef"
            ],
            [
             0.5,
             "#f7f7f7"
            ],
            [
             0.6,
             "#e6f5d0"
            ],
            [
             0.7,
             "#b8e186"
            ],
            [
             0.8,
             "#7fbc41"
            ],
            [
             0.9,
             "#4d9221"
            ],
            [
             1,
             "#276419"
            ]
           ],
           "sequential": [
            [
             0,
             "#0d0887"
            ],
            [
             0.1111111111111111,
             "#46039f"
            ],
            [
             0.2222222222222222,
             "#7201a8"
            ],
            [
             0.3333333333333333,
             "#9c179e"
            ],
            [
             0.4444444444444444,
             "#bd3786"
            ],
            [
             0.5555555555555556,
             "#d8576b"
            ],
            [
             0.6666666666666666,
             "#ed7953"
            ],
            [
             0.7777777777777778,
             "#fb9f3a"
            ],
            [
             0.8888888888888888,
             "#fdca26"
            ],
            [
             1,
             "#f0f921"
            ]
           ],
           "sequentialminus": [
            [
             0,
             "#0d0887"
            ],
            [
             0.1111111111111111,
             "#46039f"
            ],
            [
             0.2222222222222222,
             "#7201a8"
            ],
            [
             0.3333333333333333,
             "#9c179e"
            ],
            [
             0.4444444444444444,
             "#bd3786"
            ],
            [
             0.5555555555555556,
             "#d8576b"
            ],
            [
             0.6666666666666666,
             "#ed7953"
            ],
            [
             0.7777777777777778,
             "#fb9f3a"
            ],
            [
             0.8888888888888888,
             "#fdca26"
            ],
            [
             1,
             "#f0f921"
            ]
           ]
          },
          "colorway": [
           "#636efa",
           "#EF553B",
           "#00cc96",
           "#ab63fa",
           "#FFA15A",
           "#19d3f3",
           "#FF6692",
           "#B6E880",
           "#FF97FF",
           "#FECB52"
          ],
          "font": {
           "color": "#2a3f5f"
          },
          "geo": {
           "bgcolor": "white",
           "lakecolor": "white",
           "landcolor": "#E5ECF6",
           "showlakes": true,
           "showland": true,
           "subunitcolor": "white"
          },
          "hoverlabel": {
           "align": "left"
          },
          "hovermode": "closest",
          "mapbox": {
           "style": "light"
          },
          "paper_bgcolor": "white",
          "plot_bgcolor": "#E5ECF6",
          "polar": {
           "angularaxis": {
            "gridcolor": "white",
            "linecolor": "white",
            "ticks": ""
           },
           "bgcolor": "#E5ECF6",
           "radialaxis": {
            "gridcolor": "white",
            "linecolor": "white",
            "ticks": ""
           }
          },
          "scene": {
           "xaxis": {
            "backgroundcolor": "#E5ECF6",
            "gridcolor": "white",
            "gridwidth": 2,
            "linecolor": "white",
            "showbackground": true,
            "ticks": "",
            "zerolinecolor": "white"
           },
           "yaxis": {
            "backgroundcolor": "#E5ECF6",
            "gridcolor": "white",
            "gridwidth": 2,
            "linecolor": "white",
            "showbackground": true,
            "ticks": "",
            "zerolinecolor": "white"
           },
           "zaxis": {
            "backgroundcolor": "#E5ECF6",
            "gridcolor": "white",
            "gridwidth": 2,
            "linecolor": "white",
            "showbackground": true,
            "ticks": "",
            "zerolinecolor": "white"
           }
          },
          "shapedefaults": {
           "line": {
            "color": "#2a3f5f"
           }
          },
          "ternary": {
           "aaxis": {
            "gridcolor": "white",
            "linecolor": "white",
            "ticks": ""
           },
           "baxis": {
            "gridcolor": "white",
            "linecolor": "white",
            "ticks": ""
           },
           "bgcolor": "#E5ECF6",
           "caxis": {
            "gridcolor": "white",
            "linecolor": "white",
            "ticks": ""
           }
          },
          "title": {
           "x": 0.05
          },
          "xaxis": {
           "automargin": true,
           "gridcolor": "white",
           "linecolor": "white",
           "ticks": "",
           "title": {
            "standoff": 15
           },
           "zerolinecolor": "white",
           "zerolinewidth": 2
          },
          "yaxis": {
           "automargin": true,
           "gridcolor": "white",
           "linecolor": "white",
           "ticks": "",
           "title": {
            "standoff": 15
           },
           "zerolinecolor": "white",
           "zerolinewidth": 2
          }
         }
        },
        "xaxis": {
         "title": {
          "text": "Open-Loop Phase (deg)"
         }
        },
        "yaxis": {
         "title": {
          "text": "Open-Loop Gain (dB)"
         }
        }
       }
      },
      "text/html": [
       "<div>\n",
       "        \n",
       "        \n",
       "            <div id=\"45e2d31b-b8c6-4ef7-a6b4-9cc557720b51\" class=\"plotly-graph-div\" style=\"height:525px; width:100%;\"></div>\n",
       "            <script type=\"text/javascript\">\n",
       "                require([\"plotly\"], function(Plotly) {\n",
       "                    window.PLOTLYENV=window.PLOTLYENV || {};\n",
       "                    \n",
       "                if (document.getElementById(\"45e2d31b-b8c6-4ef7-a6b4-9cc557720b51\")) {\n",
       "                    Plotly.newPlot(\n",
       "                        '45e2d31b-b8c6-4ef7-a6b4-9cc557720b51',\n",
       "                        [{\"hoverinfo\": \"none\", \"marker\": {\"line\": {\"color\": \"#FF0000\", \"width\": 1}, \"size\": 3}, \"mode\": \"markers\", \"showlegend\": false, \"type\": \"scatter\", \"x\": [-180], \"y\": [0]}, {\"hovertemplate\": \"<b>w</b>: %{text:.3f} rad/s<br><b>mag</b>: %{y:.3f} dB<br><b>phase</b>: %{x:.3f} deg<br>\", \"line\": {\"color\": \"#1f77b4\"}, \"name\": \"sys\", \"showlegend\": false, \"text\": [0.1, 0.12067926406393285, 0.14563484775012436, 0.1757510624854792, 0.21209508879201905, 0.2559547922699536, 0.3088843596477481, 0.372759372031494, 0.44984326689694454, 0.5428675439323859, 0.6551285568595507, 0.7906043210907697, 0.9540954763499939, 1.151395399326447, 1.3894954943731375, 1.6768329368110073, 2.0235896477251565, 2.442053094548651, 2.9470517025518097, 3.5564803062231287, 4.291934260128776, 5.17947467923121, 6.25055192527397, 7.543120063354615, 9.102981779915218, 10.985411419875584, 13.257113655901081, 15.998587196060573, 19.306977288832496, 23.29951810515372, 28.11768697974228, 33.93221771895326, 40.94915062380423, 49.417133613238335, 59.63623316594643, 71.96856730011514, 86.85113737513521, 104.81131341546852, 126.48552168552958, 152.6417967175232, 184.20699693267144, 222.29964825261933, 268.26957952797244, 323.74575428176433, 390.6939937054613, 471.486636345739, 568.9866029018293, 686.6488450042998, 828.6427728546843, 1000.0], \"type\": \"scatter\", \"x\": [-3.7218258049138355, -4.490153203125646, -5.416369911230212, -6.532378420513882, -7.87612113229808, -9.4924213248252, -11.433710230509682, -13.760430030950145, -16.540761906306415, -19.84914212871332, -23.762838248397053, -28.35579137518912, -33.68926408672415, -39.79996188395485, -46.68843723414922, -54.31307567220505, -62.59566836417138, -71.44093752970626, -80.76471506153541, -90.51886698014029, -100.70115673672251, -111.34482738735943, -122.49035561369104, -134.14679065316272, -146.25308204010256, -158.6523820104624, -171.09244798643422, -183.25824218523735, -194.82819861914214, -205.53245386673797, -215.19105585032216, -223.72310985427848, -231.13260305175987, -237.4833370498692, -242.8736184704135, -247.41625030502203, -251.2250874725586, -254.40719618356442, -257.05901248299716, -259.2650361554829, -261.0979789585182, -262.6196568884265, -263.8821960945256, -264.9293093138456, -265.7975159861908, -266.51724757522555, -267.1138178719193, -267.60825826766575, -268.0180277864819, -268.35761167190225], \"y\": [-3.533537626431975, -3.5384772009607346, -3.5456609087519517, -3.556101682516368, -3.5712623319124033, -3.5932472872194654, -3.6250672844773106, -3.6709952274546676, -3.7370253703663976, -3.8314274507590556, -3.9653403666942872, -4.153263097287845, -4.413172554910769, -4.765870155641153, -5.2331517984233225, -5.8346928255801, -6.584216862090089, -7.486266903189682, -8.535037555778528, -9.715858613459336, -11.008585517245809, -12.39140060078817, -13.84378205322269, -15.348171287153212, -16.890506006782907, -18.460036201539943, -20.048808561445103, -21.651072180907956, -23.26273454383108, -24.880915391988285, -26.503603124599202, -28.129400239129204, -29.75733939734524, -31.386752697139762, -33.01717977959959, -34.648303714134485, -36.279906490428516, -37.911838227608506, -39.54399592312639, -41.17630880933885, -42.808728274353854, -44.44122092973486, -46.07376384504137, -47.706341273080824, -49.33894240010342, -50.97155980040854, -52.60418837493437, -54.23682462231555, -55.869466138296275, -57.502111271974684]}, {\"hovertemplate\": \"<b>w</b>: %{text:.3f} rad/s<br><b>mag</b>: %{y:.3f} dB<br><b>phase</b>: %{x:.3f} deg<br>\", \"line\": {\"color\": \"#ff7f0e\"}, \"name\": \"sys\", \"showlegend\": false, \"text\": [0.1, 0.12067926406393285, 0.14563484775012436, 0.1757510624854792, 0.21209508879201905, 0.2559547922699536, 0.3088843596477481, 0.372759372031494, 0.44984326689694454, 0.5428675439323859, 0.6551285568595507, 0.7906043210907697, 0.9540954763499939, 1.151395399326447, 1.3894954943731375, 1.6768329368110073, 2.0235896477251565, 2.442053094548651, 2.9470517025518097, 3.5564803062231287, 4.291934260128776, 5.17947467923121, 6.25055192527397, 7.543120063354615, 9.102981779915218, 10.985411419875584, 13.257113655901081, 15.998587196060573, 19.306977288832496, 23.29951810515372, 28.11768697974228, 33.93221771895326, 40.94915062380423, 49.417133613238335, 59.63623316594643], \"type\": \"scatter\", \"x\": [-3.8627205254367114, -4.66018499451092, -5.621564922966227, -6.78000958467415, -8.17496645780495, -9.853075959775332, -11.868963679453637, -14.285722470795495, -17.174736781514788, -20.614316376696394, -24.686416996193824, -29.470661362576088, -35.03521036456657, -41.425167025822425, -48.65134376190297, -56.684724250115636, -65.46267173156207, -74.9093196143938, -84.96494206735646, -95.61252125620275, -106.88983180892468, -118.88188257731831, -131.69601547740342, -145.42651069775812, -160.11805491086884, -175.73995777096079, -192.18427273304437, -209.29632791556713, -226.93349529792874, -245.03412790421737, -263.675430197621, -283.11083716117025, -303.79663344380947, -326.43736711601554, -352.1135879406071], \"y\": [-3.5335696614722787, -3.53852385373401, -3.545728848459196, -3.5562006200685, -3.571406406026847, -3.5934570808383444, -3.6253727566668466, -3.6714399732967395, -3.7376728037182594, -3.8323697637938245, -3.9667114835784685, -4.155257339659254, -4.416071404805163, -4.770080348356845, -5.239258951876279, -5.843535705424193, -6.596987637905731, -7.504641117443608, -8.561331484262785, -9.753196743905976, -11.061030235109456, -12.463942648351093, -13.942013774862028, -15.477388190417223, -17.053969569748958, -18.656270541973065, -20.268109637490873, -21.871679674314528, -23.4469803215967, -24.970936846988934, -26.41517191994565, -27.74143187774328, -28.893480397967494, -29.782844184960048, -30.261191637275147]}, {\"hoverinfo\": \"name\", \"line\": {\"color\": \"#555\", \"dash\": \"dot\", \"width\": 1}, \"name\": \"6.00 dB\", \"showlegend\": false, \"type\": \"scatter\", \"x\": [-181.0044525859156, -182.00706208752763, -183.0059994899574, -183.99946365000403, -184.98569457347367, -187.408591693385, -189.75111962661822, -194.11400997325404, -197.95308877480693, -201.2110046386224, -203.882655271241, -208.76368925804854, -210.07854669531383, -209.08573699075276, -206.61944411079287, -203.19624885388873, -199.14024541544325, -194.6633656344593, -189.91215173606156, -181.66883360739166, -180.0, -178.33116639260837, -170.08784826393844, -165.33663436554068, -160.85975458455675, -156.8037511461113, -153.38055588920716, -150.91426300924724, -149.92145330468617, -151.23631074195148, -156.11734472875898, -158.78899536137763, -162.04691122519313, -165.88599002674593, -170.24888037338178, -172.59140830661497, -175.0143054265264, -176.00053634999594, -176.99400051004255, -177.99293791247237, -178.9955474140844], \"y\": [6.038584887637681, 6.030603754626434, 6.017337064173958, 5.998837145331412, 5.975176335900421, 5.894089570862205, 5.783261698845564, 5.4826074459056695, 5.096695738427625, 4.650493262050236, 4.166800369039922, 2.6567802911878013, 1.2493792041125524, 0.03595583500082545, -0.9732279370869548, -1.7915587587987878, -2.436272660456205, -2.922504047148822, -3.2618637150774954, -3.5213402361322443, -3.528697248729707, -3.5213402361322443, -3.261863715077498, -2.9225040471488253, -2.4362726604562077, -1.7915587587987878, -0.9732279370869548, 0.03595583500082353, 1.2493792041125524, 2.6567802911877987, 4.166800369039918, 4.650493262050238, 5.096695738427627, 5.482607445905669, 5.783261698845564, 5.894089570862203, 5.975176335900418, 5.998837145331412, 6.017337064173956, 6.030603754626437, 6.038584887637679]}, {\"hoverinfo\": \"name\", \"line\": {\"color\": \"#555\", \"dash\": \"dot\", \"width\": 1}, \"name\": \"3.00 dB\", \"showlegend\": false, \"type\": \"scatter\", \"x\": [-182.42156130189062, -184.82844943546547, -187.20643299081019, -189.54213134653503, -191.8233626783699, -197.22187957454412, -202.09598892987356, -210.09301738566455, -215.8791234237175, -219.8563069529548, -222.4551688385875, -225.06798311222548, -223.50196919041633, -219.93702449004138, -215.29642457077978, -210.02487275397982, -204.36172377497314, -198.44853900143266, -192.37662214327372, -182.07224305175168, -180.0, -177.92775694824832, -167.6233778567263, -161.5514609985674, -155.63827622502694, -149.9751272460202, -144.70357542922022, -140.06297550995865, -136.49803080958367, -134.93201688777452, -137.54483116141245, -140.1436930470452, -144.12087657628254, -149.90698261433542, -157.9040110701264, -162.7781204254559, -168.17663732163007, -170.45786865346497, -172.7935670091897, -175.17155056453453, -177.57843869810938], \"y\": [10.679764301197936, 10.647034445747146, 10.593037830089836, 10.518575471800114, 10.424714401516344, 10.11401746557135, 9.714033764687105, 8.743853755272685, 7.678062347477537, 6.616357953051257, 5.606844160199614, 3.010293842417393, 1.0059460068552415, -0.5489159148760905, -1.764348624364853, -2.712947800201404, -3.4422186673114457, -3.9835217795043447, -4.357464956087062, -4.641452702670781, -4.649481613751726, -4.641452702670781, -4.357464956087062, -3.9835217795043465, -3.4422186673114483, -2.7129478002014027, -1.764348624364854, -0.5489159148760926, 1.0059460068552415, 3.0102938424173904, 5.606844160199607, 6.61635795305126, 7.678062347477541, 8.743853755272685, 9.714033764687107, 10.11401746557135, 10.424714401516344, 10.518575471800112, 10.59303783008983, 10.647034445747146, 10.679764301197936]}, {\"hoverinfo\": \"name\", \"line\": {\"color\": \"#555\", \"dash\": \"dot\", \"width\": 1}, \"name\": \"1.00 dB\", \"showlegend\": false, \"type\": \"scatter\", \"x\": [-188.12984536554268, -195.88621216474792, -202.9844437398292, -209.27055340099685, -214.7096153155495, -224.98959838098392, -231.68544618825558, -238.9060061369517, -241.93858840592924, -242.95955537487828, -242.88818452740378, -239.59670953467293, -234.31238992498834, -228.21444019414758, -221.70905190957956, -214.9736246071892, -208.09857633531192, -201.13560158246298, -194.1172919529556, -182.35615618485986, -180.0, -177.6438438151401, -165.88270804704442, -158.86439841753705, -151.90142366468808, -145.0263753928108, -138.29094809042041, -131.78555980585242, -125.68761007501163, -120.40329046532707, -117.11181547259622, -117.04044462512172, -118.06141159407076, -121.0939938630483, -128.3145538117444, -135.0104016190161, -145.29038468445046, -150.72944659900304, -157.0155562601706, -164.11378783525214, -171.87015463445724], \"y\": [19.17292087222408, 18.88999404600427, 18.45599908317477, 17.91331788277162, 17.30269583621942, 15.674169524423078, 14.099770859367858, 11.392809577292622, 9.232708314999615, 7.475525714001363, 6.009559815241832, 2.725327008857705, 0.44275075770600797, -1.2482454597388433, -2.5390189104386724, -3.5327626980741282, -4.29037960222416, -4.8497530368011, -5.234889529168014, -5.526739523137509, -5.534983129163744, -5.526739523137509, -5.2348895291680115, -4.8497530368011015, -4.290379602224161, -3.5327626980741273, -2.5390189104386733, -1.2482454597388464, 0.44275075770600797, 2.7253270088577004, 6.009559815241823, 7.4755257140013684, 9.23270831499962, 11.392809577292622, 14.099770859367855, 15.674169524423071, 17.302695836219414, 17.913317882771604, 18.455999083174753, 18.88999404600427, 19.172920872224083]}, {\"hoverinfo\": \"name\", \"line\": {\"color\": \"#555\", \"dash\": \"dot\", \"width\": 1}, \"name\": \"0.50 dB\", \"showlegend\": false, \"type\": \"scatter\", \"x\": [-196.3718246156576, -210.241776113004, -220.80355193113053, -228.51181527270387, -234.1134646185559, -242.54794804403969, -246.79435053744254, -250.17113669346753, -250.7317375930338, -250.10476324945597, -248.87064427851567, -243.52619111012865, -237.14681544455618, -230.35244392901245, -223.35180491824565, -216.23515197605684, -209.04823910924426, -201.81713920054904, -194.55825435352733, -182.42801843030043, -180.0, -177.57198156969963, -165.44174564647267, -158.18286079945094, -150.95176089075574, -143.76484802394313, -136.64819508175432, -129.64755607098758, -122.85318455544379, -116.47380888987135, -111.12935572148433, -109.89523675054403, -109.26826240696619, -109.82886330653247, -113.20564946255746, -117.45205195596026, -125.88653538144405, -131.488184727296, -139.19644806886924, -149.75822388699612, -163.6281753843424], \"y\": [24.66386078734449, 23.68619318037223, 22.428476998260905, 21.119016837844416, 19.86570394081788, 17.148405136599663, 14.97381756434649, 11.709190668056703, 9.318257934761284, 7.44651521952795, 5.916081684987016, 2.548102112298766, 0.2356286732226798, -1.469242571571364, -2.7674915645818707, -3.7656469575966494, -4.526008275446839, -5.0871210227374375, -5.473330927281008, -5.765933081450027, -5.774197205849433, -5.765933081450027, -5.4733309272810065, -5.0871210227374375, -4.5260082754468405, -3.765646957596645, -2.767491564581872, -1.4692425715713675, 0.2356286732226798, 2.548102112298763, 5.916081684987007, 7.446515219527957, 9.31825793476129, 11.709190668056703, 14.973817564346488, 17.148405136599656, 19.86570394081787, 21.119016837844388, 22.428476998260866, 23.68619318037224, 24.663860787344486]}, {\"hoverinfo\": \"name\", \"line\": {\"color\": \"#555\", \"dash\": \"dot\", \"width\": 1}, \"name\": \"0.25 dB\", \"showlegend\": false, \"type\": \"scatter\", \"x\": [-210.7345808486815, -229.4974236482455, -239.7095256979066, -245.60440268536485, -249.25835228553376, -253.86709641080222, -255.65960361036178, -256.26209749939164, -255.33439270580863, -253.7861505386665, -251.9258936010815, -245.51029169050867, -238.57222728724224, -231.42562231524357, -224.1755612738757, -216.86736796171624, -209.52398817799792, -202.15848677226302, -194.77907815652532, -182.46400174809128, -180.0, -177.53599825190878, -165.2209218434747, -157.84151322773704, -150.47601182200208, -143.13263203828376, -135.82443872612433, -128.57437768475643, -121.42777271275776, -114.48970830949133, -108.0741063989185, -106.2138494613335, -104.66560729419137, -103.73790250060836, -104.34039638963822, -106.13290358919781, -110.74164771446624, -114.3955973146351, -120.2904743020932, -130.50257635175458, -149.26541915131847], \"y\": [29.582361840040452, 27.014193437570665, 24.599036537237854, 22.565963255105842, 20.862047629248345, 17.58707676714537, 15.181648668301047, 11.737967925491535, 9.28126664709167, 7.378506027626564, 5.831068132828873, 2.441468980087758, 0.12140345203767483, -1.5869690247594759, -2.887098602924716, -3.8863619025215304, -4.6474117274845135, -5.208960544669629, -5.595439459606192, -5.888230064901855, -5.896499329536557, -5.888230064901855, -5.59543945960619, -5.20896054466963, -4.6474117274845135, -3.8863619025215304, -2.8870986029247176, -1.586969024759478, 0.12140345203767483, 2.441468980087755, 5.831068132828864, 7.37850602762657, 9.281266647091675, 11.737967925491537, 15.181648668301042, 17.587076767145362, 20.86204762924833, 22.565963255105807, 24.599036537237783, 27.014193437570686, 29.58236184004044]}, {\"hoverinfo\": \"name\", \"line\": {\"color\": \"#555\", \"dash\": \"dot\", \"width\": 1}, \"name\": \"0.00 dB\", \"showlegend\": false, \"type\": \"scatter\", \"x\": [-269.4999999999999, -268.99999999999994, -268.50000000000006, -268.00000000000006, -267.5, -266.25, -265.0, -262.5, -260.0, -257.5, -255.0, -247.5, -240.0, -232.5, -225.0, -217.5, -210.0, -202.5, -195.0, -182.5, -180.0, -177.5, -165.0, -157.5, -150.00000000000003, -142.5, -135.0, -127.5, -120.0, -112.5, -105.0, -102.5, -100.0, -97.5, -95.0, -93.75, -92.5, -92.0, -91.5, -91.00000000000006, -90.50000000000011], \"y\": [35.16256289318372, 29.14229371826325, 25.62101977894313, 23.123016808799058, 21.185808854403394, 17.667429531589104, 15.173479920117972, 11.665446712198822, 9.185995486488366, 7.272665074459145, 5.719475475333597, 2.322606875058725, 0.0, -1.7095424698920367, -3.0102999566398116, -4.009933005441557, -4.771212547196623, -5.332906831698536, -5.719475475333596, -6.0123289342854225, -6.020599913279624, -6.0123289342854225, -5.719475475333596, -5.332906831698536, -4.771212547196625, -4.009933005441557, -3.0102999566398125, -1.709542469892039, 0.0, 2.3226068750587237, 5.719475475333587, 7.27266507445915, 9.18599548648837, 11.665446712198822, 15.17347992011797, 17.667429531589097, 21.185808854403376, 23.123016808799015, 25.621019778943044, 29.14229371826329, 35.1625628931837]}, {\"hoverinfo\": \"name\", \"line\": {\"color\": \"#555\", \"dash\": \"dot\", \"width\": 1}, \"name\": \"-1.00 dB\", \"showlegend\": false, \"type\": \"scatter\", \"x\": [-350.87015463445726, -342.1137878352521, -334.01555626017085, -326.72944659900315, -320.29038468445054, -307.51040161901614, -298.3145538117444, -286.09399386304824, -278.06141159407076, -272.0404446251217, -267.1118154725962, -255.40329046532707, -245.68761007501166, -236.78555980585242, -228.29094809042044, -220.0263753928108, -211.90142366468808, -203.86439841753702, -195.8827080470444, -182.64384381514014, -180.0, -177.35615618485994, -164.1172919529556, -156.13560158246298, -148.09857633531195, -139.9736246071892, -131.70905190957959, -123.21444019414761, -114.31238992498837, -104.59670953467293, -92.88818452740384, -87.95955537487828, -81.93858840592918, -73.9060061369517, -61.68544618825558, -52.489598380983864, -39.70961531554951, -33.27055340099696, -25.98444373982943, -17.88621216474786, -9.129845365542792], \"y\": [18.172920872224083, 17.889994046004272, 17.45599908317476, 16.91331788277161, 16.302695836219424, 14.674169524423068, 13.099770859367856, 10.39280957729262, 8.232708314999616, 6.475525714001364, 5.009559815241831, 1.7253270088577046, -0.5572492422939905, -2.2482454597388433, -3.539018910438671, -4.532762698074128, -5.290379602224158, -5.8497530368011, -6.234889529168011, -6.526739523137509, -6.534983129163744, -6.526739523137509, -6.234889529168011, -5.8497530368011, -5.290379602224159, -4.532762698074128, -3.5390189104386724, -2.248245459738846, -0.5572492422939905, 1.725327008857703, 5.009559815241822, 6.47552571400137, 8.23270831499962, 10.392809577292624, 13.099770859367855, 14.674169524423066, 16.302695836219417, 16.9133178827716, 17.455999083174746, 17.889994046004276, 18.17292087222408]}, {\"hoverinfo\": \"name\", \"line\": {\"color\": \"#555\", \"dash\": \"dot\", \"width\": 1}, \"name\": \"-3.00 dB\", \"showlegend\": false, \"type\": \"scatter\", \"x\": [-356.5784386981094, -353.1715505645345, -349.7935670091898, -346.457868653465, -343.1766373216301, -335.27812042545594, -327.9040110701264, -314.9069826143354, -304.1208765762825, -295.1436930470452, -287.54483116141245, -269.9320168877745, -256.4980308095836, -245.06297550995862, -234.70357542922022, -224.97512724602018, -215.6382762250269, -206.55146099856734, -197.62337785672628, -182.92775694824832, -180.0, -177.0722430517517, -162.3766221432737, -153.44853900143264, -144.36172377497311, -135.02487275397982, -125.29642457077978, -114.93702449004138, -103.50196919041633, -90.06798311222553, -72.45516883858761, -64.85630695295481, -55.87912342371749, -45.09301738566461, -32.09598892987361, -24.72187957454412, -16.82336267836996, -13.542131346535086, -10.206432990810299, -6.828449435465473, -3.4215613018906197], \"y\": [7.6797643011979355, 7.647034445747147, 7.593037830089832, 7.51857547180011, 7.424714401516347, 7.114017465571349, 6.714033764687107, 5.743853755272688, 4.678062347477541, 3.6163579530512586, 2.6068441601996146, 0.010293842417393655, -1.9940539931447574, -3.54891591487609, -4.764348624364852, -5.712947800201404, -6.442218667311447, -6.983521779504347, -7.357464956087063, -7.64145270267078, -7.6494816137517265, -7.64145270267078, -7.357464956087062, -6.983521779504346, -6.442218667311449, -5.712947800201404, -4.764348624364854, -3.5489159148760945, -1.9940539931447574, 0.01029384241739173, 2.606844160199607, 3.6163579530512613, 4.6780623474775425, 5.743853755272687, 6.714033764687107, 7.114017465571347, 7.424714401516347, 7.51857547180011, 7.593037830089831, 7.647034445747147, 7.6797643011979355]}, {\"hoverinfo\": \"name\", \"line\": {\"color\": \"#555\", \"dash\": \"dot\", \"width\": 1}, \"name\": \"-6.00 dB\", \"showlegend\": false, \"type\": \"scatter\", \"x\": [-357.9955474140844, -355.99293791247237, -353.99400051004255, -352.00053634999597, -350.0143054265264, -345.09140830661494, -340.2488803733818, -330.8859900267459, -322.0469112251931, -313.7889953613776, -306.117344728759, -286.23631074195146, -269.92145330468617, -255.91426300924724, -243.38055588920713, -231.80375114611127, -220.85975458455675, -210.33663436554065, -200.08784826393844, -183.33116639260834, -180.0, -176.66883360739166, -159.91215173606153, -149.66336563445935, -139.14024541544327, -128.1962488538887, -116.61944411079287, -104.08573699075279, -90.07854669531383, -73.76368925804854, -53.88265527124105, -46.21100463862234, -37.95308877480687, -29.114009973254042, -19.75111962661822, -14.908591693385063, -9.985694573473609, -7.999463650004088, -6.005999489957503, -4.007062087527629, -2.004452585915658], \"y\": [0.03858488763767778, 0.03060375462643412, 0.017337064173952046, -0.0011628546685900252, -0.024823664099580364, -0.10591042913779797, -0.21673830115443865, -0.5173925540943324, -0.9033042615723732, -1.3495067379497658, -1.8331996309600802, -3.3432197088121995, -4.750620795887448, -5.964044164999175, -6.973227937086955, -7.791558758798789, -8.436272660456204, -8.922504047148825, -9.261863715077498, -9.521340236132247, -9.528697248729706, -9.521340236132247, -9.261863715077496, -8.922504047148825, -8.43627266045621, -7.791558758798788, -6.973227937086954, -5.964044164999177, -4.75062079588745, -3.343219708812202, -1.8331996309600862, -1.3495067379497636, -0.9033042615723743, -0.5173925540943324, -0.21673830115443865, -0.10591042913779991, -0.02482366409958133, -0.001162854668589061, 0.017337064173952046, 0.03060375462643412, 0.03858488763767969]}, {\"hoverinfo\": \"name\", \"line\": {\"color\": \"#555\", \"dash\": \"dot\", \"width\": 1}, \"name\": \"-12.00 dB\", \"showlegend\": false, \"type\": \"scatter\", \"x\": [-358.6645881674737, -357.3294042376337, -355.99467567103443, -354.66062904607696, -353.32748962319005, -350.00007143960084, -346.68313903391805, -340.093777577436, -333.58372479687006, -327.1738821606527, -320.8811636256163, -302.8125312477642, -286.02949646482057, -270.4526028005789, -255.89967637641075, -242.16599931121726, -229.0616987201294, -216.4228646138801, -204.1105118631359, -183.9968095913896, -180.0, -176.00319040861044, -155.88948813686406, -143.57713538611992, -130.93830127987064, -117.83400068878268, -104.10032362358922, -89.54739719942108, -73.97050353517949, -57.18746875223587, -39.11883637438376, -32.82611783934732, -26.416275203129942, -19.906222422563985, -13.316860966081947, -9.999928560399155, -6.672510376809953, -5.339370953923037, -4.005324328965571, -2.670595762366247, -1.3354118325262903], \"y\": [-9.488041039111309, -9.489818140538599, -9.492777760313825, -9.496916581919354, -9.502229976955315, -9.520610194811976, -9.546163900231825, -9.618050006682063, -9.715988750167744, -9.837516123650202, -9.979764081669678, -10.499481991597179, -11.095063346037577, -11.699146567511661, -12.265723755961025, -12.766843237510201, -13.186893456343654, -13.517773258690749, -13.75560292379796, -13.94114919117165, -13.946455874173909, -13.94114919117165, -13.75560292379796, -13.517773258690745, -13.186893456343656, -12.766843237510201, -12.265723755961025, -11.699146567511665, -11.095063346037577, -10.499481991597179, -9.97976408166968, -9.837516123650202, -9.715988750167746, -9.618050006682063, -9.546163900231825, -9.520610194811976, -9.502229976955315, -9.496916581919356, -9.492777760313823, -9.489818140538599, -9.488041039111307]}, {\"hoverinfo\": \"name\", \"line\": {\"color\": \"#555\", \"dash\": \"dot\", \"width\": 1}, \"name\": \"-20.00 dB\", \"showlegend\": false, \"type\": \"scatter\", \"x\": [-358.8888965493027, -357.7778390541404, -356.66687343532357, -355.5560455442723, -354.44540112846903, -351.66989167066737, -348.89652075551027, -343.3589703285723, -337.8381516710673, -332.33916301626834, -326.8667171206091, -310.64868408641405, -294.79128089714493, -279.3371191156383, -264.28940686250036, -249.6211360082914, -235.2849960460518, -221.22162278409758, -207.3653939814767, -184.54588366326493, -180.0, -175.45411633673513, -152.63460601852324, -138.77837721590248, -124.71500395394827, -110.37886399170858, -95.71059313749964, -80.6628808843617, -65.20871910285507, -49.35131591358595, -33.13328287939095, -27.660836983731656, -22.161848328932706, -16.641029671427702, -11.103479244489733, -8.330108329332631, -5.55459887153097, -4.443954455727749, -3.3331265646764905, -2.2221609458596276, -1.1111034506973283], \"y\": [-19.085013507081424, -19.085503375377726, -19.086319534008915, -19.08746155052706, -19.08892882019638, -19.094014462352902, -19.101110842980592, -19.121236166745526, -19.149042963976978, -19.184174848780152, -19.226190346310158, -19.38809146911957, -19.590413923210935, -19.81472569408657, -20.043213737826427, -20.260279180191155, -20.453229787866572, -20.612342803649057, -20.730600258806064, -20.825121237762787, -20.8278537031645, -20.825121237762787, -20.730600258806064, -20.612342803649057, -20.453229787866576, -20.26027918019116, -20.043213737826427, -19.81472569408657, -19.590413923210935, -19.38809146911957, -19.226190346310158, -19.184174848780152, -19.149042963976978, -19.121236166745526, -19.101110842980592, -19.094014462352902, -19.08892882019638, -19.08746155052706, -19.086319534008915, -19.085503375377726, -19.085013507081424]}, {\"hoverinfo\": \"name\", \"line\": {\"color\": \"#555\", \"dash\": \"dot\", \"width\": 1}, \"name\": \"-20.00 dB\", \"showlegend\": false, \"type\": \"scatter\", \"x\": [-358.8888965493027, -357.7778390541404, -356.66687343532357, -355.5560455442723, -354.44540112846903, -351.66989167066737, -348.89652075551027, -343.3589703285723, -337.8381516710673, -332.33916301626834, -326.8667171206091, -310.64868408641405, -294.79128089714493, -279.3371191156383, -264.28940686250036, -249.6211360082914, -235.2849960460518, -221.22162278409758, -207.3653939814767, -184.54588366326493, -180.0, -175.45411633673513, -152.63460601852324, -138.77837721590248, -124.71500395394827, -110.37886399170858, -95.71059313749964, -80.6628808843617, -65.20871910285507, -49.35131591358595, -33.13328287939095, -27.660836983731656, -22.161848328932706, -16.641029671427702, -11.103479244489733, -8.330108329332631, -5.55459887153097, -4.443954455727749, -3.3331265646764905, -2.2221609458596276, -1.1111034506973283], \"y\": [-19.085013507081424, -19.085503375377726, -19.086319534008915, -19.08746155052706, -19.08892882019638, -19.094014462352902, -19.101110842980592, -19.121236166745526, -19.149042963976978, -19.184174848780152, -19.226190346310158, -19.38809146911957, -19.590413923210935, -19.81472569408657, -20.043213737826427, -20.260279180191155, -20.453229787866572, -20.612342803649057, -20.730600258806064, -20.825121237762787, -20.8278537031645, -20.825121237762787, -20.730600258806064, -20.612342803649057, -20.453229787866576, -20.26027918019116, -20.043213737826427, -19.81472569408657, -19.590413923210935, -19.38809146911957, -19.226190346310158, -19.184174848780152, -19.149042963976978, -19.121236166745526, -19.101110842980592, -19.094014462352902, -19.08892882019638, -19.08746155052706, -19.086319534008915, -19.085503375377726, -19.085013507081424]}],\n",
       "                        {\"template\": {\"data\": {\"bar\": [{\"error_x\": {\"color\": \"#2a3f5f\"}, \"error_y\": {\"color\": \"#2a3f5f\"}, \"marker\": {\"line\": {\"color\": \"#E5ECF6\", \"width\": 0.5}}, \"type\": \"bar\"}], \"barpolar\": [{\"marker\": {\"line\": {\"color\": \"#E5ECF6\", \"width\": 0.5}}, \"type\": \"barpolar\"}], \"carpet\": [{\"aaxis\": {\"endlinecolor\": \"#2a3f5f\", \"gridcolor\": \"white\", \"linecolor\": \"white\", \"minorgridcolor\": \"white\", \"startlinecolor\": \"#2a3f5f\"}, \"baxis\": {\"endlinecolor\": \"#2a3f5f\", \"gridcolor\": \"white\", \"linecolor\": \"white\", \"minorgridcolor\": \"white\", \"startlinecolor\": \"#2a3f5f\"}, \"type\": \"carpet\"}], \"choropleth\": [{\"colorbar\": {\"outlinewidth\": 0, \"ticks\": \"\"}, \"type\": \"choropleth\"}], \"contour\": [{\"colorbar\": {\"outlinewidth\": 0, \"ticks\": \"\"}, \"colorscale\": [[0.0, \"#0d0887\"], [0.1111111111111111, \"#46039f\"], [0.2222222222222222, \"#7201a8\"], [0.3333333333333333, \"#9c179e\"], [0.4444444444444444, \"#bd3786\"], [0.5555555555555556, \"#d8576b\"], [0.6666666666666666, \"#ed7953\"], [0.7777777777777778, \"#fb9f3a\"], [0.8888888888888888, \"#fdca26\"], [1.0, \"#f0f921\"]], \"type\": \"contour\"}], \"contourcarpet\": [{\"colorbar\": {\"outlinewidth\": 0, \"ticks\": \"\"}, \"type\": \"contourcarpet\"}], \"heatmap\": [{\"colorbar\": {\"outlinewidth\": 0, \"ticks\": \"\"}, \"colorscale\": [[0.0, \"#0d0887\"], [0.1111111111111111, \"#46039f\"], [0.2222222222222222, \"#7201a8\"], [0.3333333333333333, \"#9c179e\"], [0.4444444444444444, \"#bd3786\"], [0.5555555555555556, \"#d8576b\"], [0.6666666666666666, \"#ed7953\"], [0.7777777777777778, \"#fb9f3a\"], [0.8888888888888888, \"#fdca26\"], [1.0, \"#f0f921\"]], \"type\": \"heatmap\"}], \"heatmapgl\": [{\"colorbar\": {\"outlinewidth\": 0, \"ticks\": \"\"}, \"colorscale\": [[0.0, \"#0d0887\"], [0.1111111111111111, \"#46039f\"], [0.2222222222222222, \"#7201a8\"], [0.3333333333333333, \"#9c179e\"], [0.4444444444444444, \"#bd3786\"], [0.5555555555555556, \"#d8576b\"], [0.6666666666666666, \"#ed7953\"], [0.7777777777777778, \"#fb9f3a\"], [0.8888888888888888, \"#fdca26\"], [1.0, \"#f0f921\"]], \"type\": \"heatmapgl\"}], \"histogram\": [{\"marker\": {\"colorbar\": {\"outlinewidth\": 0, \"ticks\": \"\"}}, \"type\": \"histogram\"}], \"histogram2d\": [{\"colorbar\": {\"outlinewidth\": 0, \"ticks\": \"\"}, \"colorscale\": [[0.0, \"#0d0887\"], [0.1111111111111111, \"#46039f\"], [0.2222222222222222, \"#7201a8\"], [0.3333333333333333, \"#9c179e\"], [0.4444444444444444, \"#bd3786\"], [0.5555555555555556, \"#d8576b\"], [0.6666666666666666, \"#ed7953\"], [0.7777777777777778, \"#fb9f3a\"], [0.8888888888888888, \"#fdca26\"], [1.0, \"#f0f921\"]], \"type\": \"histogram2d\"}], \"histogram2dcontour\": [{\"colorbar\": {\"outlinewidth\": 0, \"ticks\": \"\"}, \"colorscale\": [[0.0, \"#0d0887\"], [0.1111111111111111, \"#46039f\"], [0.2222222222222222, \"#7201a8\"], [0.3333333333333333, \"#9c179e\"], [0.4444444444444444, \"#bd3786\"], [0.5555555555555556, \"#d8576b\"], [0.6666666666666666, \"#ed7953\"], [0.7777777777777778, \"#fb9f3a\"], [0.8888888888888888, \"#fdca26\"], [1.0, \"#f0f921\"]], \"type\": \"histogram2dcontour\"}], \"mesh3d\": [{\"colorbar\": {\"outlinewidth\": 0, \"ticks\": \"\"}, \"type\": \"mesh3d\"}], \"parcoords\": [{\"line\": {\"colorbar\": {\"outlinewidth\": 0, \"ticks\": \"\"}}, \"type\": \"parcoords\"}], \"pie\": [{\"automargin\": true, \"type\": \"pie\"}], \"scatter\": [{\"marker\": {\"colorbar\": {\"outlinewidth\": 0, \"ticks\": \"\"}}, \"type\": \"scatter\"}], \"scatter3d\": [{\"line\": {\"colorbar\": {\"outlinewidth\": 0, \"ticks\": \"\"}}, \"marker\": {\"colorbar\": {\"outlinewidth\": 0, \"ticks\": \"\"}}, \"type\": \"scatter3d\"}], \"scattercarpet\": [{\"marker\": {\"colorbar\": {\"outlinewidth\": 0, \"ticks\": \"\"}}, \"type\": \"scattercarpet\"}], \"scattergeo\": [{\"marker\": {\"colorbar\": {\"outlinewidth\": 0, \"ticks\": \"\"}}, \"type\": \"scattergeo\"}], \"scattergl\": [{\"marker\": {\"colorbar\": {\"outlinewidth\": 0, \"ticks\": \"\"}}, \"type\": \"scattergl\"}], \"scattermapbox\": [{\"marker\": {\"colorbar\": {\"outlinewidth\": 0, \"ticks\": \"\"}}, \"type\": \"scattermapbox\"}], \"scatterpolar\": [{\"marker\": {\"colorbar\": {\"outlinewidth\": 0, \"ticks\": \"\"}}, \"type\": \"scatterpolar\"}], \"scatterpolargl\": [{\"marker\": {\"colorbar\": {\"outlinewidth\": 0, \"ticks\": \"\"}}, \"type\": \"scatterpolargl\"}], \"scatterternary\": [{\"marker\": {\"colorbar\": {\"outlinewidth\": 0, \"ticks\": \"\"}}, \"type\": \"scatterternary\"}], \"surface\": [{\"colorbar\": {\"outlinewidth\": 0, \"ticks\": \"\"}, \"colorscale\": [[0.0, \"#0d0887\"], [0.1111111111111111, \"#46039f\"], [0.2222222222222222, \"#7201a8\"], [0.3333333333333333, \"#9c179e\"], [0.4444444444444444, \"#bd3786\"], [0.5555555555555556, \"#d8576b\"], [0.6666666666666666, \"#ed7953\"], [0.7777777777777778, \"#fb9f3a\"], [0.8888888888888888, \"#fdca26\"], [1.0, \"#f0f921\"]], \"type\": \"surface\"}], \"table\": [{\"cells\": {\"fill\": {\"color\": \"#EBF0F8\"}, \"line\": {\"color\": \"white\"}}, \"header\": {\"fill\": {\"color\": \"#C8D4E3\"}, \"line\": {\"color\": \"white\"}}, \"type\": \"table\"}]}, \"layout\": {\"annotationdefaults\": {\"arrowcolor\": \"#2a3f5f\", \"arrowhead\": 0, \"arrowwidth\": 1}, \"coloraxis\": {\"colorbar\": {\"outlinewidth\": 0, \"ticks\": \"\"}}, \"colorscale\": {\"diverging\": [[0, \"#8e0152\"], [0.1, \"#c51b7d\"], [0.2, \"#de77ae\"], [0.3, \"#f1b6da\"], [0.4, \"#fde0ef\"], [0.5, \"#f7f7f7\"], [0.6, \"#e6f5d0\"], [0.7, \"#b8e186\"], [0.8, \"#7fbc41\"], [0.9, \"#4d9221\"], [1, \"#276419\"]], \"sequential\": [[0.0, \"#0d0887\"], [0.1111111111111111, \"#46039f\"], [0.2222222222222222, \"#7201a8\"], [0.3333333333333333, \"#9c179e\"], [0.4444444444444444, \"#bd3786\"], [0.5555555555555556, \"#d8576b\"], [0.6666666666666666, \"#ed7953\"], [0.7777777777777778, \"#fb9f3a\"], [0.8888888888888888, \"#fdca26\"], [1.0, \"#f0f921\"]], \"sequentialminus\": [[0.0, \"#0d0887\"], [0.1111111111111111, \"#46039f\"], [0.2222222222222222, \"#7201a8\"], [0.3333333333333333, \"#9c179e\"], [0.4444444444444444, \"#bd3786\"], [0.5555555555555556, \"#d8576b\"], [0.6666666666666666, \"#ed7953\"], [0.7777777777777778, \"#fb9f3a\"], [0.8888888888888888, \"#fdca26\"], [1.0, \"#f0f921\"]]}, \"colorway\": [\"#636efa\", \"#EF553B\", \"#00cc96\", \"#ab63fa\", \"#FFA15A\", \"#19d3f3\", \"#FF6692\", \"#B6E880\", \"#FF97FF\", \"#FECB52\"], \"font\": {\"color\": \"#2a3f5f\"}, \"geo\": {\"bgcolor\": \"white\", \"lakecolor\": \"white\", \"landcolor\": \"#E5ECF6\", \"showlakes\": true, \"showland\": true, \"subunitcolor\": \"white\"}, \"hoverlabel\": {\"align\": \"left\"}, \"hovermode\": \"closest\", \"mapbox\": {\"style\": \"light\"}, \"paper_bgcolor\": \"white\", \"plot_bgcolor\": \"#E5ECF6\", \"polar\": {\"angularaxis\": {\"gridcolor\": \"white\", \"linecolor\": \"white\", \"ticks\": \"\"}, \"bgcolor\": \"#E5ECF6\", \"radialaxis\": {\"gridcolor\": \"white\", \"linecolor\": \"white\", \"ticks\": \"\"}}, \"scene\": {\"xaxis\": {\"backgroundcolor\": \"#E5ECF6\", \"gridcolor\": \"white\", \"gridwidth\": 2, \"linecolor\": \"white\", \"showbackground\": true, \"ticks\": \"\", \"zerolinecolor\": \"white\"}, \"yaxis\": {\"backgroundcolor\": \"#E5ECF6\", \"gridcolor\": \"white\", \"gridwidth\": 2, \"linecolor\": \"white\", \"showbackground\": true, \"ticks\": \"\", \"zerolinecolor\": \"white\"}, \"zaxis\": {\"backgroundcolor\": \"#E5ECF6\", \"gridcolor\": \"white\", \"gridwidth\": 2, \"linecolor\": \"white\", \"showbackground\": true, \"ticks\": \"\", \"zerolinecolor\": \"white\"}}, \"shapedefaults\": {\"line\": {\"color\": \"#2a3f5f\"}}, \"ternary\": {\"aaxis\": {\"gridcolor\": \"white\", \"linecolor\": \"white\", \"ticks\": \"\"}, \"baxis\": {\"gridcolor\": \"white\", \"linecolor\": \"white\", \"ticks\": \"\"}, \"bgcolor\": \"#E5ECF6\", \"caxis\": {\"gridcolor\": \"white\", \"linecolor\": \"white\", \"ticks\": \"\"}}, \"title\": {\"x\": 0.05}, \"xaxis\": {\"automargin\": true, \"gridcolor\": \"white\", \"linecolor\": \"white\", \"ticks\": \"\", \"title\": {\"standoff\": 15}, \"zerolinecolor\": \"white\", \"zerolinewidth\": 2}, \"yaxis\": {\"automargin\": true, \"gridcolor\": \"white\", \"linecolor\": \"white\", \"ticks\": \"\", \"title\": {\"standoff\": 15}, \"zerolinecolor\": \"white\", \"zerolinewidth\": 2}}}, \"xaxis\": {\"title\": {\"text\": \"Open-Loop Phase (deg)\"}}, \"yaxis\": {\"title\": {\"text\": \"Open-Loop Gain (dB)\"}}},\n",
       "                        {\"responsive\": true}\n",
       "                    ).then(function(){\n",
       "                            \n",
       "var gd = document.getElementById('45e2d31b-b8c6-4ef7-a6b4-9cc557720b51');\n",
       "var x = new MutationObserver(function (mutations, observer) {{\n",
       "        var display = window.getComputedStyle(gd).display;\n",
       "        if (!display || display === 'none') {{\n",
       "            console.log([gd, 'removed!']);\n",
       "            Plotly.purge(gd);\n",
       "            observer.disconnect();\n",
       "        }}\n",
       "}});\n",
       "\n",
       "// Listen for the removal of the full notebook cells\n",
       "var notebookContainer = gd.closest('#notebook-container');\n",
       "if (notebookContainer) {{\n",
       "    x.observe(notebookContainer, {childList: true});\n",
       "}}\n",
       "\n",
       "// Listen for the clearing of the current output cell\n",
       "var outputEl = gd.closest('.output');\n",
       "if (outputEl) {{\n",
       "    x.observe(outputEl, {childList: true});\n",
       "}}\n",
       "\n",
       "                        })\n",
       "                };\n",
       "                });\n",
       "            </script>\n",
       "        </div>"
      ]
     },
     "metadata": {},
     "output_type": "display_data"
    }
   ],
   "source": [
    "fig = figure(\"nichols\")\n",
    "fig.plot(f)\n",
    "fig.plot(Fz)\n",
    "fig.grid(show_phase=False)\n",
    "fig.show()"
   ]
  },
  {
   "cell_type": "markdown",
   "metadata": {},
   "source": [
    "## 5. Régulation proportionnelle.\n",
    "\n",
    "### 5.1 Calibration du correcteur\n",
    "\n",
    "On veut obtenir une réponse indicielle, pour le système corrigé et bouclé, analogue à celle d’un système du 2ème ordre de facteur d'amortissement $m = 0.38$ (donc, pour la réponse harmonique, un facteur de résonance de $M =3$ dB).\n",
    "La période d'échantillonnage est fixée à $Te = 0.05$ s. Le correcteur proportionnel s'écrit sous la forme d'un simple gain : $C(z) = K$.\n",
    "\n",
    "Pour déterminer la valeur à donner au gain $K$ du régulateur, utilisez la méthode graphique :\n",
    "\n",
    "* **Question** \n",
    "    * tracez la FT de la chaîne directe du système $KF(z)$ et cherchez à obtenir la résonance voulue sur la fonction de transfert en boucle fermée $H(z)$ par retouches successives de la valeur de K. Donnez la valeur du gain $K$ ainsi obtenu\n",
    "    * Donnez le gain statique de $H(z)$ en valeur naturelle.\n",
    "    * Déterminez à partir de $\\omega_r$, et à l'aide des abaques que vous avez à votre disposition le temps de réponse prévisible de $H(z)$.\n",
    "    * Déterminez la marge de gain et la marge de phase du système corrigé."
   ]
  },
  {
   "cell_type": "code",
   "execution_count": 70,
   "metadata": {},
   "outputs": [
    {
     "data": {
      "application/vnd.plotly.v1+json": {
       "config": {
        "plotlyServerURL": "https://plot.ly"
       },
       "data": [
        {
         "hoverinfo": "none",
         "marker": {
          "line": {
           "color": "#FF0000",
           "width": 1
          },
          "size": 3
         },
         "mode": "markers",
         "showlegend": false,
         "type": "scatter",
         "x": [
          -180
         ],
         "y": [
          0
         ]
        },
        {
         "hovertemplate": "<b>w</b>: %{text:.3f} rad/s<br><b>mag</b>: %{y:.3f} dB<br><b>phase</b>: %{x:.3f} deg<br>",
         "line": {
          "color": "#1f77b4"
         },
         "name": "sys",
         "showlegend": false,
         "text": [
          0.1,
          0.12067926406393285,
          0.14563484775012436,
          0.1757510624854792,
          0.21209508879201905,
          0.2559547922699536,
          0.3088843596477481,
          0.372759372031494,
          0.44984326689694454,
          0.5428675439323859,
          0.6551285568595507,
          0.7906043210907697,
          0.9540954763499939,
          1.151395399326447,
          1.3894954943731375,
          1.6768329368110073,
          2.0235896477251565,
          2.442053094548651,
          2.9470517025518097,
          3.5564803062231287,
          4.291934260128776,
          5.17947467923121,
          6.25055192527397,
          7.543120063354615,
          9.102981779915218,
          10.985411419875584,
          13.257113655901081,
          15.998587196060573,
          19.306977288832496,
          23.29951810515372,
          28.11768697974228,
          33.93221771895326,
          40.94915062380423,
          49.417133613238335,
          59.63623316594643
         ],
         "type": "scatter",
         "x": [
          -3.8627205254367114,
          -4.66018499451092,
          -5.621564922966227,
          -6.78000958467415,
          -8.17496645780495,
          -9.853075959775357,
          -11.868963679453662,
          -14.28572247079552,
          -17.174736781514788,
          -20.614316376696394,
          -24.686416996193824,
          -29.470661362576088,
          -35.03521036456657,
          -41.425167025822425,
          -48.65134376190294,
          -56.68472425011562,
          -65.46267173156204,
          -74.90931961439377,
          -84.96494206735643,
          -95.61252125620274,
          -106.88983180892464,
          -118.88188257731828,
          -131.6960154774034,
          -145.42651069775812,
          -160.11805491086884,
          -175.73995777096076,
          -192.18427273304437,
          -209.29632791556713,
          -226.93349529792874,
          -245.03412790421737,
          -263.675430197621,
          -283.11083716117025,
          -303.79663344380947,
          -326.43736711601554,
          -352.1135879406071
         ],
         "y": [
          7.347791225533232,
          7.342837033271503,
          7.335632038546316,
          7.3251602669370115,
          7.309954480978665,
          7.2879038061671695,
          7.2559881303386655,
          7.209920913708773,
          7.143688083287253,
          7.048991123211687,
          6.9146494034270445,
          6.726103547346258,
          6.465289482200348,
          6.111280538648667,
          5.642101935129232,
          5.037825181581319,
          4.28437324909978,
          3.3767197695619062,
          2.320029402742729,
          1.1281641430995388,
          -0.17966934810394408,
          -1.582581761345581,
          -3.0606528878565156,
          -4.59602730341171,
          -6.172608682743446,
          -7.774909654967549,
          -9.386748750485358,
          -10.990318787309018,
          -12.565619434591188,
          -14.089575959983422,
          -15.533811032940136,
          -16.860070990737768,
          -18.012119510961984,
          -18.901483297954538,
          -19.379830750269633
         ]
        },
        {
         "hoverinfo": "name",
         "line": {
          "color": "#555",
          "dash": "dot",
          "width": 1
         },
         "name": "6.00 dB",
         "showlegend": false,
         "type": "scatter",
         "x": [
          -181.0044525859156,
          -182.00706208752763,
          -183.0059994899574,
          -183.99946365000403,
          -184.98569457347367,
          -187.408591693385,
          -189.75111962661822,
          -194.11400997325404,
          -197.95308877480693,
          -201.2110046386224,
          -203.882655271241,
          -208.76368925804854,
          -210.07854669531383,
          -209.08573699075276,
          -206.61944411079287,
          -203.19624885388873,
          -199.14024541544325,
          -194.6633656344593,
          -189.91215173606156,
          -181.66883360739166,
          -180,
          -178.33116639260837,
          -170.08784826393844,
          -165.33663436554068,
          -160.85975458455675,
          -156.8037511461113,
          -153.38055588920716,
          -150.91426300924724,
          -149.92145330468617,
          -151.23631074195148,
          -156.11734472875898,
          -158.78899536137763,
          -162.04691122519313,
          -165.88599002674593,
          -170.24888037338178,
          -172.59140830661497,
          -175.0143054265264,
          -176.00053634999594,
          -176.99400051004255,
          -177.99293791247237,
          -178.9955474140844
         ],
         "y": [
          6.038584887637681,
          6.030603754626434,
          6.017337064173958,
          5.998837145331412,
          5.975176335900421,
          5.894089570862205,
          5.783261698845564,
          5.4826074459056695,
          5.096695738427625,
          4.650493262050236,
          4.166800369039922,
          2.6567802911878013,
          1.2493792041125524,
          0.03595583500082545,
          -0.9732279370869548,
          -1.7915587587987878,
          -2.436272660456205,
          -2.922504047148822,
          -3.2618637150774954,
          -3.5213402361322443,
          -3.528697248729707,
          -3.5213402361322443,
          -3.261863715077498,
          -2.9225040471488253,
          -2.4362726604562077,
          -1.7915587587987878,
          -0.9732279370869548,
          0.03595583500082353,
          1.2493792041125524,
          2.6567802911877987,
          4.166800369039918,
          4.650493262050238,
          5.096695738427627,
          5.482607445905669,
          5.783261698845564,
          5.894089570862203,
          5.975176335900418,
          5.998837145331412,
          6.017337064173956,
          6.030603754626437,
          6.038584887637679
         ]
        },
        {
         "hoverinfo": "name",
         "line": {
          "color": "#555",
          "dash": "dot",
          "width": 1
         },
         "name": "3.00 dB",
         "showlegend": false,
         "type": "scatter",
         "x": [
          -182.42156130189062,
          -184.82844943546547,
          -187.20643299081019,
          -189.54213134653503,
          -191.8233626783699,
          -197.22187957454412,
          -202.09598892987356,
          -210.09301738566455,
          -215.8791234237175,
          -219.8563069529548,
          -222.4551688385875,
          -225.06798311222548,
          -223.50196919041633,
          -219.93702449004138,
          -215.29642457077978,
          -210.02487275397982,
          -204.36172377497314,
          -198.44853900143266,
          -192.37662214327372,
          -182.07224305175168,
          -180,
          -177.92775694824832,
          -167.6233778567263,
          -161.5514609985674,
          -155.63827622502694,
          -149.9751272460202,
          -144.70357542922022,
          -140.06297550995865,
          -136.49803080958367,
          -134.93201688777452,
          -137.54483116141245,
          -140.1436930470452,
          -144.12087657628254,
          -149.90698261433542,
          -157.9040110701264,
          -162.7781204254559,
          -168.17663732163007,
          -170.45786865346497,
          -172.7935670091897,
          -175.17155056453453,
          -177.57843869810938
         ],
         "y": [
          10.679764301197936,
          10.647034445747146,
          10.593037830089836,
          10.518575471800114,
          10.424714401516344,
          10.11401746557135,
          9.714033764687105,
          8.743853755272685,
          7.678062347477537,
          6.616357953051257,
          5.606844160199614,
          3.010293842417393,
          1.0059460068552415,
          -0.5489159148760905,
          -1.764348624364853,
          -2.712947800201404,
          -3.4422186673114457,
          -3.9835217795043447,
          -4.357464956087062,
          -4.641452702670781,
          -4.649481613751726,
          -4.641452702670781,
          -4.357464956087062,
          -3.9835217795043465,
          -3.4422186673114483,
          -2.7129478002014027,
          -1.764348624364854,
          -0.5489159148760926,
          1.0059460068552415,
          3.0102938424173904,
          5.606844160199607,
          6.61635795305126,
          7.678062347477541,
          8.743853755272685,
          9.714033764687107,
          10.11401746557135,
          10.424714401516344,
          10.518575471800112,
          10.59303783008983,
          10.647034445747146,
          10.679764301197936
         ]
        },
        {
         "hoverinfo": "name",
         "line": {
          "color": "#555",
          "dash": "dot",
          "width": 1
         },
         "name": "1.00 dB",
         "showlegend": false,
         "type": "scatter",
         "x": [
          -188.12984536554268,
          -195.88621216474792,
          -202.9844437398292,
          -209.27055340099685,
          -214.7096153155495,
          -224.98959838098392,
          -231.68544618825558,
          -238.9060061369517,
          -241.93858840592924,
          -242.95955537487828,
          -242.88818452740378,
          -239.59670953467293,
          -234.31238992498834,
          -228.21444019414758,
          -221.70905190957956,
          -214.9736246071892,
          -208.09857633531192,
          -201.13560158246298,
          -194.1172919529556,
          -182.35615618485986,
          -180,
          -177.6438438151401,
          -165.88270804704442,
          -158.86439841753705,
          -151.90142366468808,
          -145.0263753928108,
          -138.29094809042041,
          -131.78555980585242,
          -125.68761007501163,
          -120.40329046532707,
          -117.11181547259622,
          -117.04044462512172,
          -118.06141159407076,
          -121.0939938630483,
          -128.3145538117444,
          -135.0104016190161,
          -145.29038468445046,
          -150.72944659900304,
          -157.0155562601706,
          -164.11378783525214,
          -171.87015463445724
         ],
         "y": [
          19.17292087222408,
          18.88999404600427,
          18.45599908317477,
          17.91331788277162,
          17.30269583621942,
          15.674169524423078,
          14.099770859367858,
          11.392809577292622,
          9.232708314999615,
          7.475525714001363,
          6.009559815241832,
          2.725327008857705,
          0.44275075770600797,
          -1.2482454597388433,
          -2.5390189104386724,
          -3.5327626980741282,
          -4.29037960222416,
          -4.8497530368011,
          -5.234889529168014,
          -5.526739523137509,
          -5.534983129163744,
          -5.526739523137509,
          -5.2348895291680115,
          -4.8497530368011015,
          -4.290379602224161,
          -3.5327626980741273,
          -2.5390189104386733,
          -1.2482454597388464,
          0.44275075770600797,
          2.7253270088577004,
          6.009559815241823,
          7.4755257140013684,
          9.23270831499962,
          11.392809577292622,
          14.099770859367855,
          15.674169524423071,
          17.302695836219414,
          17.913317882771604,
          18.455999083174753,
          18.88999404600427,
          19.172920872224083
         ]
        },
        {
         "hoverinfo": "name",
         "line": {
          "color": "#555",
          "dash": "dot",
          "width": 1
         },
         "name": "0.50 dB",
         "showlegend": false,
         "type": "scatter",
         "x": [
          -196.3718246156576,
          -210.241776113004,
          -220.80355193113053,
          -228.51181527270387,
          -234.1134646185559,
          -242.54794804403969,
          -246.79435053744254,
          -250.17113669346753,
          -250.7317375930338,
          -250.10476324945597,
          -248.87064427851567,
          -243.52619111012865,
          -237.14681544455618,
          -230.35244392901245,
          -223.35180491824565,
          -216.23515197605684,
          -209.04823910924426,
          -201.81713920054904,
          -194.55825435352733,
          -182.42801843030043,
          -180,
          -177.57198156969963,
          -165.44174564647267,
          -158.18286079945094,
          -150.95176089075574,
          -143.76484802394313,
          -136.64819508175432,
          -129.64755607098758,
          -122.85318455544379,
          -116.47380888987135,
          -111.12935572148433,
          -109.89523675054403,
          -109.26826240696619,
          -109.82886330653247,
          -113.20564946255746,
          -117.45205195596026,
          -125.88653538144405,
          -131.488184727296,
          -139.19644806886924,
          -149.75822388699612,
          -163.6281753843424
         ],
         "y": [
          24.66386078734449,
          23.68619318037223,
          22.428476998260905,
          21.119016837844416,
          19.86570394081788,
          17.148405136599663,
          14.97381756434649,
          11.709190668056703,
          9.318257934761284,
          7.44651521952795,
          5.916081684987016,
          2.548102112298766,
          0.2356286732226798,
          -1.469242571571364,
          -2.7674915645818707,
          -3.7656469575966494,
          -4.526008275446839,
          -5.0871210227374375,
          -5.473330927281008,
          -5.765933081450027,
          -5.774197205849433,
          -5.765933081450027,
          -5.4733309272810065,
          -5.0871210227374375,
          -4.5260082754468405,
          -3.765646957596645,
          -2.767491564581872,
          -1.4692425715713675,
          0.2356286732226798,
          2.548102112298763,
          5.916081684987007,
          7.446515219527957,
          9.31825793476129,
          11.709190668056703,
          14.973817564346488,
          17.148405136599656,
          19.86570394081787,
          21.119016837844388,
          22.428476998260866,
          23.68619318037224,
          24.663860787344486
         ]
        },
        {
         "hoverinfo": "name",
         "line": {
          "color": "#555",
          "dash": "dot",
          "width": 1
         },
         "name": "0.25 dB",
         "showlegend": false,
         "type": "scatter",
         "x": [
          -210.7345808486815,
          -229.4974236482455,
          -239.7095256979066,
          -245.60440268536485,
          -249.25835228553376,
          -253.86709641080222,
          -255.65960361036178,
          -256.26209749939164,
          -255.33439270580863,
          -253.7861505386665,
          -251.9258936010815,
          -245.51029169050867,
          -238.57222728724224,
          -231.42562231524357,
          -224.1755612738757,
          -216.86736796171624,
          -209.52398817799792,
          -202.15848677226302,
          -194.77907815652532,
          -182.46400174809128,
          -180,
          -177.53599825190878,
          -165.2209218434747,
          -157.84151322773704,
          -150.47601182200208,
          -143.13263203828376,
          -135.82443872612433,
          -128.57437768475643,
          -121.42777271275776,
          -114.48970830949133,
          -108.0741063989185,
          -106.2138494613335,
          -104.66560729419137,
          -103.73790250060836,
          -104.34039638963822,
          -106.13290358919781,
          -110.74164771446624,
          -114.3955973146351,
          -120.2904743020932,
          -130.50257635175458,
          -149.26541915131847
         ],
         "y": [
          29.582361840040452,
          27.014193437570665,
          24.599036537237854,
          22.565963255105842,
          20.862047629248345,
          17.58707676714537,
          15.181648668301047,
          11.737967925491535,
          9.28126664709167,
          7.378506027626564,
          5.831068132828873,
          2.441468980087758,
          0.12140345203767483,
          -1.5869690247594759,
          -2.887098602924716,
          -3.8863619025215304,
          -4.6474117274845135,
          -5.208960544669629,
          -5.595439459606192,
          -5.888230064901855,
          -5.896499329536557,
          -5.888230064901855,
          -5.59543945960619,
          -5.20896054466963,
          -4.6474117274845135,
          -3.8863619025215304,
          -2.8870986029247176,
          -1.586969024759478,
          0.12140345203767483,
          2.441468980087755,
          5.831068132828864,
          7.37850602762657,
          9.281266647091675,
          11.737967925491537,
          15.181648668301042,
          17.587076767145362,
          20.86204762924833,
          22.565963255105807,
          24.599036537237783,
          27.014193437570686,
          29.58236184004044
         ]
        },
        {
         "hoverinfo": "name",
         "line": {
          "color": "#555",
          "dash": "dot",
          "width": 1
         },
         "name": "0.00 dB",
         "showlegend": false,
         "type": "scatter",
         "x": [
          -269.4999999999999,
          -268.99999999999994,
          -268.50000000000006,
          -268.00000000000006,
          -267.5,
          -266.25,
          -265,
          -262.5,
          -260,
          -257.5,
          -255,
          -247.5,
          -240,
          -232.5,
          -225,
          -217.5,
          -210,
          -202.5,
          -195,
          -182.5,
          -180,
          -177.5,
          -165,
          -157.5,
          -150.00000000000003,
          -142.5,
          -135,
          -127.5,
          -120,
          -112.5,
          -105,
          -102.5,
          -100,
          -97.5,
          -95,
          -93.75,
          -92.5,
          -92,
          -91.5,
          -91.00000000000006,
          -90.50000000000011
         ],
         "y": [
          35.16256289318372,
          29.14229371826325,
          25.62101977894313,
          23.123016808799058,
          21.185808854403394,
          17.667429531589104,
          15.173479920117972,
          11.665446712198822,
          9.185995486488366,
          7.272665074459145,
          5.719475475333597,
          2.322606875058725,
          0,
          -1.7095424698920367,
          -3.0102999566398116,
          -4.009933005441557,
          -4.771212547196623,
          -5.332906831698536,
          -5.719475475333596,
          -6.0123289342854225,
          -6.020599913279624,
          -6.0123289342854225,
          -5.719475475333596,
          -5.332906831698536,
          -4.771212547196625,
          -4.009933005441557,
          -3.0102999566398125,
          -1.709542469892039,
          0,
          2.3226068750587237,
          5.719475475333587,
          7.27266507445915,
          9.18599548648837,
          11.665446712198822,
          15.17347992011797,
          17.667429531589097,
          21.185808854403376,
          23.123016808799015,
          25.621019778943044,
          29.14229371826329,
          35.1625628931837
         ]
        },
        {
         "hoverinfo": "name",
         "line": {
          "color": "#555",
          "dash": "dot",
          "width": 1
         },
         "name": "-1.00 dB",
         "showlegend": false,
         "type": "scatter",
         "x": [
          -350.87015463445726,
          -342.1137878352521,
          -334.01555626017085,
          -326.72944659900315,
          -320.29038468445054,
          -307.51040161901614,
          -298.3145538117444,
          -286.09399386304824,
          -278.06141159407076,
          -272.0404446251217,
          -267.1118154725962,
          -255.40329046532707,
          -245.68761007501166,
          -236.78555980585242,
          -228.29094809042044,
          -220.0263753928108,
          -211.90142366468808,
          -203.86439841753702,
          -195.8827080470444,
          -182.64384381514014,
          -180,
          -177.35615618485994,
          -164.1172919529556,
          -156.13560158246298,
          -148.09857633531195,
          -139.9736246071892,
          -131.70905190957959,
          -123.21444019414761,
          -114.31238992498837,
          -104.59670953467293,
          -92.88818452740384,
          -87.95955537487828,
          -81.93858840592918,
          -73.9060061369517,
          -61.68544618825558,
          -52.489598380983864,
          -39.70961531554951,
          -33.27055340099696,
          -25.98444373982943,
          -17.88621216474786,
          -9.129845365542792
         ],
         "y": [
          18.172920872224083,
          17.889994046004272,
          17.45599908317476,
          16.91331788277161,
          16.302695836219424,
          14.674169524423068,
          13.099770859367856,
          10.39280957729262,
          8.232708314999616,
          6.475525714001364,
          5.009559815241831,
          1.7253270088577046,
          -0.5572492422939905,
          -2.2482454597388433,
          -3.539018910438671,
          -4.532762698074128,
          -5.290379602224158,
          -5.8497530368011,
          -6.234889529168011,
          -6.526739523137509,
          -6.534983129163744,
          -6.526739523137509,
          -6.234889529168011,
          -5.8497530368011,
          -5.290379602224159,
          -4.532762698074128,
          -3.5390189104386724,
          -2.248245459738846,
          -0.5572492422939905,
          1.725327008857703,
          5.009559815241822,
          6.47552571400137,
          8.23270831499962,
          10.392809577292624,
          13.099770859367855,
          14.674169524423066,
          16.302695836219417,
          16.9133178827716,
          17.455999083174746,
          17.889994046004276,
          18.17292087222408
         ]
        },
        {
         "hoverinfo": "name",
         "line": {
          "color": "#555",
          "dash": "dot",
          "width": 1
         },
         "name": "-3.00 dB",
         "showlegend": false,
         "type": "scatter",
         "x": [
          -356.5784386981094,
          -353.1715505645345,
          -349.7935670091898,
          -346.457868653465,
          -343.1766373216301,
          -335.27812042545594,
          -327.9040110701264,
          -314.9069826143354,
          -304.1208765762825,
          -295.1436930470452,
          -287.54483116141245,
          -269.9320168877745,
          -256.4980308095836,
          -245.06297550995862,
          -234.70357542922022,
          -224.97512724602018,
          -215.6382762250269,
          -206.55146099856734,
          -197.62337785672628,
          -182.92775694824832,
          -180,
          -177.0722430517517,
          -162.3766221432737,
          -153.44853900143264,
          -144.36172377497311,
          -135.02487275397982,
          -125.29642457077978,
          -114.93702449004138,
          -103.50196919041633,
          -90.06798311222553,
          -72.45516883858761,
          -64.85630695295481,
          -55.87912342371749,
          -45.09301738566461,
          -32.09598892987361,
          -24.72187957454412,
          -16.82336267836996,
          -13.542131346535086,
          -10.206432990810299,
          -6.828449435465473,
          -3.4215613018906197
         ],
         "y": [
          7.6797643011979355,
          7.647034445747147,
          7.593037830089832,
          7.51857547180011,
          7.424714401516347,
          7.114017465571349,
          6.714033764687107,
          5.743853755272688,
          4.678062347477541,
          3.6163579530512586,
          2.6068441601996146,
          0.010293842417393655,
          -1.9940539931447574,
          -3.54891591487609,
          -4.764348624364852,
          -5.712947800201404,
          -6.442218667311447,
          -6.983521779504347,
          -7.357464956087063,
          -7.64145270267078,
          -7.6494816137517265,
          -7.64145270267078,
          -7.357464956087062,
          -6.983521779504346,
          -6.442218667311449,
          -5.712947800201404,
          -4.764348624364854,
          -3.5489159148760945,
          -1.9940539931447574,
          0.01029384241739173,
          2.606844160199607,
          3.6163579530512613,
          4.6780623474775425,
          5.743853755272687,
          6.714033764687107,
          7.114017465571347,
          7.424714401516347,
          7.51857547180011,
          7.593037830089831,
          7.647034445747147,
          7.6797643011979355
         ]
        },
        {
         "hoverinfo": "name",
         "line": {
          "color": "#555",
          "dash": "dot",
          "width": 1
         },
         "name": "-6.00 dB",
         "showlegend": false,
         "type": "scatter",
         "x": [
          -357.9955474140844,
          -355.99293791247237,
          -353.99400051004255,
          -352.00053634999597,
          -350.0143054265264,
          -345.09140830661494,
          -340.2488803733818,
          -330.8859900267459,
          -322.0469112251931,
          -313.7889953613776,
          -306.117344728759,
          -286.23631074195146,
          -269.92145330468617,
          -255.91426300924724,
          -243.38055588920713,
          -231.80375114611127,
          -220.85975458455675,
          -210.33663436554065,
          -200.08784826393844,
          -183.33116639260834,
          -180,
          -176.66883360739166,
          -159.91215173606153,
          -149.66336563445935,
          -139.14024541544327,
          -128.1962488538887,
          -116.61944411079287,
          -104.08573699075279,
          -90.07854669531383,
          -73.76368925804854,
          -53.88265527124105,
          -46.21100463862234,
          -37.95308877480687,
          -29.114009973254042,
          -19.75111962661822,
          -14.908591693385063,
          -9.985694573473609,
          -7.999463650004088,
          -6.005999489957503,
          -4.007062087527629,
          -2.004452585915658
         ],
         "y": [
          0.03858488763767778,
          0.03060375462643412,
          0.017337064173952046,
          -0.0011628546685900252,
          -0.024823664099580364,
          -0.10591042913779797,
          -0.21673830115443865,
          -0.5173925540943324,
          -0.9033042615723732,
          -1.3495067379497658,
          -1.8331996309600802,
          -3.3432197088121995,
          -4.750620795887448,
          -5.964044164999175,
          -6.973227937086955,
          -7.791558758798789,
          -8.436272660456204,
          -8.922504047148825,
          -9.261863715077498,
          -9.521340236132247,
          -9.528697248729706,
          -9.521340236132247,
          -9.261863715077496,
          -8.922504047148825,
          -8.43627266045621,
          -7.791558758798788,
          -6.973227937086954,
          -5.964044164999177,
          -4.75062079588745,
          -3.343219708812202,
          -1.8331996309600862,
          -1.3495067379497636,
          -0.9033042615723743,
          -0.5173925540943324,
          -0.21673830115443865,
          -0.10591042913779991,
          -0.02482366409958133,
          -0.001162854668589061,
          0.017337064173952046,
          0.03060375462643412,
          0.03858488763767969
         ]
        },
        {
         "hoverinfo": "name",
         "line": {
          "color": "#555",
          "dash": "dot",
          "width": 1
         },
         "name": "-12.00 dB",
         "showlegend": false,
         "type": "scatter",
         "x": [
          -358.6645881674737,
          -357.3294042376337,
          -355.99467567103443,
          -354.66062904607696,
          -353.32748962319005,
          -350.00007143960084,
          -346.68313903391805,
          -340.093777577436,
          -333.58372479687006,
          -327.1738821606527,
          -320.8811636256163,
          -302.8125312477642,
          -286.02949646482057,
          -270.4526028005789,
          -255.89967637641075,
          -242.16599931121726,
          -229.0616987201294,
          -216.4228646138801,
          -204.1105118631359,
          -183.9968095913896,
          -180,
          -176.00319040861044,
          -155.88948813686406,
          -143.57713538611992,
          -130.93830127987064,
          -117.83400068878268,
          -104.10032362358922,
          -89.54739719942108,
          -73.97050353517949,
          -57.18746875223587,
          -39.11883637438376,
          -32.82611783934732,
          -26.416275203129942,
          -19.906222422563985,
          -13.316860966081947,
          -9.999928560399155,
          -6.672510376809953,
          -5.339370953923037,
          -4.005324328965571,
          -2.670595762366247,
          -1.3354118325262903
         ],
         "y": [
          -9.488041039111309,
          -9.489818140538599,
          -9.492777760313825,
          -9.496916581919354,
          -9.502229976955315,
          -9.520610194811976,
          -9.546163900231825,
          -9.618050006682063,
          -9.715988750167744,
          -9.837516123650202,
          -9.979764081669678,
          -10.499481991597179,
          -11.095063346037577,
          -11.699146567511661,
          -12.265723755961025,
          -12.766843237510201,
          -13.186893456343654,
          -13.517773258690749,
          -13.75560292379796,
          -13.94114919117165,
          -13.946455874173909,
          -13.94114919117165,
          -13.75560292379796,
          -13.517773258690745,
          -13.186893456343656,
          -12.766843237510201,
          -12.265723755961025,
          -11.699146567511665,
          -11.095063346037577,
          -10.499481991597179,
          -9.97976408166968,
          -9.837516123650202,
          -9.715988750167746,
          -9.618050006682063,
          -9.546163900231825,
          -9.520610194811976,
          -9.502229976955315,
          -9.496916581919356,
          -9.492777760313823,
          -9.489818140538599,
          -9.488041039111307
         ]
        },
        {
         "hoverinfo": "name",
         "line": {
          "color": "#555",
          "dash": "dot",
          "width": 1
         },
         "name": "-20.00 dB",
         "showlegend": false,
         "type": "scatter",
         "x": [
          -358.8888965493027,
          -357.7778390541404,
          -356.66687343532357,
          -355.5560455442723,
          -354.44540112846903,
          -351.66989167066737,
          -348.89652075551027,
          -343.3589703285723,
          -337.8381516710673,
          -332.33916301626834,
          -326.8667171206091,
          -310.64868408641405,
          -294.79128089714493,
          -279.3371191156383,
          -264.28940686250036,
          -249.6211360082914,
          -235.2849960460518,
          -221.22162278409758,
          -207.3653939814767,
          -184.54588366326493,
          -180,
          -175.45411633673513,
          -152.63460601852324,
          -138.77837721590248,
          -124.71500395394827,
          -110.37886399170858,
          -95.71059313749964,
          -80.6628808843617,
          -65.20871910285507,
          -49.35131591358595,
          -33.13328287939095,
          -27.660836983731656,
          -22.161848328932706,
          -16.641029671427702,
          -11.103479244489733,
          -8.330108329332631,
          -5.55459887153097,
          -4.443954455727749,
          -3.3331265646764905,
          -2.2221609458596276,
          -1.1111034506973283
         ],
         "y": [
          -19.085013507081424,
          -19.085503375377726,
          -19.086319534008915,
          -19.08746155052706,
          -19.08892882019638,
          -19.094014462352902,
          -19.101110842980592,
          -19.121236166745526,
          -19.149042963976978,
          -19.184174848780152,
          -19.226190346310158,
          -19.38809146911957,
          -19.590413923210935,
          -19.81472569408657,
          -20.043213737826427,
          -20.260279180191155,
          -20.453229787866572,
          -20.612342803649057,
          -20.730600258806064,
          -20.825121237762787,
          -20.8278537031645,
          -20.825121237762787,
          -20.730600258806064,
          -20.612342803649057,
          -20.453229787866576,
          -20.26027918019116,
          -20.043213737826427,
          -19.81472569408657,
          -19.590413923210935,
          -19.38809146911957,
          -19.226190346310158,
          -19.184174848780152,
          -19.149042963976978,
          -19.121236166745526,
          -19.101110842980592,
          -19.094014462352902,
          -19.08892882019638,
          -19.08746155052706,
          -19.086319534008915,
          -19.085503375377726,
          -19.085013507081424
         ]
        },
        {
         "hoverinfo": "name",
         "line": {
          "color": "#555",
          "dash": "dot",
          "width": 1
         },
         "name": "-20.00 dB",
         "showlegend": false,
         "type": "scatter",
         "x": [
          -358.8888965493027,
          -357.7778390541404,
          -356.66687343532357,
          -355.5560455442723,
          -354.44540112846903,
          -351.66989167066737,
          -348.89652075551027,
          -343.3589703285723,
          -337.8381516710673,
          -332.33916301626834,
          -326.8667171206091,
          -310.64868408641405,
          -294.79128089714493,
          -279.3371191156383,
          -264.28940686250036,
          -249.6211360082914,
          -235.2849960460518,
          -221.22162278409758,
          -207.3653939814767,
          -184.54588366326493,
          -180,
          -175.45411633673513,
          -152.63460601852324,
          -138.77837721590248,
          -124.71500395394827,
          -110.37886399170858,
          -95.71059313749964,
          -80.6628808843617,
          -65.20871910285507,
          -49.35131591358595,
          -33.13328287939095,
          -27.660836983731656,
          -22.161848328932706,
          -16.641029671427702,
          -11.103479244489733,
          -8.330108329332631,
          -5.55459887153097,
          -4.443954455727749,
          -3.3331265646764905,
          -2.2221609458596276,
          -1.1111034506973283
         ],
         "y": [
          -19.085013507081424,
          -19.085503375377726,
          -19.086319534008915,
          -19.08746155052706,
          -19.08892882019638,
          -19.094014462352902,
          -19.101110842980592,
          -19.121236166745526,
          -19.149042963976978,
          -19.184174848780152,
          -19.226190346310158,
          -19.38809146911957,
          -19.590413923210935,
          -19.81472569408657,
          -20.043213737826427,
          -20.260279180191155,
          -20.453229787866572,
          -20.612342803649057,
          -20.730600258806064,
          -20.825121237762787,
          -20.8278537031645,
          -20.825121237762787,
          -20.730600258806064,
          -20.612342803649057,
          -20.453229787866576,
          -20.26027918019116,
          -20.043213737826427,
          -19.81472569408657,
          -19.590413923210935,
          -19.38809146911957,
          -19.226190346310158,
          -19.184174848780152,
          -19.149042963976978,
          -19.121236166745526,
          -19.101110842980592,
          -19.094014462352902,
          -19.08892882019638,
          -19.08746155052706,
          -19.086319534008915,
          -19.085503375377726,
          -19.085013507081424
         ]
        }
       ],
       "layout": {
        "template": {
         "data": {
          "bar": [
           {
            "error_x": {
             "color": "#2a3f5f"
            },
            "error_y": {
             "color": "#2a3f5f"
            },
            "marker": {
             "line": {
              "color": "#E5ECF6",
              "width": 0.5
             }
            },
            "type": "bar"
           }
          ],
          "barpolar": [
           {
            "marker": {
             "line": {
              "color": "#E5ECF6",
              "width": 0.5
             }
            },
            "type": "barpolar"
           }
          ],
          "carpet": [
           {
            "aaxis": {
             "endlinecolor": "#2a3f5f",
             "gridcolor": "white",
             "linecolor": "white",
             "minorgridcolor": "white",
             "startlinecolor": "#2a3f5f"
            },
            "baxis": {
             "endlinecolor": "#2a3f5f",
             "gridcolor": "white",
             "linecolor": "white",
             "minorgridcolor": "white",
             "startlinecolor": "#2a3f5f"
            },
            "type": "carpet"
           }
          ],
          "choropleth": [
           {
            "colorbar": {
             "outlinewidth": 0,
             "ticks": ""
            },
            "type": "choropleth"
           }
          ],
          "contour": [
           {
            "colorbar": {
             "outlinewidth": 0,
             "ticks": ""
            },
            "colorscale": [
             [
              0,
              "#0d0887"
             ],
             [
              0.1111111111111111,
              "#46039f"
             ],
             [
              0.2222222222222222,
              "#7201a8"
             ],
             [
              0.3333333333333333,
              "#9c179e"
             ],
             [
              0.4444444444444444,
              "#bd3786"
             ],
             [
              0.5555555555555556,
              "#d8576b"
             ],
             [
              0.6666666666666666,
              "#ed7953"
             ],
             [
              0.7777777777777778,
              "#fb9f3a"
             ],
             [
              0.8888888888888888,
              "#fdca26"
             ],
             [
              1,
              "#f0f921"
             ]
            ],
            "type": "contour"
           }
          ],
          "contourcarpet": [
           {
            "colorbar": {
             "outlinewidth": 0,
             "ticks": ""
            },
            "type": "contourcarpet"
           }
          ],
          "heatmap": [
           {
            "colorbar": {
             "outlinewidth": 0,
             "ticks": ""
            },
            "colorscale": [
             [
              0,
              "#0d0887"
             ],
             [
              0.1111111111111111,
              "#46039f"
             ],
             [
              0.2222222222222222,
              "#7201a8"
             ],
             [
              0.3333333333333333,
              "#9c179e"
             ],
             [
              0.4444444444444444,
              "#bd3786"
             ],
             [
              0.5555555555555556,
              "#d8576b"
             ],
             [
              0.6666666666666666,
              "#ed7953"
             ],
             [
              0.7777777777777778,
              "#fb9f3a"
             ],
             [
              0.8888888888888888,
              "#fdca26"
             ],
             [
              1,
              "#f0f921"
             ]
            ],
            "type": "heatmap"
           }
          ],
          "heatmapgl": [
           {
            "colorbar": {
             "outlinewidth": 0,
             "ticks": ""
            },
            "colorscale": [
             [
              0,
              "#0d0887"
             ],
             [
              0.1111111111111111,
              "#46039f"
             ],
             [
              0.2222222222222222,
              "#7201a8"
             ],
             [
              0.3333333333333333,
              "#9c179e"
             ],
             [
              0.4444444444444444,
              "#bd3786"
             ],
             [
              0.5555555555555556,
              "#d8576b"
             ],
             [
              0.6666666666666666,
              "#ed7953"
             ],
             [
              0.7777777777777778,
              "#fb9f3a"
             ],
             [
              0.8888888888888888,
              "#fdca26"
             ],
             [
              1,
              "#f0f921"
             ]
            ],
            "type": "heatmapgl"
           }
          ],
          "histogram": [
           {
            "marker": {
             "colorbar": {
              "outlinewidth": 0,
              "ticks": ""
             }
            },
            "type": "histogram"
           }
          ],
          "histogram2d": [
           {
            "colorbar": {
             "outlinewidth": 0,
             "ticks": ""
            },
            "colorscale": [
             [
              0,
              "#0d0887"
             ],
             [
              0.1111111111111111,
              "#46039f"
             ],
             [
              0.2222222222222222,
              "#7201a8"
             ],
             [
              0.3333333333333333,
              "#9c179e"
             ],
             [
              0.4444444444444444,
              "#bd3786"
             ],
             [
              0.5555555555555556,
              "#d8576b"
             ],
             [
              0.6666666666666666,
              "#ed7953"
             ],
             [
              0.7777777777777778,
              "#fb9f3a"
             ],
             [
              0.8888888888888888,
              "#fdca26"
             ],
             [
              1,
              "#f0f921"
             ]
            ],
            "type": "histogram2d"
           }
          ],
          "histogram2dcontour": [
           {
            "colorbar": {
             "outlinewidth": 0,
             "ticks": ""
            },
            "colorscale": [
             [
              0,
              "#0d0887"
             ],
             [
              0.1111111111111111,
              "#46039f"
             ],
             [
              0.2222222222222222,
              "#7201a8"
             ],
             [
              0.3333333333333333,
              "#9c179e"
             ],
             [
              0.4444444444444444,
              "#bd3786"
             ],
             [
              0.5555555555555556,
              "#d8576b"
             ],
             [
              0.6666666666666666,
              "#ed7953"
             ],
             [
              0.7777777777777778,
              "#fb9f3a"
             ],
             [
              0.8888888888888888,
              "#fdca26"
             ],
             [
              1,
              "#f0f921"
             ]
            ],
            "type": "histogram2dcontour"
           }
          ],
          "mesh3d": [
           {
            "colorbar": {
             "outlinewidth": 0,
             "ticks": ""
            },
            "type": "mesh3d"
           }
          ],
          "parcoords": [
           {
            "line": {
             "colorbar": {
              "outlinewidth": 0,
              "ticks": ""
             }
            },
            "type": "parcoords"
           }
          ],
          "pie": [
           {
            "automargin": true,
            "type": "pie"
           }
          ],
          "scatter": [
           {
            "marker": {
             "colorbar": {
              "outlinewidth": 0,
              "ticks": ""
             }
            },
            "type": "scatter"
           }
          ],
          "scatter3d": [
           {
            "line": {
             "colorbar": {
              "outlinewidth": 0,
              "ticks": ""
             }
            },
            "marker": {
             "colorbar": {
              "outlinewidth": 0,
              "ticks": ""
             }
            },
            "type": "scatter3d"
           }
          ],
          "scattercarpet": [
           {
            "marker": {
             "colorbar": {
              "outlinewidth": 0,
              "ticks": ""
             }
            },
            "type": "scattercarpet"
           }
          ],
          "scattergeo": [
           {
            "marker": {
             "colorbar": {
              "outlinewidth": 0,
              "ticks": ""
             }
            },
            "type": "scattergeo"
           }
          ],
          "scattergl": [
           {
            "marker": {
             "colorbar": {
              "outlinewidth": 0,
              "ticks": ""
             }
            },
            "type": "scattergl"
           }
          ],
          "scattermapbox": [
           {
            "marker": {
             "colorbar": {
              "outlinewidth": 0,
              "ticks": ""
             }
            },
            "type": "scattermapbox"
           }
          ],
          "scatterpolar": [
           {
            "marker": {
             "colorbar": {
              "outlinewidth": 0,
              "ticks": ""
             }
            },
            "type": "scatterpolar"
           }
          ],
          "scatterpolargl": [
           {
            "marker": {
             "colorbar": {
              "outlinewidth": 0,
              "ticks": ""
             }
            },
            "type": "scatterpolargl"
           }
          ],
          "scatterternary": [
           {
            "marker": {
             "colorbar": {
              "outlinewidth": 0,
              "ticks": ""
             }
            },
            "type": "scatterternary"
           }
          ],
          "surface": [
           {
            "colorbar": {
             "outlinewidth": 0,
             "ticks": ""
            },
            "colorscale": [
             [
              0,
              "#0d0887"
             ],
             [
              0.1111111111111111,
              "#46039f"
             ],
             [
              0.2222222222222222,
              "#7201a8"
             ],
             [
              0.3333333333333333,
              "#9c179e"
             ],
             [
              0.4444444444444444,
              "#bd3786"
             ],
             [
              0.5555555555555556,
              "#d8576b"
             ],
             [
              0.6666666666666666,
              "#ed7953"
             ],
             [
              0.7777777777777778,
              "#fb9f3a"
             ],
             [
              0.8888888888888888,
              "#fdca26"
             ],
             [
              1,
              "#f0f921"
             ]
            ],
            "type": "surface"
           }
          ],
          "table": [
           {
            "cells": {
             "fill": {
              "color": "#EBF0F8"
             },
             "line": {
              "color": "white"
             }
            },
            "header": {
             "fill": {
              "color": "#C8D4E3"
             },
             "line": {
              "color": "white"
             }
            },
            "type": "table"
           }
          ]
         },
         "layout": {
          "annotationdefaults": {
           "arrowcolor": "#2a3f5f",
           "arrowhead": 0,
           "arrowwidth": 1
          },
          "coloraxis": {
           "colorbar": {
            "outlinewidth": 0,
            "ticks": ""
           }
          },
          "colorscale": {
           "diverging": [
            [
             0,
             "#8e0152"
            ],
            [
             0.1,
             "#c51b7d"
            ],
            [
             0.2,
             "#de77ae"
            ],
            [
             0.3,
             "#f1b6da"
            ],
            [
             0.4,
             "#fde0ef"
            ],
            [
             0.5,
             "#f7f7f7"
            ],
            [
             0.6,
             "#e6f5d0"
            ],
            [
             0.7,
             "#b8e186"
            ],
            [
             0.8,
             "#7fbc41"
            ],
            [
             0.9,
             "#4d9221"
            ],
            [
             1,
             "#276419"
            ]
           ],
           "sequential": [
            [
             0,
             "#0d0887"
            ],
            [
             0.1111111111111111,
             "#46039f"
            ],
            [
             0.2222222222222222,
             "#7201a8"
            ],
            [
             0.3333333333333333,
             "#9c179e"
            ],
            [
             0.4444444444444444,
             "#bd3786"
            ],
            [
             0.5555555555555556,
             "#d8576b"
            ],
            [
             0.6666666666666666,
             "#ed7953"
            ],
            [
             0.7777777777777778,
             "#fb9f3a"
            ],
            [
             0.8888888888888888,
             "#fdca26"
            ],
            [
             1,
             "#f0f921"
            ]
           ],
           "sequentialminus": [
            [
             0,
             "#0d0887"
            ],
            [
             0.1111111111111111,
             "#46039f"
            ],
            [
             0.2222222222222222,
             "#7201a8"
            ],
            [
             0.3333333333333333,
             "#9c179e"
            ],
            [
             0.4444444444444444,
             "#bd3786"
            ],
            [
             0.5555555555555556,
             "#d8576b"
            ],
            [
             0.6666666666666666,
             "#ed7953"
            ],
            [
             0.7777777777777778,
             "#fb9f3a"
            ],
            [
             0.8888888888888888,
             "#fdca26"
            ],
            [
             1,
             "#f0f921"
            ]
           ]
          },
          "colorway": [
           "#636efa",
           "#EF553B",
           "#00cc96",
           "#ab63fa",
           "#FFA15A",
           "#19d3f3",
           "#FF6692",
           "#B6E880",
           "#FF97FF",
           "#FECB52"
          ],
          "font": {
           "color": "#2a3f5f"
          },
          "geo": {
           "bgcolor": "white",
           "lakecolor": "white",
           "landcolor": "#E5ECF6",
           "showlakes": true,
           "showland": true,
           "subunitcolor": "white"
          },
          "hoverlabel": {
           "align": "left"
          },
          "hovermode": "closest",
          "mapbox": {
           "style": "light"
          },
          "paper_bgcolor": "white",
          "plot_bgcolor": "#E5ECF6",
          "polar": {
           "angularaxis": {
            "gridcolor": "white",
            "linecolor": "white",
            "ticks": ""
           },
           "bgcolor": "#E5ECF6",
           "radialaxis": {
            "gridcolor": "white",
            "linecolor": "white",
            "ticks": ""
           }
          },
          "scene": {
           "xaxis": {
            "backgroundcolor": "#E5ECF6",
            "gridcolor": "white",
            "gridwidth": 2,
            "linecolor": "white",
            "showbackground": true,
            "ticks": "",
            "zerolinecolor": "white"
           },
           "yaxis": {
            "backgroundcolor": "#E5ECF6",
            "gridcolor": "white",
            "gridwidth": 2,
            "linecolor": "white",
            "showbackground": true,
            "ticks": "",
            "zerolinecolor": "white"
           },
           "zaxis": {
            "backgroundcolor": "#E5ECF6",
            "gridcolor": "white",
            "gridwidth": 2,
            "linecolor": "white",
            "showbackground": true,
            "ticks": "",
            "zerolinecolor": "white"
           }
          },
          "shapedefaults": {
           "line": {
            "color": "#2a3f5f"
           }
          },
          "ternary": {
           "aaxis": {
            "gridcolor": "white",
            "linecolor": "white",
            "ticks": ""
           },
           "baxis": {
            "gridcolor": "white",
            "linecolor": "white",
            "ticks": ""
           },
           "bgcolor": "#E5ECF6",
           "caxis": {
            "gridcolor": "white",
            "linecolor": "white",
            "ticks": ""
           }
          },
          "title": {
           "x": 0.05
          },
          "xaxis": {
           "automargin": true,
           "gridcolor": "white",
           "linecolor": "white",
           "ticks": "",
           "title": {
            "standoff": 15
           },
           "zerolinecolor": "white",
           "zerolinewidth": 2
          },
          "yaxis": {
           "automargin": true,
           "gridcolor": "white",
           "linecolor": "white",
           "ticks": "",
           "title": {
            "standoff": 15
           },
           "zerolinecolor": "white",
           "zerolinewidth": 2
          }
         }
        },
        "xaxis": {
         "title": {
          "text": "Open-Loop Phase (deg)"
         }
        },
        "yaxis": {
         "title": {
          "text": "Open-Loop Gain (dB)"
         }
        }
       }
      },
      "text/html": [
       "<div>\n",
       "        \n",
       "        \n",
       "            <div id=\"0140eff8-ef59-4667-9dbb-618b5866d5bd\" class=\"plotly-graph-div\" style=\"height:525px; width:100%;\"></div>\n",
       "            <script type=\"text/javascript\">\n",
       "                require([\"plotly\"], function(Plotly) {\n",
       "                    window.PLOTLYENV=window.PLOTLYENV || {};\n",
       "                    \n",
       "                if (document.getElementById(\"0140eff8-ef59-4667-9dbb-618b5866d5bd\")) {\n",
       "                    Plotly.newPlot(\n",
       "                        '0140eff8-ef59-4667-9dbb-618b5866d5bd',\n",
       "                        [{\"hoverinfo\": \"none\", \"marker\": {\"line\": {\"color\": \"#FF0000\", \"width\": 1}, \"size\": 3}, \"mode\": \"markers\", \"showlegend\": false, \"type\": \"scatter\", \"x\": [-180], \"y\": [0]}, {\"hovertemplate\": \"<b>w</b>: %{text:.3f} rad/s<br><b>mag</b>: %{y:.3f} dB<br><b>phase</b>: %{x:.3f} deg<br>\", \"line\": {\"color\": \"#1f77b4\"}, \"name\": \"sys\", \"showlegend\": false, \"text\": [0.1, 0.12067926406393285, 0.14563484775012436, 0.1757510624854792, 0.21209508879201905, 0.2559547922699536, 0.3088843596477481, 0.372759372031494, 0.44984326689694454, 0.5428675439323859, 0.6551285568595507, 0.7906043210907697, 0.9540954763499939, 1.151395399326447, 1.3894954943731375, 1.6768329368110073, 2.0235896477251565, 2.442053094548651, 2.9470517025518097, 3.5564803062231287, 4.291934260128776, 5.17947467923121, 6.25055192527397, 7.543120063354615, 9.102981779915218, 10.985411419875584, 13.257113655901081, 15.998587196060573, 19.306977288832496, 23.29951810515372, 28.11768697974228, 33.93221771895326, 40.94915062380423, 49.417133613238335, 59.63623316594643], \"type\": \"scatter\", \"x\": [-3.8627205254367114, -4.66018499451092, -5.621564922966227, -6.78000958467415, -8.17496645780495, -9.853075959775357, -11.868963679453662, -14.28572247079552, -17.174736781514788, -20.614316376696394, -24.686416996193824, -29.470661362576088, -35.03521036456657, -41.425167025822425, -48.65134376190294, -56.68472425011562, -65.46267173156204, -74.90931961439377, -84.96494206735643, -95.61252125620274, -106.88983180892464, -118.88188257731828, -131.6960154774034, -145.42651069775812, -160.11805491086884, -175.73995777096076, -192.18427273304437, -209.29632791556713, -226.93349529792874, -245.03412790421737, -263.675430197621, -283.11083716117025, -303.79663344380947, -326.43736711601554, -352.1135879406071], \"y\": [7.347791225533232, 7.342837033271503, 7.335632038546316, 7.3251602669370115, 7.309954480978665, 7.2879038061671695, 7.2559881303386655, 7.209920913708773, 7.143688083287253, 7.048991123211687, 6.9146494034270445, 6.726103547346258, 6.465289482200348, 6.111280538648667, 5.642101935129232, 5.037825181581319, 4.28437324909978, 3.3767197695619062, 2.320029402742729, 1.1281641430995388, -0.17966934810394408, -1.582581761345581, -3.0606528878565156, -4.59602730341171, -6.172608682743446, -7.774909654967549, -9.386748750485358, -10.990318787309018, -12.565619434591188, -14.089575959983422, -15.533811032940136, -16.860070990737768, -18.012119510961984, -18.901483297954538, -19.379830750269633]}, {\"hoverinfo\": \"name\", \"line\": {\"color\": \"#555\", \"dash\": \"dot\", \"width\": 1}, \"name\": \"6.00 dB\", \"showlegend\": false, \"type\": \"scatter\", \"x\": [-181.0044525859156, -182.00706208752763, -183.0059994899574, -183.99946365000403, -184.98569457347367, -187.408591693385, -189.75111962661822, -194.11400997325404, -197.95308877480693, -201.2110046386224, -203.882655271241, -208.76368925804854, -210.07854669531383, -209.08573699075276, -206.61944411079287, -203.19624885388873, -199.14024541544325, -194.6633656344593, -189.91215173606156, -181.66883360739166, -180.0, -178.33116639260837, -170.08784826393844, -165.33663436554068, -160.85975458455675, -156.8037511461113, -153.38055588920716, -150.91426300924724, -149.92145330468617, -151.23631074195148, -156.11734472875898, -158.78899536137763, -162.04691122519313, -165.88599002674593, -170.24888037338178, -172.59140830661497, -175.0143054265264, -176.00053634999594, -176.99400051004255, -177.99293791247237, -178.9955474140844], \"y\": [6.038584887637681, 6.030603754626434, 6.017337064173958, 5.998837145331412, 5.975176335900421, 5.894089570862205, 5.783261698845564, 5.4826074459056695, 5.096695738427625, 4.650493262050236, 4.166800369039922, 2.6567802911878013, 1.2493792041125524, 0.03595583500082545, -0.9732279370869548, -1.7915587587987878, -2.436272660456205, -2.922504047148822, -3.2618637150774954, -3.5213402361322443, -3.528697248729707, -3.5213402361322443, -3.261863715077498, -2.9225040471488253, -2.4362726604562077, -1.7915587587987878, -0.9732279370869548, 0.03595583500082353, 1.2493792041125524, 2.6567802911877987, 4.166800369039918, 4.650493262050238, 5.096695738427627, 5.482607445905669, 5.783261698845564, 5.894089570862203, 5.975176335900418, 5.998837145331412, 6.017337064173956, 6.030603754626437, 6.038584887637679]}, {\"hoverinfo\": \"name\", \"line\": {\"color\": \"#555\", \"dash\": \"dot\", \"width\": 1}, \"name\": \"3.00 dB\", \"showlegend\": false, \"type\": \"scatter\", \"x\": [-182.42156130189062, -184.82844943546547, -187.20643299081019, -189.54213134653503, -191.8233626783699, -197.22187957454412, -202.09598892987356, -210.09301738566455, -215.8791234237175, -219.8563069529548, -222.4551688385875, -225.06798311222548, -223.50196919041633, -219.93702449004138, -215.29642457077978, -210.02487275397982, -204.36172377497314, -198.44853900143266, -192.37662214327372, -182.07224305175168, -180.0, -177.92775694824832, -167.6233778567263, -161.5514609985674, -155.63827622502694, -149.9751272460202, -144.70357542922022, -140.06297550995865, -136.49803080958367, -134.93201688777452, -137.54483116141245, -140.1436930470452, -144.12087657628254, -149.90698261433542, -157.9040110701264, -162.7781204254559, -168.17663732163007, -170.45786865346497, -172.7935670091897, -175.17155056453453, -177.57843869810938], \"y\": [10.679764301197936, 10.647034445747146, 10.593037830089836, 10.518575471800114, 10.424714401516344, 10.11401746557135, 9.714033764687105, 8.743853755272685, 7.678062347477537, 6.616357953051257, 5.606844160199614, 3.010293842417393, 1.0059460068552415, -0.5489159148760905, -1.764348624364853, -2.712947800201404, -3.4422186673114457, -3.9835217795043447, -4.357464956087062, -4.641452702670781, -4.649481613751726, -4.641452702670781, -4.357464956087062, -3.9835217795043465, -3.4422186673114483, -2.7129478002014027, -1.764348624364854, -0.5489159148760926, 1.0059460068552415, 3.0102938424173904, 5.606844160199607, 6.61635795305126, 7.678062347477541, 8.743853755272685, 9.714033764687107, 10.11401746557135, 10.424714401516344, 10.518575471800112, 10.59303783008983, 10.647034445747146, 10.679764301197936]}, {\"hoverinfo\": \"name\", \"line\": {\"color\": \"#555\", \"dash\": \"dot\", \"width\": 1}, \"name\": \"1.00 dB\", \"showlegend\": false, \"type\": \"scatter\", \"x\": [-188.12984536554268, -195.88621216474792, -202.9844437398292, -209.27055340099685, -214.7096153155495, -224.98959838098392, -231.68544618825558, -238.9060061369517, -241.93858840592924, -242.95955537487828, -242.88818452740378, -239.59670953467293, -234.31238992498834, -228.21444019414758, -221.70905190957956, -214.9736246071892, -208.09857633531192, -201.13560158246298, -194.1172919529556, -182.35615618485986, -180.0, -177.6438438151401, -165.88270804704442, -158.86439841753705, -151.90142366468808, -145.0263753928108, -138.29094809042041, -131.78555980585242, -125.68761007501163, -120.40329046532707, -117.11181547259622, -117.04044462512172, -118.06141159407076, -121.0939938630483, -128.3145538117444, -135.0104016190161, -145.29038468445046, -150.72944659900304, -157.0155562601706, -164.11378783525214, -171.87015463445724], \"y\": [19.17292087222408, 18.88999404600427, 18.45599908317477, 17.91331788277162, 17.30269583621942, 15.674169524423078, 14.099770859367858, 11.392809577292622, 9.232708314999615, 7.475525714001363, 6.009559815241832, 2.725327008857705, 0.44275075770600797, -1.2482454597388433, -2.5390189104386724, -3.5327626980741282, -4.29037960222416, -4.8497530368011, -5.234889529168014, -5.526739523137509, -5.534983129163744, -5.526739523137509, -5.2348895291680115, -4.8497530368011015, -4.290379602224161, -3.5327626980741273, -2.5390189104386733, -1.2482454597388464, 0.44275075770600797, 2.7253270088577004, 6.009559815241823, 7.4755257140013684, 9.23270831499962, 11.392809577292622, 14.099770859367855, 15.674169524423071, 17.302695836219414, 17.913317882771604, 18.455999083174753, 18.88999404600427, 19.172920872224083]}, {\"hoverinfo\": \"name\", \"line\": {\"color\": \"#555\", \"dash\": \"dot\", \"width\": 1}, \"name\": \"0.50 dB\", \"showlegend\": false, \"type\": \"scatter\", \"x\": [-196.3718246156576, -210.241776113004, -220.80355193113053, -228.51181527270387, -234.1134646185559, -242.54794804403969, -246.79435053744254, -250.17113669346753, -250.7317375930338, -250.10476324945597, -248.87064427851567, -243.52619111012865, -237.14681544455618, -230.35244392901245, -223.35180491824565, -216.23515197605684, -209.04823910924426, -201.81713920054904, -194.55825435352733, -182.42801843030043, -180.0, -177.57198156969963, -165.44174564647267, -158.18286079945094, -150.95176089075574, -143.76484802394313, -136.64819508175432, -129.64755607098758, -122.85318455544379, -116.47380888987135, -111.12935572148433, -109.89523675054403, -109.26826240696619, -109.82886330653247, -113.20564946255746, -117.45205195596026, -125.88653538144405, -131.488184727296, -139.19644806886924, -149.75822388699612, -163.6281753843424], \"y\": [24.66386078734449, 23.68619318037223, 22.428476998260905, 21.119016837844416, 19.86570394081788, 17.148405136599663, 14.97381756434649, 11.709190668056703, 9.318257934761284, 7.44651521952795, 5.916081684987016, 2.548102112298766, 0.2356286732226798, -1.469242571571364, -2.7674915645818707, -3.7656469575966494, -4.526008275446839, -5.0871210227374375, -5.473330927281008, -5.765933081450027, -5.774197205849433, -5.765933081450027, -5.4733309272810065, -5.0871210227374375, -4.5260082754468405, -3.765646957596645, -2.767491564581872, -1.4692425715713675, 0.2356286732226798, 2.548102112298763, 5.916081684987007, 7.446515219527957, 9.31825793476129, 11.709190668056703, 14.973817564346488, 17.148405136599656, 19.86570394081787, 21.119016837844388, 22.428476998260866, 23.68619318037224, 24.663860787344486]}, {\"hoverinfo\": \"name\", \"line\": {\"color\": \"#555\", \"dash\": \"dot\", \"width\": 1}, \"name\": \"0.25 dB\", \"showlegend\": false, \"type\": \"scatter\", \"x\": [-210.7345808486815, -229.4974236482455, -239.7095256979066, -245.60440268536485, -249.25835228553376, -253.86709641080222, -255.65960361036178, -256.26209749939164, -255.33439270580863, -253.7861505386665, -251.9258936010815, -245.51029169050867, -238.57222728724224, -231.42562231524357, -224.1755612738757, -216.86736796171624, -209.52398817799792, -202.15848677226302, -194.77907815652532, -182.46400174809128, -180.0, -177.53599825190878, -165.2209218434747, -157.84151322773704, -150.47601182200208, -143.13263203828376, -135.82443872612433, -128.57437768475643, -121.42777271275776, -114.48970830949133, -108.0741063989185, -106.2138494613335, -104.66560729419137, -103.73790250060836, -104.34039638963822, -106.13290358919781, -110.74164771446624, -114.3955973146351, -120.2904743020932, -130.50257635175458, -149.26541915131847], \"y\": [29.582361840040452, 27.014193437570665, 24.599036537237854, 22.565963255105842, 20.862047629248345, 17.58707676714537, 15.181648668301047, 11.737967925491535, 9.28126664709167, 7.378506027626564, 5.831068132828873, 2.441468980087758, 0.12140345203767483, -1.5869690247594759, -2.887098602924716, -3.8863619025215304, -4.6474117274845135, -5.208960544669629, -5.595439459606192, -5.888230064901855, -5.896499329536557, -5.888230064901855, -5.59543945960619, -5.20896054466963, -4.6474117274845135, -3.8863619025215304, -2.8870986029247176, -1.586969024759478, 0.12140345203767483, 2.441468980087755, 5.831068132828864, 7.37850602762657, 9.281266647091675, 11.737967925491537, 15.181648668301042, 17.587076767145362, 20.86204762924833, 22.565963255105807, 24.599036537237783, 27.014193437570686, 29.58236184004044]}, {\"hoverinfo\": \"name\", \"line\": {\"color\": \"#555\", \"dash\": \"dot\", \"width\": 1}, \"name\": \"0.00 dB\", \"showlegend\": false, \"type\": \"scatter\", \"x\": [-269.4999999999999, -268.99999999999994, -268.50000000000006, -268.00000000000006, -267.5, -266.25, -265.0, -262.5, -260.0, -257.5, -255.0, -247.5, -240.0, -232.5, -225.0, -217.5, -210.0, -202.5, -195.0, -182.5, -180.0, -177.5, -165.0, -157.5, -150.00000000000003, -142.5, -135.0, -127.5, -120.0, -112.5, -105.0, -102.5, -100.0, -97.5, -95.0, -93.75, -92.5, -92.0, -91.5, -91.00000000000006, -90.50000000000011], \"y\": [35.16256289318372, 29.14229371826325, 25.62101977894313, 23.123016808799058, 21.185808854403394, 17.667429531589104, 15.173479920117972, 11.665446712198822, 9.185995486488366, 7.272665074459145, 5.719475475333597, 2.322606875058725, 0.0, -1.7095424698920367, -3.0102999566398116, -4.009933005441557, -4.771212547196623, -5.332906831698536, -5.719475475333596, -6.0123289342854225, -6.020599913279624, -6.0123289342854225, -5.719475475333596, -5.332906831698536, -4.771212547196625, -4.009933005441557, -3.0102999566398125, -1.709542469892039, 0.0, 2.3226068750587237, 5.719475475333587, 7.27266507445915, 9.18599548648837, 11.665446712198822, 15.17347992011797, 17.667429531589097, 21.185808854403376, 23.123016808799015, 25.621019778943044, 29.14229371826329, 35.1625628931837]}, {\"hoverinfo\": \"name\", \"line\": {\"color\": \"#555\", \"dash\": \"dot\", \"width\": 1}, \"name\": \"-1.00 dB\", \"showlegend\": false, \"type\": \"scatter\", \"x\": [-350.87015463445726, -342.1137878352521, -334.01555626017085, -326.72944659900315, -320.29038468445054, -307.51040161901614, -298.3145538117444, -286.09399386304824, -278.06141159407076, -272.0404446251217, -267.1118154725962, -255.40329046532707, -245.68761007501166, -236.78555980585242, -228.29094809042044, -220.0263753928108, -211.90142366468808, -203.86439841753702, -195.8827080470444, -182.64384381514014, -180.0, -177.35615618485994, -164.1172919529556, -156.13560158246298, -148.09857633531195, -139.9736246071892, -131.70905190957959, -123.21444019414761, -114.31238992498837, -104.59670953467293, -92.88818452740384, -87.95955537487828, -81.93858840592918, -73.9060061369517, -61.68544618825558, -52.489598380983864, -39.70961531554951, -33.27055340099696, -25.98444373982943, -17.88621216474786, -9.129845365542792], \"y\": [18.172920872224083, 17.889994046004272, 17.45599908317476, 16.91331788277161, 16.302695836219424, 14.674169524423068, 13.099770859367856, 10.39280957729262, 8.232708314999616, 6.475525714001364, 5.009559815241831, 1.7253270088577046, -0.5572492422939905, -2.2482454597388433, -3.539018910438671, -4.532762698074128, -5.290379602224158, -5.8497530368011, -6.234889529168011, -6.526739523137509, -6.534983129163744, -6.526739523137509, -6.234889529168011, -5.8497530368011, -5.290379602224159, -4.532762698074128, -3.5390189104386724, -2.248245459738846, -0.5572492422939905, 1.725327008857703, 5.009559815241822, 6.47552571400137, 8.23270831499962, 10.392809577292624, 13.099770859367855, 14.674169524423066, 16.302695836219417, 16.9133178827716, 17.455999083174746, 17.889994046004276, 18.17292087222408]}, {\"hoverinfo\": \"name\", \"line\": {\"color\": \"#555\", \"dash\": \"dot\", \"width\": 1}, \"name\": \"-3.00 dB\", \"showlegend\": false, \"type\": \"scatter\", \"x\": [-356.5784386981094, -353.1715505645345, -349.7935670091898, -346.457868653465, -343.1766373216301, -335.27812042545594, -327.9040110701264, -314.9069826143354, -304.1208765762825, -295.1436930470452, -287.54483116141245, -269.9320168877745, -256.4980308095836, -245.06297550995862, -234.70357542922022, -224.97512724602018, -215.6382762250269, -206.55146099856734, -197.62337785672628, -182.92775694824832, -180.0, -177.0722430517517, -162.3766221432737, -153.44853900143264, -144.36172377497311, -135.02487275397982, -125.29642457077978, -114.93702449004138, -103.50196919041633, -90.06798311222553, -72.45516883858761, -64.85630695295481, -55.87912342371749, -45.09301738566461, -32.09598892987361, -24.72187957454412, -16.82336267836996, -13.542131346535086, -10.206432990810299, -6.828449435465473, -3.4215613018906197], \"y\": [7.6797643011979355, 7.647034445747147, 7.593037830089832, 7.51857547180011, 7.424714401516347, 7.114017465571349, 6.714033764687107, 5.743853755272688, 4.678062347477541, 3.6163579530512586, 2.6068441601996146, 0.010293842417393655, -1.9940539931447574, -3.54891591487609, -4.764348624364852, -5.712947800201404, -6.442218667311447, -6.983521779504347, -7.357464956087063, -7.64145270267078, -7.6494816137517265, -7.64145270267078, -7.357464956087062, -6.983521779504346, -6.442218667311449, -5.712947800201404, -4.764348624364854, -3.5489159148760945, -1.9940539931447574, 0.01029384241739173, 2.606844160199607, 3.6163579530512613, 4.6780623474775425, 5.743853755272687, 6.714033764687107, 7.114017465571347, 7.424714401516347, 7.51857547180011, 7.593037830089831, 7.647034445747147, 7.6797643011979355]}, {\"hoverinfo\": \"name\", \"line\": {\"color\": \"#555\", \"dash\": \"dot\", \"width\": 1}, \"name\": \"-6.00 dB\", \"showlegend\": false, \"type\": \"scatter\", \"x\": [-357.9955474140844, -355.99293791247237, -353.99400051004255, -352.00053634999597, -350.0143054265264, -345.09140830661494, -340.2488803733818, -330.8859900267459, -322.0469112251931, -313.7889953613776, -306.117344728759, -286.23631074195146, -269.92145330468617, -255.91426300924724, -243.38055588920713, -231.80375114611127, -220.85975458455675, -210.33663436554065, -200.08784826393844, -183.33116639260834, -180.0, -176.66883360739166, -159.91215173606153, -149.66336563445935, -139.14024541544327, -128.1962488538887, -116.61944411079287, -104.08573699075279, -90.07854669531383, -73.76368925804854, -53.88265527124105, -46.21100463862234, -37.95308877480687, -29.114009973254042, -19.75111962661822, -14.908591693385063, -9.985694573473609, -7.999463650004088, -6.005999489957503, -4.007062087527629, -2.004452585915658], \"y\": [0.03858488763767778, 0.03060375462643412, 0.017337064173952046, -0.0011628546685900252, -0.024823664099580364, -0.10591042913779797, -0.21673830115443865, -0.5173925540943324, -0.9033042615723732, -1.3495067379497658, -1.8331996309600802, -3.3432197088121995, -4.750620795887448, -5.964044164999175, -6.973227937086955, -7.791558758798789, -8.436272660456204, -8.922504047148825, -9.261863715077498, -9.521340236132247, -9.528697248729706, -9.521340236132247, -9.261863715077496, -8.922504047148825, -8.43627266045621, -7.791558758798788, -6.973227937086954, -5.964044164999177, -4.75062079588745, -3.343219708812202, -1.8331996309600862, -1.3495067379497636, -0.9033042615723743, -0.5173925540943324, -0.21673830115443865, -0.10591042913779991, -0.02482366409958133, -0.001162854668589061, 0.017337064173952046, 0.03060375462643412, 0.03858488763767969]}, {\"hoverinfo\": \"name\", \"line\": {\"color\": \"#555\", \"dash\": \"dot\", \"width\": 1}, \"name\": \"-12.00 dB\", \"showlegend\": false, \"type\": \"scatter\", \"x\": [-358.6645881674737, -357.3294042376337, -355.99467567103443, -354.66062904607696, -353.32748962319005, -350.00007143960084, -346.68313903391805, -340.093777577436, -333.58372479687006, -327.1738821606527, -320.8811636256163, -302.8125312477642, -286.02949646482057, -270.4526028005789, -255.89967637641075, -242.16599931121726, -229.0616987201294, -216.4228646138801, -204.1105118631359, -183.9968095913896, -180.0, -176.00319040861044, -155.88948813686406, -143.57713538611992, -130.93830127987064, -117.83400068878268, -104.10032362358922, -89.54739719942108, -73.97050353517949, -57.18746875223587, -39.11883637438376, -32.82611783934732, -26.416275203129942, -19.906222422563985, -13.316860966081947, -9.999928560399155, -6.672510376809953, -5.339370953923037, -4.005324328965571, -2.670595762366247, -1.3354118325262903], \"y\": [-9.488041039111309, -9.489818140538599, -9.492777760313825, -9.496916581919354, -9.502229976955315, -9.520610194811976, -9.546163900231825, -9.618050006682063, -9.715988750167744, -9.837516123650202, -9.979764081669678, -10.499481991597179, -11.095063346037577, -11.699146567511661, -12.265723755961025, -12.766843237510201, -13.186893456343654, -13.517773258690749, -13.75560292379796, -13.94114919117165, -13.946455874173909, -13.94114919117165, -13.75560292379796, -13.517773258690745, -13.186893456343656, -12.766843237510201, -12.265723755961025, -11.699146567511665, -11.095063346037577, -10.499481991597179, -9.97976408166968, -9.837516123650202, -9.715988750167746, -9.618050006682063, -9.546163900231825, -9.520610194811976, -9.502229976955315, -9.496916581919356, -9.492777760313823, -9.489818140538599, -9.488041039111307]}, {\"hoverinfo\": \"name\", \"line\": {\"color\": \"#555\", \"dash\": \"dot\", \"width\": 1}, \"name\": \"-20.00 dB\", \"showlegend\": false, \"type\": \"scatter\", \"x\": [-358.8888965493027, -357.7778390541404, -356.66687343532357, -355.5560455442723, -354.44540112846903, -351.66989167066737, -348.89652075551027, -343.3589703285723, -337.8381516710673, -332.33916301626834, -326.8667171206091, -310.64868408641405, -294.79128089714493, -279.3371191156383, -264.28940686250036, -249.6211360082914, -235.2849960460518, -221.22162278409758, -207.3653939814767, -184.54588366326493, -180.0, -175.45411633673513, -152.63460601852324, -138.77837721590248, -124.71500395394827, -110.37886399170858, -95.71059313749964, -80.6628808843617, -65.20871910285507, -49.35131591358595, -33.13328287939095, -27.660836983731656, -22.161848328932706, -16.641029671427702, -11.103479244489733, -8.330108329332631, -5.55459887153097, -4.443954455727749, -3.3331265646764905, -2.2221609458596276, -1.1111034506973283], \"y\": [-19.085013507081424, -19.085503375377726, -19.086319534008915, -19.08746155052706, -19.08892882019638, -19.094014462352902, -19.101110842980592, -19.121236166745526, -19.149042963976978, -19.184174848780152, -19.226190346310158, -19.38809146911957, -19.590413923210935, -19.81472569408657, -20.043213737826427, -20.260279180191155, -20.453229787866572, -20.612342803649057, -20.730600258806064, -20.825121237762787, -20.8278537031645, -20.825121237762787, -20.730600258806064, -20.612342803649057, -20.453229787866576, -20.26027918019116, -20.043213737826427, -19.81472569408657, -19.590413923210935, -19.38809146911957, -19.226190346310158, -19.184174848780152, -19.149042963976978, -19.121236166745526, -19.101110842980592, -19.094014462352902, -19.08892882019638, -19.08746155052706, -19.086319534008915, -19.085503375377726, -19.085013507081424]}, {\"hoverinfo\": \"name\", \"line\": {\"color\": \"#555\", \"dash\": \"dot\", \"width\": 1}, \"name\": \"-20.00 dB\", \"showlegend\": false, \"type\": \"scatter\", \"x\": [-358.8888965493027, -357.7778390541404, -356.66687343532357, -355.5560455442723, -354.44540112846903, -351.66989167066737, -348.89652075551027, -343.3589703285723, -337.8381516710673, -332.33916301626834, -326.8667171206091, -310.64868408641405, -294.79128089714493, -279.3371191156383, -264.28940686250036, -249.6211360082914, -235.2849960460518, -221.22162278409758, -207.3653939814767, -184.54588366326493, -180.0, -175.45411633673513, -152.63460601852324, -138.77837721590248, -124.71500395394827, -110.37886399170858, -95.71059313749964, -80.6628808843617, -65.20871910285507, -49.35131591358595, -33.13328287939095, -27.660836983731656, -22.161848328932706, -16.641029671427702, -11.103479244489733, -8.330108329332631, -5.55459887153097, -4.443954455727749, -3.3331265646764905, -2.2221609458596276, -1.1111034506973283], \"y\": [-19.085013507081424, -19.085503375377726, -19.086319534008915, -19.08746155052706, -19.08892882019638, -19.094014462352902, -19.101110842980592, -19.121236166745526, -19.149042963976978, -19.184174848780152, -19.226190346310158, -19.38809146911957, -19.590413923210935, -19.81472569408657, -20.043213737826427, -20.260279180191155, -20.453229787866572, -20.612342803649057, -20.730600258806064, -20.825121237762787, -20.8278537031645, -20.825121237762787, -20.730600258806064, -20.612342803649057, -20.453229787866576, -20.26027918019116, -20.043213737826427, -19.81472569408657, -19.590413923210935, -19.38809146911957, -19.226190346310158, -19.184174848780152, -19.149042963976978, -19.121236166745526, -19.101110842980592, -19.094014462352902, -19.08892882019638, -19.08746155052706, -19.086319534008915, -19.085503375377726, -19.085013507081424]}],\n",
       "                        {\"template\": {\"data\": {\"bar\": [{\"error_x\": {\"color\": \"#2a3f5f\"}, \"error_y\": {\"color\": \"#2a3f5f\"}, \"marker\": {\"line\": {\"color\": \"#E5ECF6\", \"width\": 0.5}}, \"type\": \"bar\"}], \"barpolar\": [{\"marker\": {\"line\": {\"color\": \"#E5ECF6\", \"width\": 0.5}}, \"type\": \"barpolar\"}], \"carpet\": [{\"aaxis\": {\"endlinecolor\": \"#2a3f5f\", \"gridcolor\": \"white\", \"linecolor\": \"white\", \"minorgridcolor\": \"white\", \"startlinecolor\": \"#2a3f5f\"}, \"baxis\": {\"endlinecolor\": \"#2a3f5f\", \"gridcolor\": \"white\", \"linecolor\": \"white\", \"minorgridcolor\": \"white\", \"startlinecolor\": \"#2a3f5f\"}, \"type\": \"carpet\"}], \"choropleth\": [{\"colorbar\": {\"outlinewidth\": 0, \"ticks\": \"\"}, \"type\": \"choropleth\"}], \"contour\": [{\"colorbar\": {\"outlinewidth\": 0, \"ticks\": \"\"}, \"colorscale\": [[0.0, \"#0d0887\"], [0.1111111111111111, \"#46039f\"], [0.2222222222222222, \"#7201a8\"], [0.3333333333333333, \"#9c179e\"], [0.4444444444444444, \"#bd3786\"], [0.5555555555555556, \"#d8576b\"], [0.6666666666666666, \"#ed7953\"], [0.7777777777777778, \"#fb9f3a\"], [0.8888888888888888, \"#fdca26\"], [1.0, \"#f0f921\"]], \"type\": \"contour\"}], \"contourcarpet\": [{\"colorbar\": {\"outlinewidth\": 0, \"ticks\": \"\"}, \"type\": \"contourcarpet\"}], \"heatmap\": [{\"colorbar\": {\"outlinewidth\": 0, \"ticks\": \"\"}, \"colorscale\": [[0.0, \"#0d0887\"], [0.1111111111111111, \"#46039f\"], [0.2222222222222222, \"#7201a8\"], [0.3333333333333333, \"#9c179e\"], [0.4444444444444444, \"#bd3786\"], [0.5555555555555556, \"#d8576b\"], [0.6666666666666666, \"#ed7953\"], [0.7777777777777778, \"#fb9f3a\"], [0.8888888888888888, \"#fdca26\"], [1.0, \"#f0f921\"]], \"type\": \"heatmap\"}], \"heatmapgl\": [{\"colorbar\": {\"outlinewidth\": 0, \"ticks\": \"\"}, \"colorscale\": [[0.0, \"#0d0887\"], [0.1111111111111111, \"#46039f\"], [0.2222222222222222, \"#7201a8\"], [0.3333333333333333, \"#9c179e\"], [0.4444444444444444, \"#bd3786\"], [0.5555555555555556, \"#d8576b\"], [0.6666666666666666, \"#ed7953\"], [0.7777777777777778, \"#fb9f3a\"], [0.8888888888888888, \"#fdca26\"], [1.0, \"#f0f921\"]], \"type\": \"heatmapgl\"}], \"histogram\": [{\"marker\": {\"colorbar\": {\"outlinewidth\": 0, \"ticks\": \"\"}}, \"type\": \"histogram\"}], \"histogram2d\": [{\"colorbar\": {\"outlinewidth\": 0, \"ticks\": \"\"}, \"colorscale\": [[0.0, \"#0d0887\"], [0.1111111111111111, \"#46039f\"], [0.2222222222222222, \"#7201a8\"], [0.3333333333333333, \"#9c179e\"], [0.4444444444444444, \"#bd3786\"], [0.5555555555555556, \"#d8576b\"], [0.6666666666666666, \"#ed7953\"], [0.7777777777777778, \"#fb9f3a\"], [0.8888888888888888, \"#fdca26\"], [1.0, \"#f0f921\"]], \"type\": \"histogram2d\"}], \"histogram2dcontour\": [{\"colorbar\": {\"outlinewidth\": 0, \"ticks\": \"\"}, \"colorscale\": [[0.0, \"#0d0887\"], [0.1111111111111111, \"#46039f\"], [0.2222222222222222, \"#7201a8\"], [0.3333333333333333, \"#9c179e\"], [0.4444444444444444, \"#bd3786\"], [0.5555555555555556, \"#d8576b\"], [0.6666666666666666, \"#ed7953\"], [0.7777777777777778, \"#fb9f3a\"], [0.8888888888888888, \"#fdca26\"], [1.0, \"#f0f921\"]], \"type\": \"histogram2dcontour\"}], \"mesh3d\": [{\"colorbar\": {\"outlinewidth\": 0, \"ticks\": \"\"}, \"type\": \"mesh3d\"}], \"parcoords\": [{\"line\": {\"colorbar\": {\"outlinewidth\": 0, \"ticks\": \"\"}}, \"type\": \"parcoords\"}], \"pie\": [{\"automargin\": true, \"type\": \"pie\"}], \"scatter\": [{\"marker\": {\"colorbar\": {\"outlinewidth\": 0, \"ticks\": \"\"}}, \"type\": \"scatter\"}], \"scatter3d\": [{\"line\": {\"colorbar\": {\"outlinewidth\": 0, \"ticks\": \"\"}}, \"marker\": {\"colorbar\": {\"outlinewidth\": 0, \"ticks\": \"\"}}, \"type\": \"scatter3d\"}], \"scattercarpet\": [{\"marker\": {\"colorbar\": {\"outlinewidth\": 0, \"ticks\": \"\"}}, \"type\": \"scattercarpet\"}], \"scattergeo\": [{\"marker\": {\"colorbar\": {\"outlinewidth\": 0, \"ticks\": \"\"}}, \"type\": \"scattergeo\"}], \"scattergl\": [{\"marker\": {\"colorbar\": {\"outlinewidth\": 0, \"ticks\": \"\"}}, \"type\": \"scattergl\"}], \"scattermapbox\": [{\"marker\": {\"colorbar\": {\"outlinewidth\": 0, \"ticks\": \"\"}}, \"type\": \"scattermapbox\"}], \"scatterpolar\": [{\"marker\": {\"colorbar\": {\"outlinewidth\": 0, \"ticks\": \"\"}}, \"type\": \"scatterpolar\"}], \"scatterpolargl\": [{\"marker\": {\"colorbar\": {\"outlinewidth\": 0, \"ticks\": \"\"}}, \"type\": \"scatterpolargl\"}], \"scatterternary\": [{\"marker\": {\"colorbar\": {\"outlinewidth\": 0, \"ticks\": \"\"}}, \"type\": \"scatterternary\"}], \"surface\": [{\"colorbar\": {\"outlinewidth\": 0, \"ticks\": \"\"}, \"colorscale\": [[0.0, \"#0d0887\"], [0.1111111111111111, \"#46039f\"], [0.2222222222222222, \"#7201a8\"], [0.3333333333333333, \"#9c179e\"], [0.4444444444444444, \"#bd3786\"], [0.5555555555555556, \"#d8576b\"], [0.6666666666666666, \"#ed7953\"], [0.7777777777777778, \"#fb9f3a\"], [0.8888888888888888, \"#fdca26\"], [1.0, \"#f0f921\"]], \"type\": \"surface\"}], \"table\": [{\"cells\": {\"fill\": {\"color\": \"#EBF0F8\"}, \"line\": {\"color\": \"white\"}}, \"header\": {\"fill\": {\"color\": \"#C8D4E3\"}, \"line\": {\"color\": \"white\"}}, \"type\": \"table\"}]}, \"layout\": {\"annotationdefaults\": {\"arrowcolor\": \"#2a3f5f\", \"arrowhead\": 0, \"arrowwidth\": 1}, \"coloraxis\": {\"colorbar\": {\"outlinewidth\": 0, \"ticks\": \"\"}}, \"colorscale\": {\"diverging\": [[0, \"#8e0152\"], [0.1, \"#c51b7d\"], [0.2, \"#de77ae\"], [0.3, \"#f1b6da\"], [0.4, \"#fde0ef\"], [0.5, \"#f7f7f7\"], [0.6, \"#e6f5d0\"], [0.7, \"#b8e186\"], [0.8, \"#7fbc41\"], [0.9, \"#4d9221\"], [1, \"#276419\"]], \"sequential\": [[0.0, \"#0d0887\"], [0.1111111111111111, \"#46039f\"], [0.2222222222222222, \"#7201a8\"], [0.3333333333333333, \"#9c179e\"], [0.4444444444444444, \"#bd3786\"], [0.5555555555555556, \"#d8576b\"], [0.6666666666666666, \"#ed7953\"], [0.7777777777777778, \"#fb9f3a\"], [0.8888888888888888, \"#fdca26\"], [1.0, \"#f0f921\"]], \"sequentialminus\": [[0.0, \"#0d0887\"], [0.1111111111111111, \"#46039f\"], [0.2222222222222222, \"#7201a8\"], [0.3333333333333333, \"#9c179e\"], [0.4444444444444444, \"#bd3786\"], [0.5555555555555556, \"#d8576b\"], [0.6666666666666666, \"#ed7953\"], [0.7777777777777778, \"#fb9f3a\"], [0.8888888888888888, \"#fdca26\"], [1.0, \"#f0f921\"]]}, \"colorway\": [\"#636efa\", \"#EF553B\", \"#00cc96\", \"#ab63fa\", \"#FFA15A\", \"#19d3f3\", \"#FF6692\", \"#B6E880\", \"#FF97FF\", \"#FECB52\"], \"font\": {\"color\": \"#2a3f5f\"}, \"geo\": {\"bgcolor\": \"white\", \"lakecolor\": \"white\", \"landcolor\": \"#E5ECF6\", \"showlakes\": true, \"showland\": true, \"subunitcolor\": \"white\"}, \"hoverlabel\": {\"align\": \"left\"}, \"hovermode\": \"closest\", \"mapbox\": {\"style\": \"light\"}, \"paper_bgcolor\": \"white\", \"plot_bgcolor\": \"#E5ECF6\", \"polar\": {\"angularaxis\": {\"gridcolor\": \"white\", \"linecolor\": \"white\", \"ticks\": \"\"}, \"bgcolor\": \"#E5ECF6\", \"radialaxis\": {\"gridcolor\": \"white\", \"linecolor\": \"white\", \"ticks\": \"\"}}, \"scene\": {\"xaxis\": {\"backgroundcolor\": \"#E5ECF6\", \"gridcolor\": \"white\", \"gridwidth\": 2, \"linecolor\": \"white\", \"showbackground\": true, \"ticks\": \"\", \"zerolinecolor\": \"white\"}, \"yaxis\": {\"backgroundcolor\": \"#E5ECF6\", \"gridcolor\": \"white\", \"gridwidth\": 2, \"linecolor\": \"white\", \"showbackground\": true, \"ticks\": \"\", \"zerolinecolor\": \"white\"}, \"zaxis\": {\"backgroundcolor\": \"#E5ECF6\", \"gridcolor\": \"white\", \"gridwidth\": 2, \"linecolor\": \"white\", \"showbackground\": true, \"ticks\": \"\", \"zerolinecolor\": \"white\"}}, \"shapedefaults\": {\"line\": {\"color\": \"#2a3f5f\"}}, \"ternary\": {\"aaxis\": {\"gridcolor\": \"white\", \"linecolor\": \"white\", \"ticks\": \"\"}, \"baxis\": {\"gridcolor\": \"white\", \"linecolor\": \"white\", \"ticks\": \"\"}, \"bgcolor\": \"#E5ECF6\", \"caxis\": {\"gridcolor\": \"white\", \"linecolor\": \"white\", \"ticks\": \"\"}}, \"title\": {\"x\": 0.05}, \"xaxis\": {\"automargin\": true, \"gridcolor\": \"white\", \"linecolor\": \"white\", \"ticks\": \"\", \"title\": {\"standoff\": 15}, \"zerolinecolor\": \"white\", \"zerolinewidth\": 2}, \"yaxis\": {\"automargin\": true, \"gridcolor\": \"white\", \"linecolor\": \"white\", \"ticks\": \"\", \"title\": {\"standoff\": 15}, \"zerolinecolor\": \"white\", \"zerolinewidth\": 2}}}, \"xaxis\": {\"title\": {\"text\": \"Open-Loop Phase (deg)\"}}, \"yaxis\": {\"title\": {\"text\": \"Open-Loop Gain (dB)\"}}},\n",
       "                        {\"responsive\": true}\n",
       "                    ).then(function(){\n",
       "                            \n",
       "var gd = document.getElementById('0140eff8-ef59-4667-9dbb-618b5866d5bd');\n",
       "var x = new MutationObserver(function (mutations, observer) {{\n",
       "        var display = window.getComputedStyle(gd).display;\n",
       "        if (!display || display === 'none') {{\n",
       "            console.log([gd, 'removed!']);\n",
       "            Plotly.purge(gd);\n",
       "            observer.disconnect();\n",
       "        }}\n",
       "}});\n",
       "\n",
       "// Listen for the removal of the full notebook cells\n",
       "var notebookContainer = gd.closest('#notebook-container');\n",
       "if (notebookContainer) {{\n",
       "    x.observe(notebookContainer, {childList: true});\n",
       "}}\n",
       "\n",
       "// Listen for the clearing of the current output cell\n",
       "var outputEl = gd.closest('.output');\n",
       "if (outputEl) {{\n",
       "    x.observe(outputEl, {childList: true});\n",
       "}}\n",
       "\n",
       "                        })\n",
       "                };\n",
       "                });\n",
       "            </script>\n",
       "        </div>"
      ]
     },
     "metadata": {},
     "output_type": "display_data"
    }
   ],
   "source": [
    "K = 3.5\n",
    "fig = figure(\"nichols\")\n",
    "fig.plot(K*Fz)\n",
    "fig.grid(show_phase=False)\n",
    "fig.show()"
   ]
  },
  {
   "cell_type": "markdown",
   "metadata": {},
   "source": [
    "Nous pouvons prendre $K=3.5$. Nous obtenons alors un gain statique en BF de $-3dB$ (0.7)."
   ]
  },
  {
   "cell_type": "markdown",
   "metadata": {},
   "source": [
    "### 5.2 Validation du correcteur proportionnel.\n",
    "\n",
    "* **Question** \n",
    "    * Calculez avec python, $H(z)$, la fonction de transfert du système bouclé et corrigé avec le gain $K$.\n",
    "    * Tracez la réponse indicielle de $H(z)$. Déterminez les caractéristiques de cette réponse ($tr$, $D\\%$, $m$, $s[\\infty]$).\n",
    "\n",
    " \n",
    "  \n",
    " \n",
    " "
   ]
  },
  {
   "cell_type": "code",
   "execution_count": 71,
   "metadata": {},
   "outputs": [
    {
     "data": {
      "application/vnd.plotly.v1+json": {
       "config": {
        "plotlyServerURL": "https://plot.ly"
       },
       "data": [
        {
         "line": {
          "color": "#1f77b4",
          "shape": "hv"
         },
         "mode": "lines",
         "name": "sys",
         "type": "scatter",
         "x": [
          0,
          0.05,
          0.1,
          0.15000000000000002,
          0.2,
          0.25,
          0.30000000000000004,
          0.35000000000000003,
          0.4,
          0.45,
          0.5,
          0.55,
          0.6000000000000001,
          0.65,
          0.7000000000000001,
          0.75,
          0.8,
          0.8500000000000001,
          0.9,
          0.9500000000000001,
          1,
          1.05,
          1.1,
          1.1500000000000001,
          1.2000000000000002,
          1.25,
          1.3,
          1.35,
          1.4000000000000001,
          1.4500000000000002,
          1.5,
          1.55,
          1.6,
          1.6500000000000001,
          1.7000000000000002,
          1.75,
          1.8,
          1.85,
          1.9000000000000001,
          1.9500000000000002,
          2,
          2.0500000000000003,
          2.1,
          2.15,
          2.2,
          2.25,
          2.3000000000000003,
          2.35,
          2.4000000000000004,
          2.45,
          2.5,
          2.5500000000000003,
          2.6,
          2.6500000000000004,
          2.7,
          2.75,
          2.8000000000000003,
          2.85,
          2.9000000000000004,
          2.95,
          3,
          3.0500000000000003,
          3.1,
          3.1500000000000004,
          3.2,
          3.25,
          3.3000000000000003,
          3.35,
          3.4000000000000004,
          3.45,
          3.5,
          3.5500000000000003,
          3.6,
          3.6500000000000004,
          3.7,
          3.75,
          3.8000000000000003,
          3.85,
          3.9000000000000004,
          3.95,
          4,
          4.05,
          4.1000000000000005,
          4.15,
          4.2,
          4.25,
          4.3,
          4.3500000000000005,
          4.4,
          4.45,
          4.5,
          4.55,
          4.6000000000000005,
          4.65,
          4.7,
          4.75,
          4.800000000000001,
          4.8500000000000005,
          4.9,
          4.95
         ],
         "y": [
          0,
          -0.10029007399784617,
          -0.044261961443474135,
          0.10830262097328547,
          0.3022784322852925,
          0.494181381019128,
          0.6550717214417755,
          0.7702628247304811,
          0.8369254262604795,
          0.8606455308965597,
          0.8518094977013674,
          0.8224307536615966,
          0.7837634286536777,
          0.7448138011629736,
          0.7116856044806443,
          0.6875874664640961,
          0.6732847388759714,
          0.6677806143104771,
          0.6690464047639821,
          0.6746721908459236,
          0.6823634702649909,
          0.6902575305142202,
          0.6970696890384684,
          0.7021024839408826,
          0.7051612280919758,
          0.7064195900153164,
          0.7062722945929624,
          0.7052018907292954,
          0.7036755471612649,
          0.7020779819442533,
          0.7006790571345906,
          0.6996297004166633,
          0.6989775168693126,
          0.6986932403936195,
          0.6987003965081087,
          0.6989025479346925,
          0.6992047086729175,
          0.6995275291603551,
          0.6998144279245563,
          0.7000328763744051,
          0.7001715510522715,
          0.7002351446887847,
          0.7002384027565236,
          0.7002005592590439,
          0.7001408999244716,
          0.700075768774919,
          0.7000170079161498,
          0.6999716025143902,
          0.6999421915153599,
          0.6999280820826524,
          0.6999264464139792,
          0.6999334565626187,
          0.6999452023982039,
          0.699958321970107,
          0.6999703410629883,
          0.6999797646668258,
          0.6999859873973807,
          0.6999890959171383,
          0.6999896291791591,
          0.6999883472940732,
          0.699986041871924,
          0.6999834035430518,
          0.6999809484002212,
          0.6999789954405372,
          0.6999776818057586,
          0.6999770011043276,
          0.6999768513501455,
          0.6999770819735371,
          0.6999775329523519,
          0.6999780626014522,
          0.6999785634416746,
          0.6999789675985045,
          0.6999792443222677,
          0.6999793925897572,
          0.699979431538092,
          0.699979390916338,
          0.6999793030227559,
          0.6999791968860812,
          0.6999790948548222,
          0.6999790113332711,
          0.6999789531570755,
          0.6999789210140827,
          0.6999789113492337,
          0.6999789183011739,
          0.6999789353613086,
          0.6999789565900485,
          0.6999789773473776,
          0.6999789945838696,
          0.6999790067910162,
          0.6999790137299866,
          0.6999790160531523,
          0.6999790149118743,
          0.6999790116155762,
          0.699979007377946,
          0.6999790031609353,
          0.6999789996086418,
          0.6999789970518769,
          0.6999789955595899,
          0.6999789950138865,
          0.699978995189345
         ]
        }
       ],
       "layout": {
        "template": {
         "data": {
          "bar": [
           {
            "error_x": {
             "color": "#2a3f5f"
            },
            "error_y": {
             "color": "#2a3f5f"
            },
            "marker": {
             "line": {
              "color": "#E5ECF6",
              "width": 0.5
             }
            },
            "type": "bar"
           }
          ],
          "barpolar": [
           {
            "marker": {
             "line": {
              "color": "#E5ECF6",
              "width": 0.5
             }
            },
            "type": "barpolar"
           }
          ],
          "carpet": [
           {
            "aaxis": {
             "endlinecolor": "#2a3f5f",
             "gridcolor": "white",
             "linecolor": "white",
             "minorgridcolor": "white",
             "startlinecolor": "#2a3f5f"
            },
            "baxis": {
             "endlinecolor": "#2a3f5f",
             "gridcolor": "white",
             "linecolor": "white",
             "minorgridcolor": "white",
             "startlinecolor": "#2a3f5f"
            },
            "type": "carpet"
           }
          ],
          "choropleth": [
           {
            "colorbar": {
             "outlinewidth": 0,
             "ticks": ""
            },
            "type": "choropleth"
           }
          ],
          "contour": [
           {
            "colorbar": {
             "outlinewidth": 0,
             "ticks": ""
            },
            "colorscale": [
             [
              0,
              "#0d0887"
             ],
             [
              0.1111111111111111,
              "#46039f"
             ],
             [
              0.2222222222222222,
              "#7201a8"
             ],
             [
              0.3333333333333333,
              "#9c179e"
             ],
             [
              0.4444444444444444,
              "#bd3786"
             ],
             [
              0.5555555555555556,
              "#d8576b"
             ],
             [
              0.6666666666666666,
              "#ed7953"
             ],
             [
              0.7777777777777778,
              "#fb9f3a"
             ],
             [
              0.8888888888888888,
              "#fdca26"
             ],
             [
              1,
              "#f0f921"
             ]
            ],
            "type": "contour"
           }
          ],
          "contourcarpet": [
           {
            "colorbar": {
             "outlinewidth": 0,
             "ticks": ""
            },
            "type": "contourcarpet"
           }
          ],
          "heatmap": [
           {
            "colorbar": {
             "outlinewidth": 0,
             "ticks": ""
            },
            "colorscale": [
             [
              0,
              "#0d0887"
             ],
             [
              0.1111111111111111,
              "#46039f"
             ],
             [
              0.2222222222222222,
              "#7201a8"
             ],
             [
              0.3333333333333333,
              "#9c179e"
             ],
             [
              0.4444444444444444,
              "#bd3786"
             ],
             [
              0.5555555555555556,
              "#d8576b"
             ],
             [
              0.6666666666666666,
              "#ed7953"
             ],
             [
              0.7777777777777778,
              "#fb9f3a"
             ],
             [
              0.8888888888888888,
              "#fdca26"
             ],
             [
              1,
              "#f0f921"
             ]
            ],
            "type": "heatmap"
           }
          ],
          "heatmapgl": [
           {
            "colorbar": {
             "outlinewidth": 0,
             "ticks": ""
            },
            "colorscale": [
             [
              0,
              "#0d0887"
             ],
             [
              0.1111111111111111,
              "#46039f"
             ],
             [
              0.2222222222222222,
              "#7201a8"
             ],
             [
              0.3333333333333333,
              "#9c179e"
             ],
             [
              0.4444444444444444,
              "#bd3786"
             ],
             [
              0.5555555555555556,
              "#d8576b"
             ],
             [
              0.6666666666666666,
              "#ed7953"
             ],
             [
              0.7777777777777778,
              "#fb9f3a"
             ],
             [
              0.8888888888888888,
              "#fdca26"
             ],
             [
              1,
              "#f0f921"
             ]
            ],
            "type": "heatmapgl"
           }
          ],
          "histogram": [
           {
            "marker": {
             "colorbar": {
              "outlinewidth": 0,
              "ticks": ""
             }
            },
            "type": "histogram"
           }
          ],
          "histogram2d": [
           {
            "colorbar": {
             "outlinewidth": 0,
             "ticks": ""
            },
            "colorscale": [
             [
              0,
              "#0d0887"
             ],
             [
              0.1111111111111111,
              "#46039f"
             ],
             [
              0.2222222222222222,
              "#7201a8"
             ],
             [
              0.3333333333333333,
              "#9c179e"
             ],
             [
              0.4444444444444444,
              "#bd3786"
             ],
             [
              0.5555555555555556,
              "#d8576b"
             ],
             [
              0.6666666666666666,
              "#ed7953"
             ],
             [
              0.7777777777777778,
              "#fb9f3a"
             ],
             [
              0.8888888888888888,
              "#fdca26"
             ],
             [
              1,
              "#f0f921"
             ]
            ],
            "type": "histogram2d"
           }
          ],
          "histogram2dcontour": [
           {
            "colorbar": {
             "outlinewidth": 0,
             "ticks": ""
            },
            "colorscale": [
             [
              0,
              "#0d0887"
             ],
             [
              0.1111111111111111,
              "#46039f"
             ],
             [
              0.2222222222222222,
              "#7201a8"
             ],
             [
              0.3333333333333333,
              "#9c179e"
             ],
             [
              0.4444444444444444,
              "#bd3786"
             ],
             [
              0.5555555555555556,
              "#d8576b"
             ],
             [
              0.6666666666666666,
              "#ed7953"
             ],
             [
              0.7777777777777778,
              "#fb9f3a"
             ],
             [
              0.8888888888888888,
              "#fdca26"
             ],
             [
              1,
              "#f0f921"
             ]
            ],
            "type": "histogram2dcontour"
           }
          ],
          "mesh3d": [
           {
            "colorbar": {
             "outlinewidth": 0,
             "ticks": ""
            },
            "type": "mesh3d"
           }
          ],
          "parcoords": [
           {
            "line": {
             "colorbar": {
              "outlinewidth": 0,
              "ticks": ""
             }
            },
            "type": "parcoords"
           }
          ],
          "pie": [
           {
            "automargin": true,
            "type": "pie"
           }
          ],
          "scatter": [
           {
            "marker": {
             "colorbar": {
              "outlinewidth": 0,
              "ticks": ""
             }
            },
            "type": "scatter"
           }
          ],
          "scatter3d": [
           {
            "line": {
             "colorbar": {
              "outlinewidth": 0,
              "ticks": ""
             }
            },
            "marker": {
             "colorbar": {
              "outlinewidth": 0,
              "ticks": ""
             }
            },
            "type": "scatter3d"
           }
          ],
          "scattercarpet": [
           {
            "marker": {
             "colorbar": {
              "outlinewidth": 0,
              "ticks": ""
             }
            },
            "type": "scattercarpet"
           }
          ],
          "scattergeo": [
           {
            "marker": {
             "colorbar": {
              "outlinewidth": 0,
              "ticks": ""
             }
            },
            "type": "scattergeo"
           }
          ],
          "scattergl": [
           {
            "marker": {
             "colorbar": {
              "outlinewidth": 0,
              "ticks": ""
             }
            },
            "type": "scattergl"
           }
          ],
          "scattermapbox": [
           {
            "marker": {
             "colorbar": {
              "outlinewidth": 0,
              "ticks": ""
             }
            },
            "type": "scattermapbox"
           }
          ],
          "scatterpolar": [
           {
            "marker": {
             "colorbar": {
              "outlinewidth": 0,
              "ticks": ""
             }
            },
            "type": "scatterpolar"
           }
          ],
          "scatterpolargl": [
           {
            "marker": {
             "colorbar": {
              "outlinewidth": 0,
              "ticks": ""
             }
            },
            "type": "scatterpolargl"
           }
          ],
          "scatterternary": [
           {
            "marker": {
             "colorbar": {
              "outlinewidth": 0,
              "ticks": ""
             }
            },
            "type": "scatterternary"
           }
          ],
          "surface": [
           {
            "colorbar": {
             "outlinewidth": 0,
             "ticks": ""
            },
            "colorscale": [
             [
              0,
              "#0d0887"
             ],
             [
              0.1111111111111111,
              "#46039f"
             ],
             [
              0.2222222222222222,
              "#7201a8"
             ],
             [
              0.3333333333333333,
              "#9c179e"
             ],
             [
              0.4444444444444444,
              "#bd3786"
             ],
             [
              0.5555555555555556,
              "#d8576b"
             ],
             [
              0.6666666666666666,
              "#ed7953"
             ],
             [
              0.7777777777777778,
              "#fb9f3a"
             ],
             [
              0.8888888888888888,
              "#fdca26"
             ],
             [
              1,
              "#f0f921"
             ]
            ],
            "type": "surface"
           }
          ],
          "table": [
           {
            "cells": {
             "fill": {
              "color": "#EBF0F8"
             },
             "line": {
              "color": "white"
             }
            },
            "header": {
             "fill": {
              "color": "#C8D4E3"
             },
             "line": {
              "color": "white"
             }
            },
            "type": "table"
           }
          ]
         },
         "layout": {
          "annotationdefaults": {
           "arrowcolor": "#2a3f5f",
           "arrowhead": 0,
           "arrowwidth": 1
          },
          "coloraxis": {
           "colorbar": {
            "outlinewidth": 0,
            "ticks": ""
           }
          },
          "colorscale": {
           "diverging": [
            [
             0,
             "#8e0152"
            ],
            [
             0.1,
             "#c51b7d"
            ],
            [
             0.2,
             "#de77ae"
            ],
            [
             0.3,
             "#f1b6da"
            ],
            [
             0.4,
             "#fde0ef"
            ],
            [
             0.5,
             "#f7f7f7"
            ],
            [
             0.6,
             "#e6f5d0"
            ],
            [
             0.7,
             "#b8e186"
            ],
            [
             0.8,
             "#7fbc41"
            ],
            [
             0.9,
             "#4d9221"
            ],
            [
             1,
             "#276419"
            ]
           ],
           "sequential": [
            [
             0,
             "#0d0887"
            ],
            [
             0.1111111111111111,
             "#46039f"
            ],
            [
             0.2222222222222222,
             "#7201a8"
            ],
            [
             0.3333333333333333,
             "#9c179e"
            ],
            [
             0.4444444444444444,
             "#bd3786"
            ],
            [
             0.5555555555555556,
             "#d8576b"
            ],
            [
             0.6666666666666666,
             "#ed7953"
            ],
            [
             0.7777777777777778,
             "#fb9f3a"
            ],
            [
             0.8888888888888888,
             "#fdca26"
            ],
            [
             1,
             "#f0f921"
            ]
           ],
           "sequentialminus": [
            [
             0,
             "#0d0887"
            ],
            [
             0.1111111111111111,
             "#46039f"
            ],
            [
             0.2222222222222222,
             "#7201a8"
            ],
            [
             0.3333333333333333,
             "#9c179e"
            ],
            [
             0.4444444444444444,
             "#bd3786"
            ],
            [
             0.5555555555555556,
             "#d8576b"
            ],
            [
             0.6666666666666666,
             "#ed7953"
            ],
            [
             0.7777777777777778,
             "#fb9f3a"
            ],
            [
             0.8888888888888888,
             "#fdca26"
            ],
            [
             1,
             "#f0f921"
            ]
           ]
          },
          "colorway": [
           "#636efa",
           "#EF553B",
           "#00cc96",
           "#ab63fa",
           "#FFA15A",
           "#19d3f3",
           "#FF6692",
           "#B6E880",
           "#FF97FF",
           "#FECB52"
          ],
          "font": {
           "color": "#2a3f5f"
          },
          "geo": {
           "bgcolor": "white",
           "lakecolor": "white",
           "landcolor": "#E5ECF6",
           "showlakes": true,
           "showland": true,
           "subunitcolor": "white"
          },
          "hoverlabel": {
           "align": "left"
          },
          "hovermode": "closest",
          "mapbox": {
           "style": "light"
          },
          "paper_bgcolor": "white",
          "plot_bgcolor": "#E5ECF6",
          "polar": {
           "angularaxis": {
            "gridcolor": "white",
            "linecolor": "white",
            "ticks": ""
           },
           "bgcolor": "#E5ECF6",
           "radialaxis": {
            "gridcolor": "white",
            "linecolor": "white",
            "ticks": ""
           }
          },
          "scene": {
           "xaxis": {
            "backgroundcolor": "#E5ECF6",
            "gridcolor": "white",
            "gridwidth": 2,
            "linecolor": "white",
            "showbackground": true,
            "ticks": "",
            "zerolinecolor": "white"
           },
           "yaxis": {
            "backgroundcolor": "#E5ECF6",
            "gridcolor": "white",
            "gridwidth": 2,
            "linecolor": "white",
            "showbackground": true,
            "ticks": "",
            "zerolinecolor": "white"
           },
           "zaxis": {
            "backgroundcolor": "#E5ECF6",
            "gridcolor": "white",
            "gridwidth": 2,
            "linecolor": "white",
            "showbackground": true,
            "ticks": "",
            "zerolinecolor": "white"
           }
          },
          "shapedefaults": {
           "line": {
            "color": "#2a3f5f"
           }
          },
          "ternary": {
           "aaxis": {
            "gridcolor": "white",
            "linecolor": "white",
            "ticks": ""
           },
           "baxis": {
            "gridcolor": "white",
            "linecolor": "white",
            "ticks": ""
           },
           "bgcolor": "#E5ECF6",
           "caxis": {
            "gridcolor": "white",
            "linecolor": "white",
            "ticks": ""
           }
          },
          "title": {
           "x": 0.05
          },
          "xaxis": {
           "automargin": true,
           "gridcolor": "white",
           "linecolor": "white",
           "ticks": "",
           "title": {
            "standoff": 15
           },
           "zerolinecolor": "white",
           "zerolinewidth": 2
          },
          "yaxis": {
           "automargin": true,
           "gridcolor": "white",
           "linecolor": "white",
           "ticks": "",
           "title": {
            "standoff": 15
           },
           "zerolinecolor": "white",
           "zerolinewidth": 2
          }
         }
        },
        "xaxis": {
         "title": {
          "text": "time (s)"
         }
        },
        "yaxis": {
         "title": {
          "text": "amp"
         }
        }
       }
      },
      "text/html": [
       "<div>\n",
       "        \n",
       "        \n",
       "            <div id=\"b753ca4c-9ce4-4d36-8a9d-e291094efa08\" class=\"plotly-graph-div\" style=\"height:525px; width:100%;\"></div>\n",
       "            <script type=\"text/javascript\">\n",
       "                require([\"plotly\"], function(Plotly) {\n",
       "                    window.PLOTLYENV=window.PLOTLYENV || {};\n",
       "                    \n",
       "                if (document.getElementById(\"b753ca4c-9ce4-4d36-8a9d-e291094efa08\")) {\n",
       "                    Plotly.newPlot(\n",
       "                        'b753ca4c-9ce4-4d36-8a9d-e291094efa08',\n",
       "                        [{\"line\": {\"color\": \"#1f77b4\", \"shape\": \"hv\"}, \"mode\": \"lines\", \"name\": \"sys\", \"type\": \"scatter\", \"x\": [0.0, 0.05, 0.1, 0.15000000000000002, 0.2, 0.25, 0.30000000000000004, 0.35000000000000003, 0.4, 0.45, 0.5, 0.55, 0.6000000000000001, 0.65, 0.7000000000000001, 0.75, 0.8, 0.8500000000000001, 0.9, 0.9500000000000001, 1.0, 1.05, 1.1, 1.1500000000000001, 1.2000000000000002, 1.25, 1.3, 1.35, 1.4000000000000001, 1.4500000000000002, 1.5, 1.55, 1.6, 1.6500000000000001, 1.7000000000000002, 1.75, 1.8, 1.85, 1.9000000000000001, 1.9500000000000002, 2.0, 2.0500000000000003, 2.1, 2.15, 2.2, 2.25, 2.3000000000000003, 2.35, 2.4000000000000004, 2.45, 2.5, 2.5500000000000003, 2.6, 2.6500000000000004, 2.7, 2.75, 2.8000000000000003, 2.85, 2.9000000000000004, 2.95, 3.0, 3.0500000000000003, 3.1, 3.1500000000000004, 3.2, 3.25, 3.3000000000000003, 3.35, 3.4000000000000004, 3.45, 3.5, 3.5500000000000003, 3.6, 3.6500000000000004, 3.7, 3.75, 3.8000000000000003, 3.85, 3.9000000000000004, 3.95, 4.0, 4.05, 4.1000000000000005, 4.15, 4.2, 4.25, 4.3, 4.3500000000000005, 4.4, 4.45, 4.5, 4.55, 4.6000000000000005, 4.65, 4.7, 4.75, 4.800000000000001, 4.8500000000000005, 4.9, 4.95], \"y\": [0.0, -0.10029007399784617, -0.044261961443474135, 0.10830262097328547, 0.3022784322852925, 0.494181381019128, 0.6550717214417755, 0.7702628247304811, 0.8369254262604795, 0.8606455308965597, 0.8518094977013674, 0.8224307536615966, 0.7837634286536777, 0.7448138011629736, 0.7116856044806443, 0.6875874664640961, 0.6732847388759714, 0.6677806143104771, 0.6690464047639821, 0.6746721908459236, 0.6823634702649909, 0.6902575305142202, 0.6970696890384684, 0.7021024839408826, 0.7051612280919758, 0.7064195900153164, 0.7062722945929624, 0.7052018907292954, 0.7036755471612649, 0.7020779819442533, 0.7006790571345906, 0.6996297004166633, 0.6989775168693126, 0.6986932403936195, 0.6987003965081087, 0.6989025479346925, 0.6992047086729175, 0.6995275291603551, 0.6998144279245563, 0.7000328763744051, 0.7001715510522715, 0.7002351446887847, 0.7002384027565236, 0.7002005592590439, 0.7001408999244716, 0.700075768774919, 0.7000170079161498, 0.6999716025143902, 0.6999421915153599, 0.6999280820826524, 0.6999264464139792, 0.6999334565626187, 0.6999452023982039, 0.699958321970107, 0.6999703410629883, 0.6999797646668258, 0.6999859873973807, 0.6999890959171383, 0.6999896291791591, 0.6999883472940732, 0.699986041871924, 0.6999834035430518, 0.6999809484002212, 0.6999789954405372, 0.6999776818057586, 0.6999770011043276, 0.6999768513501455, 0.6999770819735371, 0.6999775329523519, 0.6999780626014522, 0.6999785634416746, 0.6999789675985045, 0.6999792443222677, 0.6999793925897572, 0.699979431538092, 0.699979390916338, 0.6999793030227559, 0.6999791968860812, 0.6999790948548222, 0.6999790113332711, 0.6999789531570755, 0.6999789210140827, 0.6999789113492337, 0.6999789183011739, 0.6999789353613086, 0.6999789565900485, 0.6999789773473776, 0.6999789945838696, 0.6999790067910162, 0.6999790137299866, 0.6999790160531523, 0.6999790149118743, 0.6999790116155762, 0.699979007377946, 0.6999790031609353, 0.6999789996086418, 0.6999789970518769, 0.6999789955595899, 0.6999789950138865, 0.699978995189345]}],\n",
       "                        {\"template\": {\"data\": {\"bar\": [{\"error_x\": {\"color\": \"#2a3f5f\"}, \"error_y\": {\"color\": \"#2a3f5f\"}, \"marker\": {\"line\": {\"color\": \"#E5ECF6\", \"width\": 0.5}}, \"type\": \"bar\"}], \"barpolar\": [{\"marker\": {\"line\": {\"color\": \"#E5ECF6\", \"width\": 0.5}}, \"type\": \"barpolar\"}], \"carpet\": [{\"aaxis\": {\"endlinecolor\": \"#2a3f5f\", \"gridcolor\": \"white\", \"linecolor\": \"white\", \"minorgridcolor\": \"white\", \"startlinecolor\": \"#2a3f5f\"}, \"baxis\": {\"endlinecolor\": \"#2a3f5f\", \"gridcolor\": \"white\", \"linecolor\": \"white\", \"minorgridcolor\": \"white\", \"startlinecolor\": \"#2a3f5f\"}, \"type\": \"carpet\"}], \"choropleth\": [{\"colorbar\": {\"outlinewidth\": 0, \"ticks\": \"\"}, \"type\": \"choropleth\"}], \"contour\": [{\"colorbar\": {\"outlinewidth\": 0, \"ticks\": \"\"}, \"colorscale\": [[0.0, \"#0d0887\"], [0.1111111111111111, \"#46039f\"], [0.2222222222222222, \"#7201a8\"], [0.3333333333333333, \"#9c179e\"], [0.4444444444444444, \"#bd3786\"], [0.5555555555555556, \"#d8576b\"], [0.6666666666666666, \"#ed7953\"], [0.7777777777777778, \"#fb9f3a\"], [0.8888888888888888, \"#fdca26\"], [1.0, \"#f0f921\"]], \"type\": \"contour\"}], \"contourcarpet\": [{\"colorbar\": {\"outlinewidth\": 0, \"ticks\": \"\"}, \"type\": \"contourcarpet\"}], \"heatmap\": [{\"colorbar\": {\"outlinewidth\": 0, \"ticks\": \"\"}, \"colorscale\": [[0.0, \"#0d0887\"], [0.1111111111111111, \"#46039f\"], [0.2222222222222222, \"#7201a8\"], [0.3333333333333333, \"#9c179e\"], [0.4444444444444444, \"#bd3786\"], [0.5555555555555556, \"#d8576b\"], [0.6666666666666666, \"#ed7953\"], [0.7777777777777778, \"#fb9f3a\"], [0.8888888888888888, \"#fdca26\"], [1.0, \"#f0f921\"]], \"type\": \"heatmap\"}], \"heatmapgl\": [{\"colorbar\": {\"outlinewidth\": 0, \"ticks\": \"\"}, \"colorscale\": [[0.0, \"#0d0887\"], [0.1111111111111111, \"#46039f\"], [0.2222222222222222, \"#7201a8\"], [0.3333333333333333, \"#9c179e\"], [0.4444444444444444, \"#bd3786\"], [0.5555555555555556, \"#d8576b\"], [0.6666666666666666, \"#ed7953\"], [0.7777777777777778, \"#fb9f3a\"], [0.8888888888888888, \"#fdca26\"], [1.0, \"#f0f921\"]], \"type\": \"heatmapgl\"}], \"histogram\": [{\"marker\": {\"colorbar\": {\"outlinewidth\": 0, \"ticks\": \"\"}}, \"type\": \"histogram\"}], \"histogram2d\": [{\"colorbar\": {\"outlinewidth\": 0, \"ticks\": \"\"}, \"colorscale\": [[0.0, \"#0d0887\"], [0.1111111111111111, \"#46039f\"], [0.2222222222222222, \"#7201a8\"], [0.3333333333333333, \"#9c179e\"], [0.4444444444444444, \"#bd3786\"], [0.5555555555555556, \"#d8576b\"], [0.6666666666666666, \"#ed7953\"], [0.7777777777777778, \"#fb9f3a\"], [0.8888888888888888, \"#fdca26\"], [1.0, \"#f0f921\"]], \"type\": \"histogram2d\"}], \"histogram2dcontour\": [{\"colorbar\": {\"outlinewidth\": 0, \"ticks\": \"\"}, \"colorscale\": [[0.0, \"#0d0887\"], [0.1111111111111111, \"#46039f\"], [0.2222222222222222, \"#7201a8\"], [0.3333333333333333, \"#9c179e\"], [0.4444444444444444, \"#bd3786\"], [0.5555555555555556, \"#d8576b\"], [0.6666666666666666, \"#ed7953\"], [0.7777777777777778, \"#fb9f3a\"], [0.8888888888888888, \"#fdca26\"], [1.0, \"#f0f921\"]], \"type\": \"histogram2dcontour\"}], \"mesh3d\": [{\"colorbar\": {\"outlinewidth\": 0, \"ticks\": \"\"}, \"type\": \"mesh3d\"}], \"parcoords\": [{\"line\": {\"colorbar\": {\"outlinewidth\": 0, \"ticks\": \"\"}}, \"type\": \"parcoords\"}], \"pie\": [{\"automargin\": true, \"type\": \"pie\"}], \"scatter\": [{\"marker\": {\"colorbar\": {\"outlinewidth\": 0, \"ticks\": \"\"}}, \"type\": \"scatter\"}], \"scatter3d\": [{\"line\": {\"colorbar\": {\"outlinewidth\": 0, \"ticks\": \"\"}}, \"marker\": {\"colorbar\": {\"outlinewidth\": 0, \"ticks\": \"\"}}, \"type\": \"scatter3d\"}], \"scattercarpet\": [{\"marker\": {\"colorbar\": {\"outlinewidth\": 0, \"ticks\": \"\"}}, \"type\": \"scattercarpet\"}], \"scattergeo\": [{\"marker\": {\"colorbar\": {\"outlinewidth\": 0, \"ticks\": \"\"}}, \"type\": \"scattergeo\"}], \"scattergl\": [{\"marker\": {\"colorbar\": {\"outlinewidth\": 0, \"ticks\": \"\"}}, \"type\": \"scattergl\"}], \"scattermapbox\": [{\"marker\": {\"colorbar\": {\"outlinewidth\": 0, \"ticks\": \"\"}}, \"type\": \"scattermapbox\"}], \"scatterpolar\": [{\"marker\": {\"colorbar\": {\"outlinewidth\": 0, \"ticks\": \"\"}}, \"type\": \"scatterpolar\"}], \"scatterpolargl\": [{\"marker\": {\"colorbar\": {\"outlinewidth\": 0, \"ticks\": \"\"}}, \"type\": \"scatterpolargl\"}], \"scatterternary\": [{\"marker\": {\"colorbar\": {\"outlinewidth\": 0, \"ticks\": \"\"}}, \"type\": \"scatterternary\"}], \"surface\": [{\"colorbar\": {\"outlinewidth\": 0, \"ticks\": \"\"}, \"colorscale\": [[0.0, \"#0d0887\"], [0.1111111111111111, \"#46039f\"], [0.2222222222222222, \"#7201a8\"], [0.3333333333333333, \"#9c179e\"], [0.4444444444444444, \"#bd3786\"], [0.5555555555555556, \"#d8576b\"], [0.6666666666666666, \"#ed7953\"], [0.7777777777777778, \"#fb9f3a\"], [0.8888888888888888, \"#fdca26\"], [1.0, \"#f0f921\"]], \"type\": \"surface\"}], \"table\": [{\"cells\": {\"fill\": {\"color\": \"#EBF0F8\"}, \"line\": {\"color\": \"white\"}}, \"header\": {\"fill\": {\"color\": \"#C8D4E3\"}, \"line\": {\"color\": \"white\"}}, \"type\": \"table\"}]}, \"layout\": {\"annotationdefaults\": {\"arrowcolor\": \"#2a3f5f\", \"arrowhead\": 0, \"arrowwidth\": 1}, \"coloraxis\": {\"colorbar\": {\"outlinewidth\": 0, \"ticks\": \"\"}}, \"colorscale\": {\"diverging\": [[0, \"#8e0152\"], [0.1, \"#c51b7d\"], [0.2, \"#de77ae\"], [0.3, \"#f1b6da\"], [0.4, \"#fde0ef\"], [0.5, \"#f7f7f7\"], [0.6, \"#e6f5d0\"], [0.7, \"#b8e186\"], [0.8, \"#7fbc41\"], [0.9, \"#4d9221\"], [1, \"#276419\"]], \"sequential\": [[0.0, \"#0d0887\"], [0.1111111111111111, \"#46039f\"], [0.2222222222222222, \"#7201a8\"], [0.3333333333333333, \"#9c179e\"], [0.4444444444444444, \"#bd3786\"], [0.5555555555555556, \"#d8576b\"], [0.6666666666666666, \"#ed7953\"], [0.7777777777777778, \"#fb9f3a\"], [0.8888888888888888, \"#fdca26\"], [1.0, \"#f0f921\"]], \"sequentialminus\": [[0.0, \"#0d0887\"], [0.1111111111111111, \"#46039f\"], [0.2222222222222222, \"#7201a8\"], [0.3333333333333333, \"#9c179e\"], [0.4444444444444444, \"#bd3786\"], [0.5555555555555556, \"#d8576b\"], [0.6666666666666666, \"#ed7953\"], [0.7777777777777778, \"#fb9f3a\"], [0.8888888888888888, \"#fdca26\"], [1.0, \"#f0f921\"]]}, \"colorway\": [\"#636efa\", \"#EF553B\", \"#00cc96\", \"#ab63fa\", \"#FFA15A\", \"#19d3f3\", \"#FF6692\", \"#B6E880\", \"#FF97FF\", \"#FECB52\"], \"font\": {\"color\": \"#2a3f5f\"}, \"geo\": {\"bgcolor\": \"white\", \"lakecolor\": \"white\", \"landcolor\": \"#E5ECF6\", \"showlakes\": true, \"showland\": true, \"subunitcolor\": \"white\"}, \"hoverlabel\": {\"align\": \"left\"}, \"hovermode\": \"closest\", \"mapbox\": {\"style\": \"light\"}, \"paper_bgcolor\": \"white\", \"plot_bgcolor\": \"#E5ECF6\", \"polar\": {\"angularaxis\": {\"gridcolor\": \"white\", \"linecolor\": \"white\", \"ticks\": \"\"}, \"bgcolor\": \"#E5ECF6\", \"radialaxis\": {\"gridcolor\": \"white\", \"linecolor\": \"white\", \"ticks\": \"\"}}, \"scene\": {\"xaxis\": {\"backgroundcolor\": \"#E5ECF6\", \"gridcolor\": \"white\", \"gridwidth\": 2, \"linecolor\": \"white\", \"showbackground\": true, \"ticks\": \"\", \"zerolinecolor\": \"white\"}, \"yaxis\": {\"backgroundcolor\": \"#E5ECF6\", \"gridcolor\": \"white\", \"gridwidth\": 2, \"linecolor\": \"white\", \"showbackground\": true, \"ticks\": \"\", \"zerolinecolor\": \"white\"}, \"zaxis\": {\"backgroundcolor\": \"#E5ECF6\", \"gridcolor\": \"white\", \"gridwidth\": 2, \"linecolor\": \"white\", \"showbackground\": true, \"ticks\": \"\", \"zerolinecolor\": \"white\"}}, \"shapedefaults\": {\"line\": {\"color\": \"#2a3f5f\"}}, \"ternary\": {\"aaxis\": {\"gridcolor\": \"white\", \"linecolor\": \"white\", \"ticks\": \"\"}, \"baxis\": {\"gridcolor\": \"white\", \"linecolor\": \"white\", \"ticks\": \"\"}, \"bgcolor\": \"#E5ECF6\", \"caxis\": {\"gridcolor\": \"white\", \"linecolor\": \"white\", \"ticks\": \"\"}}, \"title\": {\"x\": 0.05}, \"xaxis\": {\"automargin\": true, \"gridcolor\": \"white\", \"linecolor\": \"white\", \"ticks\": \"\", \"title\": {\"standoff\": 15}, \"zerolinecolor\": \"white\", \"zerolinewidth\": 2}, \"yaxis\": {\"automargin\": true, \"gridcolor\": \"white\", \"linecolor\": \"white\", \"ticks\": \"\", \"title\": {\"standoff\": 15}, \"zerolinecolor\": \"white\", \"zerolinewidth\": 2}}}, \"xaxis\": {\"title\": {\"text\": \"time (s)\"}}, \"yaxis\": {\"title\": {\"text\": \"amp\"}}},\n",
       "                        {\"responsive\": true}\n",
       "                    ).then(function(){\n",
       "                            \n",
       "var gd = document.getElementById('b753ca4c-9ce4-4d36-8a9d-e291094efa08');\n",
       "var x = new MutationObserver(function (mutations, observer) {{\n",
       "        var display = window.getComputedStyle(gd).display;\n",
       "        if (!display || display === 'none') {{\n",
       "            console.log([gd, 'removed!']);\n",
       "            Plotly.purge(gd);\n",
       "            observer.disconnect();\n",
       "        }}\n",
       "}});\n",
       "\n",
       "// Listen for the removal of the full notebook cells\n",
       "var notebookContainer = gd.closest('#notebook-container');\n",
       "if (notebookContainer) {{\n",
       "    x.observe(notebookContainer, {childList: true});\n",
       "}}\n",
       "\n",
       "// Listen for the clearing of the current output cell\n",
       "var outputEl = gd.closest('.output');\n",
       "if (outputEl) {{\n",
       "    x.observe(outputEl, {childList: true});\n",
       "}}\n",
       "\n",
       "                        })\n",
       "                };\n",
       "                });\n",
       "            </script>\n",
       "        </div>"
      ]
     },
     "metadata": {},
     "output_type": "display_data"
    }
   ],
   "source": [
    "Hz = feedback(K*Fz,1)\n",
    "\n",
    "fig = figure(\"time\")\n",
    "fig.plot(Hz)\n",
    "fig.show()"
   ]
  },
  {
   "cell_type": "markdown",
   "metadata": {},
   "source": [
    "## 6. Correcteur proportionnel intégral\n",
    "\n",
    "On désire corriger le système par un correcteur PI afin d'obtenir un comportement, en boucle fermée, analogue à un système discret Hm(z) du second ordre caractérisé par un facteur de résonance autour de 3 dB (amortissement $m = 0.38$) et une erreur de position nulle. La période d'échantillonnage est fixée à $Te = 0.05$ s.\n",
    "\n",
    "La synthèse de ce correcteur PI est réalisée par une méthode de synthèse classique dans le plan de Black-Nichols. On se propose ici d'implémenter un correcteur proportionnel intégral numérique.\n"
   ]
  },
  {
   "cell_type": "markdown",
   "metadata": {},
   "source": [
    "### 6.1 Calibration du correcteur\n",
    "\n",
    "* **Question** \n",
    "    * Déterminez graphiquement dans le plan de Black-Nichols le gain $K$ et les constantes d'intégration $Ti$. Prendre $Ti >5/\\omega_r$ (Utilisez la méthodologie décrite dans la labo 4)\n",
    "    * Déduisez-en l'équivalent numérique du correcteur analogique PI proposé, en utilisant l'approximation rectangulaire par excès de l'intégration:\n",
    "    \n",
    "$$C(z) = K\\left(1+\\frac{T_e}{T_i}\\frac{z}{z-1}\\right)$$"
   ]
  },
  {
   "cell_type": "code",
   "execution_count": 76,
   "metadata": {},
   "outputs": [
    {
     "data": {
      "application/vnd.plotly.v1+json": {
       "config": {
        "plotlyServerURL": "https://plot.ly"
       },
       "data": [
        {
         "hoverinfo": "none",
         "marker": {
          "line": {
           "color": "#FF0000",
           "width": 1
          },
          "size": 3
         },
         "mode": "markers",
         "showlegend": false,
         "type": "scatter",
         "x": [
          -180
         ],
         "y": [
          0
         ]
        },
        {
         "hovertemplate": "<b>w</b>: %{text:.3f} rad/s<br><b>mag</b>: %{y:.3f} dB<br><b>phase</b>: %{x:.3f} deg<br>",
         "line": {
          "color": "#1f77b4"
         },
         "name": "sys",
         "showlegend": false,
         "text": [
          0.1,
          0.12067926406393285,
          0.14563484775012436,
          0.1757510624854792,
          0.21209508879201905,
          0.2559547922699536,
          0.3088843596477481,
          0.372759372031494,
          0.44984326689694454,
          0.5428675439323859,
          0.6551285568595507,
          0.7906043210907697,
          0.9540954763499939,
          1.151395399326447,
          1.3894954943731375,
          1.6768329368110073,
          2.0235896477251565,
          2.442053094548651,
          2.9470517025518097,
          3.5564803062231287,
          4.291934260128776,
          5.17947467923121,
          6.25055192527397,
          7.543120063354615,
          9.102981779915218,
          10.985411419875584,
          13.257113655901081,
          15.998587196060573,
          19.306977288832496,
          23.29951810515372,
          28.11768697974228,
          33.93221771895326,
          40.94915062380423,
          49.417133613238335,
          59.63623316594643
         ],
         "type": "scatter",
         "x": [
          -3.8627205254367114,
          -4.66018499451092,
          -5.621564922966227,
          -6.78000958467415,
          -8.17496645780495,
          -9.853075959775357,
          -11.868963679453662,
          -14.28572247079552,
          -17.174736781514817,
          -20.61431637669642,
          -24.686416996193852,
          -29.470661362576113,
          -35.03521036456659,
          -41.42516702582244,
          -48.651343761903,
          -56.684724250115664,
          -65.46267173156207,
          -74.9093196143938,
          -84.96494206735646,
          -95.61252125620275,
          -106.88983180892468,
          -118.88188257731831,
          -131.69601547740342,
          -145.42651069775812,
          -160.11805491086884,
          -175.73995777096079,
          -192.18427273304437,
          -209.29632791556713,
          -226.93349529792874,
          -245.03412790421737,
          -263.675430197621,
          -283.11083716117025,
          -303.79663344380947,
          -326.43736711601554,
          -352.1135879406071
         ],
         "y": [
          9.530680614034594,
          9.525726421772863,
          9.518521427047677,
          9.508049655438374,
          9.492843869480026,
          9.470793194668529,
          9.438877518840025,
          9.392810302210133,
          9.326577471788614,
          9.231880511713047,
          9.097538791928404,
          8.908992935847618,
          8.648178870701708,
          8.29416992715003,
          7.824991323630593,
          7.220714570082679,
          6.46726263760114,
          5.559609158063266,
          4.502918791244087,
          3.3110535316008978,
          2.0032200403974167,
          0.6003076271557793,
          -0.8777634993551549,
          -2.4131379149103527,
          -3.989719294242085,
          -5.592020266466189,
          -7.203859361983998,
          -8.807429398807656,
          -10.38273004608983,
          -11.906686571482064,
          -13.350921644438776,
          -14.677181602236406,
          -15.829230122460622,
          -16.718593909453176,
          -17.19694136176827
         ]
        },
        {
         "hovertemplate": "<b>w</b>: %{text:.3f} rad/s<br><b>mag</b>: %{y:.3f} dB<br><b>phase</b>: %{x:.3f} deg<br>",
         "line": {
          "color": "#ff7f0e"
         },
         "name": "sys",
         "showlegend": false,
         "text": [
          0.1,
          0.12067926406393285,
          0.14563484775012436,
          0.1757510624854792,
          0.21209508879201905,
          0.2559547922699536,
          0.3088843596477481,
          0.372759372031494,
          0.44984326689694454,
          0.5428675439323859,
          0.6551285568595507,
          0.7906043210907697,
          0.9540954763499939,
          1.151395399326447,
          1.3894954943731375,
          1.6768329368110073,
          2.0235896477251565,
          2.442053094548651,
          2.9470517025518097,
          3.5564803062231287,
          4.291934260128776,
          5.17947467923121,
          6.25055192527397,
          7.543120063354615,
          9.102981779915218,
          10.985411419875584,
          13.257113655901081,
          15.998587196060573,
          19.306977288832496,
          23.29951810515372,
          28.11768697974228,
          33.93221771895326,
          40.94915062380423,
          49.417133613238335,
          59.63623316594643
         ],
         "type": "scatter",
         "x": [
          -90.23070118498639,
          -90.27976075739915,
          -90.33998108573105,
          -90.41442595523101,
          -90.5073446213746,
          -90.62480394361518,
          -90.77569880155806,
          -90.97334282964268,
          -91.2378956578835,
          -91.59987135400357,
          -92.1047708838669,
          -92.81829969080775,
          -93.83054598776808,
          -95.25622845088049,
          -97.2279123496963,
          -99.88171658484607,
          -103.34049524825195,
          -107.7035939461653,
          -113.04947280538579,
          -119.44838566863402,
          -126.97491227019293,
          -135.7104462858508,
          -145.73162386328846,
          -157.0870585461243,
          -169.76983241465115,
          -183.6975053302131,
          -198.71345736840334,
          -214.61886536538253,
          -231.2317914587567,
          -248.4557457987415,
          -266.33670977058387,
          -285.0992019778266,
          -305.17081836294705,
          -327.2238211099693,
          -352.29425325679694
         ],
         "y": [
          33.84500278383074,
          32.21533339805656,
          30.58700975469616,
          28.960628441307147,
          27.337039109808117,
          25.717439415471954,
          24.103492162903656,
          22.49745480311472,
          20.902291214177986,
          19.32169963105124,
          17.759938718637923,
          16.221285808558893,
          14.708977915593824,
          13.223669774020241,
          11.761852163029793,
          10.315124253066045,
          8.871195425121496,
          7.416621802584242,
          5.940060639080484,
          4.434429126973542,
          2.897223629361902,
          1.32949267079732,
          -0.26548359054624865,
          -1.8829901832990492,
          -3.5168768285722702,
          -5.158963229185257,
          -6.798325163454618,
          -8.420882772787191,
          -10.009250778040691,
          -11.542174526775637,
          -12.992534104905559,
          -14.322935606605085,
          -15.477717080055864,
          -16.36876104415525,
          -16.847883590891485
         ]
        },
        {
         "hovertemplate": "<b>w</b>: %{text:.3f} rad/s<br><b>mag</b>: %{y:.3f} dB<br><b>phase</b>: %{x:.3f} deg<br>",
         "line": {
          "color": "#2ca02c"
         },
         "name": "sys",
         "showlegend": false,
         "text": [
          0.1,
          0.12067926406393285,
          0.14563484775012436,
          0.1757510624854792,
          0.21209508879201905,
          0.2559547922699536,
          0.3088843596477481,
          0.372759372031494,
          0.44984326689694454,
          0.5428675439323859,
          0.6551285568595507,
          0.7906043210907697,
          0.9540954763499939,
          1.151395399326447,
          1.3894954943731375,
          1.6768329368110073,
          2.0235896477251565,
          2.442053094548651,
          2.9470517025518097,
          3.5564803062231287,
          4.291934260128776,
          5.17947467923121,
          6.25055192527397,
          7.543120063354615,
          9.102981779915218,
          10.985411419875584,
          13.257113655901081,
          15.998587196060573,
          19.306977288832496,
          23.29951810515372,
          28.11768697974228,
          33.93221771895326,
          40.94915062380423,
          49.417133613238335,
          59.63623316594643
         ],
         "type": "scatter",
         "x": [
          -90.23070118498637,
          -90.27976075739915,
          -90.33998108573105,
          -90.41442595523095,
          -90.50734462137456,
          -90.62480394361513,
          -90.77569880155802,
          -90.97334282964258,
          -91.23789565788347,
          -91.59987135400351,
          -92.10477088386683,
          -92.81829969080775,
          -93.83054598776789,
          -95.25622845088033,
          -97.22791234969611,
          -99.88171658484607,
          -103.34049524825201,
          -107.703593946165,
          -113.04947280538559,
          -119.44838566863382,
          -126.97491227019273,
          -135.7104462858506,
          -145.7316238632883,
          -157.0870585461242,
          -169.7698324146511,
          -183.69750533021303,
          -198.7134573684033,
          -214.61886536538248,
          -231.23179145875662,
          -248.45574579874148,
          -266.33670977058387,
          -285.0992019778266,
          -305.17081836294705,
          -327.22382110996926,
          -352.29425325679694
         ],
         "y": [
          31.906802523669548,
          30.277133137895397,
          28.648809494534987,
          27.022428181145976,
          25.3988388496469,
          23.77923915531079,
          22.165291902742524,
          20.55925454295355,
          18.96409095401685,
          17.38349937089009,
          15.821738458476764,
          14.283085548397763,
          12.770777655432653,
          11.28546951385909,
          9.823651902868638,
          8.376923992904926,
          6.932995164960385,
          5.478421542423084,
          4.001860378919341,
          2.496228866812405,
          0.9590233692007617,
          -0.6087075893638199,
          -2.2036838507073826,
          -3.8211904434601824,
          -5.455077088733402,
          -7.097163489346387,
          -8.736525423615747,
          -10.359083032948323,
          -11.94745103820182,
          -13.480374786936764,
          -14.93073436506669,
          -16.261135866766214,
          -17.415917340216993,
          -18.306961304316374,
          -18.78608385105261
         ]
        },
        {
         "hoverinfo": "name",
         "line": {
          "color": "#555",
          "dash": "dot",
          "width": 1
         },
         "name": "6.00 dB",
         "showlegend": false,
         "type": "scatter",
         "x": [
          -181.0044525859156,
          -182.00706208752763,
          -183.0059994899574,
          -183.99946365000403,
          -184.98569457347367,
          -187.408591693385,
          -189.75111962661822,
          -194.11400997325404,
          -197.95308877480693,
          -201.2110046386224,
          -203.882655271241,
          -208.76368925804854,
          -210.07854669531383,
          -209.08573699075276,
          -206.61944411079287,
          -203.19624885388873,
          -199.14024541544325,
          -194.6633656344593,
          -189.91215173606156,
          -181.66883360739166,
          -180,
          -178.33116639260837,
          -170.08784826393844,
          -165.33663436554068,
          -160.85975458455675,
          -156.8037511461113,
          -153.38055588920716,
          -150.91426300924724,
          -149.92145330468617,
          -151.23631074195148,
          -156.11734472875898,
          -158.78899536137763,
          -162.04691122519313,
          -165.88599002674593,
          -170.24888037338178,
          -172.59140830661497,
          -175.0143054265264,
          -176.00053634999594,
          -176.99400051004255,
          -177.99293791247237,
          -178.9955474140844
         ],
         "y": [
          6.038584887637681,
          6.030603754626434,
          6.017337064173958,
          5.998837145331412,
          5.975176335900421,
          5.894089570862205,
          5.783261698845564,
          5.4826074459056695,
          5.096695738427625,
          4.650493262050236,
          4.166800369039922,
          2.6567802911878013,
          1.2493792041125524,
          0.03595583500082545,
          -0.9732279370869548,
          -1.7915587587987878,
          -2.436272660456205,
          -2.922504047148822,
          -3.2618637150774954,
          -3.5213402361322443,
          -3.528697248729707,
          -3.5213402361322443,
          -3.261863715077498,
          -2.9225040471488253,
          -2.4362726604562077,
          -1.7915587587987878,
          -0.9732279370869548,
          0.03595583500082353,
          1.2493792041125524,
          2.6567802911877987,
          4.166800369039918,
          4.650493262050238,
          5.096695738427627,
          5.482607445905669,
          5.783261698845564,
          5.894089570862203,
          5.975176335900418,
          5.998837145331412,
          6.017337064173956,
          6.030603754626437,
          6.038584887637679
         ]
        },
        {
         "hoverinfo": "name",
         "line": {
          "color": "#555",
          "dash": "dot",
          "width": 1
         },
         "name": "3.00 dB",
         "showlegend": false,
         "type": "scatter",
         "x": [
          -182.42156130189062,
          -184.82844943546547,
          -187.20643299081019,
          -189.54213134653503,
          -191.8233626783699,
          -197.22187957454412,
          -202.09598892987356,
          -210.09301738566455,
          -215.8791234237175,
          -219.8563069529548,
          -222.4551688385875,
          -225.06798311222548,
          -223.50196919041633,
          -219.93702449004138,
          -215.29642457077978,
          -210.02487275397982,
          -204.36172377497314,
          -198.44853900143266,
          -192.37662214327372,
          -182.07224305175168,
          -180,
          -177.92775694824832,
          -167.6233778567263,
          -161.5514609985674,
          -155.63827622502694,
          -149.9751272460202,
          -144.70357542922022,
          -140.06297550995865,
          -136.49803080958367,
          -134.93201688777452,
          -137.54483116141245,
          -140.1436930470452,
          -144.12087657628254,
          -149.90698261433542,
          -157.9040110701264,
          -162.7781204254559,
          -168.17663732163007,
          -170.45786865346497,
          -172.7935670091897,
          -175.17155056453453,
          -177.57843869810938
         ],
         "y": [
          10.679764301197936,
          10.647034445747146,
          10.593037830089836,
          10.518575471800114,
          10.424714401516344,
          10.11401746557135,
          9.714033764687105,
          8.743853755272685,
          7.678062347477537,
          6.616357953051257,
          5.606844160199614,
          3.010293842417393,
          1.0059460068552415,
          -0.5489159148760905,
          -1.764348624364853,
          -2.712947800201404,
          -3.4422186673114457,
          -3.9835217795043447,
          -4.357464956087062,
          -4.641452702670781,
          -4.649481613751726,
          -4.641452702670781,
          -4.357464956087062,
          -3.9835217795043465,
          -3.4422186673114483,
          -2.7129478002014027,
          -1.764348624364854,
          -0.5489159148760926,
          1.0059460068552415,
          3.0102938424173904,
          5.606844160199607,
          6.61635795305126,
          7.678062347477541,
          8.743853755272685,
          9.714033764687107,
          10.11401746557135,
          10.424714401516344,
          10.518575471800112,
          10.59303783008983,
          10.647034445747146,
          10.679764301197936
         ]
        },
        {
         "hoverinfo": "name",
         "line": {
          "color": "#555",
          "dash": "dot",
          "width": 1
         },
         "name": "1.00 dB",
         "showlegend": false,
         "type": "scatter",
         "x": [
          -188.12984536554268,
          -195.88621216474792,
          -202.9844437398292,
          -209.27055340099685,
          -214.7096153155495,
          -224.98959838098392,
          -231.68544618825558,
          -238.9060061369517,
          -241.93858840592924,
          -242.95955537487828,
          -242.88818452740378,
          -239.59670953467293,
          -234.31238992498834,
          -228.21444019414758,
          -221.70905190957956,
          -214.9736246071892,
          -208.09857633531192,
          -201.13560158246298,
          -194.1172919529556,
          -182.35615618485986,
          -180,
          -177.6438438151401,
          -165.88270804704442,
          -158.86439841753705,
          -151.90142366468808,
          -145.0263753928108,
          -138.29094809042041,
          -131.78555980585242,
          -125.68761007501163,
          -120.40329046532707,
          -117.11181547259622,
          -117.04044462512172,
          -118.06141159407076,
          -121.0939938630483,
          -128.3145538117444,
          -135.0104016190161,
          -145.29038468445046,
          -150.72944659900304,
          -157.0155562601706,
          -164.11378783525214,
          -171.87015463445724
         ],
         "y": [
          19.17292087222408,
          18.88999404600427,
          18.45599908317477,
          17.91331788277162,
          17.30269583621942,
          15.674169524423078,
          14.099770859367858,
          11.392809577292622,
          9.232708314999615,
          7.475525714001363,
          6.009559815241832,
          2.725327008857705,
          0.44275075770600797,
          -1.2482454597388433,
          -2.5390189104386724,
          -3.5327626980741282,
          -4.29037960222416,
          -4.8497530368011,
          -5.234889529168014,
          -5.526739523137509,
          -5.534983129163744,
          -5.526739523137509,
          -5.2348895291680115,
          -4.8497530368011015,
          -4.290379602224161,
          -3.5327626980741273,
          -2.5390189104386733,
          -1.2482454597388464,
          0.44275075770600797,
          2.7253270088577004,
          6.009559815241823,
          7.4755257140013684,
          9.23270831499962,
          11.392809577292622,
          14.099770859367855,
          15.674169524423071,
          17.302695836219414,
          17.913317882771604,
          18.455999083174753,
          18.88999404600427,
          19.172920872224083
         ]
        },
        {
         "hoverinfo": "name",
         "line": {
          "color": "#555",
          "dash": "dot",
          "width": 1
         },
         "name": "0.50 dB",
         "showlegend": false,
         "type": "scatter",
         "x": [
          -196.3718246156576,
          -210.241776113004,
          -220.80355193113053,
          -228.51181527270387,
          -234.1134646185559,
          -242.54794804403969,
          -246.79435053744254,
          -250.17113669346753,
          -250.7317375930338,
          -250.10476324945597,
          -248.87064427851567,
          -243.52619111012865,
          -237.14681544455618,
          -230.35244392901245,
          -223.35180491824565,
          -216.23515197605684,
          -209.04823910924426,
          -201.81713920054904,
          -194.55825435352733,
          -182.42801843030043,
          -180,
          -177.57198156969963,
          -165.44174564647267,
          -158.18286079945094,
          -150.95176089075574,
          -143.76484802394313,
          -136.64819508175432,
          -129.64755607098758,
          -122.85318455544379,
          -116.47380888987135,
          -111.12935572148433,
          -109.89523675054403,
          -109.26826240696619,
          -109.82886330653247,
          -113.20564946255746,
          -117.45205195596026,
          -125.88653538144405,
          -131.488184727296,
          -139.19644806886924,
          -149.75822388699612,
          -163.6281753843424
         ],
         "y": [
          24.66386078734449,
          23.68619318037223,
          22.428476998260905,
          21.119016837844416,
          19.86570394081788,
          17.148405136599663,
          14.97381756434649,
          11.709190668056703,
          9.318257934761284,
          7.44651521952795,
          5.916081684987016,
          2.548102112298766,
          0.2356286732226798,
          -1.469242571571364,
          -2.7674915645818707,
          -3.7656469575966494,
          -4.526008275446839,
          -5.0871210227374375,
          -5.473330927281008,
          -5.765933081450027,
          -5.774197205849433,
          -5.765933081450027,
          -5.4733309272810065,
          -5.0871210227374375,
          -4.5260082754468405,
          -3.765646957596645,
          -2.767491564581872,
          -1.4692425715713675,
          0.2356286732226798,
          2.548102112298763,
          5.916081684987007,
          7.446515219527957,
          9.31825793476129,
          11.709190668056703,
          14.973817564346488,
          17.148405136599656,
          19.86570394081787,
          21.119016837844388,
          22.428476998260866,
          23.68619318037224,
          24.663860787344486
         ]
        },
        {
         "hoverinfo": "name",
         "line": {
          "color": "#555",
          "dash": "dot",
          "width": 1
         },
         "name": "0.25 dB",
         "showlegend": false,
         "type": "scatter",
         "x": [
          -210.7345808486815,
          -229.4974236482455,
          -239.7095256979066,
          -245.60440268536485,
          -249.25835228553376,
          -253.86709641080222,
          -255.65960361036178,
          -256.26209749939164,
          -255.33439270580863,
          -253.7861505386665,
          -251.9258936010815,
          -245.51029169050867,
          -238.57222728724224,
          -231.42562231524357,
          -224.1755612738757,
          -216.86736796171624,
          -209.52398817799792,
          -202.15848677226302,
          -194.77907815652532,
          -182.46400174809128,
          -180,
          -177.53599825190878,
          -165.2209218434747,
          -157.84151322773704,
          -150.47601182200208,
          -143.13263203828376,
          -135.82443872612433,
          -128.57437768475643,
          -121.42777271275776,
          -114.48970830949133,
          -108.0741063989185,
          -106.2138494613335,
          -104.66560729419137,
          -103.73790250060836,
          -104.34039638963822,
          -106.13290358919781,
          -110.74164771446624,
          -114.3955973146351,
          -120.2904743020932,
          -130.50257635175458,
          -149.26541915131847
         ],
         "y": [
          29.582361840040452,
          27.014193437570665,
          24.599036537237854,
          22.565963255105842,
          20.862047629248345,
          17.58707676714537,
          15.181648668301047,
          11.737967925491535,
          9.28126664709167,
          7.378506027626564,
          5.831068132828873,
          2.441468980087758,
          0.12140345203767483,
          -1.5869690247594759,
          -2.887098602924716,
          -3.8863619025215304,
          -4.6474117274845135,
          -5.208960544669629,
          -5.595439459606192,
          -5.888230064901855,
          -5.896499329536557,
          -5.888230064901855,
          -5.59543945960619,
          -5.20896054466963,
          -4.6474117274845135,
          -3.8863619025215304,
          -2.8870986029247176,
          -1.586969024759478,
          0.12140345203767483,
          2.441468980087755,
          5.831068132828864,
          7.37850602762657,
          9.281266647091675,
          11.737967925491537,
          15.181648668301042,
          17.587076767145362,
          20.86204762924833,
          22.565963255105807,
          24.599036537237783,
          27.014193437570686,
          29.58236184004044
         ]
        },
        {
         "hoverinfo": "name",
         "line": {
          "color": "#555",
          "dash": "dot",
          "width": 1
         },
         "name": "0.00 dB",
         "showlegend": false,
         "type": "scatter",
         "x": [
          -269.4999999999999,
          -268.99999999999994,
          -268.50000000000006,
          -268.00000000000006,
          -267.5,
          -266.25,
          -265,
          -262.5,
          -260,
          -257.5,
          -255,
          -247.5,
          -240,
          -232.5,
          -225,
          -217.5,
          -210,
          -202.5,
          -195,
          -182.5,
          -180,
          -177.5,
          -165,
          -157.5,
          -150.00000000000003,
          -142.5,
          -135,
          -127.5,
          -120,
          -112.5,
          -105,
          -102.5,
          -100,
          -97.5,
          -95,
          -93.75,
          -92.5,
          -92,
          -91.5,
          -91.00000000000006,
          -90.50000000000011
         ],
         "y": [
          35.16256289318372,
          29.14229371826325,
          25.62101977894313,
          23.123016808799058,
          21.185808854403394,
          17.667429531589104,
          15.173479920117972,
          11.665446712198822,
          9.185995486488366,
          7.272665074459145,
          5.719475475333597,
          2.322606875058725,
          0,
          -1.7095424698920367,
          -3.0102999566398116,
          -4.009933005441557,
          -4.771212547196623,
          -5.332906831698536,
          -5.719475475333596,
          -6.0123289342854225,
          -6.020599913279624,
          -6.0123289342854225,
          -5.719475475333596,
          -5.332906831698536,
          -4.771212547196625,
          -4.009933005441557,
          -3.0102999566398125,
          -1.709542469892039,
          0,
          2.3226068750587237,
          5.719475475333587,
          7.27266507445915,
          9.18599548648837,
          11.665446712198822,
          15.17347992011797,
          17.667429531589097,
          21.185808854403376,
          23.123016808799015,
          25.621019778943044,
          29.14229371826329,
          35.1625628931837
         ]
        },
        {
         "hoverinfo": "name",
         "line": {
          "color": "#555",
          "dash": "dot",
          "width": 1
         },
         "name": "-1.00 dB",
         "showlegend": false,
         "type": "scatter",
         "x": [
          -350.87015463445726,
          -342.1137878352521,
          -334.01555626017085,
          -326.72944659900315,
          -320.29038468445054,
          -307.51040161901614,
          -298.3145538117444,
          -286.09399386304824,
          -278.06141159407076,
          -272.0404446251217,
          -267.1118154725962,
          -255.40329046532707,
          -245.68761007501166,
          -236.78555980585242,
          -228.29094809042044,
          -220.0263753928108,
          -211.90142366468808,
          -203.86439841753702,
          -195.8827080470444,
          -182.64384381514014,
          -180,
          -177.35615618485994,
          -164.1172919529556,
          -156.13560158246298,
          -148.09857633531195,
          -139.9736246071892,
          -131.70905190957959,
          -123.21444019414761,
          -114.31238992498837,
          -104.59670953467293,
          -92.88818452740384,
          -87.95955537487828,
          -81.93858840592918,
          -73.9060061369517,
          -61.68544618825558,
          -52.489598380983864,
          -39.70961531554951,
          -33.27055340099696,
          -25.98444373982943,
          -17.88621216474786,
          -9.129845365542792
         ],
         "y": [
          18.172920872224083,
          17.889994046004272,
          17.45599908317476,
          16.91331788277161,
          16.302695836219424,
          14.674169524423068,
          13.099770859367856,
          10.39280957729262,
          8.232708314999616,
          6.475525714001364,
          5.009559815241831,
          1.7253270088577046,
          -0.5572492422939905,
          -2.2482454597388433,
          -3.539018910438671,
          -4.532762698074128,
          -5.290379602224158,
          -5.8497530368011,
          -6.234889529168011,
          -6.526739523137509,
          -6.534983129163744,
          -6.526739523137509,
          -6.234889529168011,
          -5.8497530368011,
          -5.290379602224159,
          -4.532762698074128,
          -3.5390189104386724,
          -2.248245459738846,
          -0.5572492422939905,
          1.725327008857703,
          5.009559815241822,
          6.47552571400137,
          8.23270831499962,
          10.392809577292624,
          13.099770859367855,
          14.674169524423066,
          16.302695836219417,
          16.9133178827716,
          17.455999083174746,
          17.889994046004276,
          18.17292087222408
         ]
        },
        {
         "hoverinfo": "name",
         "line": {
          "color": "#555",
          "dash": "dot",
          "width": 1
         },
         "name": "-3.00 dB",
         "showlegend": false,
         "type": "scatter",
         "x": [
          -356.5784386981094,
          -353.1715505645345,
          -349.7935670091898,
          -346.457868653465,
          -343.1766373216301,
          -335.27812042545594,
          -327.9040110701264,
          -314.9069826143354,
          -304.1208765762825,
          -295.1436930470452,
          -287.54483116141245,
          -269.9320168877745,
          -256.4980308095836,
          -245.06297550995862,
          -234.70357542922022,
          -224.97512724602018,
          -215.6382762250269,
          -206.55146099856734,
          -197.62337785672628,
          -182.92775694824832,
          -180,
          -177.0722430517517,
          -162.3766221432737,
          -153.44853900143264,
          -144.36172377497311,
          -135.02487275397982,
          -125.29642457077978,
          -114.93702449004138,
          -103.50196919041633,
          -90.06798311222553,
          -72.45516883858761,
          -64.85630695295481,
          -55.87912342371749,
          -45.09301738566461,
          -32.09598892987361,
          -24.72187957454412,
          -16.82336267836996,
          -13.542131346535086,
          -10.206432990810299,
          -6.828449435465473,
          -3.4215613018906197
         ],
         "y": [
          7.6797643011979355,
          7.647034445747147,
          7.593037830089832,
          7.51857547180011,
          7.424714401516347,
          7.114017465571349,
          6.714033764687107,
          5.743853755272688,
          4.678062347477541,
          3.6163579530512586,
          2.6068441601996146,
          0.010293842417393655,
          -1.9940539931447574,
          -3.54891591487609,
          -4.764348624364852,
          -5.712947800201404,
          -6.442218667311447,
          -6.983521779504347,
          -7.357464956087063,
          -7.64145270267078,
          -7.6494816137517265,
          -7.64145270267078,
          -7.357464956087062,
          -6.983521779504346,
          -6.442218667311449,
          -5.712947800201404,
          -4.764348624364854,
          -3.5489159148760945,
          -1.9940539931447574,
          0.01029384241739173,
          2.606844160199607,
          3.6163579530512613,
          4.6780623474775425,
          5.743853755272687,
          6.714033764687107,
          7.114017465571347,
          7.424714401516347,
          7.51857547180011,
          7.593037830089831,
          7.647034445747147,
          7.6797643011979355
         ]
        },
        {
         "hoverinfo": "name",
         "line": {
          "color": "#555",
          "dash": "dot",
          "width": 1
         },
         "name": "-6.00 dB",
         "showlegend": false,
         "type": "scatter",
         "x": [
          -357.9955474140844,
          -355.99293791247237,
          -353.99400051004255,
          -352.00053634999597,
          -350.0143054265264,
          -345.09140830661494,
          -340.2488803733818,
          -330.8859900267459,
          -322.0469112251931,
          -313.7889953613776,
          -306.117344728759,
          -286.23631074195146,
          -269.92145330468617,
          -255.91426300924724,
          -243.38055588920713,
          -231.80375114611127,
          -220.85975458455675,
          -210.33663436554065,
          -200.08784826393844,
          -183.33116639260834,
          -180,
          -176.66883360739166,
          -159.91215173606153,
          -149.66336563445935,
          -139.14024541544327,
          -128.1962488538887,
          -116.61944411079287,
          -104.08573699075279,
          -90.07854669531383,
          -73.76368925804854,
          -53.88265527124105,
          -46.21100463862234,
          -37.95308877480687,
          -29.114009973254042,
          -19.75111962661822,
          -14.908591693385063,
          -9.985694573473609,
          -7.999463650004088,
          -6.005999489957503,
          -4.007062087527629,
          -2.004452585915658
         ],
         "y": [
          0.03858488763767778,
          0.03060375462643412,
          0.017337064173952046,
          -0.0011628546685900252,
          -0.024823664099580364,
          -0.10591042913779797,
          -0.21673830115443865,
          -0.5173925540943324,
          -0.9033042615723732,
          -1.3495067379497658,
          -1.8331996309600802,
          -3.3432197088121995,
          -4.750620795887448,
          -5.964044164999175,
          -6.973227937086955,
          -7.791558758798789,
          -8.436272660456204,
          -8.922504047148825,
          -9.261863715077498,
          -9.521340236132247,
          -9.528697248729706,
          -9.521340236132247,
          -9.261863715077496,
          -8.922504047148825,
          -8.43627266045621,
          -7.791558758798788,
          -6.973227937086954,
          -5.964044164999177,
          -4.75062079588745,
          -3.343219708812202,
          -1.8331996309600862,
          -1.3495067379497636,
          -0.9033042615723743,
          -0.5173925540943324,
          -0.21673830115443865,
          -0.10591042913779991,
          -0.02482366409958133,
          -0.001162854668589061,
          0.017337064173952046,
          0.03060375462643412,
          0.03858488763767969
         ]
        },
        {
         "hoverinfo": "name",
         "line": {
          "color": "#555",
          "dash": "dot",
          "width": 1
         },
         "name": "-12.00 dB",
         "showlegend": false,
         "type": "scatter",
         "x": [
          -358.6645881674737,
          -357.3294042376337,
          -355.99467567103443,
          -354.66062904607696,
          -353.32748962319005,
          -350.00007143960084,
          -346.68313903391805,
          -340.093777577436,
          -333.58372479687006,
          -327.1738821606527,
          -320.8811636256163,
          -302.8125312477642,
          -286.02949646482057,
          -270.4526028005789,
          -255.89967637641075,
          -242.16599931121726,
          -229.0616987201294,
          -216.4228646138801,
          -204.1105118631359,
          -183.9968095913896,
          -180,
          -176.00319040861044,
          -155.88948813686406,
          -143.57713538611992,
          -130.93830127987064,
          -117.83400068878268,
          -104.10032362358922,
          -89.54739719942108,
          -73.97050353517949,
          -57.18746875223587,
          -39.11883637438376,
          -32.82611783934732,
          -26.416275203129942,
          -19.906222422563985,
          -13.316860966081947,
          -9.999928560399155,
          -6.672510376809953,
          -5.339370953923037,
          -4.005324328965571,
          -2.670595762366247,
          -1.3354118325262903
         ],
         "y": [
          -9.488041039111309,
          -9.489818140538599,
          -9.492777760313825,
          -9.496916581919354,
          -9.502229976955315,
          -9.520610194811976,
          -9.546163900231825,
          -9.618050006682063,
          -9.715988750167744,
          -9.837516123650202,
          -9.979764081669678,
          -10.499481991597179,
          -11.095063346037577,
          -11.699146567511661,
          -12.265723755961025,
          -12.766843237510201,
          -13.186893456343654,
          -13.517773258690749,
          -13.75560292379796,
          -13.94114919117165,
          -13.946455874173909,
          -13.94114919117165,
          -13.75560292379796,
          -13.517773258690745,
          -13.186893456343656,
          -12.766843237510201,
          -12.265723755961025,
          -11.699146567511665,
          -11.095063346037577,
          -10.499481991597179,
          -9.97976408166968,
          -9.837516123650202,
          -9.715988750167746,
          -9.618050006682063,
          -9.546163900231825,
          -9.520610194811976,
          -9.502229976955315,
          -9.496916581919356,
          -9.492777760313823,
          -9.489818140538599,
          -9.488041039111307
         ]
        },
        {
         "hoverinfo": "name",
         "line": {
          "color": "#555",
          "dash": "dot",
          "width": 1
         },
         "name": "-20.00 dB",
         "showlegend": false,
         "type": "scatter",
         "x": [
          -358.8888965493027,
          -357.7778390541404,
          -356.66687343532357,
          -355.5560455442723,
          -354.44540112846903,
          -351.66989167066737,
          -348.89652075551027,
          -343.3589703285723,
          -337.8381516710673,
          -332.33916301626834,
          -326.8667171206091,
          -310.64868408641405,
          -294.79128089714493,
          -279.3371191156383,
          -264.28940686250036,
          -249.6211360082914,
          -235.2849960460518,
          -221.22162278409758,
          -207.3653939814767,
          -184.54588366326493,
          -180,
          -175.45411633673513,
          -152.63460601852324,
          -138.77837721590248,
          -124.71500395394827,
          -110.37886399170858,
          -95.71059313749964,
          -80.6628808843617,
          -65.20871910285507,
          -49.35131591358595,
          -33.13328287939095,
          -27.660836983731656,
          -22.161848328932706,
          -16.641029671427702,
          -11.103479244489733,
          -8.330108329332631,
          -5.55459887153097,
          -4.443954455727749,
          -3.3331265646764905,
          -2.2221609458596276,
          -1.1111034506973283
         ],
         "y": [
          -19.085013507081424,
          -19.085503375377726,
          -19.086319534008915,
          -19.08746155052706,
          -19.08892882019638,
          -19.094014462352902,
          -19.101110842980592,
          -19.121236166745526,
          -19.149042963976978,
          -19.184174848780152,
          -19.226190346310158,
          -19.38809146911957,
          -19.590413923210935,
          -19.81472569408657,
          -20.043213737826427,
          -20.260279180191155,
          -20.453229787866572,
          -20.612342803649057,
          -20.730600258806064,
          -20.825121237762787,
          -20.8278537031645,
          -20.825121237762787,
          -20.730600258806064,
          -20.612342803649057,
          -20.453229787866576,
          -20.26027918019116,
          -20.043213737826427,
          -19.81472569408657,
          -19.590413923210935,
          -19.38809146911957,
          -19.226190346310158,
          -19.184174848780152,
          -19.149042963976978,
          -19.121236166745526,
          -19.101110842980592,
          -19.094014462352902,
          -19.08892882019638,
          -19.08746155052706,
          -19.086319534008915,
          -19.085503375377726,
          -19.085013507081424
         ]
        },
        {
         "hoverinfo": "name",
         "line": {
          "color": "#555",
          "dash": "dot",
          "width": 1
         },
         "name": "-20.00 dB",
         "showlegend": false,
         "type": "scatter",
         "x": [
          -358.8888965493027,
          -357.7778390541404,
          -356.66687343532357,
          -355.5560455442723,
          -354.44540112846903,
          -351.66989167066737,
          -348.89652075551027,
          -343.3589703285723,
          -337.8381516710673,
          -332.33916301626834,
          -326.8667171206091,
          -310.64868408641405,
          -294.79128089714493,
          -279.3371191156383,
          -264.28940686250036,
          -249.6211360082914,
          -235.2849960460518,
          -221.22162278409758,
          -207.3653939814767,
          -184.54588366326493,
          -180,
          -175.45411633673513,
          -152.63460601852324,
          -138.77837721590248,
          -124.71500395394827,
          -110.37886399170858,
          -95.71059313749964,
          -80.6628808843617,
          -65.20871910285507,
          -49.35131591358595,
          -33.13328287939095,
          -27.660836983731656,
          -22.161848328932706,
          -16.641029671427702,
          -11.103479244489733,
          -8.330108329332631,
          -5.55459887153097,
          -4.443954455727749,
          -3.3331265646764905,
          -2.2221609458596276,
          -1.1111034506973283
         ],
         "y": [
          -19.085013507081424,
          -19.085503375377726,
          -19.086319534008915,
          -19.08746155052706,
          -19.08892882019638,
          -19.094014462352902,
          -19.101110842980592,
          -19.121236166745526,
          -19.149042963976978,
          -19.184174848780152,
          -19.226190346310158,
          -19.38809146911957,
          -19.590413923210935,
          -19.81472569408657,
          -20.043213737826427,
          -20.260279180191155,
          -20.453229787866572,
          -20.612342803649057,
          -20.730600258806064,
          -20.825121237762787,
          -20.8278537031645,
          -20.825121237762787,
          -20.730600258806064,
          -20.612342803649057,
          -20.453229787866576,
          -20.26027918019116,
          -20.043213737826427,
          -19.81472569408657,
          -19.590413923210935,
          -19.38809146911957,
          -19.226190346310158,
          -19.184174848780152,
          -19.149042963976978,
          -19.121236166745526,
          -19.101110842980592,
          -19.094014462352902,
          -19.08892882019638,
          -19.08746155052706,
          -19.086319534008915,
          -19.085503375377726,
          -19.085013507081424
         ]
        }
       ],
       "layout": {
        "template": {
         "data": {
          "bar": [
           {
            "error_x": {
             "color": "#2a3f5f"
            },
            "error_y": {
             "color": "#2a3f5f"
            },
            "marker": {
             "line": {
              "color": "#E5ECF6",
              "width": 0.5
             }
            },
            "type": "bar"
           }
          ],
          "barpolar": [
           {
            "marker": {
             "line": {
              "color": "#E5ECF6",
              "width": 0.5
             }
            },
            "type": "barpolar"
           }
          ],
          "carpet": [
           {
            "aaxis": {
             "endlinecolor": "#2a3f5f",
             "gridcolor": "white",
             "linecolor": "white",
             "minorgridcolor": "white",
             "startlinecolor": "#2a3f5f"
            },
            "baxis": {
             "endlinecolor": "#2a3f5f",
             "gridcolor": "white",
             "linecolor": "white",
             "minorgridcolor": "white",
             "startlinecolor": "#2a3f5f"
            },
            "type": "carpet"
           }
          ],
          "choropleth": [
           {
            "colorbar": {
             "outlinewidth": 0,
             "ticks": ""
            },
            "type": "choropleth"
           }
          ],
          "contour": [
           {
            "colorbar": {
             "outlinewidth": 0,
             "ticks": ""
            },
            "colorscale": [
             [
              0,
              "#0d0887"
             ],
             [
              0.1111111111111111,
              "#46039f"
             ],
             [
              0.2222222222222222,
              "#7201a8"
             ],
             [
              0.3333333333333333,
              "#9c179e"
             ],
             [
              0.4444444444444444,
              "#bd3786"
             ],
             [
              0.5555555555555556,
              "#d8576b"
             ],
             [
              0.6666666666666666,
              "#ed7953"
             ],
             [
              0.7777777777777778,
              "#fb9f3a"
             ],
             [
              0.8888888888888888,
              "#fdca26"
             ],
             [
              1,
              "#f0f921"
             ]
            ],
            "type": "contour"
           }
          ],
          "contourcarpet": [
           {
            "colorbar": {
             "outlinewidth": 0,
             "ticks": ""
            },
            "type": "contourcarpet"
           }
          ],
          "heatmap": [
           {
            "colorbar": {
             "outlinewidth": 0,
             "ticks": ""
            },
            "colorscale": [
             [
              0,
              "#0d0887"
             ],
             [
              0.1111111111111111,
              "#46039f"
             ],
             [
              0.2222222222222222,
              "#7201a8"
             ],
             [
              0.3333333333333333,
              "#9c179e"
             ],
             [
              0.4444444444444444,
              "#bd3786"
             ],
             [
              0.5555555555555556,
              "#d8576b"
             ],
             [
              0.6666666666666666,
              "#ed7953"
             ],
             [
              0.7777777777777778,
              "#fb9f3a"
             ],
             [
              0.8888888888888888,
              "#fdca26"
             ],
             [
              1,
              "#f0f921"
             ]
            ],
            "type": "heatmap"
           }
          ],
          "heatmapgl": [
           {
            "colorbar": {
             "outlinewidth": 0,
             "ticks": ""
            },
            "colorscale": [
             [
              0,
              "#0d0887"
             ],
             [
              0.1111111111111111,
              "#46039f"
             ],
             [
              0.2222222222222222,
              "#7201a8"
             ],
             [
              0.3333333333333333,
              "#9c179e"
             ],
             [
              0.4444444444444444,
              "#bd3786"
             ],
             [
              0.5555555555555556,
              "#d8576b"
             ],
             [
              0.6666666666666666,
              "#ed7953"
             ],
             [
              0.7777777777777778,
              "#fb9f3a"
             ],
             [
              0.8888888888888888,
              "#fdca26"
             ],
             [
              1,
              "#f0f921"
             ]
            ],
            "type": "heatmapgl"
           }
          ],
          "histogram": [
           {
            "marker": {
             "colorbar": {
              "outlinewidth": 0,
              "ticks": ""
             }
            },
            "type": "histogram"
           }
          ],
          "histogram2d": [
           {
            "colorbar": {
             "outlinewidth": 0,
             "ticks": ""
            },
            "colorscale": [
             [
              0,
              "#0d0887"
             ],
             [
              0.1111111111111111,
              "#46039f"
             ],
             [
              0.2222222222222222,
              "#7201a8"
             ],
             [
              0.3333333333333333,
              "#9c179e"
             ],
             [
              0.4444444444444444,
              "#bd3786"
             ],
             [
              0.5555555555555556,
              "#d8576b"
             ],
             [
              0.6666666666666666,
              "#ed7953"
             ],
             [
              0.7777777777777778,
              "#fb9f3a"
             ],
             [
              0.8888888888888888,
              "#fdca26"
             ],
             [
              1,
              "#f0f921"
             ]
            ],
            "type": "histogram2d"
           }
          ],
          "histogram2dcontour": [
           {
            "colorbar": {
             "outlinewidth": 0,
             "ticks": ""
            },
            "colorscale": [
             [
              0,
              "#0d0887"
             ],
             [
              0.1111111111111111,
              "#46039f"
             ],
             [
              0.2222222222222222,
              "#7201a8"
             ],
             [
              0.3333333333333333,
              "#9c179e"
             ],
             [
              0.4444444444444444,
              "#bd3786"
             ],
             [
              0.5555555555555556,
              "#d8576b"
             ],
             [
              0.6666666666666666,
              "#ed7953"
             ],
             [
              0.7777777777777778,
              "#fb9f3a"
             ],
             [
              0.8888888888888888,
              "#fdca26"
             ],
             [
              1,
              "#f0f921"
             ]
            ],
            "type": "histogram2dcontour"
           }
          ],
          "mesh3d": [
           {
            "colorbar": {
             "outlinewidth": 0,
             "ticks": ""
            },
            "type": "mesh3d"
           }
          ],
          "parcoords": [
           {
            "line": {
             "colorbar": {
              "outlinewidth": 0,
              "ticks": ""
             }
            },
            "type": "parcoords"
           }
          ],
          "pie": [
           {
            "automargin": true,
            "type": "pie"
           }
          ],
          "scatter": [
           {
            "marker": {
             "colorbar": {
              "outlinewidth": 0,
              "ticks": ""
             }
            },
            "type": "scatter"
           }
          ],
          "scatter3d": [
           {
            "line": {
             "colorbar": {
              "outlinewidth": 0,
              "ticks": ""
             }
            },
            "marker": {
             "colorbar": {
              "outlinewidth": 0,
              "ticks": ""
             }
            },
            "type": "scatter3d"
           }
          ],
          "scattercarpet": [
           {
            "marker": {
             "colorbar": {
              "outlinewidth": 0,
              "ticks": ""
             }
            },
            "type": "scattercarpet"
           }
          ],
          "scattergeo": [
           {
            "marker": {
             "colorbar": {
              "outlinewidth": 0,
              "ticks": ""
             }
            },
            "type": "scattergeo"
           }
          ],
          "scattergl": [
           {
            "marker": {
             "colorbar": {
              "outlinewidth": 0,
              "ticks": ""
             }
            },
            "type": "scattergl"
           }
          ],
          "scattermapbox": [
           {
            "marker": {
             "colorbar": {
              "outlinewidth": 0,
              "ticks": ""
             }
            },
            "type": "scattermapbox"
           }
          ],
          "scatterpolar": [
           {
            "marker": {
             "colorbar": {
              "outlinewidth": 0,
              "ticks": ""
             }
            },
            "type": "scatterpolar"
           }
          ],
          "scatterpolargl": [
           {
            "marker": {
             "colorbar": {
              "outlinewidth": 0,
              "ticks": ""
             }
            },
            "type": "scatterpolargl"
           }
          ],
          "scatterternary": [
           {
            "marker": {
             "colorbar": {
              "outlinewidth": 0,
              "ticks": ""
             }
            },
            "type": "scatterternary"
           }
          ],
          "surface": [
           {
            "colorbar": {
             "outlinewidth": 0,
             "ticks": ""
            },
            "colorscale": [
             [
              0,
              "#0d0887"
             ],
             [
              0.1111111111111111,
              "#46039f"
             ],
             [
              0.2222222222222222,
              "#7201a8"
             ],
             [
              0.3333333333333333,
              "#9c179e"
             ],
             [
              0.4444444444444444,
              "#bd3786"
             ],
             [
              0.5555555555555556,
              "#d8576b"
             ],
             [
              0.6666666666666666,
              "#ed7953"
             ],
             [
              0.7777777777777778,
              "#fb9f3a"
             ],
             [
              0.8888888888888888,
              "#fdca26"
             ],
             [
              1,
              "#f0f921"
             ]
            ],
            "type": "surface"
           }
          ],
          "table": [
           {
            "cells": {
             "fill": {
              "color": "#EBF0F8"
             },
             "line": {
              "color": "white"
             }
            },
            "header": {
             "fill": {
              "color": "#C8D4E3"
             },
             "line": {
              "color": "white"
             }
            },
            "type": "table"
           }
          ]
         },
         "layout": {
          "annotationdefaults": {
           "arrowcolor": "#2a3f5f",
           "arrowhead": 0,
           "arrowwidth": 1
          },
          "coloraxis": {
           "colorbar": {
            "outlinewidth": 0,
            "ticks": ""
           }
          },
          "colorscale": {
           "diverging": [
            [
             0,
             "#8e0152"
            ],
            [
             0.1,
             "#c51b7d"
            ],
            [
             0.2,
             "#de77ae"
            ],
            [
             0.3,
             "#f1b6da"
            ],
            [
             0.4,
             "#fde0ef"
            ],
            [
             0.5,
             "#f7f7f7"
            ],
            [
             0.6,
             "#e6f5d0"
            ],
            [
             0.7,
             "#b8e186"
            ],
            [
             0.8,
             "#7fbc41"
            ],
            [
             0.9,
             "#4d9221"
            ],
            [
             1,
             "#276419"
            ]
           ],
           "sequential": [
            [
             0,
             "#0d0887"
            ],
            [
             0.1111111111111111,
             "#46039f"
            ],
            [
             0.2222222222222222,
             "#7201a8"
            ],
            [
             0.3333333333333333,
             "#9c179e"
            ],
            [
             0.4444444444444444,
             "#bd3786"
            ],
            [
             0.5555555555555556,
             "#d8576b"
            ],
            [
             0.6666666666666666,
             "#ed7953"
            ],
            [
             0.7777777777777778,
             "#fb9f3a"
            ],
            [
             0.8888888888888888,
             "#fdca26"
            ],
            [
             1,
             "#f0f921"
            ]
           ],
           "sequentialminus": [
            [
             0,
             "#0d0887"
            ],
            [
             0.1111111111111111,
             "#46039f"
            ],
            [
             0.2222222222222222,
             "#7201a8"
            ],
            [
             0.3333333333333333,
             "#9c179e"
            ],
            [
             0.4444444444444444,
             "#bd3786"
            ],
            [
             0.5555555555555556,
             "#d8576b"
            ],
            [
             0.6666666666666666,
             "#ed7953"
            ],
            [
             0.7777777777777778,
             "#fb9f3a"
            ],
            [
             0.8888888888888888,
             "#fdca26"
            ],
            [
             1,
             "#f0f921"
            ]
           ]
          },
          "colorway": [
           "#636efa",
           "#EF553B",
           "#00cc96",
           "#ab63fa",
           "#FFA15A",
           "#19d3f3",
           "#FF6692",
           "#B6E880",
           "#FF97FF",
           "#FECB52"
          ],
          "font": {
           "color": "#2a3f5f"
          },
          "geo": {
           "bgcolor": "white",
           "lakecolor": "white",
           "landcolor": "#E5ECF6",
           "showlakes": true,
           "showland": true,
           "subunitcolor": "white"
          },
          "hoverlabel": {
           "align": "left"
          },
          "hovermode": "closest",
          "mapbox": {
           "style": "light"
          },
          "paper_bgcolor": "white",
          "plot_bgcolor": "#E5ECF6",
          "polar": {
           "angularaxis": {
            "gridcolor": "white",
            "linecolor": "white",
            "ticks": ""
           },
           "bgcolor": "#E5ECF6",
           "radialaxis": {
            "gridcolor": "white",
            "linecolor": "white",
            "ticks": ""
           }
          },
          "scene": {
           "xaxis": {
            "backgroundcolor": "#E5ECF6",
            "gridcolor": "white",
            "gridwidth": 2,
            "linecolor": "white",
            "showbackground": true,
            "ticks": "",
            "zerolinecolor": "white"
           },
           "yaxis": {
            "backgroundcolor": "#E5ECF6",
            "gridcolor": "white",
            "gridwidth": 2,
            "linecolor": "white",
            "showbackground": true,
            "ticks": "",
            "zerolinecolor": "white"
           },
           "zaxis": {
            "backgroundcolor": "#E5ECF6",
            "gridcolor": "white",
            "gridwidth": 2,
            "linecolor": "white",
            "showbackground": true,
            "ticks": "",
            "zerolinecolor": "white"
           }
          },
          "shapedefaults": {
           "line": {
            "color": "#2a3f5f"
           }
          },
          "ternary": {
           "aaxis": {
            "gridcolor": "white",
            "linecolor": "white",
            "ticks": ""
           },
           "baxis": {
            "gridcolor": "white",
            "linecolor": "white",
            "ticks": ""
           },
           "bgcolor": "#E5ECF6",
           "caxis": {
            "gridcolor": "white",
            "linecolor": "white",
            "ticks": ""
           }
          },
          "title": {
           "x": 0.05
          },
          "xaxis": {
           "automargin": true,
           "gridcolor": "white",
           "linecolor": "white",
           "ticks": "",
           "title": {
            "standoff": 15
           },
           "zerolinecolor": "white",
           "zerolinewidth": 2
          },
          "yaxis": {
           "automargin": true,
           "gridcolor": "white",
           "linecolor": "white",
           "ticks": "",
           "title": {
            "standoff": 15
           },
           "zerolinecolor": "white",
           "zerolinewidth": 2
          }
         }
        },
        "xaxis": {
         "title": {
          "text": "Open-Loop Phase (deg)"
         }
        },
        "yaxis": {
         "title": {
          "text": "Open-Loop Gain (dB)"
         }
        }
       }
      },
      "text/html": [
       "<div>\n",
       "        \n",
       "        \n",
       "            <div id=\"f71a13e3-d4e5-41bb-aefb-0fe738609595\" class=\"plotly-graph-div\" style=\"height:525px; width:100%;\"></div>\n",
       "            <script type=\"text/javascript\">\n",
       "                require([\"plotly\"], function(Plotly) {\n",
       "                    window.PLOTLYENV=window.PLOTLYENV || {};\n",
       "                    \n",
       "                if (document.getElementById(\"f71a13e3-d4e5-41bb-aefb-0fe738609595\")) {\n",
       "                    Plotly.newPlot(\n",
       "                        'f71a13e3-d4e5-41bb-aefb-0fe738609595',\n",
       "                        [{\"hoverinfo\": \"none\", \"marker\": {\"line\": {\"color\": \"#FF0000\", \"width\": 1}, \"size\": 3}, \"mode\": \"markers\", \"showlegend\": false, \"type\": \"scatter\", \"x\": [-180], \"y\": [0]}, {\"hovertemplate\": \"<b>w</b>: %{text:.3f} rad/s<br><b>mag</b>: %{y:.3f} dB<br><b>phase</b>: %{x:.3f} deg<br>\", \"line\": {\"color\": \"#1f77b4\"}, \"name\": \"sys\", \"showlegend\": false, \"text\": [0.1, 0.12067926406393285, 0.14563484775012436, 0.1757510624854792, 0.21209508879201905, 0.2559547922699536, 0.3088843596477481, 0.372759372031494, 0.44984326689694454, 0.5428675439323859, 0.6551285568595507, 0.7906043210907697, 0.9540954763499939, 1.151395399326447, 1.3894954943731375, 1.6768329368110073, 2.0235896477251565, 2.442053094548651, 2.9470517025518097, 3.5564803062231287, 4.291934260128776, 5.17947467923121, 6.25055192527397, 7.543120063354615, 9.102981779915218, 10.985411419875584, 13.257113655901081, 15.998587196060573, 19.306977288832496, 23.29951810515372, 28.11768697974228, 33.93221771895326, 40.94915062380423, 49.417133613238335, 59.63623316594643], \"type\": \"scatter\", \"x\": [-3.8627205254367114, -4.66018499451092, -5.621564922966227, -6.78000958467415, -8.17496645780495, -9.853075959775357, -11.868963679453662, -14.28572247079552, -17.174736781514817, -20.61431637669642, -24.686416996193852, -29.470661362576113, -35.03521036456659, -41.42516702582244, -48.651343761903, -56.684724250115664, -65.46267173156207, -74.9093196143938, -84.96494206735646, -95.61252125620275, -106.88983180892468, -118.88188257731831, -131.69601547740342, -145.42651069775812, -160.11805491086884, -175.73995777096079, -192.18427273304437, -209.29632791556713, -226.93349529792874, -245.03412790421737, -263.675430197621, -283.11083716117025, -303.79663344380947, -326.43736711601554, -352.1135879406071], \"y\": [9.530680614034594, 9.525726421772863, 9.518521427047677, 9.508049655438374, 9.492843869480026, 9.470793194668529, 9.438877518840025, 9.392810302210133, 9.326577471788614, 9.231880511713047, 9.097538791928404, 8.908992935847618, 8.648178870701708, 8.29416992715003, 7.824991323630593, 7.220714570082679, 6.46726263760114, 5.559609158063266, 4.502918791244087, 3.3110535316008978, 2.0032200403974167, 0.6003076271557793, -0.8777634993551549, -2.4131379149103527, -3.989719294242085, -5.592020266466189, -7.203859361983998, -8.807429398807656, -10.38273004608983, -11.906686571482064, -13.350921644438776, -14.677181602236406, -15.829230122460622, -16.718593909453176, -17.19694136176827]}, {\"hovertemplate\": \"<b>w</b>: %{text:.3f} rad/s<br><b>mag</b>: %{y:.3f} dB<br><b>phase</b>: %{x:.3f} deg<br>\", \"line\": {\"color\": \"#ff7f0e\"}, \"name\": \"sys\", \"showlegend\": false, \"text\": [0.1, 0.12067926406393285, 0.14563484775012436, 0.1757510624854792, 0.21209508879201905, 0.2559547922699536, 0.3088843596477481, 0.372759372031494, 0.44984326689694454, 0.5428675439323859, 0.6551285568595507, 0.7906043210907697, 0.9540954763499939, 1.151395399326447, 1.3894954943731375, 1.6768329368110073, 2.0235896477251565, 2.442053094548651, 2.9470517025518097, 3.5564803062231287, 4.291934260128776, 5.17947467923121, 6.25055192527397, 7.543120063354615, 9.102981779915218, 10.985411419875584, 13.257113655901081, 15.998587196060573, 19.306977288832496, 23.29951810515372, 28.11768697974228, 33.93221771895326, 40.94915062380423, 49.417133613238335, 59.63623316594643], \"type\": \"scatter\", \"x\": [-90.23070118498639, -90.27976075739915, -90.33998108573105, -90.41442595523101, -90.5073446213746, -90.62480394361518, -90.77569880155806, -90.97334282964268, -91.2378956578835, -91.59987135400357, -92.1047708838669, -92.81829969080775, -93.83054598776808, -95.25622845088049, -97.2279123496963, -99.88171658484607, -103.34049524825195, -107.7035939461653, -113.04947280538579, -119.44838566863402, -126.97491227019293, -135.7104462858508, -145.73162386328846, -157.0870585461243, -169.76983241465115, -183.6975053302131, -198.71345736840334, -214.61886536538253, -231.2317914587567, -248.4557457987415, -266.33670977058387, -285.0992019778266, -305.17081836294705, -327.2238211099693, -352.29425325679694], \"y\": [33.84500278383074, 32.21533339805656, 30.58700975469616, 28.960628441307147, 27.337039109808117, 25.717439415471954, 24.103492162903656, 22.49745480311472, 20.902291214177986, 19.32169963105124, 17.759938718637923, 16.221285808558893, 14.708977915593824, 13.223669774020241, 11.761852163029793, 10.315124253066045, 8.871195425121496, 7.416621802584242, 5.940060639080484, 4.434429126973542, 2.897223629361902, 1.32949267079732, -0.26548359054624865, -1.8829901832990492, -3.5168768285722702, -5.158963229185257, -6.798325163454618, -8.420882772787191, -10.009250778040691, -11.542174526775637, -12.992534104905559, -14.322935606605085, -15.477717080055864, -16.36876104415525, -16.847883590891485]}, {\"hovertemplate\": \"<b>w</b>: %{text:.3f} rad/s<br><b>mag</b>: %{y:.3f} dB<br><b>phase</b>: %{x:.3f} deg<br>\", \"line\": {\"color\": \"#2ca02c\"}, \"name\": \"sys\", \"showlegend\": false, \"text\": [0.1, 0.12067926406393285, 0.14563484775012436, 0.1757510624854792, 0.21209508879201905, 0.2559547922699536, 0.3088843596477481, 0.372759372031494, 0.44984326689694454, 0.5428675439323859, 0.6551285568595507, 0.7906043210907697, 0.9540954763499939, 1.151395399326447, 1.3894954943731375, 1.6768329368110073, 2.0235896477251565, 2.442053094548651, 2.9470517025518097, 3.5564803062231287, 4.291934260128776, 5.17947467923121, 6.25055192527397, 7.543120063354615, 9.102981779915218, 10.985411419875584, 13.257113655901081, 15.998587196060573, 19.306977288832496, 23.29951810515372, 28.11768697974228, 33.93221771895326, 40.94915062380423, 49.417133613238335, 59.63623316594643], \"type\": \"scatter\", \"x\": [-90.23070118498637, -90.27976075739915, -90.33998108573105, -90.41442595523095, -90.50734462137456, -90.62480394361513, -90.77569880155802, -90.97334282964258, -91.23789565788347, -91.59987135400351, -92.10477088386683, -92.81829969080775, -93.83054598776789, -95.25622845088033, -97.22791234969611, -99.88171658484607, -103.34049524825201, -107.703593946165, -113.04947280538559, -119.44838566863382, -126.97491227019273, -135.7104462858506, -145.7316238632883, -157.0870585461242, -169.7698324146511, -183.69750533021303, -198.7134573684033, -214.61886536538248, -231.23179145875662, -248.45574579874148, -266.33670977058387, -285.0992019778266, -305.17081836294705, -327.22382110996926, -352.29425325679694], \"y\": [31.906802523669548, 30.277133137895397, 28.648809494534987, 27.022428181145976, 25.3988388496469, 23.77923915531079, 22.165291902742524, 20.55925454295355, 18.96409095401685, 17.38349937089009, 15.821738458476764, 14.283085548397763, 12.770777655432653, 11.28546951385909, 9.823651902868638, 8.376923992904926, 6.932995164960385, 5.478421542423084, 4.001860378919341, 2.496228866812405, 0.9590233692007617, -0.6087075893638199, -2.2036838507073826, -3.8211904434601824, -5.455077088733402, -7.097163489346387, -8.736525423615747, -10.359083032948323, -11.94745103820182, -13.480374786936764, -14.93073436506669, -16.261135866766214, -17.415917340216993, -18.306961304316374, -18.78608385105261]}, {\"hoverinfo\": \"name\", \"line\": {\"color\": \"#555\", \"dash\": \"dot\", \"width\": 1}, \"name\": \"6.00 dB\", \"showlegend\": false, \"type\": \"scatter\", \"x\": [-181.0044525859156, -182.00706208752763, -183.0059994899574, -183.99946365000403, -184.98569457347367, -187.408591693385, -189.75111962661822, -194.11400997325404, -197.95308877480693, -201.2110046386224, -203.882655271241, -208.76368925804854, -210.07854669531383, -209.08573699075276, -206.61944411079287, -203.19624885388873, -199.14024541544325, -194.6633656344593, -189.91215173606156, -181.66883360739166, -180.0, -178.33116639260837, -170.08784826393844, -165.33663436554068, -160.85975458455675, -156.8037511461113, -153.38055588920716, -150.91426300924724, -149.92145330468617, -151.23631074195148, -156.11734472875898, -158.78899536137763, -162.04691122519313, -165.88599002674593, -170.24888037338178, -172.59140830661497, -175.0143054265264, -176.00053634999594, -176.99400051004255, -177.99293791247237, -178.9955474140844], \"y\": [6.038584887637681, 6.030603754626434, 6.017337064173958, 5.998837145331412, 5.975176335900421, 5.894089570862205, 5.783261698845564, 5.4826074459056695, 5.096695738427625, 4.650493262050236, 4.166800369039922, 2.6567802911878013, 1.2493792041125524, 0.03595583500082545, -0.9732279370869548, -1.7915587587987878, -2.436272660456205, -2.922504047148822, -3.2618637150774954, -3.5213402361322443, -3.528697248729707, -3.5213402361322443, -3.261863715077498, -2.9225040471488253, -2.4362726604562077, -1.7915587587987878, -0.9732279370869548, 0.03595583500082353, 1.2493792041125524, 2.6567802911877987, 4.166800369039918, 4.650493262050238, 5.096695738427627, 5.482607445905669, 5.783261698845564, 5.894089570862203, 5.975176335900418, 5.998837145331412, 6.017337064173956, 6.030603754626437, 6.038584887637679]}, {\"hoverinfo\": \"name\", \"line\": {\"color\": \"#555\", \"dash\": \"dot\", \"width\": 1}, \"name\": \"3.00 dB\", \"showlegend\": false, \"type\": \"scatter\", \"x\": [-182.42156130189062, -184.82844943546547, -187.20643299081019, -189.54213134653503, -191.8233626783699, -197.22187957454412, -202.09598892987356, -210.09301738566455, -215.8791234237175, -219.8563069529548, -222.4551688385875, -225.06798311222548, -223.50196919041633, -219.93702449004138, -215.29642457077978, -210.02487275397982, -204.36172377497314, -198.44853900143266, -192.37662214327372, -182.07224305175168, -180.0, -177.92775694824832, -167.6233778567263, -161.5514609985674, -155.63827622502694, -149.9751272460202, -144.70357542922022, -140.06297550995865, -136.49803080958367, -134.93201688777452, -137.54483116141245, -140.1436930470452, -144.12087657628254, -149.90698261433542, -157.9040110701264, -162.7781204254559, -168.17663732163007, -170.45786865346497, -172.7935670091897, -175.17155056453453, -177.57843869810938], \"y\": [10.679764301197936, 10.647034445747146, 10.593037830089836, 10.518575471800114, 10.424714401516344, 10.11401746557135, 9.714033764687105, 8.743853755272685, 7.678062347477537, 6.616357953051257, 5.606844160199614, 3.010293842417393, 1.0059460068552415, -0.5489159148760905, -1.764348624364853, -2.712947800201404, -3.4422186673114457, -3.9835217795043447, -4.357464956087062, -4.641452702670781, -4.649481613751726, -4.641452702670781, -4.357464956087062, -3.9835217795043465, -3.4422186673114483, -2.7129478002014027, -1.764348624364854, -0.5489159148760926, 1.0059460068552415, 3.0102938424173904, 5.606844160199607, 6.61635795305126, 7.678062347477541, 8.743853755272685, 9.714033764687107, 10.11401746557135, 10.424714401516344, 10.518575471800112, 10.59303783008983, 10.647034445747146, 10.679764301197936]}, {\"hoverinfo\": \"name\", \"line\": {\"color\": \"#555\", \"dash\": \"dot\", \"width\": 1}, \"name\": \"1.00 dB\", \"showlegend\": false, \"type\": \"scatter\", \"x\": [-188.12984536554268, -195.88621216474792, -202.9844437398292, -209.27055340099685, -214.7096153155495, -224.98959838098392, -231.68544618825558, -238.9060061369517, -241.93858840592924, -242.95955537487828, -242.88818452740378, -239.59670953467293, -234.31238992498834, -228.21444019414758, -221.70905190957956, -214.9736246071892, -208.09857633531192, -201.13560158246298, -194.1172919529556, -182.35615618485986, -180.0, -177.6438438151401, -165.88270804704442, -158.86439841753705, -151.90142366468808, -145.0263753928108, -138.29094809042041, -131.78555980585242, -125.68761007501163, -120.40329046532707, -117.11181547259622, -117.04044462512172, -118.06141159407076, -121.0939938630483, -128.3145538117444, -135.0104016190161, -145.29038468445046, -150.72944659900304, -157.0155562601706, -164.11378783525214, -171.87015463445724], \"y\": [19.17292087222408, 18.88999404600427, 18.45599908317477, 17.91331788277162, 17.30269583621942, 15.674169524423078, 14.099770859367858, 11.392809577292622, 9.232708314999615, 7.475525714001363, 6.009559815241832, 2.725327008857705, 0.44275075770600797, -1.2482454597388433, -2.5390189104386724, -3.5327626980741282, -4.29037960222416, -4.8497530368011, -5.234889529168014, -5.526739523137509, -5.534983129163744, -5.526739523137509, -5.2348895291680115, -4.8497530368011015, -4.290379602224161, -3.5327626980741273, -2.5390189104386733, -1.2482454597388464, 0.44275075770600797, 2.7253270088577004, 6.009559815241823, 7.4755257140013684, 9.23270831499962, 11.392809577292622, 14.099770859367855, 15.674169524423071, 17.302695836219414, 17.913317882771604, 18.455999083174753, 18.88999404600427, 19.172920872224083]}, {\"hoverinfo\": \"name\", \"line\": {\"color\": \"#555\", \"dash\": \"dot\", \"width\": 1}, \"name\": \"0.50 dB\", \"showlegend\": false, \"type\": \"scatter\", \"x\": [-196.3718246156576, -210.241776113004, -220.80355193113053, -228.51181527270387, -234.1134646185559, -242.54794804403969, -246.79435053744254, -250.17113669346753, -250.7317375930338, -250.10476324945597, -248.87064427851567, -243.52619111012865, -237.14681544455618, -230.35244392901245, -223.35180491824565, -216.23515197605684, -209.04823910924426, -201.81713920054904, -194.55825435352733, -182.42801843030043, -180.0, -177.57198156969963, -165.44174564647267, -158.18286079945094, -150.95176089075574, -143.76484802394313, -136.64819508175432, -129.64755607098758, -122.85318455544379, -116.47380888987135, -111.12935572148433, -109.89523675054403, -109.26826240696619, -109.82886330653247, -113.20564946255746, -117.45205195596026, -125.88653538144405, -131.488184727296, -139.19644806886924, -149.75822388699612, -163.6281753843424], \"y\": [24.66386078734449, 23.68619318037223, 22.428476998260905, 21.119016837844416, 19.86570394081788, 17.148405136599663, 14.97381756434649, 11.709190668056703, 9.318257934761284, 7.44651521952795, 5.916081684987016, 2.548102112298766, 0.2356286732226798, -1.469242571571364, -2.7674915645818707, -3.7656469575966494, -4.526008275446839, -5.0871210227374375, -5.473330927281008, -5.765933081450027, -5.774197205849433, -5.765933081450027, -5.4733309272810065, -5.0871210227374375, -4.5260082754468405, -3.765646957596645, -2.767491564581872, -1.4692425715713675, 0.2356286732226798, 2.548102112298763, 5.916081684987007, 7.446515219527957, 9.31825793476129, 11.709190668056703, 14.973817564346488, 17.148405136599656, 19.86570394081787, 21.119016837844388, 22.428476998260866, 23.68619318037224, 24.663860787344486]}, {\"hoverinfo\": \"name\", \"line\": {\"color\": \"#555\", \"dash\": \"dot\", \"width\": 1}, \"name\": \"0.25 dB\", \"showlegend\": false, \"type\": \"scatter\", \"x\": [-210.7345808486815, -229.4974236482455, -239.7095256979066, -245.60440268536485, -249.25835228553376, -253.86709641080222, -255.65960361036178, -256.26209749939164, -255.33439270580863, -253.7861505386665, -251.9258936010815, -245.51029169050867, -238.57222728724224, -231.42562231524357, -224.1755612738757, -216.86736796171624, -209.52398817799792, -202.15848677226302, -194.77907815652532, -182.46400174809128, -180.0, -177.53599825190878, -165.2209218434747, -157.84151322773704, -150.47601182200208, -143.13263203828376, -135.82443872612433, -128.57437768475643, -121.42777271275776, -114.48970830949133, -108.0741063989185, -106.2138494613335, -104.66560729419137, -103.73790250060836, -104.34039638963822, -106.13290358919781, -110.74164771446624, -114.3955973146351, -120.2904743020932, -130.50257635175458, -149.26541915131847], \"y\": [29.582361840040452, 27.014193437570665, 24.599036537237854, 22.565963255105842, 20.862047629248345, 17.58707676714537, 15.181648668301047, 11.737967925491535, 9.28126664709167, 7.378506027626564, 5.831068132828873, 2.441468980087758, 0.12140345203767483, -1.5869690247594759, -2.887098602924716, -3.8863619025215304, -4.6474117274845135, -5.208960544669629, -5.595439459606192, -5.888230064901855, -5.896499329536557, -5.888230064901855, -5.59543945960619, -5.20896054466963, -4.6474117274845135, -3.8863619025215304, -2.8870986029247176, -1.586969024759478, 0.12140345203767483, 2.441468980087755, 5.831068132828864, 7.37850602762657, 9.281266647091675, 11.737967925491537, 15.181648668301042, 17.587076767145362, 20.86204762924833, 22.565963255105807, 24.599036537237783, 27.014193437570686, 29.58236184004044]}, {\"hoverinfo\": \"name\", \"line\": {\"color\": \"#555\", \"dash\": \"dot\", \"width\": 1}, \"name\": \"0.00 dB\", \"showlegend\": false, \"type\": \"scatter\", \"x\": [-269.4999999999999, -268.99999999999994, -268.50000000000006, -268.00000000000006, -267.5, -266.25, -265.0, -262.5, -260.0, -257.5, -255.0, -247.5, -240.0, -232.5, -225.0, -217.5, -210.0, -202.5, -195.0, -182.5, -180.0, -177.5, -165.0, -157.5, -150.00000000000003, -142.5, -135.0, -127.5, -120.0, -112.5, -105.0, -102.5, -100.0, -97.5, -95.0, -93.75, -92.5, -92.0, -91.5, -91.00000000000006, -90.50000000000011], \"y\": [35.16256289318372, 29.14229371826325, 25.62101977894313, 23.123016808799058, 21.185808854403394, 17.667429531589104, 15.173479920117972, 11.665446712198822, 9.185995486488366, 7.272665074459145, 5.719475475333597, 2.322606875058725, 0.0, -1.7095424698920367, -3.0102999566398116, -4.009933005441557, -4.771212547196623, -5.332906831698536, -5.719475475333596, -6.0123289342854225, -6.020599913279624, -6.0123289342854225, -5.719475475333596, -5.332906831698536, -4.771212547196625, -4.009933005441557, -3.0102999566398125, -1.709542469892039, 0.0, 2.3226068750587237, 5.719475475333587, 7.27266507445915, 9.18599548648837, 11.665446712198822, 15.17347992011797, 17.667429531589097, 21.185808854403376, 23.123016808799015, 25.621019778943044, 29.14229371826329, 35.1625628931837]}, {\"hoverinfo\": \"name\", \"line\": {\"color\": \"#555\", \"dash\": \"dot\", \"width\": 1}, \"name\": \"-1.00 dB\", \"showlegend\": false, \"type\": \"scatter\", \"x\": [-350.87015463445726, -342.1137878352521, -334.01555626017085, -326.72944659900315, -320.29038468445054, -307.51040161901614, -298.3145538117444, -286.09399386304824, -278.06141159407076, -272.0404446251217, -267.1118154725962, -255.40329046532707, -245.68761007501166, -236.78555980585242, -228.29094809042044, -220.0263753928108, -211.90142366468808, -203.86439841753702, -195.8827080470444, -182.64384381514014, -180.0, -177.35615618485994, -164.1172919529556, -156.13560158246298, -148.09857633531195, -139.9736246071892, -131.70905190957959, -123.21444019414761, -114.31238992498837, -104.59670953467293, -92.88818452740384, -87.95955537487828, -81.93858840592918, -73.9060061369517, -61.68544618825558, -52.489598380983864, -39.70961531554951, -33.27055340099696, -25.98444373982943, -17.88621216474786, -9.129845365542792], \"y\": [18.172920872224083, 17.889994046004272, 17.45599908317476, 16.91331788277161, 16.302695836219424, 14.674169524423068, 13.099770859367856, 10.39280957729262, 8.232708314999616, 6.475525714001364, 5.009559815241831, 1.7253270088577046, -0.5572492422939905, -2.2482454597388433, -3.539018910438671, -4.532762698074128, -5.290379602224158, -5.8497530368011, -6.234889529168011, -6.526739523137509, -6.534983129163744, -6.526739523137509, -6.234889529168011, -5.8497530368011, -5.290379602224159, -4.532762698074128, -3.5390189104386724, -2.248245459738846, -0.5572492422939905, 1.725327008857703, 5.009559815241822, 6.47552571400137, 8.23270831499962, 10.392809577292624, 13.099770859367855, 14.674169524423066, 16.302695836219417, 16.9133178827716, 17.455999083174746, 17.889994046004276, 18.17292087222408]}, {\"hoverinfo\": \"name\", \"line\": {\"color\": \"#555\", \"dash\": \"dot\", \"width\": 1}, \"name\": \"-3.00 dB\", \"showlegend\": false, \"type\": \"scatter\", \"x\": [-356.5784386981094, -353.1715505645345, -349.7935670091898, -346.457868653465, -343.1766373216301, -335.27812042545594, -327.9040110701264, -314.9069826143354, -304.1208765762825, -295.1436930470452, -287.54483116141245, -269.9320168877745, -256.4980308095836, -245.06297550995862, -234.70357542922022, -224.97512724602018, -215.6382762250269, -206.55146099856734, -197.62337785672628, -182.92775694824832, -180.0, -177.0722430517517, -162.3766221432737, -153.44853900143264, -144.36172377497311, -135.02487275397982, -125.29642457077978, -114.93702449004138, -103.50196919041633, -90.06798311222553, -72.45516883858761, -64.85630695295481, -55.87912342371749, -45.09301738566461, -32.09598892987361, -24.72187957454412, -16.82336267836996, -13.542131346535086, -10.206432990810299, -6.828449435465473, -3.4215613018906197], \"y\": [7.6797643011979355, 7.647034445747147, 7.593037830089832, 7.51857547180011, 7.424714401516347, 7.114017465571349, 6.714033764687107, 5.743853755272688, 4.678062347477541, 3.6163579530512586, 2.6068441601996146, 0.010293842417393655, -1.9940539931447574, -3.54891591487609, -4.764348624364852, -5.712947800201404, -6.442218667311447, -6.983521779504347, -7.357464956087063, -7.64145270267078, -7.6494816137517265, -7.64145270267078, -7.357464956087062, -6.983521779504346, -6.442218667311449, -5.712947800201404, -4.764348624364854, -3.5489159148760945, -1.9940539931447574, 0.01029384241739173, 2.606844160199607, 3.6163579530512613, 4.6780623474775425, 5.743853755272687, 6.714033764687107, 7.114017465571347, 7.424714401516347, 7.51857547180011, 7.593037830089831, 7.647034445747147, 7.6797643011979355]}, {\"hoverinfo\": \"name\", \"line\": {\"color\": \"#555\", \"dash\": \"dot\", \"width\": 1}, \"name\": \"-6.00 dB\", \"showlegend\": false, \"type\": \"scatter\", \"x\": [-357.9955474140844, -355.99293791247237, -353.99400051004255, -352.00053634999597, -350.0143054265264, -345.09140830661494, -340.2488803733818, -330.8859900267459, -322.0469112251931, -313.7889953613776, -306.117344728759, -286.23631074195146, -269.92145330468617, -255.91426300924724, -243.38055588920713, -231.80375114611127, -220.85975458455675, -210.33663436554065, -200.08784826393844, -183.33116639260834, -180.0, -176.66883360739166, -159.91215173606153, -149.66336563445935, -139.14024541544327, -128.1962488538887, -116.61944411079287, -104.08573699075279, -90.07854669531383, -73.76368925804854, -53.88265527124105, -46.21100463862234, -37.95308877480687, -29.114009973254042, -19.75111962661822, -14.908591693385063, -9.985694573473609, -7.999463650004088, -6.005999489957503, -4.007062087527629, -2.004452585915658], \"y\": [0.03858488763767778, 0.03060375462643412, 0.017337064173952046, -0.0011628546685900252, -0.024823664099580364, -0.10591042913779797, -0.21673830115443865, -0.5173925540943324, -0.9033042615723732, -1.3495067379497658, -1.8331996309600802, -3.3432197088121995, -4.750620795887448, -5.964044164999175, -6.973227937086955, -7.791558758798789, -8.436272660456204, -8.922504047148825, -9.261863715077498, -9.521340236132247, -9.528697248729706, -9.521340236132247, -9.261863715077496, -8.922504047148825, -8.43627266045621, -7.791558758798788, -6.973227937086954, -5.964044164999177, -4.75062079588745, -3.343219708812202, -1.8331996309600862, -1.3495067379497636, -0.9033042615723743, -0.5173925540943324, -0.21673830115443865, -0.10591042913779991, -0.02482366409958133, -0.001162854668589061, 0.017337064173952046, 0.03060375462643412, 0.03858488763767969]}, {\"hoverinfo\": \"name\", \"line\": {\"color\": \"#555\", \"dash\": \"dot\", \"width\": 1}, \"name\": \"-12.00 dB\", \"showlegend\": false, \"type\": \"scatter\", \"x\": [-358.6645881674737, -357.3294042376337, -355.99467567103443, -354.66062904607696, -353.32748962319005, -350.00007143960084, -346.68313903391805, -340.093777577436, -333.58372479687006, -327.1738821606527, -320.8811636256163, -302.8125312477642, -286.02949646482057, -270.4526028005789, -255.89967637641075, -242.16599931121726, -229.0616987201294, -216.4228646138801, -204.1105118631359, -183.9968095913896, -180.0, -176.00319040861044, -155.88948813686406, -143.57713538611992, -130.93830127987064, -117.83400068878268, -104.10032362358922, -89.54739719942108, -73.97050353517949, -57.18746875223587, -39.11883637438376, -32.82611783934732, -26.416275203129942, -19.906222422563985, -13.316860966081947, -9.999928560399155, -6.672510376809953, -5.339370953923037, -4.005324328965571, -2.670595762366247, -1.3354118325262903], \"y\": [-9.488041039111309, -9.489818140538599, -9.492777760313825, -9.496916581919354, -9.502229976955315, -9.520610194811976, -9.546163900231825, -9.618050006682063, -9.715988750167744, -9.837516123650202, -9.979764081669678, -10.499481991597179, -11.095063346037577, -11.699146567511661, -12.265723755961025, -12.766843237510201, -13.186893456343654, -13.517773258690749, -13.75560292379796, -13.94114919117165, -13.946455874173909, -13.94114919117165, -13.75560292379796, -13.517773258690745, -13.186893456343656, -12.766843237510201, -12.265723755961025, -11.699146567511665, -11.095063346037577, -10.499481991597179, -9.97976408166968, -9.837516123650202, -9.715988750167746, -9.618050006682063, -9.546163900231825, -9.520610194811976, -9.502229976955315, -9.496916581919356, -9.492777760313823, -9.489818140538599, -9.488041039111307]}, {\"hoverinfo\": \"name\", \"line\": {\"color\": \"#555\", \"dash\": \"dot\", \"width\": 1}, \"name\": \"-20.00 dB\", \"showlegend\": false, \"type\": \"scatter\", \"x\": [-358.8888965493027, -357.7778390541404, -356.66687343532357, -355.5560455442723, -354.44540112846903, -351.66989167066737, -348.89652075551027, -343.3589703285723, -337.8381516710673, -332.33916301626834, -326.8667171206091, -310.64868408641405, -294.79128089714493, -279.3371191156383, -264.28940686250036, -249.6211360082914, -235.2849960460518, -221.22162278409758, -207.3653939814767, -184.54588366326493, -180.0, -175.45411633673513, -152.63460601852324, -138.77837721590248, -124.71500395394827, -110.37886399170858, -95.71059313749964, -80.6628808843617, -65.20871910285507, -49.35131591358595, -33.13328287939095, -27.660836983731656, -22.161848328932706, -16.641029671427702, -11.103479244489733, -8.330108329332631, -5.55459887153097, -4.443954455727749, -3.3331265646764905, -2.2221609458596276, -1.1111034506973283], \"y\": [-19.085013507081424, -19.085503375377726, -19.086319534008915, -19.08746155052706, -19.08892882019638, -19.094014462352902, -19.101110842980592, -19.121236166745526, -19.149042963976978, -19.184174848780152, -19.226190346310158, -19.38809146911957, -19.590413923210935, -19.81472569408657, -20.043213737826427, -20.260279180191155, -20.453229787866572, -20.612342803649057, -20.730600258806064, -20.825121237762787, -20.8278537031645, -20.825121237762787, -20.730600258806064, -20.612342803649057, -20.453229787866576, -20.26027918019116, -20.043213737826427, -19.81472569408657, -19.590413923210935, -19.38809146911957, -19.226190346310158, -19.184174848780152, -19.149042963976978, -19.121236166745526, -19.101110842980592, -19.094014462352902, -19.08892882019638, -19.08746155052706, -19.086319534008915, -19.085503375377726, -19.085013507081424]}, {\"hoverinfo\": \"name\", \"line\": {\"color\": \"#555\", \"dash\": \"dot\", \"width\": 1}, \"name\": \"-20.00 dB\", \"showlegend\": false, \"type\": \"scatter\", \"x\": [-358.8888965493027, -357.7778390541404, -356.66687343532357, -355.5560455442723, -354.44540112846903, -351.66989167066737, -348.89652075551027, -343.3589703285723, -337.8381516710673, -332.33916301626834, -326.8667171206091, -310.64868408641405, -294.79128089714493, -279.3371191156383, -264.28940686250036, -249.6211360082914, -235.2849960460518, -221.22162278409758, -207.3653939814767, -184.54588366326493, -180.0, -175.45411633673513, -152.63460601852324, -138.77837721590248, -124.71500395394827, -110.37886399170858, -95.71059313749964, -80.6628808843617, -65.20871910285507, -49.35131591358595, -33.13328287939095, -27.660836983731656, -22.161848328932706, -16.641029671427702, -11.103479244489733, -8.330108329332631, -5.55459887153097, -4.443954455727749, -3.3331265646764905, -2.2221609458596276, -1.1111034506973283], \"y\": [-19.085013507081424, -19.085503375377726, -19.086319534008915, -19.08746155052706, -19.08892882019638, -19.094014462352902, -19.101110842980592, -19.121236166745526, -19.149042963976978, -19.184174848780152, -19.226190346310158, -19.38809146911957, -19.590413923210935, -19.81472569408657, -20.043213737826427, -20.260279180191155, -20.453229787866572, -20.612342803649057, -20.730600258806064, -20.825121237762787, -20.8278537031645, -20.825121237762787, -20.730600258806064, -20.612342803649057, -20.453229787866576, -20.26027918019116, -20.043213737826427, -19.81472569408657, -19.590413923210935, -19.38809146911957, -19.226190346310158, -19.184174848780152, -19.149042963976978, -19.121236166745526, -19.101110842980592, -19.094014462352902, -19.08892882019638, -19.08746155052706, -19.086319534008915, -19.085503375377726, -19.085013507081424]}],\n",
       "                        {\"template\": {\"data\": {\"bar\": [{\"error_x\": {\"color\": \"#2a3f5f\"}, \"error_y\": {\"color\": \"#2a3f5f\"}, \"marker\": {\"line\": {\"color\": \"#E5ECF6\", \"width\": 0.5}}, \"type\": \"bar\"}], \"barpolar\": [{\"marker\": {\"line\": {\"color\": \"#E5ECF6\", \"width\": 0.5}}, \"type\": \"barpolar\"}], \"carpet\": [{\"aaxis\": {\"endlinecolor\": \"#2a3f5f\", \"gridcolor\": \"white\", \"linecolor\": \"white\", \"minorgridcolor\": \"white\", \"startlinecolor\": \"#2a3f5f\"}, \"baxis\": {\"endlinecolor\": \"#2a3f5f\", \"gridcolor\": \"white\", \"linecolor\": \"white\", \"minorgridcolor\": \"white\", \"startlinecolor\": \"#2a3f5f\"}, \"type\": \"carpet\"}], \"choropleth\": [{\"colorbar\": {\"outlinewidth\": 0, \"ticks\": \"\"}, \"type\": \"choropleth\"}], \"contour\": [{\"colorbar\": {\"outlinewidth\": 0, \"ticks\": \"\"}, \"colorscale\": [[0.0, \"#0d0887\"], [0.1111111111111111, \"#46039f\"], [0.2222222222222222, \"#7201a8\"], [0.3333333333333333, \"#9c179e\"], [0.4444444444444444, \"#bd3786\"], [0.5555555555555556, \"#d8576b\"], [0.6666666666666666, \"#ed7953\"], [0.7777777777777778, \"#fb9f3a\"], [0.8888888888888888, \"#fdca26\"], [1.0, \"#f0f921\"]], \"type\": \"contour\"}], \"contourcarpet\": [{\"colorbar\": {\"outlinewidth\": 0, \"ticks\": \"\"}, \"type\": \"contourcarpet\"}], \"heatmap\": [{\"colorbar\": {\"outlinewidth\": 0, \"ticks\": \"\"}, \"colorscale\": [[0.0, \"#0d0887\"], [0.1111111111111111, \"#46039f\"], [0.2222222222222222, \"#7201a8\"], [0.3333333333333333, \"#9c179e\"], [0.4444444444444444, \"#bd3786\"], [0.5555555555555556, \"#d8576b\"], [0.6666666666666666, \"#ed7953\"], [0.7777777777777778, \"#fb9f3a\"], [0.8888888888888888, \"#fdca26\"], [1.0, \"#f0f921\"]], \"type\": \"heatmap\"}], \"heatmapgl\": [{\"colorbar\": {\"outlinewidth\": 0, \"ticks\": \"\"}, \"colorscale\": [[0.0, \"#0d0887\"], [0.1111111111111111, \"#46039f\"], [0.2222222222222222, \"#7201a8\"], [0.3333333333333333, \"#9c179e\"], [0.4444444444444444, \"#bd3786\"], [0.5555555555555556, \"#d8576b\"], [0.6666666666666666, \"#ed7953\"], [0.7777777777777778, \"#fb9f3a\"], [0.8888888888888888, \"#fdca26\"], [1.0, \"#f0f921\"]], \"type\": \"heatmapgl\"}], \"histogram\": [{\"marker\": {\"colorbar\": {\"outlinewidth\": 0, \"ticks\": \"\"}}, \"type\": \"histogram\"}], \"histogram2d\": [{\"colorbar\": {\"outlinewidth\": 0, \"ticks\": \"\"}, \"colorscale\": [[0.0, \"#0d0887\"], [0.1111111111111111, \"#46039f\"], [0.2222222222222222, \"#7201a8\"], [0.3333333333333333, \"#9c179e\"], [0.4444444444444444, \"#bd3786\"], [0.5555555555555556, \"#d8576b\"], [0.6666666666666666, \"#ed7953\"], [0.7777777777777778, \"#fb9f3a\"], [0.8888888888888888, \"#fdca26\"], [1.0, \"#f0f921\"]], \"type\": \"histogram2d\"}], \"histogram2dcontour\": [{\"colorbar\": {\"outlinewidth\": 0, \"ticks\": \"\"}, \"colorscale\": [[0.0, \"#0d0887\"], [0.1111111111111111, \"#46039f\"], [0.2222222222222222, \"#7201a8\"], [0.3333333333333333, \"#9c179e\"], [0.4444444444444444, \"#bd3786\"], [0.5555555555555556, \"#d8576b\"], [0.6666666666666666, \"#ed7953\"], [0.7777777777777778, \"#fb9f3a\"], [0.8888888888888888, \"#fdca26\"], [1.0, \"#f0f921\"]], \"type\": \"histogram2dcontour\"}], \"mesh3d\": [{\"colorbar\": {\"outlinewidth\": 0, \"ticks\": \"\"}, \"type\": \"mesh3d\"}], \"parcoords\": [{\"line\": {\"colorbar\": {\"outlinewidth\": 0, \"ticks\": \"\"}}, \"type\": \"parcoords\"}], \"pie\": [{\"automargin\": true, \"type\": \"pie\"}], \"scatter\": [{\"marker\": {\"colorbar\": {\"outlinewidth\": 0, \"ticks\": \"\"}}, \"type\": \"scatter\"}], \"scatter3d\": [{\"line\": {\"colorbar\": {\"outlinewidth\": 0, \"ticks\": \"\"}}, \"marker\": {\"colorbar\": {\"outlinewidth\": 0, \"ticks\": \"\"}}, \"type\": \"scatter3d\"}], \"scattercarpet\": [{\"marker\": {\"colorbar\": {\"outlinewidth\": 0, \"ticks\": \"\"}}, \"type\": \"scattercarpet\"}], \"scattergeo\": [{\"marker\": {\"colorbar\": {\"outlinewidth\": 0, \"ticks\": \"\"}}, \"type\": \"scattergeo\"}], \"scattergl\": [{\"marker\": {\"colorbar\": {\"outlinewidth\": 0, \"ticks\": \"\"}}, \"type\": \"scattergl\"}], \"scattermapbox\": [{\"marker\": {\"colorbar\": {\"outlinewidth\": 0, \"ticks\": \"\"}}, \"type\": \"scattermapbox\"}], \"scatterpolar\": [{\"marker\": {\"colorbar\": {\"outlinewidth\": 0, \"ticks\": \"\"}}, \"type\": \"scatterpolar\"}], \"scatterpolargl\": [{\"marker\": {\"colorbar\": {\"outlinewidth\": 0, \"ticks\": \"\"}}, \"type\": \"scatterpolargl\"}], \"scatterternary\": [{\"marker\": {\"colorbar\": {\"outlinewidth\": 0, \"ticks\": \"\"}}, \"type\": \"scatterternary\"}], \"surface\": [{\"colorbar\": {\"outlinewidth\": 0, \"ticks\": \"\"}, \"colorscale\": [[0.0, \"#0d0887\"], [0.1111111111111111, \"#46039f\"], [0.2222222222222222, \"#7201a8\"], [0.3333333333333333, \"#9c179e\"], [0.4444444444444444, \"#bd3786\"], [0.5555555555555556, \"#d8576b\"], [0.6666666666666666, \"#ed7953\"], [0.7777777777777778, \"#fb9f3a\"], [0.8888888888888888, \"#fdca26\"], [1.0, \"#f0f921\"]], \"type\": \"surface\"}], \"table\": [{\"cells\": {\"fill\": {\"color\": \"#EBF0F8\"}, \"line\": {\"color\": \"white\"}}, \"header\": {\"fill\": {\"color\": \"#C8D4E3\"}, \"line\": {\"color\": \"white\"}}, \"type\": \"table\"}]}, \"layout\": {\"annotationdefaults\": {\"arrowcolor\": \"#2a3f5f\", \"arrowhead\": 0, \"arrowwidth\": 1}, \"coloraxis\": {\"colorbar\": {\"outlinewidth\": 0, \"ticks\": \"\"}}, \"colorscale\": {\"diverging\": [[0, \"#8e0152\"], [0.1, \"#c51b7d\"], [0.2, \"#de77ae\"], [0.3, \"#f1b6da\"], [0.4, \"#fde0ef\"], [0.5, \"#f7f7f7\"], [0.6, \"#e6f5d0\"], [0.7, \"#b8e186\"], [0.8, \"#7fbc41\"], [0.9, \"#4d9221\"], [1, \"#276419\"]], \"sequential\": [[0.0, \"#0d0887\"], [0.1111111111111111, \"#46039f\"], [0.2222222222222222, \"#7201a8\"], [0.3333333333333333, \"#9c179e\"], [0.4444444444444444, \"#bd3786\"], [0.5555555555555556, \"#d8576b\"], [0.6666666666666666, \"#ed7953\"], [0.7777777777777778, \"#fb9f3a\"], [0.8888888888888888, \"#fdca26\"], [1.0, \"#f0f921\"]], \"sequentialminus\": [[0.0, \"#0d0887\"], [0.1111111111111111, \"#46039f\"], [0.2222222222222222, \"#7201a8\"], [0.3333333333333333, \"#9c179e\"], [0.4444444444444444, \"#bd3786\"], [0.5555555555555556, \"#d8576b\"], [0.6666666666666666, \"#ed7953\"], [0.7777777777777778, \"#fb9f3a\"], [0.8888888888888888, \"#fdca26\"], [1.0, \"#f0f921\"]]}, \"colorway\": [\"#636efa\", \"#EF553B\", \"#00cc96\", \"#ab63fa\", \"#FFA15A\", \"#19d3f3\", \"#FF6692\", \"#B6E880\", \"#FF97FF\", \"#FECB52\"], \"font\": {\"color\": \"#2a3f5f\"}, \"geo\": {\"bgcolor\": \"white\", \"lakecolor\": \"white\", \"landcolor\": \"#E5ECF6\", \"showlakes\": true, \"showland\": true, \"subunitcolor\": \"white\"}, \"hoverlabel\": {\"align\": \"left\"}, \"hovermode\": \"closest\", \"mapbox\": {\"style\": \"light\"}, \"paper_bgcolor\": \"white\", \"plot_bgcolor\": \"#E5ECF6\", \"polar\": {\"angularaxis\": {\"gridcolor\": \"white\", \"linecolor\": \"white\", \"ticks\": \"\"}, \"bgcolor\": \"#E5ECF6\", \"radialaxis\": {\"gridcolor\": \"white\", \"linecolor\": \"white\", \"ticks\": \"\"}}, \"scene\": {\"xaxis\": {\"backgroundcolor\": \"#E5ECF6\", \"gridcolor\": \"white\", \"gridwidth\": 2, \"linecolor\": \"white\", \"showbackground\": true, \"ticks\": \"\", \"zerolinecolor\": \"white\"}, \"yaxis\": {\"backgroundcolor\": \"#E5ECF6\", \"gridcolor\": \"white\", \"gridwidth\": 2, \"linecolor\": \"white\", \"showbackground\": true, \"ticks\": \"\", \"zerolinecolor\": \"white\"}, \"zaxis\": {\"backgroundcolor\": \"#E5ECF6\", \"gridcolor\": \"white\", \"gridwidth\": 2, \"linecolor\": \"white\", \"showbackground\": true, \"ticks\": \"\", \"zerolinecolor\": \"white\"}}, \"shapedefaults\": {\"line\": {\"color\": \"#2a3f5f\"}}, \"ternary\": {\"aaxis\": {\"gridcolor\": \"white\", \"linecolor\": \"white\", \"ticks\": \"\"}, \"baxis\": {\"gridcolor\": \"white\", \"linecolor\": \"white\", \"ticks\": \"\"}, \"bgcolor\": \"#E5ECF6\", \"caxis\": {\"gridcolor\": \"white\", \"linecolor\": \"white\", \"ticks\": \"\"}}, \"title\": {\"x\": 0.05}, \"xaxis\": {\"automargin\": true, \"gridcolor\": \"white\", \"linecolor\": \"white\", \"ticks\": \"\", \"title\": {\"standoff\": 15}, \"zerolinecolor\": \"white\", \"zerolinewidth\": 2}, \"yaxis\": {\"automargin\": true, \"gridcolor\": \"white\", \"linecolor\": \"white\", \"ticks\": \"\", \"title\": {\"standoff\": 15}, \"zerolinecolor\": \"white\", \"zerolinewidth\": 2}}}, \"xaxis\": {\"title\": {\"text\": \"Open-Loop Phase (deg)\"}}, \"yaxis\": {\"title\": {\"text\": \"Open-Loop Gain (dB)\"}}},\n",
       "                        {\"responsive\": true}\n",
       "                    ).then(function(){\n",
       "                            \n",
       "var gd = document.getElementById('f71a13e3-d4e5-41bb-aefb-0fe738609595');\n",
       "var x = new MutationObserver(function (mutations, observer) {{\n",
       "        var display = window.getComputedStyle(gd).display;\n",
       "        if (!display || display === 'none') {{\n",
       "            console.log([gd, 'removed!']);\n",
       "            Plotly.purge(gd);\n",
       "            observer.disconnect();\n",
       "        }}\n",
       "}});\n",
       "\n",
       "// Listen for the removal of the full notebook cells\n",
       "var notebookContainer = gd.closest('#notebook-container');\n",
       "if (notebookContainer) {{\n",
       "    x.observe(notebookContainer, {childList: true});\n",
       "}}\n",
       "\n",
       "// Listen for the clearing of the current output cell\n",
       "var outputEl = gd.closest('.output');\n",
       "if (outputEl) {{\n",
       "    x.observe(outputEl, {childList: true});\n",
       "}}\n",
       "\n",
       "                        })\n",
       "                };\n",
       "                });\n",
       "            </script>\n",
       "        </div>"
      ]
     },
     "metadata": {},
     "output_type": "display_data"
    }
   ],
   "source": [
    "K = 4.5\n",
    "K1 = 0.8\n",
    "wr = 8.2\n",
    "Ti = 5/wr\n",
    "Cz = K+K*(Te/Ti)*tf([1,0],[1,-1])\n",
    "Cz2 = K1*Cz\n",
    "fig = figure(\"nichols\")\n",
    "fig.plot(K*Fz)\n",
    "fig.plot(Cz*Fz)\n",
    "fig.plot(Cz2*Fz)\n",
    "fig.grid(show_phase=False)\n",
    "fig.show()"
   ]
  },
  {
   "cell_type": "markdown",
   "metadata": {},
   "source": [
    "### 6.2 Validation du correcteur proportionnel.\n",
    "\n",
    "* **Question** \n",
    "    * Calculez avec python, $H(z)$, la fonction de transfert du système bouclé et corrigé.\n",
    "    * Tracez la réponse indicielle de $H(z)$. Déterminez les caractéristiques de cette réponse ($tr$, $D\\%$, $m$, $s[\\infty]$).\n",
    "\n"
   ]
  },
  {
   "cell_type": "code",
   "execution_count": 82,
   "metadata": {},
   "outputs": [
    {
     "data": {
      "application/vnd.plotly.v1+json": {
       "config": {
        "plotlyServerURL": "https://plot.ly"
       },
       "data": [
        {
         "line": {
          "color": "#1f77b4",
          "shape": "hv"
         },
         "mode": "lines",
         "name": "sys",
         "type": "scatter",
         "x": [
          0,
          0.05,
          0.1,
          0.15000000000000002,
          0.2,
          0.25,
          0.30000000000000004,
          0.35000000000000003,
          0.4,
          0.45,
          0.5,
          0.55,
          0.6000000000000001,
          0.65,
          0.7000000000000001,
          0.75,
          0.8,
          0.8500000000000001,
          0.9,
          0.9500000000000001,
          1,
          1.05,
          1.1,
          1.1500000000000001,
          1.2000000000000002,
          1.25,
          1.3,
          1.35,
          1.4000000000000001,
          1.4500000000000002,
          1.5,
          1.55,
          1.6,
          1.6500000000000001,
          1.7000000000000002,
          1.75,
          1.8,
          1.85,
          1.9000000000000001,
          1.9500000000000002,
          2,
          2.0500000000000003,
          2.1,
          2.15,
          2.2,
          2.25,
          2.3000000000000003,
          2.35,
          2.4000000000000004,
          2.45,
          2.5,
          2.5500000000000003,
          2.6,
          2.6500000000000004,
          2.7,
          2.75,
          2.8000000000000003,
          2.85,
          2.9000000000000004,
          2.95,
          3,
          3.0500000000000003,
          3.1,
          3.1500000000000004,
          3.2,
          3.25,
          3.3000000000000003,
          3.35,
          3.4000000000000004,
          3.45,
          3.5,
          3.5500000000000003,
          3.6,
          3.6500000000000004,
          3.7,
          3.75,
          3.8000000000000003,
          3.85,
          3.9000000000000004,
          3.95,
          4,
          4.05,
          4.1000000000000005,
          4.15,
          4.2,
          4.25,
          4.3,
          4.3500000000000005,
          4.4,
          4.45,
          4.5,
          4.55,
          4.6000000000000005,
          4.65,
          4.7,
          4.75,
          4.800000000000001,
          4.8500000000000005,
          4.9,
          4.95
         ],
         "y": [
          0,
          -0.12894438085437365,
          -0.060603047998035786,
          0.13957383442723692,
          0.3992338958517412,
          0.6543695207542615,
          0.8589392860115375,
          0.9885873186417393,
          1.039351112888768,
          1.0229381975936485,
          0.9603645996545481,
          0.8755716643728568,
          0.7902092149901546,
          0.720239122439966,
          0.674501181538524,
          0.6549817917453461,
          0.6582800162677926,
          0.6776790845369748,
          0.7052776725696153,
          0.7337702430932266,
          0.7576406298162464,
          0.7737048233422005,
          0.7810765842966069,
          0.7807167019840875,
          0.7747607929180205,
          0.7658093957266044,
          0.7563219291061205,
          0.7481989608139459,
          0.7425797616953176,
          0.7398350289185055,
          0.7397038994021277,
          0.7415112663657324,
          0.7444036622220169,
          0.7475550530475709,
          0.7503124822369169,
          0.7522706857269659,
          0.7532808667482713,
          0.7534096236994415,
          0.752868976745083,
          0.7519381863901959,
          0.7508940399898518,
          0.7499602514199099,
          0.749280230668949,
          0.7489120128113007,
          0.7488403557510808,
          0.7489991718738206,
          0.7492973738500639,
          0.74964243422668,
          0.7499579072579954,
          0.750193283549555,
          0.750326404111305,
          0.7503599778078054,
          0.7503144251012727,
          0.7502193565283297,
          0.750105629472233,
          0.7499992995983042,
          0.7499180801649075,
          0.7498702938598166,
          0.7498558442936971,
          0.749868486771917,
          0.749898630105531,
          0.7499360084502149,
          0.7499717631179075,
          0.7499997066907955,
          0.7500167541320876,
          0.7500226639593194,
          0.7500193220411594,
          0.7500098230540415,
          0.7499975738622038,
          0.7499855790121263,
          0.7499759919374221,
          0.7499699438895128,
          0.74996760795822,
          0.7499684234160413,
          0.7499713959344924,
          0.7499753977681017,
          0.7499794123194201,
          0.7499826926740959,
          0.7499848277660335,
          0.7499857286364949,
          0.749985558714644,
          0.7499846360115475,
          0.7499833328575821,
          0.7499819924096555,
          0.7499808729038947,
          0.7499801225538225,
          0.7499797815423349,
          0.7499798034883444,
          0.7499800872010093,
          0.7499805100876149,
          0.7499809565853179,
          0.7499813376826802,
          0.7499816002998665,
          0.7499817275040574,
          0.7499817319726392,
          0.749981645721698,
          0.7499815090015332,
          0.7499813606386861,
          0.7499812312261033,
          0.7499811396604833
         ]
        },
        {
         "line": {
          "color": "#ff7f0e",
          "shape": "hv"
         },
         "mode": "lines",
         "name": "sys",
         "type": "scatter",
         "x": [
          0,
          0.05,
          0.1,
          0.15000000000000002,
          0.2,
          0.25,
          0.30000000000000004,
          0.35000000000000003,
          0.4,
          0.45,
          0.5,
          0.55,
          0.6000000000000001,
          0.65,
          0.7000000000000001,
          0.75,
          0.8,
          0.8500000000000001,
          0.9,
          0.9500000000000001,
          1,
          1.05,
          1.1,
          1.1500000000000001,
          1.2000000000000002,
          1.25,
          1.3,
          1.35,
          1.4000000000000001,
          1.4500000000000002,
          1.5,
          1.55,
          1.6,
          1.6500000000000001,
          1.7000000000000002,
          1.75,
          1.8,
          1.85,
          1.9000000000000001,
          1.9500000000000002,
          2,
          2.0500000000000003,
          2.1,
          2.15,
          2.2,
          2.25,
          2.3000000000000003,
          2.35,
          2.4000000000000004,
          2.45,
          2.5,
          2.5500000000000003,
          2.6,
          2.6500000000000004,
          2.7,
          2.75,
          2.8000000000000003,
          2.85,
          2.9000000000000004,
          2.95,
          3,
          3.0500000000000003,
          3.1,
          3.1500000000000004,
          3.2,
          3.25,
          3.3000000000000003,
          3.35,
          3.4000000000000004,
          3.45,
          3.5,
          3.5500000000000003,
          3.6,
          3.6500000000000004,
          3.7,
          3.75,
          3.8000000000000003,
          3.85,
          3.9000000000000004,
          3.95,
          4,
          4.05,
          4.1000000000000005,
          4.15,
          4.2,
          4.25,
          4.3,
          4.3500000000000005,
          4.4,
          4.45,
          4.5,
          4.55,
          4.6000000000000005,
          4.65,
          4.7,
          4.75,
          4.800000000000001,
          4.8500000000000005,
          4.9,
          4.95
         ],
         "y": [
          0,
          -0.13951782008443228,
          -0.07762112035610635,
          0.13396195066325134,
          0.4305007338854733,
          0.7473405545892544,
          1.0302054485401775,
          1.2416678701016357,
          1.363563066524084,
          1.3958197905953345,
          1.3526511235930716,
          1.2572709533381623,
          1.1362906071739225,
          1.0147572317653673,
          0.9124899448605355,
          0.842024114752336,
          0.8081519749585055,
          0.8087955824613662,
          0.8367913355668151,
          0.8821087389853481,
          0.9340576730318695,
          0.98313443969829,
          1.0222883846668651,
          1.047529443399256,
          1.0579189423402546,
          1.0550754413386123,
          1.0423769312332531,
          1.0240508354957356,
          1.0043207132895375,
          0.9867338277367779,
          0.9737386515704429,
          0.9665269109623829,
          0.9651094768385207,
          0.9685645878863482,
          0.975382392132758,
          0.983830487485541,
          0.9922777056265595,
          0.9994333054291644,
          1.0044812885413066,
          1.0071105691359001,
          1.0074581911752567,
          1.0059930265864807,
          1.0033710872450605,
          1.00029153434091,
          0.9973762122009298,
          0.9950869571134646,
          0.9936858937069815,
          0.9932359714614485,
          0.9936331541894496,
          0.9946584395355558,
          0.9960372197702902,
          0.9974949625964911,
          0.9988011064810287,
          0.9997966579427029,
          1.0004045319569421,
          1.0006246324738228,
          1.0005176827242188,
          1.000182762674335,
          0.9997334675079621,
          0.9992767827297158,
          0.998897472657994,
          0.9986493084706396,
          0.9985530905047462,
          0.9986003450600087,
          0.9987609071803405,
          0.9989923587760323,
          0.9992494244762113,
          0.9994918352797413,
          0.9996897293268212,
          0.9998262486891569,
          0.9998975105019063,
          0.9999105119852807,
          0.9998797403052855,
          0.9998233019552529,
          0.9997592908527047,
          0.9997029242902116,
          0.9996647415585969,
          0.9996499282141116,
          0.9996586360556776,
          0.9996870374628486,
          0.9997287907956149,
          0.9997765962779077,
          0.999823575081038,
          0.9998642890008256,
          0.9998953140433215,
          0.9999153707177584,
          0.9999250839661578,
          0.9999264893358308,
          0.9999224178459016,
          0.9999158833636415,
          0.9999095697414973,
          0.9999054784981958,
          0.9999047593673183,
          0.9999077121413933,
          0.9999139233531125,
          0.9999224875234951,
          0.9999322598341891,
          0.9999420932947203,
          0.9999510258629307,
          0.9999583982588547
         ]
        },
        {
         "line": {
          "color": "#2ca02c",
          "shape": "hv"
         },
         "mode": "lines",
         "name": "sys",
         "type": "scatter",
         "x": [
          0,
          0.05,
          0.1,
          0.15000000000000002,
          0.2,
          0.25,
          0.30000000000000004,
          0.35000000000000003,
          0.4,
          0.45,
          0.5,
          0.55,
          0.6000000000000001,
          0.65,
          0.7000000000000001,
          0.75,
          0.8,
          0.8500000000000001,
          0.9,
          0.9500000000000001,
          1,
          1.05,
          1.1,
          1.1500000000000001,
          1.2000000000000002,
          1.25,
          1.3,
          1.35,
          1.4000000000000001,
          1.4500000000000002,
          1.5,
          1.55,
          1.6,
          1.6500000000000001,
          1.7000000000000002,
          1.75,
          1.8,
          1.85,
          1.9000000000000001,
          1.9500000000000002,
          2,
          2.0500000000000003,
          2.1,
          2.15,
          2.2,
          2.25,
          2.3000000000000003,
          2.35,
          2.4000000000000004,
          2.45,
          2.5,
          2.5500000000000003,
          2.6,
          2.6500000000000004,
          2.7,
          2.75,
          2.8000000000000003,
          2.85,
          2.9000000000000004,
          2.95,
          3,
          3.0500000000000003,
          3.1,
          3.1500000000000004,
          3.2,
          3.25,
          3.3000000000000003,
          3.35,
          3.4000000000000004,
          3.45,
          3.5,
          3.5500000000000003,
          3.6,
          3.6500000000000004,
          3.7,
          3.75,
          3.8000000000000003,
          3.85,
          3.9000000000000004,
          3.95,
          4,
          4.05,
          4.1000000000000005,
          4.15,
          4.2,
          4.25,
          4.3,
          4.3500000000000005,
          4.4,
          4.45,
          4.5,
          4.55,
          4.6000000000000005,
          4.65,
          4.7,
          4.75,
          4.800000000000001,
          4.8500000000000005,
          4.9,
          4.95
         ],
         "y": [
          0,
          -0.11161425606754584,
          -0.05898246074550717,
          0.1074336705812442,
          0.3359495034576828,
          0.580712683951899,
          0.806094581974174,
          0.9885661701563322,
          1.1164936539803634,
          1.18844215271071,
          1.2106108999277652,
          1.193968025637723,
          1.1515386617517773,
          1.0961576538189206,
          1.0388536884954096,
          0.9879044905098375,
          0.9485047648538814,
          0.9229246227335963,
          0.911005456569459,
          0.9108376670807488,
          0.9194830099338738,
          0.9336355817388586,
          0.9501520611286765,
          0.9664175581975023,
          0.9805438889588736,
          0.9914197431833962,
          0.9986462175235999,
          1.0023970552839891,
          1.0032421026075546,
          1.0019668757769153,
          0.9994127576181349,
          0.9963530377021428,
          0.993411241213721,
          0.9910209514369939,
          0.989421149209079,
          0.9886780874803485,
          0.9887236934401571,
          0.9894010433956097,
          0.9905090886451369,
          0.9918410198874703,
          0.9932130003412354,
          0.9944821330654321,
          0.9955542342577921,
          0.9963831555140921,
          0.9969640263283637,
          0.9973229383889155,
          0.997505375010082,
          0.9975652302116664,
          0.9975556871555646,
          0.9975226409378557,
          0.9975008348300172,
          0.997512480475617,
          0.9975678714373295,
          0.9976673726867666,
          0.9978041563614148,
          0.997967127047712,
          0.9981436054946862,
          0.9983214874467059,
          0.9984907390094939,
          0.998644213635238,
          0.9987778680321746,
          0.9988905115718261,
          0.9989832480715677,
          0.9990587659134782,
          0.9991206100495624,
          0.9991725357188734,
          0.9992180061020726,
          0.9992598606017751,
          0.9993001510254551,
          0.9993401218329687,
          0.9993802982992506,
          0.9994206421563909,
          0.9994607364109989,
          0.9994999675702729,
          0.9995376824143278,
          0.9995733059268268,
          0.9996064156524156,
          0.9996367746865182,
          0.9996643302784278,
          0.9996891876092135,
          0.9997115689455249,
          0.9997317675117188,
          0.9997501035811567,
          0.9997668879683914,
          0.99978239573705,
          0.9997968508455592,
          0.9998104208305918,
          0.9998232195623196,
          0.9998353155825832,
          0.9998467434800062,
          0.9998575160450471,
          0.9998676354532741,
          0.9998771023217436,
          0.9998859220690157,
          0.9998941085117288,
          0.9999016850056783,
          0.999908683673528,
          0.9999151433616866,
          0.9999211069592491,
          0.9999266186216467
         ]
        }
       ],
       "layout": {
        "template": {
         "data": {
          "bar": [
           {
            "error_x": {
             "color": "#2a3f5f"
            },
            "error_y": {
             "color": "#2a3f5f"
            },
            "marker": {
             "line": {
              "color": "#E5ECF6",
              "width": 0.5
             }
            },
            "type": "bar"
           }
          ],
          "barpolar": [
           {
            "marker": {
             "line": {
              "color": "#E5ECF6",
              "width": 0.5
             }
            },
            "type": "barpolar"
           }
          ],
          "carpet": [
           {
            "aaxis": {
             "endlinecolor": "#2a3f5f",
             "gridcolor": "white",
             "linecolor": "white",
             "minorgridcolor": "white",
             "startlinecolor": "#2a3f5f"
            },
            "baxis": {
             "endlinecolor": "#2a3f5f",
             "gridcolor": "white",
             "linecolor": "white",
             "minorgridcolor": "white",
             "startlinecolor": "#2a3f5f"
            },
            "type": "carpet"
           }
          ],
          "choropleth": [
           {
            "colorbar": {
             "outlinewidth": 0,
             "ticks": ""
            },
            "type": "choropleth"
           }
          ],
          "contour": [
           {
            "colorbar": {
             "outlinewidth": 0,
             "ticks": ""
            },
            "colorscale": [
             [
              0,
              "#0d0887"
             ],
             [
              0.1111111111111111,
              "#46039f"
             ],
             [
              0.2222222222222222,
              "#7201a8"
             ],
             [
              0.3333333333333333,
              "#9c179e"
             ],
             [
              0.4444444444444444,
              "#bd3786"
             ],
             [
              0.5555555555555556,
              "#d8576b"
             ],
             [
              0.6666666666666666,
              "#ed7953"
             ],
             [
              0.7777777777777778,
              "#fb9f3a"
             ],
             [
              0.8888888888888888,
              "#fdca26"
             ],
             [
              1,
              "#f0f921"
             ]
            ],
            "type": "contour"
           }
          ],
          "contourcarpet": [
           {
            "colorbar": {
             "outlinewidth": 0,
             "ticks": ""
            },
            "type": "contourcarpet"
           }
          ],
          "heatmap": [
           {
            "colorbar": {
             "outlinewidth": 0,
             "ticks": ""
            },
            "colorscale": [
             [
              0,
              "#0d0887"
             ],
             [
              0.1111111111111111,
              "#46039f"
             ],
             [
              0.2222222222222222,
              "#7201a8"
             ],
             [
              0.3333333333333333,
              "#9c179e"
             ],
             [
              0.4444444444444444,
              "#bd3786"
             ],
             [
              0.5555555555555556,
              "#d8576b"
             ],
             [
              0.6666666666666666,
              "#ed7953"
             ],
             [
              0.7777777777777778,
              "#fb9f3a"
             ],
             [
              0.8888888888888888,
              "#fdca26"
             ],
             [
              1,
              "#f0f921"
             ]
            ],
            "type": "heatmap"
           }
          ],
          "heatmapgl": [
           {
            "colorbar": {
             "outlinewidth": 0,
             "ticks": ""
            },
            "colorscale": [
             [
              0,
              "#0d0887"
             ],
             [
              0.1111111111111111,
              "#46039f"
             ],
             [
              0.2222222222222222,
              "#7201a8"
             ],
             [
              0.3333333333333333,
              "#9c179e"
             ],
             [
              0.4444444444444444,
              "#bd3786"
             ],
             [
              0.5555555555555556,
              "#d8576b"
             ],
             [
              0.6666666666666666,
              "#ed7953"
             ],
             [
              0.7777777777777778,
              "#fb9f3a"
             ],
             [
              0.8888888888888888,
              "#fdca26"
             ],
             [
              1,
              "#f0f921"
             ]
            ],
            "type": "heatmapgl"
           }
          ],
          "histogram": [
           {
            "marker": {
             "colorbar": {
              "outlinewidth": 0,
              "ticks": ""
             }
            },
            "type": "histogram"
           }
          ],
          "histogram2d": [
           {
            "colorbar": {
             "outlinewidth": 0,
             "ticks": ""
            },
            "colorscale": [
             [
              0,
              "#0d0887"
             ],
             [
              0.1111111111111111,
              "#46039f"
             ],
             [
              0.2222222222222222,
              "#7201a8"
             ],
             [
              0.3333333333333333,
              "#9c179e"
             ],
             [
              0.4444444444444444,
              "#bd3786"
             ],
             [
              0.5555555555555556,
              "#d8576b"
             ],
             [
              0.6666666666666666,
              "#ed7953"
             ],
             [
              0.7777777777777778,
              "#fb9f3a"
             ],
             [
              0.8888888888888888,
              "#fdca26"
             ],
             [
              1,
              "#f0f921"
             ]
            ],
            "type": "histogram2d"
           }
          ],
          "histogram2dcontour": [
           {
            "colorbar": {
             "outlinewidth": 0,
             "ticks": ""
            },
            "colorscale": [
             [
              0,
              "#0d0887"
             ],
             [
              0.1111111111111111,
              "#46039f"
             ],
             [
              0.2222222222222222,
              "#7201a8"
             ],
             [
              0.3333333333333333,
              "#9c179e"
             ],
             [
              0.4444444444444444,
              "#bd3786"
             ],
             [
              0.5555555555555556,
              "#d8576b"
             ],
             [
              0.6666666666666666,
              "#ed7953"
             ],
             [
              0.7777777777777778,
              "#fb9f3a"
             ],
             [
              0.8888888888888888,
              "#fdca26"
             ],
             [
              1,
              "#f0f921"
             ]
            ],
            "type": "histogram2dcontour"
           }
          ],
          "mesh3d": [
           {
            "colorbar": {
             "outlinewidth": 0,
             "ticks": ""
            },
            "type": "mesh3d"
           }
          ],
          "parcoords": [
           {
            "line": {
             "colorbar": {
              "outlinewidth": 0,
              "ticks": ""
             }
            },
            "type": "parcoords"
           }
          ],
          "pie": [
           {
            "automargin": true,
            "type": "pie"
           }
          ],
          "scatter": [
           {
            "marker": {
             "colorbar": {
              "outlinewidth": 0,
              "ticks": ""
             }
            },
            "type": "scatter"
           }
          ],
          "scatter3d": [
           {
            "line": {
             "colorbar": {
              "outlinewidth": 0,
              "ticks": ""
             }
            },
            "marker": {
             "colorbar": {
              "outlinewidth": 0,
              "ticks": ""
             }
            },
            "type": "scatter3d"
           }
          ],
          "scattercarpet": [
           {
            "marker": {
             "colorbar": {
              "outlinewidth": 0,
              "ticks": ""
             }
            },
            "type": "scattercarpet"
           }
          ],
          "scattergeo": [
           {
            "marker": {
             "colorbar": {
              "outlinewidth": 0,
              "ticks": ""
             }
            },
            "type": "scattergeo"
           }
          ],
          "scattergl": [
           {
            "marker": {
             "colorbar": {
              "outlinewidth": 0,
              "ticks": ""
             }
            },
            "type": "scattergl"
           }
          ],
          "scattermapbox": [
           {
            "marker": {
             "colorbar": {
              "outlinewidth": 0,
              "ticks": ""
             }
            },
            "type": "scattermapbox"
           }
          ],
          "scatterpolar": [
           {
            "marker": {
             "colorbar": {
              "outlinewidth": 0,
              "ticks": ""
             }
            },
            "type": "scatterpolar"
           }
          ],
          "scatterpolargl": [
           {
            "marker": {
             "colorbar": {
              "outlinewidth": 0,
              "ticks": ""
             }
            },
            "type": "scatterpolargl"
           }
          ],
          "scatterternary": [
           {
            "marker": {
             "colorbar": {
              "outlinewidth": 0,
              "ticks": ""
             }
            },
            "type": "scatterternary"
           }
          ],
          "surface": [
           {
            "colorbar": {
             "outlinewidth": 0,
             "ticks": ""
            },
            "colorscale": [
             [
              0,
              "#0d0887"
             ],
             [
              0.1111111111111111,
              "#46039f"
             ],
             [
              0.2222222222222222,
              "#7201a8"
             ],
             [
              0.3333333333333333,
              "#9c179e"
             ],
             [
              0.4444444444444444,
              "#bd3786"
             ],
             [
              0.5555555555555556,
              "#d8576b"
             ],
             [
              0.6666666666666666,
              "#ed7953"
             ],
             [
              0.7777777777777778,
              "#fb9f3a"
             ],
             [
              0.8888888888888888,
              "#fdca26"
             ],
             [
              1,
              "#f0f921"
             ]
            ],
            "type": "surface"
           }
          ],
          "table": [
           {
            "cells": {
             "fill": {
              "color": "#EBF0F8"
             },
             "line": {
              "color": "white"
             }
            },
            "header": {
             "fill": {
              "color": "#C8D4E3"
             },
             "line": {
              "color": "white"
             }
            },
            "type": "table"
           }
          ]
         },
         "layout": {
          "annotationdefaults": {
           "arrowcolor": "#2a3f5f",
           "arrowhead": 0,
           "arrowwidth": 1
          },
          "coloraxis": {
           "colorbar": {
            "outlinewidth": 0,
            "ticks": ""
           }
          },
          "colorscale": {
           "diverging": [
            [
             0,
             "#8e0152"
            ],
            [
             0.1,
             "#c51b7d"
            ],
            [
             0.2,
             "#de77ae"
            ],
            [
             0.3,
             "#f1b6da"
            ],
            [
             0.4,
             "#fde0ef"
            ],
            [
             0.5,
             "#f7f7f7"
            ],
            [
             0.6,
             "#e6f5d0"
            ],
            [
             0.7,
             "#b8e186"
            ],
            [
             0.8,
             "#7fbc41"
            ],
            [
             0.9,
             "#4d9221"
            ],
            [
             1,
             "#276419"
            ]
           ],
           "sequential": [
            [
             0,
             "#0d0887"
            ],
            [
             0.1111111111111111,
             "#46039f"
            ],
            [
             0.2222222222222222,
             "#7201a8"
            ],
            [
             0.3333333333333333,
             "#9c179e"
            ],
            [
             0.4444444444444444,
             "#bd3786"
            ],
            [
             0.5555555555555556,
             "#d8576b"
            ],
            [
             0.6666666666666666,
             "#ed7953"
            ],
            [
             0.7777777777777778,
             "#fb9f3a"
            ],
            [
             0.8888888888888888,
             "#fdca26"
            ],
            [
             1,
             "#f0f921"
            ]
           ],
           "sequentialminus": [
            [
             0,
             "#0d0887"
            ],
            [
             0.1111111111111111,
             "#46039f"
            ],
            [
             0.2222222222222222,
             "#7201a8"
            ],
            [
             0.3333333333333333,
             "#9c179e"
            ],
            [
             0.4444444444444444,
             "#bd3786"
            ],
            [
             0.5555555555555556,
             "#d8576b"
            ],
            [
             0.6666666666666666,
             "#ed7953"
            ],
            [
             0.7777777777777778,
             "#fb9f3a"
            ],
            [
             0.8888888888888888,
             "#fdca26"
            ],
            [
             1,
             "#f0f921"
            ]
           ]
          },
          "colorway": [
           "#636efa",
           "#EF553B",
           "#00cc96",
           "#ab63fa",
           "#FFA15A",
           "#19d3f3",
           "#FF6692",
           "#B6E880",
           "#FF97FF",
           "#FECB52"
          ],
          "font": {
           "color": "#2a3f5f"
          },
          "geo": {
           "bgcolor": "white",
           "lakecolor": "white",
           "landcolor": "#E5ECF6",
           "showlakes": true,
           "showland": true,
           "subunitcolor": "white"
          },
          "hoverlabel": {
           "align": "left"
          },
          "hovermode": "closest",
          "mapbox": {
           "style": "light"
          },
          "paper_bgcolor": "white",
          "plot_bgcolor": "#E5ECF6",
          "polar": {
           "angularaxis": {
            "gridcolor": "white",
            "linecolor": "white",
            "ticks": ""
           },
           "bgcolor": "#E5ECF6",
           "radialaxis": {
            "gridcolor": "white",
            "linecolor": "white",
            "ticks": ""
           }
          },
          "scene": {
           "xaxis": {
            "backgroundcolor": "#E5ECF6",
            "gridcolor": "white",
            "gridwidth": 2,
            "linecolor": "white",
            "showbackground": true,
            "ticks": "",
            "zerolinecolor": "white"
           },
           "yaxis": {
            "backgroundcolor": "#E5ECF6",
            "gridcolor": "white",
            "gridwidth": 2,
            "linecolor": "white",
            "showbackground": true,
            "ticks": "",
            "zerolinecolor": "white"
           },
           "zaxis": {
            "backgroundcolor": "#E5ECF6",
            "gridcolor": "white",
            "gridwidth": 2,
            "linecolor": "white",
            "showbackground": true,
            "ticks": "",
            "zerolinecolor": "white"
           }
          },
          "shapedefaults": {
           "line": {
            "color": "#2a3f5f"
           }
          },
          "ternary": {
           "aaxis": {
            "gridcolor": "white",
            "linecolor": "white",
            "ticks": ""
           },
           "baxis": {
            "gridcolor": "white",
            "linecolor": "white",
            "ticks": ""
           },
           "bgcolor": "#E5ECF6",
           "caxis": {
            "gridcolor": "white",
            "linecolor": "white",
            "ticks": ""
           }
          },
          "title": {
           "x": 0.05
          },
          "xaxis": {
           "automargin": true,
           "gridcolor": "white",
           "linecolor": "white",
           "ticks": "",
           "title": {
            "standoff": 15
           },
           "zerolinecolor": "white",
           "zerolinewidth": 2
          },
          "yaxis": {
           "automargin": true,
           "gridcolor": "white",
           "linecolor": "white",
           "ticks": "",
           "title": {
            "standoff": 15
           },
           "zerolinecolor": "white",
           "zerolinewidth": 2
          }
         }
        },
        "xaxis": {
         "title": {
          "text": "time (s)"
         }
        },
        "yaxis": {
         "title": {
          "text": "amp"
         }
        }
       }
      },
      "text/html": [
       "<div>\n",
       "        \n",
       "        \n",
       "            <div id=\"44b61527-964b-4d9c-9815-60d9d0da4182\" class=\"plotly-graph-div\" style=\"height:525px; width:100%;\"></div>\n",
       "            <script type=\"text/javascript\">\n",
       "                require([\"plotly\"], function(Plotly) {\n",
       "                    window.PLOTLYENV=window.PLOTLYENV || {};\n",
       "                    \n",
       "                if (document.getElementById(\"44b61527-964b-4d9c-9815-60d9d0da4182\")) {\n",
       "                    Plotly.newPlot(\n",
       "                        '44b61527-964b-4d9c-9815-60d9d0da4182',\n",
       "                        [{\"line\": {\"color\": \"#1f77b4\", \"shape\": \"hv\"}, \"mode\": \"lines\", \"name\": \"sys\", \"type\": \"scatter\", \"x\": [0.0, 0.05, 0.1, 0.15000000000000002, 0.2, 0.25, 0.30000000000000004, 0.35000000000000003, 0.4, 0.45, 0.5, 0.55, 0.6000000000000001, 0.65, 0.7000000000000001, 0.75, 0.8, 0.8500000000000001, 0.9, 0.9500000000000001, 1.0, 1.05, 1.1, 1.1500000000000001, 1.2000000000000002, 1.25, 1.3, 1.35, 1.4000000000000001, 1.4500000000000002, 1.5, 1.55, 1.6, 1.6500000000000001, 1.7000000000000002, 1.75, 1.8, 1.85, 1.9000000000000001, 1.9500000000000002, 2.0, 2.0500000000000003, 2.1, 2.15, 2.2, 2.25, 2.3000000000000003, 2.35, 2.4000000000000004, 2.45, 2.5, 2.5500000000000003, 2.6, 2.6500000000000004, 2.7, 2.75, 2.8000000000000003, 2.85, 2.9000000000000004, 2.95, 3.0, 3.0500000000000003, 3.1, 3.1500000000000004, 3.2, 3.25, 3.3000000000000003, 3.35, 3.4000000000000004, 3.45, 3.5, 3.5500000000000003, 3.6, 3.6500000000000004, 3.7, 3.75, 3.8000000000000003, 3.85, 3.9000000000000004, 3.95, 4.0, 4.05, 4.1000000000000005, 4.15, 4.2, 4.25, 4.3, 4.3500000000000005, 4.4, 4.45, 4.5, 4.55, 4.6000000000000005, 4.65, 4.7, 4.75, 4.800000000000001, 4.8500000000000005, 4.9, 4.95], \"y\": [0.0, -0.12894438085437365, -0.060603047998035786, 0.13957383442723692, 0.3992338958517412, 0.6543695207542615, 0.8589392860115375, 0.9885873186417393, 1.039351112888768, 1.0229381975936485, 0.9603645996545481, 0.8755716643728568, 0.7902092149901546, 0.720239122439966, 0.674501181538524, 0.6549817917453461, 0.6582800162677926, 0.6776790845369748, 0.7052776725696153, 0.7337702430932266, 0.7576406298162464, 0.7737048233422005, 0.7810765842966069, 0.7807167019840875, 0.7747607929180205, 0.7658093957266044, 0.7563219291061205, 0.7481989608139459, 0.7425797616953176, 0.7398350289185055, 0.7397038994021277, 0.7415112663657324, 0.7444036622220169, 0.7475550530475709, 0.7503124822369169, 0.7522706857269659, 0.7532808667482713, 0.7534096236994415, 0.752868976745083, 0.7519381863901959, 0.7508940399898518, 0.7499602514199099, 0.749280230668949, 0.7489120128113007, 0.7488403557510808, 0.7489991718738206, 0.7492973738500639, 0.74964243422668, 0.7499579072579954, 0.750193283549555, 0.750326404111305, 0.7503599778078054, 0.7503144251012727, 0.7502193565283297, 0.750105629472233, 0.7499992995983042, 0.7499180801649075, 0.7498702938598166, 0.7498558442936971, 0.749868486771917, 0.749898630105531, 0.7499360084502149, 0.7499717631179075, 0.7499997066907955, 0.7500167541320876, 0.7500226639593194, 0.7500193220411594, 0.7500098230540415, 0.7499975738622038, 0.7499855790121263, 0.7499759919374221, 0.7499699438895128, 0.74996760795822, 0.7499684234160413, 0.7499713959344924, 0.7499753977681017, 0.7499794123194201, 0.7499826926740959, 0.7499848277660335, 0.7499857286364949, 0.749985558714644, 0.7499846360115475, 0.7499833328575821, 0.7499819924096555, 0.7499808729038947, 0.7499801225538225, 0.7499797815423349, 0.7499798034883444, 0.7499800872010093, 0.7499805100876149, 0.7499809565853179, 0.7499813376826802, 0.7499816002998665, 0.7499817275040574, 0.7499817319726392, 0.749981645721698, 0.7499815090015332, 0.7499813606386861, 0.7499812312261033, 0.7499811396604833]}, {\"line\": {\"color\": \"#ff7f0e\", \"shape\": \"hv\"}, \"mode\": \"lines\", \"name\": \"sys\", \"type\": \"scatter\", \"x\": [0.0, 0.05, 0.1, 0.15000000000000002, 0.2, 0.25, 0.30000000000000004, 0.35000000000000003, 0.4, 0.45, 0.5, 0.55, 0.6000000000000001, 0.65, 0.7000000000000001, 0.75, 0.8, 0.8500000000000001, 0.9, 0.9500000000000001, 1.0, 1.05, 1.1, 1.1500000000000001, 1.2000000000000002, 1.25, 1.3, 1.35, 1.4000000000000001, 1.4500000000000002, 1.5, 1.55, 1.6, 1.6500000000000001, 1.7000000000000002, 1.75, 1.8, 1.85, 1.9000000000000001, 1.9500000000000002, 2.0, 2.0500000000000003, 2.1, 2.15, 2.2, 2.25, 2.3000000000000003, 2.35, 2.4000000000000004, 2.45, 2.5, 2.5500000000000003, 2.6, 2.6500000000000004, 2.7, 2.75, 2.8000000000000003, 2.85, 2.9000000000000004, 2.95, 3.0, 3.0500000000000003, 3.1, 3.1500000000000004, 3.2, 3.25, 3.3000000000000003, 3.35, 3.4000000000000004, 3.45, 3.5, 3.5500000000000003, 3.6, 3.6500000000000004, 3.7, 3.75, 3.8000000000000003, 3.85, 3.9000000000000004, 3.95, 4.0, 4.05, 4.1000000000000005, 4.15, 4.2, 4.25, 4.3, 4.3500000000000005, 4.4, 4.45, 4.5, 4.55, 4.6000000000000005, 4.65, 4.7, 4.75, 4.800000000000001, 4.8500000000000005, 4.9, 4.95], \"y\": [0.0, -0.13951782008443228, -0.07762112035610635, 0.13396195066325134, 0.4305007338854733, 0.7473405545892544, 1.0302054485401775, 1.2416678701016357, 1.363563066524084, 1.3958197905953345, 1.3526511235930716, 1.2572709533381623, 1.1362906071739225, 1.0147572317653673, 0.9124899448605355, 0.842024114752336, 0.8081519749585055, 0.8087955824613662, 0.8367913355668151, 0.8821087389853481, 0.9340576730318695, 0.98313443969829, 1.0222883846668651, 1.047529443399256, 1.0579189423402546, 1.0550754413386123, 1.0423769312332531, 1.0240508354957356, 1.0043207132895375, 0.9867338277367779, 0.9737386515704429, 0.9665269109623829, 0.9651094768385207, 0.9685645878863482, 0.975382392132758, 0.983830487485541, 0.9922777056265595, 0.9994333054291644, 1.0044812885413066, 1.0071105691359001, 1.0074581911752567, 1.0059930265864807, 1.0033710872450605, 1.00029153434091, 0.9973762122009298, 0.9950869571134646, 0.9936858937069815, 0.9932359714614485, 0.9936331541894496, 0.9946584395355558, 0.9960372197702902, 0.9974949625964911, 0.9988011064810287, 0.9997966579427029, 1.0004045319569421, 1.0006246324738228, 1.0005176827242188, 1.000182762674335, 0.9997334675079621, 0.9992767827297158, 0.998897472657994, 0.9986493084706396, 0.9985530905047462, 0.9986003450600087, 0.9987609071803405, 0.9989923587760323, 0.9992494244762113, 0.9994918352797413, 0.9996897293268212, 0.9998262486891569, 0.9998975105019063, 0.9999105119852807, 0.9998797403052855, 0.9998233019552529, 0.9997592908527047, 0.9997029242902116, 0.9996647415585969, 0.9996499282141116, 0.9996586360556776, 0.9996870374628486, 0.9997287907956149, 0.9997765962779077, 0.999823575081038, 0.9998642890008256, 0.9998953140433215, 0.9999153707177584, 0.9999250839661578, 0.9999264893358308, 0.9999224178459016, 0.9999158833636415, 0.9999095697414973, 0.9999054784981958, 0.9999047593673183, 0.9999077121413933, 0.9999139233531125, 0.9999224875234951, 0.9999322598341891, 0.9999420932947203, 0.9999510258629307, 0.9999583982588547]}, {\"line\": {\"color\": \"#2ca02c\", \"shape\": \"hv\"}, \"mode\": \"lines\", \"name\": \"sys\", \"type\": \"scatter\", \"x\": [0.0, 0.05, 0.1, 0.15000000000000002, 0.2, 0.25, 0.30000000000000004, 0.35000000000000003, 0.4, 0.45, 0.5, 0.55, 0.6000000000000001, 0.65, 0.7000000000000001, 0.75, 0.8, 0.8500000000000001, 0.9, 0.9500000000000001, 1.0, 1.05, 1.1, 1.1500000000000001, 1.2000000000000002, 1.25, 1.3, 1.35, 1.4000000000000001, 1.4500000000000002, 1.5, 1.55, 1.6, 1.6500000000000001, 1.7000000000000002, 1.75, 1.8, 1.85, 1.9000000000000001, 1.9500000000000002, 2.0, 2.0500000000000003, 2.1, 2.15, 2.2, 2.25, 2.3000000000000003, 2.35, 2.4000000000000004, 2.45, 2.5, 2.5500000000000003, 2.6, 2.6500000000000004, 2.7, 2.75, 2.8000000000000003, 2.85, 2.9000000000000004, 2.95, 3.0, 3.0500000000000003, 3.1, 3.1500000000000004, 3.2, 3.25, 3.3000000000000003, 3.35, 3.4000000000000004, 3.45, 3.5, 3.5500000000000003, 3.6, 3.6500000000000004, 3.7, 3.75, 3.8000000000000003, 3.85, 3.9000000000000004, 3.95, 4.0, 4.05, 4.1000000000000005, 4.15, 4.2, 4.25, 4.3, 4.3500000000000005, 4.4, 4.45, 4.5, 4.55, 4.6000000000000005, 4.65, 4.7, 4.75, 4.800000000000001, 4.8500000000000005, 4.9, 4.95], \"y\": [0.0, -0.11161425606754584, -0.05898246074550717, 0.1074336705812442, 0.3359495034576828, 0.580712683951899, 0.806094581974174, 0.9885661701563322, 1.1164936539803634, 1.18844215271071, 1.2106108999277652, 1.193968025637723, 1.1515386617517773, 1.0961576538189206, 1.0388536884954096, 0.9879044905098375, 0.9485047648538814, 0.9229246227335963, 0.911005456569459, 0.9108376670807488, 0.9194830099338738, 0.9336355817388586, 0.9501520611286765, 0.9664175581975023, 0.9805438889588736, 0.9914197431833962, 0.9986462175235999, 1.0023970552839891, 1.0032421026075546, 1.0019668757769153, 0.9994127576181349, 0.9963530377021428, 0.993411241213721, 0.9910209514369939, 0.989421149209079, 0.9886780874803485, 0.9887236934401571, 0.9894010433956097, 0.9905090886451369, 0.9918410198874703, 0.9932130003412354, 0.9944821330654321, 0.9955542342577921, 0.9963831555140921, 0.9969640263283637, 0.9973229383889155, 0.997505375010082, 0.9975652302116664, 0.9975556871555646, 0.9975226409378557, 0.9975008348300172, 0.997512480475617, 0.9975678714373295, 0.9976673726867666, 0.9978041563614148, 0.997967127047712, 0.9981436054946862, 0.9983214874467059, 0.9984907390094939, 0.998644213635238, 0.9987778680321746, 0.9988905115718261, 0.9989832480715677, 0.9990587659134782, 0.9991206100495624, 0.9991725357188734, 0.9992180061020726, 0.9992598606017751, 0.9993001510254551, 0.9993401218329687, 0.9993802982992506, 0.9994206421563909, 0.9994607364109989, 0.9994999675702729, 0.9995376824143278, 0.9995733059268268, 0.9996064156524156, 0.9996367746865182, 0.9996643302784278, 0.9996891876092135, 0.9997115689455249, 0.9997317675117188, 0.9997501035811567, 0.9997668879683914, 0.99978239573705, 0.9997968508455592, 0.9998104208305918, 0.9998232195623196, 0.9998353155825832, 0.9998467434800062, 0.9998575160450471, 0.9998676354532741, 0.9998771023217436, 0.9998859220690157, 0.9998941085117288, 0.9999016850056783, 0.999908683673528, 0.9999151433616866, 0.9999211069592491, 0.9999266186216467]}],\n",
       "                        {\"template\": {\"data\": {\"bar\": [{\"error_x\": {\"color\": \"#2a3f5f\"}, \"error_y\": {\"color\": \"#2a3f5f\"}, \"marker\": {\"line\": {\"color\": \"#E5ECF6\", \"width\": 0.5}}, \"type\": \"bar\"}], \"barpolar\": [{\"marker\": {\"line\": {\"color\": \"#E5ECF6\", \"width\": 0.5}}, \"type\": \"barpolar\"}], \"carpet\": [{\"aaxis\": {\"endlinecolor\": \"#2a3f5f\", \"gridcolor\": \"white\", \"linecolor\": \"white\", \"minorgridcolor\": \"white\", \"startlinecolor\": \"#2a3f5f\"}, \"baxis\": {\"endlinecolor\": \"#2a3f5f\", \"gridcolor\": \"white\", \"linecolor\": \"white\", \"minorgridcolor\": \"white\", \"startlinecolor\": \"#2a3f5f\"}, \"type\": \"carpet\"}], \"choropleth\": [{\"colorbar\": {\"outlinewidth\": 0, \"ticks\": \"\"}, \"type\": \"choropleth\"}], \"contour\": [{\"colorbar\": {\"outlinewidth\": 0, \"ticks\": \"\"}, \"colorscale\": [[0.0, \"#0d0887\"], [0.1111111111111111, \"#46039f\"], [0.2222222222222222, \"#7201a8\"], [0.3333333333333333, \"#9c179e\"], [0.4444444444444444, \"#bd3786\"], [0.5555555555555556, \"#d8576b\"], [0.6666666666666666, \"#ed7953\"], [0.7777777777777778, \"#fb9f3a\"], [0.8888888888888888, \"#fdca26\"], [1.0, \"#f0f921\"]], \"type\": \"contour\"}], \"contourcarpet\": [{\"colorbar\": {\"outlinewidth\": 0, \"ticks\": \"\"}, \"type\": \"contourcarpet\"}], \"heatmap\": [{\"colorbar\": {\"outlinewidth\": 0, \"ticks\": \"\"}, \"colorscale\": [[0.0, \"#0d0887\"], [0.1111111111111111, \"#46039f\"], [0.2222222222222222, \"#7201a8\"], [0.3333333333333333, \"#9c179e\"], [0.4444444444444444, \"#bd3786\"], [0.5555555555555556, \"#d8576b\"], [0.6666666666666666, \"#ed7953\"], [0.7777777777777778, \"#fb9f3a\"], [0.8888888888888888, \"#fdca26\"], [1.0, \"#f0f921\"]], \"type\": \"heatmap\"}], \"heatmapgl\": [{\"colorbar\": {\"outlinewidth\": 0, \"ticks\": \"\"}, \"colorscale\": [[0.0, \"#0d0887\"], [0.1111111111111111, \"#46039f\"], [0.2222222222222222, \"#7201a8\"], [0.3333333333333333, \"#9c179e\"], [0.4444444444444444, \"#bd3786\"], [0.5555555555555556, \"#d8576b\"], [0.6666666666666666, \"#ed7953\"], [0.7777777777777778, \"#fb9f3a\"], [0.8888888888888888, \"#fdca26\"], [1.0, \"#f0f921\"]], \"type\": \"heatmapgl\"}], \"histogram\": [{\"marker\": {\"colorbar\": {\"outlinewidth\": 0, \"ticks\": \"\"}}, \"type\": \"histogram\"}], \"histogram2d\": [{\"colorbar\": {\"outlinewidth\": 0, \"ticks\": \"\"}, \"colorscale\": [[0.0, \"#0d0887\"], [0.1111111111111111, \"#46039f\"], [0.2222222222222222, \"#7201a8\"], [0.3333333333333333, \"#9c179e\"], [0.4444444444444444, \"#bd3786\"], [0.5555555555555556, \"#d8576b\"], [0.6666666666666666, \"#ed7953\"], [0.7777777777777778, \"#fb9f3a\"], [0.8888888888888888, \"#fdca26\"], [1.0, \"#f0f921\"]], \"type\": \"histogram2d\"}], \"histogram2dcontour\": [{\"colorbar\": {\"outlinewidth\": 0, \"ticks\": \"\"}, \"colorscale\": [[0.0, \"#0d0887\"], [0.1111111111111111, \"#46039f\"], [0.2222222222222222, \"#7201a8\"], [0.3333333333333333, \"#9c179e\"], [0.4444444444444444, \"#bd3786\"], [0.5555555555555556, \"#d8576b\"], [0.6666666666666666, \"#ed7953\"], [0.7777777777777778, \"#fb9f3a\"], [0.8888888888888888, \"#fdca26\"], [1.0, \"#f0f921\"]], \"type\": \"histogram2dcontour\"}], \"mesh3d\": [{\"colorbar\": {\"outlinewidth\": 0, \"ticks\": \"\"}, \"type\": \"mesh3d\"}], \"parcoords\": [{\"line\": {\"colorbar\": {\"outlinewidth\": 0, \"ticks\": \"\"}}, \"type\": \"parcoords\"}], \"pie\": [{\"automargin\": true, \"type\": \"pie\"}], \"scatter\": [{\"marker\": {\"colorbar\": {\"outlinewidth\": 0, \"ticks\": \"\"}}, \"type\": \"scatter\"}], \"scatter3d\": [{\"line\": {\"colorbar\": {\"outlinewidth\": 0, \"ticks\": \"\"}}, \"marker\": {\"colorbar\": {\"outlinewidth\": 0, \"ticks\": \"\"}}, \"type\": \"scatter3d\"}], \"scattercarpet\": [{\"marker\": {\"colorbar\": {\"outlinewidth\": 0, \"ticks\": \"\"}}, \"type\": \"scattercarpet\"}], \"scattergeo\": [{\"marker\": {\"colorbar\": {\"outlinewidth\": 0, \"ticks\": \"\"}}, \"type\": \"scattergeo\"}], \"scattergl\": [{\"marker\": {\"colorbar\": {\"outlinewidth\": 0, \"ticks\": \"\"}}, \"type\": \"scattergl\"}], \"scattermapbox\": [{\"marker\": {\"colorbar\": {\"outlinewidth\": 0, \"ticks\": \"\"}}, \"type\": \"scattermapbox\"}], \"scatterpolar\": [{\"marker\": {\"colorbar\": {\"outlinewidth\": 0, \"ticks\": \"\"}}, \"type\": \"scatterpolar\"}], \"scatterpolargl\": [{\"marker\": {\"colorbar\": {\"outlinewidth\": 0, \"ticks\": \"\"}}, \"type\": \"scatterpolargl\"}], \"scatterternary\": [{\"marker\": {\"colorbar\": {\"outlinewidth\": 0, \"ticks\": \"\"}}, \"type\": \"scatterternary\"}], \"surface\": [{\"colorbar\": {\"outlinewidth\": 0, \"ticks\": \"\"}, \"colorscale\": [[0.0, \"#0d0887\"], [0.1111111111111111, \"#46039f\"], [0.2222222222222222, \"#7201a8\"], [0.3333333333333333, \"#9c179e\"], [0.4444444444444444, \"#bd3786\"], [0.5555555555555556, \"#d8576b\"], [0.6666666666666666, \"#ed7953\"], [0.7777777777777778, \"#fb9f3a\"], [0.8888888888888888, \"#fdca26\"], [1.0, \"#f0f921\"]], \"type\": \"surface\"}], \"table\": [{\"cells\": {\"fill\": {\"color\": \"#EBF0F8\"}, \"line\": {\"color\": \"white\"}}, \"header\": {\"fill\": {\"color\": \"#C8D4E3\"}, \"line\": {\"color\": \"white\"}}, \"type\": \"table\"}]}, \"layout\": {\"annotationdefaults\": {\"arrowcolor\": \"#2a3f5f\", \"arrowhead\": 0, \"arrowwidth\": 1}, \"coloraxis\": {\"colorbar\": {\"outlinewidth\": 0, \"ticks\": \"\"}}, \"colorscale\": {\"diverging\": [[0, \"#8e0152\"], [0.1, \"#c51b7d\"], [0.2, \"#de77ae\"], [0.3, \"#f1b6da\"], [0.4, \"#fde0ef\"], [0.5, \"#f7f7f7\"], [0.6, \"#e6f5d0\"], [0.7, \"#b8e186\"], [0.8, \"#7fbc41\"], [0.9, \"#4d9221\"], [1, \"#276419\"]], \"sequential\": [[0.0, \"#0d0887\"], [0.1111111111111111, \"#46039f\"], [0.2222222222222222, \"#7201a8\"], [0.3333333333333333, \"#9c179e\"], [0.4444444444444444, \"#bd3786\"], [0.5555555555555556, \"#d8576b\"], [0.6666666666666666, \"#ed7953\"], [0.7777777777777778, \"#fb9f3a\"], [0.8888888888888888, \"#fdca26\"], [1.0, \"#f0f921\"]], \"sequentialminus\": [[0.0, \"#0d0887\"], [0.1111111111111111, \"#46039f\"], [0.2222222222222222, \"#7201a8\"], [0.3333333333333333, \"#9c179e\"], [0.4444444444444444, \"#bd3786\"], [0.5555555555555556, \"#d8576b\"], [0.6666666666666666, \"#ed7953\"], [0.7777777777777778, \"#fb9f3a\"], [0.8888888888888888, \"#fdca26\"], [1.0, \"#f0f921\"]]}, \"colorway\": [\"#636efa\", \"#EF553B\", \"#00cc96\", \"#ab63fa\", \"#FFA15A\", \"#19d3f3\", \"#FF6692\", \"#B6E880\", \"#FF97FF\", \"#FECB52\"], \"font\": {\"color\": \"#2a3f5f\"}, \"geo\": {\"bgcolor\": \"white\", \"lakecolor\": \"white\", \"landcolor\": \"#E5ECF6\", \"showlakes\": true, \"showland\": true, \"subunitcolor\": \"white\"}, \"hoverlabel\": {\"align\": \"left\"}, \"hovermode\": \"closest\", \"mapbox\": {\"style\": \"light\"}, \"paper_bgcolor\": \"white\", \"plot_bgcolor\": \"#E5ECF6\", \"polar\": {\"angularaxis\": {\"gridcolor\": \"white\", \"linecolor\": \"white\", \"ticks\": \"\"}, \"bgcolor\": \"#E5ECF6\", \"radialaxis\": {\"gridcolor\": \"white\", \"linecolor\": \"white\", \"ticks\": \"\"}}, \"scene\": {\"xaxis\": {\"backgroundcolor\": \"#E5ECF6\", \"gridcolor\": \"white\", \"gridwidth\": 2, \"linecolor\": \"white\", \"showbackground\": true, \"ticks\": \"\", \"zerolinecolor\": \"white\"}, \"yaxis\": {\"backgroundcolor\": \"#E5ECF6\", \"gridcolor\": \"white\", \"gridwidth\": 2, \"linecolor\": \"white\", \"showbackground\": true, \"ticks\": \"\", \"zerolinecolor\": \"white\"}, \"zaxis\": {\"backgroundcolor\": \"#E5ECF6\", \"gridcolor\": \"white\", \"gridwidth\": 2, \"linecolor\": \"white\", \"showbackground\": true, \"ticks\": \"\", \"zerolinecolor\": \"white\"}}, \"shapedefaults\": {\"line\": {\"color\": \"#2a3f5f\"}}, \"ternary\": {\"aaxis\": {\"gridcolor\": \"white\", \"linecolor\": \"white\", \"ticks\": \"\"}, \"baxis\": {\"gridcolor\": \"white\", \"linecolor\": \"white\", \"ticks\": \"\"}, \"bgcolor\": \"#E5ECF6\", \"caxis\": {\"gridcolor\": \"white\", \"linecolor\": \"white\", \"ticks\": \"\"}}, \"title\": {\"x\": 0.05}, \"xaxis\": {\"automargin\": true, \"gridcolor\": \"white\", \"linecolor\": \"white\", \"ticks\": \"\", \"title\": {\"standoff\": 15}, \"zerolinecolor\": \"white\", \"zerolinewidth\": 2}, \"yaxis\": {\"automargin\": true, \"gridcolor\": \"white\", \"linecolor\": \"white\", \"ticks\": \"\", \"title\": {\"standoff\": 15}, \"zerolinecolor\": \"white\", \"zerolinewidth\": 2}}}, \"xaxis\": {\"title\": {\"text\": \"time (s)\"}}, \"yaxis\": {\"title\": {\"text\": \"amp\"}}},\n",
       "                        {\"responsive\": true}\n",
       "                    ).then(function(){\n",
       "                            \n",
       "var gd = document.getElementById('44b61527-964b-4d9c-9815-60d9d0da4182');\n",
       "var x = new MutationObserver(function (mutations, observer) {{\n",
       "        var display = window.getComputedStyle(gd).display;\n",
       "        if (!display || display === 'none') {{\n",
       "            console.log([gd, 'removed!']);\n",
       "            Plotly.purge(gd);\n",
       "            observer.disconnect();\n",
       "        }}\n",
       "}});\n",
       "\n",
       "// Listen for the removal of the full notebook cells\n",
       "var notebookContainer = gd.closest('#notebook-container');\n",
       "if (notebookContainer) {{\n",
       "    x.observe(notebookContainer, {childList: true});\n",
       "}}\n",
       "\n",
       "// Listen for the clearing of the current output cell\n",
       "var outputEl = gd.closest('.output');\n",
       "if (outputEl) {{\n",
       "    x.observe(outputEl, {childList: true});\n",
       "}}\n",
       "\n",
       "                        })\n",
       "                };\n",
       "                });\n",
       "            </script>\n",
       "        </div>"
      ]
     },
     "metadata": {},
     "output_type": "display_data"
    }
   ],
   "source": [
    "sys_list = [K*Fz,Cz*Fz,Cz2*Fz]\n",
    "\n",
    "fig = figure(\"time\")\n",
    "for sys in sys_list:\n",
    "    H = feedback(sys,1)\n",
    "    fig.plot(H)\n",
    "\n",
    "fig.show()"
   ]
  },
  {
   "cell_type": "code",
   "execution_count": null,
   "metadata": {},
   "outputs": [],
   "source": []
  }
 ],
 "metadata": {
  "kernelspec": {
   "display_name": "Python 3",
   "language": "python",
   "name": "python3"
  },
  "language_info": {
   "codemirror_mode": {
    "name": "ipython",
    "version": 3
   },
   "file_extension": ".py",
   "mimetype": "text/x-python",
   "name": "python",
   "nbconvert_exporter": "python",
   "pygments_lexer": "ipython3",
   "version": "3.7.3"
  }
 },
 "nbformat": 4,
 "nbformat_minor": 2
}
