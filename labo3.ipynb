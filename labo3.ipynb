{
 "cells": [
  {
   "cell_type": "markdown",
   "metadata": {},
   "source": [
    "<img style=\"float: right;width: 100px\" src=\"https://www.enib.fr/images/logo-enib-accueil.jpg\">\n",
    "\n",
    "<div>\n",
    "    <p><h3>ASN (S6)</h3></p>\n",
    "    <p>Année 2020</p>\n",
    "    <p><em>{{Nom}} {{Prénom}}</em></p>\n",
    "</div>\n",
    "\n",
    "<div style=\"text-align: center;padding-bottom:20px;padding-top:10px\"><h1>Asservissements Numériques</h1>\n",
    "    <h2>Labo 3 : Comportements des Systèmes échantillonnés du 1ier et 2ieme ordre</h2>\n",
    "</div>    "
   ]
  },
  {
   "cell_type": "code",
   "execution_count": 13,
   "metadata": {},
   "outputs": [],
   "source": [
    "import numpy as np\n",
    "from control import tf, c2d, feedback\n",
    "from ENIB_control import step, impulse, nichols, rlocus, damp, pole, stepinfo"
   ]
  },
  {
   "cell_type": "markdown",
   "metadata": {},
   "source": [
    "## 1. But de l'étude\n",
    "\n",
    "Le comportement des systèmes continus (analogiques) simples (1er et 2ème ordre) est bien connu : que devient-il lorsque la commande est du type échantillonné ? Cette étude concerne l'analyse de l'asservissement numérique de processus continus du 1er et du 2nd ordre. Il s'agit d'un travail de simulation en utilisant la librairie `python-control`\n",
    "\n",
    "Ce TP comporte deux parties :\n",
    "* une introduction aux fonctions de transfert numériques sous la forme d'une préparation théorique à effectuer avant le TP.\n",
    "* une validation des résultats théoriques par simulation sur un Jupyter Notebook (3 h)."
   ]
  },
  {
   "cell_type": "markdown",
   "metadata": {},
   "source": [
    "## 2. Préparation\n",
    "\n",
    "### 2.1 Rappel de cours\n",
    "\n",
    "Un asservissement numérique est généralement un système hybride, composé d'un processus analogique dont on souhaite contrôler la sortie $s(t)$ et d'un système de commande de type numérique (PC, carte microcontrôleur,...) dont le rôle est de synthétiser la commande du processus analogique. La figure 1 suivante présente le schéma typique d'un asservissement numérique.\n",
    "\n",
    "<figure style=\"padding:30px\">\n",
    "  <img src=\"./img/labo3_1.png\" style=\"width: 600px\" />\n",
    "  <figcaption style=\"text-align:center\">Fig.1 - Asservissement numérique.</figcaption>\n",
    "</figure>\n",
    "\n",
    "Des éléments de conversion analogique-numérique (CAN) et numérique-analogique (CNA) sont nécessaires pour passer d'un domaine à un autre. Les systèmes hybrides mélangeant du numérique et de l'analogique sont généralement traités par les fonctions de transfert discrètes (Transformée en $Z$). Il est donc nécessaire d'une part, de connaître la fonction de transfert discrète équivalente à une fonction de transfert continue et d'autre part, de prendre en compte l'effet des CNA ou CAN.\n",
    "* Le convertisseur CAN réel est modélisé par un échantillonneur idéal suivi d'un gain de conversion.\n",
    "* Le convertisseur CNA réel est modélisé par un bloqueur d'ordre zéro (BOZ) suivi d'un gain de conversion.\n",
    "\n",
    "<figure style=\"padding:30px\">\n",
    "  <img src=\"./img/labo3_2.png\" style=\"width: 800px\" />\n",
    "  <figcaption style=\"text-align:center\">Fig.2 - Modélisation d'un CAN réel et d'un CNA réel.</figcaption>\n",
    "</figure>\n",
    "\n",
    "Dans ces schémas le signal numérique N(t) est assimilé à un signal échantillonné. Les signaux numériques sont traités comme des signaux échantillonnés. On néglige l'étape de quantification. Dans le cours, il est démontré que le passage d'une fonction de transfert continue à une fonction de transfert discrète en tenant compte du CAN muni d'un BOZ est donné par la relation suivante :\n",
    "\n",
    "<figure style=\"padding:30px\">\n",
    "  <img src=\"./img/labo3_3.svg\" style=\"width: 500px\" />\n",
    "</figure>\n",
    "\n",
    "$$F(z)=\\frac{z-1}{z}TZ\\left[TL^{-1}\\left(\\frac{F(p)}{p}\\right)\\right]$$"
   ]
  },
  {
   "cell_type": "markdown",
   "metadata": {},
   "source": [
    "### 2.2 Étude d'un système du 1er ordre\n",
    "\n",
    "On considère un système du premier ordre continu incorporé dans une boucle avec échantillonnage et bloqueur d'ordre 0 (BOZ). \n",
    "\n",
    "<figure style=\"padding:30px\">\n",
    "  <img src=\"./img/labo3_4.svg\" style=\"width: 500px\" />\n",
    "   <figcaption style=\"text-align:center\">Fig.3 - Système en boucle fermée.</figcaption>\n",
    "</figure>\n",
    "\n",
    "La période d'échantillonnage est fixée à $T_e=10$ ms et la fonction de transfert du système continu est égal à \n",
    "\n",
    "$$F(p)=\\frac{K}{1+0.1p}$$"
   ]
  },
  {
   "cell_type": "markdown",
   "metadata": {},
   "source": [
    "#### Question a)\n",
    "\n",
    "Calculez la fonction de transfert en boucle ouverte $F(z) = S(z)/\\epsilon(z)$ en utilisant la relation vue dans la partie 2.1."
   ]
  },
  {
   "cell_type": "markdown",
   "metadata": {},
   "source": []
  },
  {
   "cell_type": "markdown",
   "metadata": {},
   "source": [
    "#### Question b)\n",
    "\n",
    "Donnez la plage de valeurs admissibles pour $K$ assurant la stabilité de l'asservissement. **On rappelle qu’un système échantillonné est stable si le module de tous ses pôles est inférieur à l’unité.**"
   ]
  },
  {
   "cell_type": "markdown",
   "metadata": {},
   "source": []
  },
  {
   "cell_type": "markdown",
   "metadata": {},
   "source": [
    "#### Question c) \n",
    "\n",
    "En boucle fermée et pour $K=1$ :\n",
    "* Écrivez l'équation de récurrence liant les échantillons successifs de $s[n]$ et de $e[n]$; déduisez en $s[n]$, valeur de la sortie à l'instant $t = n T_e$. En supposant $s[0]=0$ et une entrée de type échelon unitaire ($e[n] = 1$ si $n\\ge  0$).\n",
    "* Calculez quelques valeurs numériques.\n",
    "* Calculez également la valeur finale de $s[n]$ pour $n\\to \\infty$."
   ]
  },
  {
   "cell_type": "markdown",
   "metadata": {},
   "source": []
  },
  {
   "cell_type": "markdown",
   "metadata": {},
   "source": [
    "#### Question d):  Analyse fréquentielle de la F.T. échantillonnée\n",
    "\n",
    "La réponse fréquentielle est obtenue en étudiant le gain et la phase de la fonction complexe $F(j\\omega)$ correspondant à $F(z)$ où on remplace $z$ par $e^{j\\omega T_e}$ ($\\omega$ pulsation réelle du signal d'entrée). Pour respecter le théorème de Shannon, on s'intéresse uniquement à la courbe de réponse résultant de la variation de $0$ à $\\omega_e/2$ (la fréquence varie de $0$ à $F_e/2$).\n",
    "* Donnez les expressions du module et de la phase de $F(z)$ en posant $z =e^{j\\omega T_e}$."
   ]
  },
  {
   "cell_type": "markdown",
   "metadata": {},
   "source": []
  },
  {
   "cell_type": "markdown",
   "metadata": {},
   "source": [
    "### 2.3 Étude d'un système du 2nd ordre\n",
    "\n",
    "Soit un système continu du 2ème ordre tel que :\n",
    "\n",
    "$$F(p)=\\frac{5}{1+0.08p+0.01p^2}$$\n",
    "\n",
    "Ce système est commandé par un dispositif échantillonneur bloqueur (BOZ) à la cadence $T_e = 0.15$s."
   ]
  },
  {
   "cell_type": "markdown",
   "metadata": {},
   "source": [
    "#### Question a) \n",
    "\n",
    "Exprimez les pôles de $F(p)$ sous la forme $a+jb$."
   ]
  },
  {
   "cell_type": "markdown",
   "metadata": {},
   "source": []
  },
  {
   "cell_type": "markdown",
   "metadata": {},
   "source": [
    "#### Question b) \n",
    "\n",
    "Déduisez-en les pôles de $F(z)$ sachant que $z = e^{T_e p}$ (faire les calculs numériques)."
   ]
  },
  {
   "cell_type": "markdown",
   "metadata": {},
   "source": []
  },
  {
   "cell_type": "markdown",
   "metadata": {},
   "source": [
    "#### Question c) \n",
    "\n",
    "Déterminez le temps de réponse prévisible de la sortie échantillonnée lorsque l'entrée est un échelon unité."
   ]
  },
  {
   "cell_type": "markdown",
   "metadata": {},
   "source": []
  },
  {
   "cell_type": "markdown",
   "metadata": {},
   "source": [
    "## 3. Validation des résultats établis sur le 1er ordre\n",
    "\n",
    "La validation des résultats établis en préparation se fera via le package `python-control`. L'ensemble des fonctions nécessaires et leur syntaxe sont décrits dans la documentation du package. La fonction de transfert analysée est celle de la partie §2.2.\n",
    "\n"
   ]
  },
  {
   "cell_type": "markdown",
   "metadata": {},
   "source": [
    "### 3.1 FT échantillonnée $F(z)$ avec BOZ\n",
    "\n",
    "> Le package `python control`permet de calculer directement la FT discrète à partir de la FT continue avec la commande `c2d` avec ou sans bloqueur suivant les options choisies (voir [doc](https://python-control.readthedocs.io/en/0.8.3/generated/control.matlab.c2d.html) ). La fonction de transfert discrète du dispositif avec bloqueur à $T_e = 10$ ms se calcule par : `fz = c2d(f, 0.01, 'zoh')` ou `fz = c2d(f, 0.01)`.\n",
    "\n",
    "\n",
    "\n",
    "* Saisissez la fonction de transfert continue $F(p)$ : `f = tf(K, [0.1,1])`  avec $K=1$.\n",
    "* Calculez la FT échantillonnée $F(z)$ correspondant au système avec BOZ en utilisant la commande `c2d`. \n",
    "* Validez les résultats trouvés dans la préparation.\n",
    "* Vérifiez les informations concernant les FTBO $F(z)$ et $F(p)$."
   ]
  },
  {
   "cell_type": "code",
   "execution_count": null,
   "metadata": {},
   "outputs": [],
   "source": []
  },
  {
   "cell_type": "markdown",
   "metadata": {},
   "source": [
    "### 3.2 Réponses indicielles\n",
    "\n",
    "* Tracez sur le même graphique les réponses indicielles de $F(p)$ et $F(z)$.\n",
    "* Déterminez les caractéristiques principales des réponses indicielles. Utilisez la fonction `stepinfo` pour la réponse à un échelon et la fonction `damp` pour le calcul de l'amortissement. Expliquez la forme en \"escalier\" de la réponse de $F(z)$.\n",
    "* Comparez aux performances prévisibles déterminées à partir des propriétés connues des FT."
   ]
  },
  {
   "cell_type": "code",
   "execution_count": null,
   "metadata": {},
   "outputs": [],
   "source": []
  },
  {
   "cell_type": "markdown",
   "metadata": {},
   "source": [
    "### 3.3 Fonction de transfert en boucle fermée\n",
    "\n",
    "* Déterminez la FTBF $H(z)$ (fonction `feedback`) pour un retour unitaire et pour $K=1$. \n",
    "* Simulez la réponse en boucle fermée à un échelon. Vérifiez les valeurs établies dans la partie §2.2."
   ]
  },
  {
   "cell_type": "code",
   "execution_count": null,
   "metadata": {},
   "outputs": [],
   "source": []
  },
  {
   "cell_type": "markdown",
   "metadata": {},
   "source": [
    "### 3.4  Analyse fréquentielle de la F.T. échantillonnée\n",
    "\n",
    "La réponse fréquentielle est obtenue en étudiant le gain et la phase de la fonction complexe $F(j\\omega)$ correspondant à $F(z)$ où on remplace $z$ par $e^{j\\omega Te}$ ($\\omega$ pulsation réelle du signal d'entrée). On s'intéresse uniquement à la courbe de réponse résultant de la variation de $0$ à $\\omega_e/2$ (la fréquence varie de $0$ à $Fe/2$). La réponse fréquentielle sera visualisée à l'aide du diagramme de Black. \n",
    "\n",
    "* Tracez le lieu de Black avec la commande `nichols`.\n",
    "* Comparez aux résultats obtenus dans la préparation pour $\\omega=0$ et $\\omega =\\omega_e/2$. \n",
    "* Retrouvez la condition de stabilité (méthode graphique).\n",
    "* Déterminez les marges de gain et de phase à partir du plan de Black Nichols."
   ]
  },
  {
   "cell_type": "code",
   "execution_count": null,
   "metadata": {},
   "outputs": [],
   "source": []
  },
  {
   "cell_type": "markdown",
   "metadata": {},
   "source": [
    "Créez des nouvelles FTBO `fz*5` et `fz*15`. Pour les gains`$K=5$ et $K=15$ : \n",
    "\n",
    "* tracez le lieu de Black des différentes FT sur une même courbe\n",
    "* déterminez les marges de gain et de phase,\n",
    "* déterminez le facteur de résonance de la FTBF."
   ]
  },
  {
   "cell_type": "code",
   "execution_count": null,
   "metadata": {},
   "outputs": [],
   "source": []
  },
  {
   "cell_type": "markdown",
   "metadata": {},
   "source": [
    "### 3.5 Transitoire associé à un pôle réel\n",
    "\n",
    "<div class='alert alert-info'>\n",
    "Les abaques de second ordre sont disponibles à l'adresse : <a href=\"https://vincentchoqueuse.github.io/web_app_2nd_order_performances/index.html\">https://vincentchoqueuse.github.io/web_app_2nd_order_performances/index.html</a>\n",
    "</div>\n",
    "\n",
    "Le mode transitoire d’un système continu est oscillant s’il possède des pôles complexes. Par contre pour un système échantillonné, même un pôle réel peut donner lieu à un mode transitoire oscillant.\n",
    "\n",
    "Pour les gains $K= 5$ et $K = 15$ :\n",
    "* calculez, le pôle de la FTBF\n",
    "* simulez la réponse du système bouclé à un échelon.\n",
    "* en reprenant les résultats de l’analyse fréquentielle (3.4), retrouvez les valeurs de dépassements $D\\%$."
   ]
  },
  {
   "cell_type": "code",
   "execution_count": null,
   "metadata": {},
   "outputs": [],
   "source": [
    "  "
   ]
  },
  {
   "cell_type": "markdown",
   "metadata": {},
   "source": [
    "> La fonction `damp` de la librairie `ENIB_control` donne l’amortissement équivalent des pôles d’une fonction de transfert."
   ]
  },
  {
   "cell_type": "markdown",
   "metadata": {},
   "source": [
    "\n",
    "* Déterminez l’amortissement des 3 FTBF.\n",
    "* Tracez dans le plan complexe les pôles de $H(z) = K.F(z)/ (1+K.F(z))$ à l'aide de la commande commandes `rlocus(fz)`. Les pôles de $H(z)$ sont représentés pour $K$ variant de $0$ à l'infini. Retrouvez les pôles de $H(z)$ pour les gains $K = 1$, $K= 5$ et $K = 15$\n",
    "* Retrouvez les valeurs admissibles de $K$ assurant la stabilité de l'asservissement trouvés dans la préparation. (Proposez une méthode pour les valeurs négatives de $K$.)\n",
    "* Expliquez le mode oscillant."
   ]
  },
  {
   "cell_type": "code",
   "execution_count": null,
   "metadata": {},
   "outputs": [],
   "source": []
  },
  {
   "cell_type": "markdown",
   "metadata": {},
   "source": [
    "### 3.6 Synthèse d'un correcteur proportionnel par placement des pôles\n",
    "\n",
    "L'objectif est ici de déterminer le gain $K$ à ajouter dans la boucle ouverte pour obtenir un amortissement en boucle fermée de $m = 0.45$ en travaillant directement dans le plan complexe (`rlocus`).\n",
    "\n",
    "* Déterminer la valeur de $K$ via la fonction `rlocus`.\n",
    "* Vérifiez que vous obtenez le même résultat en travaillant dans le plan de Black-Nichols.\n",
    "* Calculez avec Python, $H(z)$, la fonction de transfert du système bouclée et corrigée avec le gain $K$ ainsi trouvé : `h=feedback(K*f,1)`\n",
    "* Tracez la réponse indicielle de $H(z)$. Déterminez les caractéristiques de cette réponse ($tr$, $D\\%$, $m$, $s[\\infty]$)."
   ]
  },
  {
   "cell_type": "code",
   "execution_count": null,
   "metadata": {},
   "outputs": [],
   "source": []
  },
  {
   "cell_type": "markdown",
   "metadata": {},
   "source": [
    "## 4. Étude d'un système du 2nd ordre\n",
    "\n",
    "Soit le système continu du 2ème ordre tel que :\n",
    "$$F(p)=\\frac{5}{1+0.08p+0,01p^2}$$\n",
    "\n",
    "Ce système est commandé par un dispositif échantillonneur bloqueur (BOZ) à la cadence $T_e = 0.15$s.\n"
   ]
  },
  {
   "cell_type": "markdown",
   "metadata": {},
   "source": [
    "### 4.1 Analyse de la fonction de transfert.\n",
    "\n",
    "* Déterminez les pôles de $F(p)$ en utilisant l'instruction `pole`.\n",
    "* Calculez la FTBO $F(z)$ de l'ensemble système + BOZ. (`c2d`) Notez la présence d'un \"zéro\"."
   ]
  },
  {
   "cell_type": "code",
   "execution_count": null,
   "metadata": {},
   "outputs": [],
   "source": []
  },
  {
   "cell_type": "markdown",
   "metadata": {},
   "source": [
    "### 4.2 Stabilité\n",
    "\n",
    "Ce système, bouclé par un retour unitaire, sera-t-il stable ?"
   ]
  },
  {
   "cell_type": "markdown",
   "metadata": {},
   "source": []
  },
  {
   "cell_type": "markdown",
   "metadata": {},
   "source": [
    "### 4.3 Réponse indicielle en BO\n",
    "\n",
    "Connaissant les paramètres du système continu (amortissement $m$ et pulsation libre $\\omega_n$) on peut prévoir l'allure de la réponse transitoire dans le cas d'une commande continue.\n",
    "\n",
    "* Chiffrez, à partir des abaques, le premier dépassement relatif ($D\\%$) et le temps de réponse (à $\\pm 5\\%$ de la valeur finale).\n",
    "* Tracez la réponse indicielle échantillonnée et mesurez ses caractéristiques ; comparez les valeurs."
   ]
  },
  {
   "cell_type": "code",
   "execution_count": null,
   "metadata": {},
   "outputs": [],
   "source": []
  },
  {
   "cell_type": "markdown",
   "metadata": {},
   "source": [
    "### 4.4 Influence du \"zéro\"\n",
    "\n",
    "Un système continu, d'amortissement $m$ et de pulsation libre $\\omega_n$, commandé par un échantillonneur bloqueur, est décrit par une FT en $z$ caractérisée, à $T_e$ donnée, par:\n",
    "* des pôles liés à ceux de la FT continue\n",
    "* un \"zéro\", fonction de $m$, $\\omega_n$, $T_e$ appelé \"zéro\" optimal.\n",
    "\n",
    "On se pose la question suivante : à pôles donnés, quelle est l'influence du \"zéro\" sur le régime transitoire ? Ceci est important dans la mesure où, pour la synthèse de correcteurs, on se contente souvent de \"placer\" uniquement les pôles.\n",
    "\n",
    "* Saisissez deux nouvelles FT en $z$, de mêmes pôles que $F(z)$, mais dont on fixe le \"zéro\" à $+50\\%$, puis $-50\\%$ du \"zéro\" de $F(z)$. \n",
    "\n",
    "> Attention : veillez à conserver le même gain statique, c'est à dire même valeur pour $F(z)$ avec $z=1$.\n",
    "\n",
    "* Simulez la réponse à un échelon (BO). Conclusion.\n",
    "* Simulez la réponse à un échelon en changeant simplement le signe du \"zéro\" optimal.\n",
    "* Donnez pour l'ensemble des FT l'amortissement équivalent d'un second ordre continu (aidez vous des abaques) et le temps de réponse à $\\pm 5\\%$ de la valeur finale."
   ]
  },
  {
   "cell_type": "code",
   "execution_count": null,
   "metadata": {},
   "outputs": [],
   "source": []
  }
 ],
 "metadata": {
  "kernelspec": {
   "display_name": "Python 3",
   "language": "python",
   "name": "python3"
  },
  "language_info": {
   "codemirror_mode": {
    "name": "ipython",
    "version": 3
   },
   "file_extension": ".py",
   "mimetype": "text/x-python",
   "name": "python",
   "nbconvert_exporter": "python",
   "pygments_lexer": "ipython3",
   "version": "3.7.3"
  }
 },
 "nbformat": 4,
 "nbformat_minor": 2
}
