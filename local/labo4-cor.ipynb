{
 "cells": [
  {
   "cell_type": "markdown",
   "metadata": {},
   "source": [
    "<img style=\"float: right;width: 100px\" src=\"https://www.enib.fr/images/logo-enib-accueil.jpg\">\n",
    "\n",
    "<div>\n",
    "    <p><h3>ASN (S6)</h3></p>\n",
    "    <p>Année 2020</p>\n",
    "    <p><em>{{Nom}} {{Prénom}}</em></p>\n",
    "</div>\n",
    "\n",
    "<div style=\"text-align: center;padding-bottom:20px;padding-top:10px\"><h1>Asservissements Numériques</h1>\n",
    "    <h2>Labo 4 : Simulation d'une Régulation de Température</h2>\n",
    "</div>    "
   ]
  },
  {
   "cell_type": "code",
   "execution_count": null,
   "metadata": {},
   "outputs": [],
   "source": [
    "import numpy as np\n",
    "import json\n",
    "import plotly\n",
    "import matplotlib.pyplot as plt\n",
    "from control import tf, c2d, feedback, bode\n",
    "from ENIB_control import step, impulse, nichols, rlocus, damp, pole, stepinfo, figure"
   ]
  },
  {
   "cell_type": "markdown",
   "metadata": {},
   "source": [
    "## 1. But de l'étude\n",
    "\n",
    "On se propose d'étudier la commande d'un four selon des contraintes de réponse en poursuite et en régulation. La synthèse d'un correcteur de type Proportionnel Intégral (PI) sera basée sur un modèle linéaire du système physique autour d'un point de fonctionnement ; dans le but de valider l'étude, une simulation sera effectuée dans l'environnement `jupyter notebook`."
   ]
  },
  {
   "cell_type": "markdown",
   "metadata": {},
   "source": [
    "## 2. Description du Système\n",
    "\n",
    "La température $\\theta(t)$ d'un four électrique est commandée en agissant sur la tension d'alimentation $V_1(t)$ d'une résistance chauffante $R$.\n",
    "La puissance fournie, $P(t) = V_1^2(t)/R$, provoque l'échauffement de la résistance et de l'air dans le four selon les lois de la thermodynamique (capacité calorifique, échanges par conduction, rayonnement et convection). La figure 1 représente le bloc-diagramme du dispositif constitué des éléments suivants :\n",
    "\n",
    "\n",
    "<figure style=\"padding:30px\">\n",
    "    <img src=\"./img/labo4_1.svg\" style=\"padding:20px\" />\n",
    "    <figcaption style=\"text-align:center\">Fig.1 - Système.</figcaption>\n",
    "</figure>\n",
    "\n",
    "\n",
    "### Amplificateur de puissance :\n",
    "\n",
    "* Gain $A=20$; dynamique négligeable (temps de réponse très faible).\n",
    "\n",
    "### Fonction de transfert de l'élément chauffant :\n",
    "\n",
    "* Le gain $K_1$ (Watts/Volt) est obtenu en linéarisant l'expression de $P(t)$ au voisinage du point de fonctionnement $V_1 = 110$ V ; par ailleurs $R=10\\Omega$ (une linéarisation correspond à une dérivation autour du point de fonctionnement).\n",
    "* La constante de temps $\\tau_1 = 10$ s.\n",
    "\n",
    "###  Fonction de transfert de l'enceinte thermique (le four) : \n",
    "\n",
    "* Gain $K_2$ (Degrés/Watt) = $6.10^{-2}°/W$.\n",
    "* Constante de temps $\\tau_2= 60$s.\n",
    "\n",
    "###   Sonde de température :\n",
    "\n",
    "- Sonde de type thermocouple associée à une électronique de traitement analogique : échelle 0-10 V pour $\\theta(t)$ variant de $0$ à $300^o$C ; temps de réponse négligeable."
   ]
  },
  {
   "cell_type": "code",
   "execution_count": null,
   "metadata": {},
   "outputs": [],
   "source": [
    "A = 20\n",
    "R = 10\n",
    "tau1 = 10\n",
    "K2 = 0.06\n",
    "tau2 = 60\n",
    "K3 = 10/300\n",
    "\n",
    "V1= np.arange(0,200)\n",
    "P = V1**2/R\n",
    "\n",
    "# approximation au voisinage de V1\n",
    "V1_app = 110\n",
    "K1 = 2*V1_app/R\n",
    "tau1 = 10\n",
    "b = (V1_app**2)/R-K1*V1_app\n",
    "print(b)\n",
    "P2 = K1*V1+b\n",
    "\n",
    "plt.plot(V1,V1**2/R,label=\"P(t)\")\n",
    "plt.plot(V1,P2,label=\"linearisation\");\n",
    "plt.xlabel(\"V1\")\n",
    "plt.ylabel(\"P(V1)\")\n",
    "plt.legend()\n",
    "F1 = tf([K1],[tau1,1])\n",
    "F2 = tf([K2],[tau2,1])\n",
    "\n",
    "print('A={}'.format(A))\n",
    "print('F1: {}'.format(F1))\n",
    "print('F2: {}'.format(F2))\n",
    "print('K3: {}'.format(K3))"
   ]
  },
  {
   "cell_type": "markdown",
   "metadata": {},
   "source": [
    "## 3. Préparation\n",
    "\n",
    "On veut commander ce système à l'aide d'un correcteur PI conformément au diagramme de la figure 2 :\n",
    "\n",
    "<figure style=\"padding:30px\">\n",
    "  <img src=\"./img/labo4_2.svg\" style=\"padding:20px\" />\n",
    "   <figcaption style=\"text-align:center\">Fig.2 - Système en boucle fermée.</figcaption>\n",
    "</figure>\n",
    "\n",
    "\n",
    "* La période d'échantillonnage choisie vaut $Te=4$ s.\n",
    "* Les gains de conversion A-N et N-A se compensent ($G_1.G_2=1$).\n"
   ]
  },
  {
   "cell_type": "markdown",
   "metadata": {},
   "source": [
    "### 3.1 Fonction de transfert du système à asservir\n",
    "\n",
    "* **Question** Déterminez la fonction de transfert $F(p)$ de l'ensemble à asservir (amplificateur-résistance- four-sonde). (Ecrire l'expression littérale et faire l'application numérique).\n",
    "* **Question** Déterminez théoriquement la fonction de transfert discrète équivalente $F(z)$, avec BOZ, pour une période d'échantillonnage de $T_e=4$s."
   ]
  },
  {
   "cell_type": "markdown",
   "metadata": {},
   "source": []
  },
  {
   "cell_type": "code",
   "execution_count": null,
   "metadata": {},
   "outputs": [],
   "source": [
    "Fp = A*F1*F2*K3\n",
    "print(Fp)"
   ]
  },
  {
   "cell_type": "code",
   "execution_count": null,
   "metadata": {},
   "outputs": [],
   "source": [
    "Fz = c2d(Fp,Ts=4)\n",
    "print(Fz)"
   ]
  },
  {
   "cell_type": "markdown",
   "metadata": {},
   "source": [
    "### 3.2 Définition du cahier des charges : $H_m(z)$\n",
    "\n",
    "On cherche à obtenir pour le système corrigé et bouclé $H(z)$ une fonction de transfert équivalente à un modèle du 2nd ordre appelé $H_m(z)$. On impose le cahier des charges suivant.\n",
    "\n",
    "<div class=\"alert alert-info\">\n",
    "<b>Fonction de transfert modèle $H_m(z)$: </b> \n",
    "    <ul>\n",
    "        <li>Erreur statique nulle (gain statique $H_m(z)$ égal à 1)</li>\n",
    "        <li>Dépassement relatif de $D=15\\%$ sur la réponse indicielle.</li>\n",
    "    </ul>\n",
    "</div>\n",
    "\n",
    "* **Question** Déterminez le facteur d'amortissement $m$ et le facteur de résonance $M$ en dB pour ce modèle $H_m(z)$."
   ]
  },
  {
   "cell_type": "code",
   "execution_count": null,
   "metadata": {},
   "outputs": [],
   "source": [
    "m = 0.52\n",
    "M = 1"
   ]
  },
  {
   "cell_type": "markdown",
   "metadata": {},
   "source": [
    "### 3.3 Expressions des fonctions de transfert sortie, commande et erreur\n",
    "\n",
    "Pour visualiser les signaux de sortie $s[n]$, de commande $u_c[n]$ et d'erreur $\\epsilon[n]$ pour un signal d'entrée donné $e[n]$, il est nécessaire de déterminez les fonctions de transfert suivantes :\n",
    "\n",
    "\\begin{align}\n",
    "H(z)&=\\frac{S(z)}{E(z)}\\\\\n",
    "cmd(z)&=\\frac{U_c(z)}{E(z)}\\\\\n",
    "err(z)&=\\frac{\\epsilon(z)}{E(z)}\n",
    "\\end{align}\n",
    "\n",
    "* **Question** Déterminez en fonction de $C(z)$ et $F(z)$ (pas d'applications numériques) \n",
    "\n",
    "   * l'expression de la fonction de transfert en boucle fermée : $H(z)$,\n",
    "   * l'expression du rapport $err(z)$ où $\\epsilon(z)$ désigne signal d'erreur,\n",
    "   * l'expression du rapport $cmd(z)$ où $U_c(z)$ désigne le signal de commande."
   ]
  },
  {
   "cell_type": "markdown",
   "metadata": {},
   "source": [
    "\\begin{align}\n",
    "H(z)&=\\frac{S(z)}{E(z)}=\\frac{C(z)F(z)}{1+C(z)F(z)}\\\\\n",
    "cmd(z)&=\\frac{U_c(z)}{E(z)}=\\frac{U_c(z)}{S(z)}\\times \\frac{S(z)}{E(z)}=\\frac{H(z)}{F(z)}\\\\\n",
    "err(z)&=\\frac{\\epsilon(z)}{E(z)}=\\frac{E(z)-S(z)}{E(z)}=1-H(z)\n",
    "\\end{align}"
   ]
  },
  {
   "cell_type": "markdown",
   "metadata": {},
   "source": [
    "## 4. Analyse d'un correcteur Proportionnel Intégral\n",
    "\n",
    "Le correcteur série $C(z)$ sur la figure 2 doit apporter à $F(z)$ tout ce qui manque pour que la\n",
    "fonction de transfert corrigée $H(z)$ respecte le cahier des charges.\n",
    "\n",
    "Le correcteur proportionnel intégral est composé d'un gain et d'une intégration :\n",
    "* Action proportionnelle : apporte du gain sur toute la bande fréquentielle.\n",
    "* Action intégrale : apporte du gain sur les basses fréquences, donc de la précision sur\n",
    "la boucle fermée.\n",
    "\n",
    "Ces deux actions se retrouvent dans un correcteur PI analogique :\n",
    "\n",
    "$$C(p)=K_i\\left(1+\\frac{1}{T_ip}\\right)$$\n",
    "\n",
    "* $K_i$ : action proportionnelle,\n",
    "* $T_i$ : constante d'intégration,\n",
    "* $\\omega_c=\\frac{1}{T_i}$ : pulsation de coupure.\n",
    "\n",
    "La structure d'un correcteur PI numérique est identique à la structure du correcteur PI analogique. En discrétisant on obtient :\n",
    "\n",
    "$$C(z)=K_i\\left(1+\\frac{T_e}{T_i}\\frac{z}{z-1}\\right)$$\n",
    "\n",
    "<div class=\"alert alert-info\">\n",
    "<b>Remarque</b> Dans cette expression l'intégration continue est remplacée par une intégration numérique (cf cours chap. 7): $\\frac{1}{p}\\to \\frac{T_e z}{z-1}$.\n",
    "</div>\n",
    "\n",
    "* **Question** Vérifiez l'équivalence des deux fonctions de transfert en traçant leur diagramme de Bode (on prendra : $K_i =2$, $T_i =50$s et $T_e=4$s).(commande :`[mag, phase, omega] = bode(sys)`)"
   ]
  },
  {
   "cell_type": "code",
   "execution_count": null,
   "metadata": {},
   "outputs": [],
   "source": [
    "Ki = 2\n",
    "Ti = 50\n",
    "Te = 4\n",
    "\n",
    "Cp = tf([Ki*Ti,Ki],[Ti,0])\n",
    "print(c2d(Cp,Te))\n",
    "Cz=Ki*(1+tf([Te/Ti,0],[1,-1],Te))\n",
    "print(Cz)\n",
    "\n",
    "w = np.logspace(-4,0,100)\n",
    "fig = figure(\"bode\")\n",
    "fig.plot(Cp,w=w)\n",
    "fig.plot(Cz,w=w)\n",
    "fig.show()"
   ]
  },
  {
   "cell_type": "markdown",
   "metadata": {},
   "source": [
    "* **Question** Complétez les tableau suivants : (à l'aide de la commande `nichols`). Vous pouvez définir votre plage d'étude en définissant un vecteur pulsations :\n",
    "\n",
    "```python\n",
    "omega=np.linspace(omega_min,omega_max,nombre de points)\n",
    "nichols([sys1,sys2],omega=omega)\n",
    "```"
   ]
  },
  {
   "cell_type": "markdown",
   "metadata": {},
   "source": [
    "* Fonction de transfert continue: $C(p)$\n",
    "\n",
    "| Pulsation\t|  $\\omega\\to 0$ |  $\\omega=\\omega_c$ \t| $\\omega\\to \\infty$  \t|\n",
    "|---\t    |--- \t\t\t \t\t|---\t\t\t\t\t\t|---\t\t\t\t\t|\n",
    "| Gain (dB) | \t\tInfinie\t\t  \t\t| \t\t9\t\t \t \t\t|    \t6\t\t\t \t|\n",
    "| Phase (deg)| \t\t-90\t\t  \t\t| \t-45\t\t\t \t \t\t|    \t0\t\t\t \t|\n",
    "\n",
    "* Fonction de transfert discrète: $C(z)$\n",
    "\n",
    "| Pulsation\t|  $\\omega \\to 0$ \t\t|  $\\omega= \\omega_c$ \t| $\\omega\\to \\omega_e/2$|\n",
    "|---\t    |--- \t\t\t \t\t|---\t\t\t\t\t\t|---\t\t\t\t\t|\n",
    "| Gain (dB) | \tInfinie\t\t\t  \t\t| \t9\t\t\t \t \t\t|    \t\t6\t\t \t|\n",
    "| Phase (deg) | \t\t-90\t  \t\t| \t\t-45\t\t \t \t\t|    \t\t0\t\t \t|"
   ]
  },
  {
   "cell_type": "code",
   "execution_count": null,
   "metadata": {},
   "outputs": [],
   "source": [
    "wc = 1/Ti\n",
    "Fe = 1/Te\n",
    "we=2*np.pi*Fe\n",
    "w=np.logspace(-4,2,100)\n",
    "\n",
    "\n",
    "fig = figure(\"nichols\")\n",
    "fig.plot(Cp,w=w)\n",
    "fig.plot(Cz,w=w)\n",
    "fig.show()"
   ]
  },
  {
   "cell_type": "markdown",
   "metadata": {},
   "source": [
    "* **Question** Comment peut-on approximer la fonction $C(z)$ pour $\\omega\\to 0$ et $\\omega=\\omega_e/2$. Regardez comment se comporte le lieu de Nichols de $C(z)$ ."
   ]
  },
  {
   "cell_type": "markdown",
   "metadata": {},
   "source": []
  },
  {
   "cell_type": "markdown",
   "metadata": {},
   "source": [
    "* **Question** Quel est le gain de la fonction de transfert en boucle fermée $H(z)=S(z)/E(z)=C(z)/(1+C(z))$ en $\\omega=0$. Quel est la conséquence sur la valeur finale de la réponse à un échelon ? et la conséquence sur le signal d'erreur $\\epsilon[n]=e[n]-s[n]$ lorsque $n\\to \\infty$ ?"
   ]
  },
  {
   "cell_type": "markdown",
   "metadata": {},
   "source": [
    "Le gain en boucle fermée est égal à 0dB (soit 1 en valeur naturelle). Lorsque l'entrée est un échelon unitaire, la valeur finale est égale à $1$."
   ]
  },
  {
   "cell_type": "markdown",
   "metadata": {},
   "source": [
    "## 5. Synthèse d'un correcteur Proportionnel Intégral\n",
    "\n",
    "### 5.1 Fonction de transfert du système à asservir\n",
    "\n",
    "* **Question** A partir de la fonction de transfert $F(p)$ de l'ensemble à asservir (amplificateur-résistance-four- sonde) trouvée en préparation, déterminez à l'aide de Python la fonction de transfert discrète équivalente $F(z)$, avec BOZ, pour une période d'échantillonnage de $T_e=4$s."
   ]
  },
  {
   "cell_type": "code",
   "execution_count": null,
   "metadata": {},
   "outputs": [],
   "source": [
    "Fz = c2d(Fp,Ts=4)\n",
    "print(Fz)"
   ]
  },
  {
   "cell_type": "markdown",
   "metadata": {},
   "source": [
    "\n",
    "### 5.2 Synthèse du correcteur\n",
    "\n",
    "Pour répondre au cahier des charges vu dans le 3.2 ($D\\%=15\\%$ et erreur statique nulle), on développe un correcteur proportionnel intégral $C(z)$:\n",
    "\n",
    "$$C(z)=K_i\\left(1+\\frac{T_e}{T_i}\\frac{z}{z-1}\\right)$$\n",
    "\n",
    "La synthèse de ce correcteur consiste à déterminer les paramètres $T_i$ et $K_i$ qui permettent d'obtenir une FTBF corrigée :\n",
    "\n",
    "$$H(z)=\\frac{C(z)F(z)}{1+C(z)F(z)}$$ ayant les mêmes caractéristiques que le cahier des charges défini par $H_m(z)$.\n",
    "\n",
    "<div class=\"alert alert-info\">\n",
    "    <b>Synthèse d'un correcteur PI</b> On recherche les paramètres du correcteur par une technique graphique d'<b>approches successives</b>. On approche un ordre de grandeur de $K_i$ et de $T_i$ en opérant de la façon qui suit dans le plan de Black Nichols :\n",
    "    <ol>\n",
    "        <li>Tracez la FTBO du système non corrigé $F(z)$.</li>\n",
    "        <li>Translatez le lieu de transfert par l'apport d'un gain $K_1$ pour venir tangenter approximativement la courbe d'équigain en boucle fermée égale à la résonance $M_{dB}$ désirée. Attention, tangentez directement la courbe d'équigain égale à $M_{dB}$. Notez le gain $K_1$ et la pulsation de résonance $\\omega_r$ en boucle fermée.\n",
    "        <ul>\n",
    "            <li>La valeur du gain $K_i$ en première approximation est alors donnée par $K_1$.</li>\n",
    "            <li>Pour ne pas modifier le point de résonance obtenu, on choisit la pulsation de cassure $1/T_i$ suffisamment loin de $\\omega_r$ (pulsation de résonance au point de tangence) de telle manière à ne pas introduire un déphasage supplémentaire en ce point. On prend en général $1/Ti \\ll \\omega_r/5$. \n",
    "            <li>Vous prendrez ici en première approximation $1/Ti = \\omega_r/10$</li>.\n",
    "        </ul>\n",
    "        </li>\n",
    "        <li>Saisissez sous Python votre correcteur $C(z)$ à l'aide de la commande :`tf`. L'équivalent numérique $C(z)$ du correcteur continu P.I. peut s'écrire avec $K_1$ et $T_i$:\n",
    "\n",
    "$$C(z)=K_i\\left(1+\\frac{T_e}{T_i}\\frac{z}{z-1}\\right)$$\n",
    "        </li>\n",
    "        <li> Tracez la FTBO corrigée $C(z).F(z)$ dans le plan de Black Nichols. Si le facteur de résonance a bougé, ajustez la FTBO corrigée $C(z)F(z)$ par un gain $K_2$ pour obtenir le facteur de résonance $M$ souhaité. Le gain final du correcteur est alors donné par $K_i=K_1.K_2$.\n",
    "        </li>\n",
    "      </ol>\n",
    "</div>\n",
    "\n",
    "* **Question** En suivant la procédure ci-dessus, déterminez les paramètres du correcteur ($K_i=K1.K2$) et $T_i$ et son expression finale."
   ]
  },
  {
   "cell_type": "code",
   "execution_count": null,
   "metadata": {},
   "outputs": [],
   "source": [
    "w=np.logspace(-4,2,200)\n",
    "wr = 0.078\n",
    "K1 = 10**(17.5/20)\n",
    "K2 = 0.85\n",
    "Ti = 10/wr\n",
    "print(K1)\n",
    "print(Ti)\n",
    "Cz=K1*(1+tf([Te/Ti,0],[1,-1],Te))\n",
    "\n",
    "fig = figure(\"nichols\")\n",
    "fig.plot(Fz,w=w)\n",
    "#fig.plot(K1*Fz,w=w)\n",
    "#fig.plot(Cz*Fz,w=w)\n",
    "fig.plot(K2*Cz*Fz,w=w)\n",
    "fig.grid(cm=np.array([0,1,3,6,-6]),show_phase=False)\n",
    "fig.xlim([-250,0])\n",
    "fig_plotly = fig.show()\n",
    "\n",
    "with open(\"test.json\", 'w') as outfile:\n",
    "    json.dump(fig_plotly, outfile, cls=plotly.utils.PlotlyJSONEncoder)"
   ]
  },
  {
   "cell_type": "markdown",
   "metadata": {},
   "source": [
    "### 5.3 Système bouclé et corrigé - validation du correcteur\n",
    "\n",
    "\n",
    "* **Question**\n",
    "\n",
    "   * Calculez la fonction de transfert en boucle fermée $H(z)$ via la commande : `feedback`\n",
    "   * Tracez la réponse indicielle de la FTBF corrigée puis comparez ses caractéristiques avec les résultats attendus (amortissement, erreur de position).\n",
    "   * Calculez la fonction de transfert erreur $err(z)=\\epsilon(z) / E(z)$ puis tracez sa réponse indicielle. Conclusion."
   ]
  },
  {
   "cell_type": "code",
   "execution_count": null,
   "metadata": {},
   "outputs": [],
   "source": [
    "FTBF1 = feedback(Fz,1)\n",
    "FTBF2 = feedback(K1*Fz,1)\n",
    "FTBF3 = feedback(Cz*Fz,1)\n",
    "FTBF4 = feedback(K2*Cz*Fz,1)\n",
    "fig = figure(\"time\")\n",
    "fig.plot(FTBF1,label=\"sys1\")\n",
    "fig.plot(FTBF2,label=\"sys2\")\n",
    "fig.plot(FTBF3,label=\"sys3\")\n",
    "fig.plot(FTBF4,label=\"sys4\")\n",
    "fig.show()\n",
    "\n"
   ]
  },
  {
   "cell_type": "markdown",
   "metadata": {},
   "source": [
    "## 6. Influence de la constante d'intégration\n",
    "\n",
    "Le choix de la constante d'intégration $T_i$ est arbitraire. Il s'agit de choisir une valeur suffisamment grande pour agir uniquement en basse fréquence (en dessous de $\\omega_i=1/Ti$) et minimiser l'influence dans les fréquences moyennes (bande passante du système).\n",
    "\n",
    "Afin d'analyser l'effet de la constante d'intégration sur la réponse du système corrigé et bouclé, vous allez tester deux nouveaux correcteurs PI calculés avec des constantes d'intégrations différentes.\n",
    "\n",
    "La méthode utilisée est celle décrite dans le paragraphe 4.2.\n",
    "\n",
    "* **Question**\n",
    "\n",
    "    * Calculez les correcteurs PI $C_1(z)$ et $C_2(z)$ en prenant respectivement $1/T_{i1} = \\omega_r/5$ et $1/T_{i2} = \\omega_r/20$\n",
    "    * Calculez les fonctions de transfert en boucle fermée et corrigée $H_1(z)$ et $H_2(z)$.\n",
    "    * Tracez les réponses indicielles des trois fonctions de transfert $H(z)$ (§4.3), $H_1(z)$ et $H_2(z)$. Observez l'influence de la constante d'intégration sur la réponse à un échelon.\n",
    "    * Proposez un choix de correcteur pour cette application."
   ]
  },
  {
   "cell_type": "code",
   "execution_count": null,
   "metadata": {},
   "outputs": [],
   "source": []
  }
 ],
 "metadata": {
  "kernelspec": {
   "display_name": "Python 3",
   "language": "python",
   "name": "python3"
  },
  "language_info": {
   "codemirror_mode": {
    "name": "ipython",
    "version": 3
   },
   "file_extension": ".py",
   "mimetype": "text/x-python",
   "name": "python",
   "nbconvert_exporter": "python",
   "pygments_lexer": "ipython3",
   "version": "3.7.3"
  }
 },
 "nbformat": 4,
 "nbformat_minor": 2
}
